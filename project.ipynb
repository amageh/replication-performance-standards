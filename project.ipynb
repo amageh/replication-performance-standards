{
 "cells": [
  {
   "cell_type": "markdown",
   "metadata": {},
   "source": [
    "*Project for the course in Microeconometrics, Summer 2019, Bonn Univsersity*\n",
    "\n",
    "---\n",
    "\n",
    "## Replication of '_Ability, Gender, and Performance Standards: Evidence from Academic Probation_' <a class=\"tocSkip\"> \n",
    "\n",
    "By Jason M. Lindo, Nicholas J. Sanders & Philip Oreopoulos, *Published in 2010*\n",
    "\n"
   ]
  },
  {
   "cell_type": "markdown",
   "metadata": {},
   "source": [
    "---"
   ]
  },
  {
   "cell_type": "code",
   "execution_count": 5,
   "metadata": {},
   "outputs": [],
   "source": [
    "%matplotlib inline\n",
    "\n",
    "import numpy as np\n",
    "import pandas as pd\n",
    "import seaborn as sns\n",
    "import statsmodels as st\n",
    "import matplotlib as plt"
   ]
  },
  {
   "cell_type": "markdown",
   "metadata": {},
   "source": [
    "# Summary and main findings"
   ]
  },
  {
   "cell_type": "code",
   "execution_count": null,
   "metadata": {},
   "outputs": [],
   "source": []
  },
  {
   "cell_type": "markdown",
   "metadata": {},
   "source": [
    "# Causal Graphs"
   ]
  },
  {
   "cell_type": "code",
   "execution_count": null,
   "metadata": {},
   "outputs": [],
   "source": []
  },
  {
   "cell_type": "markdown",
   "metadata": {},
   "source": [
    "# Study replication"
   ]
  },
  {
   "cell_type": "code",
   "execution_count": 6,
   "metadata": {},
   "outputs": [
    {
     "data": {
      "text/plain": [
       "(44362, 86)"
      ]
     },
     "execution_count": 6,
     "metadata": {},
     "output_type": "execute_result"
    }
   ],
   "source": [
    "data = pd.read_stata('data/data_for_analysis.dta')\n",
    "data.shape"
   ]
  },
  {
   "cell_type": "markdown",
   "metadata": {},
   "source": [
    "## Data & Descriptive Statistics\n",
    "Overview of all variables in the provided dataset:"
   ]
  },
  {
   "cell_type": "code",
   "execution_count": 7,
   "metadata": {},
   "outputs": [
    {
     "name": "stdout",
     "output_type": "stream",
     "text": [
      "Index(['credits1', 'credits2', 'credits_earned1', 'credits_earned2',\n",
      "       'session1', 'winter_ac_standing', 'GPA_year1', 'GPA_year2',\n",
      "       'CGPA_year1', 'CGPA_year2', 'totcredits_year1', 'totcredits_year2',\n",
      "       'goodstanding_year1', 'goodstanding_year2', 'winter_ac_stand_year1',\n",
      "       'winter_ac_stand_year2', 'fallreg_year1', 'fallreg_year2',\n",
      "       'act_fallreg_year1', 'act_fallreg_year2', 'summerreg_year1',\n",
      "       'summerreg_year2', 'sex', 'mtongue', 'identifier', 'age_at_entry',\n",
      "       'bpl_north_america', 'bpl_asia', 'canadian', 'bpl_other', 'firstyear',\n",
      "       'yearstodegree', 'gradin4', 'gradin5', 'gradin6', 'gradin4orcont',\n",
      "       'cumcredits1', 'cumcredits2', 'prog_science', 'prog_socsci_bus',\n",
      "       'prog_socscihum', 'prog_unknown', 'english', 'noenglish', 'french',\n",
      "       'other_lang', 'female', 'male', 'gpacutoff', 'dist_from_cut',\n",
      "       'year2_dist_from_cut', 'CGPA_final', 'nextGPA', 'nextCGPA',\n",
      "       'probation_year1', 'probation_year2', 'probation_summer1',\n",
      "       'probation_summer2', 'probation_ever', 'suspended_year1',\n",
      "       'suspended_summer1', 'suspended_year2', 'suspended_summer2',\n",
      "       'suspended_ever', 'loc_campus1', 'loc_campus2', 'loc_campus3', 'all',\n",
      "       'left_school', 'gpalscutoff', 'gpaXgpalscutoff', 'gpaXgpagrcutoff',\n",
      "       'gpasqXgpagrcutoff', 'dist_from_cut_med10', 'dist_from_cut_med05',\n",
      "       'dist_from_cut_med025', 'hsgrade_pct', 'veryhighHS', 'highHS', 'lowHS',\n",
      "       'maleXhighHS', 'femaleXhighHS', 'maleXlowabil', 'femaleXlowabil',\n",
      "       'clustervar', 'summer'],\n",
      "      dtype='object')\n"
     ]
    }
   ],
   "source": [
    "columnlist = data.columns\n",
    "print(columnlist)"
   ]
  },
  {
   "cell_type": "markdown",
   "metadata": {},
   "source": [
    "### Data Restriction & Preperation"
   ]
  },
  {
   "cell_type": "markdown",
   "metadata": {},
   "source": [
    "Lindo et al. (2010) filter the data to meet the following requirements:\n",
    "* Students entered university before the year 2004 ( to ensure they can be observed over a 2-year period)\n",
    "* Students are between 17 and 21 years of age at time of entry\n",
    "* Distance from cutoff is maximally 0.6"
   ]
  },
  {
   "cell_type": "code",
   "execution_count": 8,
   "metadata": {},
   "outputs": [
    {
     "data": {
      "text/plain": [
       "array([2002, 2001, 2000, 2003, 1996, 1998, 1997, 1999], dtype=int64)"
      ]
     },
     "execution_count": 8,
     "metadata": {},
     "output_type": "execute_result"
    }
   ],
   "source": [
    "data.firstyear.unique()"
   ]
  },
  {
   "cell_type": "code",
   "execution_count": 9,
   "metadata": {},
   "outputs": [
    {
     "data": {
      "text/plain": [
       "array([19., 18., 20., 17., 21.])"
      ]
     },
     "execution_count": 9,
     "metadata": {},
     "output_type": "execute_result"
    }
   ],
   "source": [
    "data.age_at_entry.unique()"
   ]
  },
  {
   "cell_type": "markdown",
   "metadata": {},
   "source": [
    "The dataset provided for replication is already filtered by age and year of university entrance. The distance from cutoff still spans from  values of -1.6 to 2.8 as can be seen below. I thus filter the data further to receive the sample used in the study."
   ]
  },
  {
   "cell_type": "code",
   "execution_count": 10,
   "metadata": {
    "scrolled": true
   },
   "outputs": [
    {
     "name": "stdout",
     "output_type": "stream",
     "text": [
      "(array([ 842., 1290., 2571., 4265., 6328., 7828., 8156., 6789., 4806.,\n",
      "       1487.]), array([-1.6       , -1.1600001 , -0.72      , -0.28000003,  0.15999997,\n",
      "        0.59999996,  1.04      ,  1.48      ,  1.92      ,  2.36      ,\n",
      "        2.8       ], dtype=float32), <a list of 10 Patch objects>)\n"
     ]
    },
    {
     "data": {
      "image/png": "[encoded data removed]",
      "text/plain": [
       "<Figure size 432x288 with 1 Axes>"
      ]
     },
     "metadata": {
      "needs_background": "light"
     },
     "output_type": "display_data"
    }
   ],
   "source": [
    "# Distribution of values for distance from cutoff.\n",
    "print(plt.pyplot.hist(data['dist_from_cut'], color = \"coral\"))"
   ]
  },
  {
   "cell_type": "code",
   "execution_count": 11,
   "metadata": {},
   "outputs": [
    {
     "name": "stdout",
     "output_type": "stream",
     "text": [
      "A sample of students within 1.2 points from the cuttoff encompasses 25389 observations.\n"
     ]
    }
   ],
   "source": [
    "# Reduce sample to students within 1.2 points from cutoff.\n",
    "sample0 = data[abs(data['dist_from_cut']) < 1.2] \n",
    "sample0.reset_index(inplace=True)\n",
    "print(\"A sample of students within 1.2 points from the cuttoff encompasses\", sample0.shape[0], \"observations.\")"
   ]
  },
  {
   "cell_type": "code",
   "execution_count": 12,
   "metadata": {},
   "outputs": [
    {
     "name": "stdout",
     "output_type": "stream",
     "text": [
      "The final sample includes 12530 observations.\n"
     ]
    }
   ],
   "source": [
    "# Reduce sample to students within 0.6 points from cutoff.\n",
    "sample1 = data[abs(data['dist_from_cut']) < 0.6]  \n",
    "sample1.reset_index(inplace=True)\n",
    "print(\"The final sample includes\", sample1.shape[0], \"observations.\")"
   ]
  },
  {
   "cell_type": "markdown",
   "metadata": {},
   "source": [
    "### Table 1 – Summary Statistics"
   ]
  },
  {
   "cell_type": "code",
   "execution_count": 13,
   "metadata": {
    "scrolled": true
   },
   "outputs": [],
   "source": [
    "main = sample1[['hsgrade_pct','totcredits_year1', 'age_at_entry','male', 'english', 'bpl_north_america', \n",
    "             'loc_campus1','loc_campus2', 'loc_campus3',\n",
    "             'dist_from_cut', 'probation_year1', 'probation_ever', 'left_school', 'year2_dist_from_cut',\n",
    "             'suspended_ever', 'gradin4', 'gradin5', 'gradin6']]"
   ]
  },
  {
   "cell_type": "code",
   "execution_count": 14,
   "metadata": {},
   "outputs": [
    {
     "data": {
      "text/html": [
       "<div>\n",
       "<style scoped>\n",
       "    .dataframe tbody tr th:only-of-type {\n",
       "        vertical-align: middle;\n",
       "    }\n",
       "\n",
       "    .dataframe tbody tr th {\n",
       "        vertical-align: top;\n",
       "    }\n",
       "\n",
       "    .dataframe thead th {\n",
       "        text-align: right;\n",
       "    }\n",
       "</style>\n",
       "<table border=\"1\" class=\"dataframe\">\n",
       "  <thead>\n",
       "    <tr style=\"text-align: right;\">\n",
       "      <th></th>\n",
       "      <th>Mean</th>\n",
       "      <th>Standard Deviation</th>\n",
       "      <th>Description</th>\n",
       "      <th>Type</th>\n",
       "    </tr>\n",
       "  </thead>\n",
       "  <tbody>\n",
       "    <tr>\n",
       "      <th>hsgrade_pct</th>\n",
       "      <td>33.332085</td>\n",
       "      <td>23.288502</td>\n",
       "      <td>High School Grade Percentile</td>\n",
       "      <td>Characteristics</td>\n",
       "    </tr>\n",
       "    <tr>\n",
       "      <th>totcredits_year1</th>\n",
       "      <td>4.426975</td>\n",
       "      <td>0.530186</td>\n",
       "      <td>Credits attempted first year</td>\n",
       "      <td>Characteristics</td>\n",
       "    </tr>\n",
       "    <tr>\n",
       "      <th>age_at_entry</th>\n",
       "      <td>18.718756</td>\n",
       "      <td>0.735240</td>\n",
       "      <td>Age at entry</td>\n",
       "      <td>Characteristics</td>\n",
       "    </tr>\n",
       "    <tr>\n",
       "      <th>male</th>\n",
       "      <td>0.375180</td>\n",
       "      <td>0.484199</td>\n",
       "      <td>Male</td>\n",
       "      <td>Characteristics</td>\n",
       "    </tr>\n",
       "    <tr>\n",
       "      <th>english</th>\n",
       "      <td>0.718755</td>\n",
       "      <td>0.449625</td>\n",
       "      <td>English is first language</td>\n",
       "      <td>Characteristics</td>\n",
       "    </tr>\n",
       "    <tr>\n",
       "      <th>bpl_north_america</th>\n",
       "      <td>0.870231</td>\n",
       "      <td>0.336071</td>\n",
       "      <td>Born in North America</td>\n",
       "      <td>Characteristics</td>\n",
       "    </tr>\n",
       "    <tr>\n",
       "      <th>loc_campus1</th>\n",
       "      <td>0.478132</td>\n",
       "      <td>0.499548</td>\n",
       "      <td>At Campus 1</td>\n",
       "      <td>Characteristics</td>\n",
       "    </tr>\n",
       "    <tr>\n",
       "      <th>loc_campus2</th>\n",
       "      <td>0.209497</td>\n",
       "      <td>0.406989</td>\n",
       "      <td>At Campus 2</td>\n",
       "      <td>Characteristics</td>\n",
       "    </tr>\n",
       "    <tr>\n",
       "      <th>loc_campus3</th>\n",
       "      <td>0.312370</td>\n",
       "      <td>0.463482</td>\n",
       "      <td>At Campus 3</td>\n",
       "      <td>Characteristics</td>\n",
       "    </tr>\n",
       "    <tr>\n",
       "      <th>dist_from_cut</th>\n",
       "      <td>0.111093</td>\n",
       "      <td>0.325851</td>\n",
       "      <td>Distance from cutoff in first year</td>\n",
       "      <td>Outcomes</td>\n",
       "    </tr>\n",
       "    <tr>\n",
       "      <th>probation_year1</th>\n",
       "      <td>0.348603</td>\n",
       "      <td>0.476571</td>\n",
       "      <td>On probation after first year</td>\n",
       "      <td>Outcomes</td>\n",
       "    </tr>\n",
       "    <tr>\n",
       "      <th>probation_ever</th>\n",
       "      <td>0.455227</td>\n",
       "      <td>0.498036</td>\n",
       "      <td>Ever on acad. probation</td>\n",
       "      <td>Outcomes</td>\n",
       "    </tr>\n",
       "    <tr>\n",
       "      <th>left_school</th>\n",
       "      <td>0.049721</td>\n",
       "      <td>0.217385</td>\n",
       "      <td>Left uni after 1st evaluation</td>\n",
       "      <td>Outcomes</td>\n",
       "    </tr>\n",
       "    <tr>\n",
       "      <th>year2_dist_from_cut</th>\n",
       "      <td>0.455728</td>\n",
       "      <td>0.698237</td>\n",
       "      <td>Distance from cutoff at next evaluation</td>\n",
       "      <td>Outcomes</td>\n",
       "    </tr>\n",
       "    <tr>\n",
       "      <th>suspended_ever</th>\n",
       "      <td>0.157941</td>\n",
       "      <td>0.364688</td>\n",
       "      <td>Ever suspended</td>\n",
       "      <td>Outcomes</td>\n",
       "    </tr>\n",
       "    <tr>\n",
       "      <th>gradin4</th>\n",
       "      <td>0.286589</td>\n",
       "      <td>0.452199</td>\n",
       "      <td>Graduated by year  4</td>\n",
       "      <td>Outcomes</td>\n",
       "    </tr>\n",
       "    <tr>\n",
       "      <th>gradin5</th>\n",
       "      <td>0.555327</td>\n",
       "      <td>0.496966</td>\n",
       "      <td>Graduated by year  5</td>\n",
       "      <td>Outcomes</td>\n",
       "    </tr>\n",
       "    <tr>\n",
       "      <th>gradin6</th>\n",
       "      <td>0.657619</td>\n",
       "      <td>0.474543</td>\n",
       "      <td>Graduated by year  6</td>\n",
       "      <td>Outcomes</td>\n",
       "    </tr>\n",
       "  </tbody>\n",
       "</table>\n",
       "</div>"
      ],
      "text/plain": [
       "                          Mean  Standard Deviation  \\\n",
       "hsgrade_pct          33.332085           23.288502   \n",
       "totcredits_year1      4.426975            0.530186   \n",
       "age_at_entry         18.718756            0.735240   \n",
       "male                  0.375180            0.484199   \n",
       "english               0.718755            0.449625   \n",
       "bpl_north_america     0.870231            0.336071   \n",
       "loc_campus1           0.478132            0.499548   \n",
       "loc_campus2           0.209497            0.406989   \n",
       "loc_campus3           0.312370            0.463482   \n",
       "dist_from_cut         0.111093            0.325851   \n",
       "probation_year1       0.348603            0.476571   \n",
       "probation_ever        0.455227            0.498036   \n",
       "left_school           0.049721            0.217385   \n",
       "year2_dist_from_cut   0.455728            0.698237   \n",
       "suspended_ever        0.157941            0.364688   \n",
       "gradin4               0.286589            0.452199   \n",
       "gradin5               0.555327            0.496966   \n",
       "gradin6               0.657619            0.474543   \n",
       "\n",
       "                                                 Description             Type  \n",
       "hsgrade_pct                     High School Grade Percentile  Characteristics  \n",
       "totcredits_year1                Credits attempted first year  Characteristics  \n",
       "age_at_entry                                    Age at entry  Characteristics  \n",
       "male                                                    Male  Characteristics  \n",
       "english                            English is first language  Characteristics  \n",
       "bpl_north_america                      Born in North America  Characteristics  \n",
       "loc_campus1                                      At Campus 1  Characteristics  \n",
       "loc_campus2                                      At Campus 2  Characteristics  \n",
       "loc_campus3                                      At Campus 3  Characteristics  \n",
       "dist_from_cut             Distance from cutoff in first year         Outcomes  \n",
       "probation_year1                On probation after first year         Outcomes  \n",
       "probation_ever                       Ever on acad. probation         Outcomes  \n",
       "left_school                    Left uni after 1st evaluation         Outcomes  \n",
       "year2_dist_from_cut  Distance from cutoff at next evaluation         Outcomes  \n",
       "suspended_ever                                Ever suspended         Outcomes  \n",
       "gradin4                                 Graduated by year  4         Outcomes  \n",
       "gradin5                                 Graduated by year  5         Outcomes  \n",
       "gradin6                                 Graduated by year  6         Outcomes  "
      ]
     },
     "execution_count": 14,
     "metadata": {},
     "output_type": "execute_result"
    }
   ],
   "source": [
    "table1 = pd.DataFrame()\n",
    "table1['Mean'] = main.mean()\n",
    "table1['Standard Deviation'] = main.std()\n",
    "#table1 = table1.astype(float).round(2)\n",
    "table1['Description'] = [\"High School Grade Percentile\", \"Credits attempted first year\", \"Age at entry\",\n",
    "                         \"Male\", \"English is first language\", \"Born in North America\", \n",
    "                         \"At Campus 1\", \"At Campus 2\", \"At Campus 3\",\n",
    "                         \"Distance from cutoff in first year\", \"On probation after first year\", \" Ever on acad. probation\",\n",
    "                         \"Left uni after 1st evaluation\", \"Distance from cutoff at next evaluation\", \"Ever suspended\",\n",
    "                         \"Graduated by year  4\", \"Graduated by year  5\", \"Graduated by year  6\"]\n",
    "table1.loc[0:9,'Type'] = \"Characteristics\"\n",
    "table1.loc[9:,'Type'] = \"Outcomes\"\n",
    "table1"
   ]
  },
  {
   "cell_type": "markdown",
   "metadata": {},
   "source": [
    "## Empirical Strategy"
   ]
  },
  {
   "cell_type": "code",
   "execution_count": null,
   "metadata": {},
   "outputs": [],
   "source": []
  },
  {
   "cell_type": "markdown",
   "metadata": {},
   "source": [
    "## Regression Analysis"
   ]
  },
  {
   "cell_type": "markdown",
   "metadata": {},
   "source": [
    "### Tests of the Validity of the RD Approach"
   ]
  },
  {
   "cell_type": "markdown",
   "metadata": {},
   "source": [
    "One of the major concerns in the application of regression discontinuity designs is **nonrandom sorting**. In Lindo et al. (2010) such troubles could arise if students just below the cutoff were to actively influence their GPAs to avoid being put on academic probabtion. \n",
    "\n",
    "Lindo et al. (2010) focus on _first year students_ for this reason, as they assume this group of students is likely to be less familiar with the probation poliy on campus. To support verify their conjecture, the author also conducted as survey in an introductory economic course which revealed that around 50 % of students were unsure of the probation cutoff at their campus. They also claim that this analysis showed no relationship between knowledge of probation cutoffs and student's grades. \n",
    "\n",
    "The authors also point out that most first year courses span the entire year and most of the evaluation takes place at the end of the term, which would make it difficult for students to purosely aim for performances slightly above the cutoff for academic probation. "
   ]
  },
  {
   "cell_type": "markdown",
   "metadata": {},
   "source": [
    "If nonrandom sorting were to be a problem nontheless, there should be a **discontinuity** in the distribution of grades at the cutoff with a disproportionate number of students scoring just above the cutoff."
   ]
  },
  {
   "cell_type": "code",
   "execution_count": 15,
   "metadata": {
    "scrolled": false
   },
   "outputs": [
    {
     "name": "stderr",
     "output_type": "stream",
     "text": [
      "C:\\Users\\arohanui\\Anaconda3\\lib\\site-packages\\ipykernel_launcher.py:2: SettingWithCopyWarning: \n",
      "A value is trying to be set on a copy of a slice from a DataFrame.\n",
      "Try using .loc[row_indexer,col_indexer] = value instead\n",
      "\n",
      "See the caveats in the documentation: http://pandas.pydata.org/pandas-docs/stable/indexing.html#indexing-view-versus-copy\n",
      "  \n"
     ]
    },
    {
     "data": {
      "text/html": [
       "<div>\n",
       "<style scoped>\n",
       "    .dataframe tbody tr th:only-of-type {\n",
       "        vertical-align: middle;\n",
       "    }\n",
       "\n",
       "    .dataframe tbody tr th {\n",
       "        vertical-align: top;\n",
       "    }\n",
       "\n",
       "    .dataframe thead th {\n",
       "        text-align: right;\n",
       "    }\n",
       "</style>\n",
       "<table border=\"1\" class=\"dataframe\">\n",
       "  <thead>\n",
       "    <tr style=\"text-align: right;\">\n",
       "      <th></th>\n",
       "      <th>dist_from_cut</th>\n",
       "      <th>bin</th>\n",
       "    </tr>\n",
       "  </thead>\n",
       "  <tbody>\n",
       "    <tr>\n",
       "      <th>0</th>\n",
       "      <td>0.45</td>\n",
       "      <td>0.45</td>\n",
       "    </tr>\n",
       "    <tr>\n",
       "      <th>1</th>\n",
       "      <td>0.68</td>\n",
       "      <td>0.65</td>\n",
       "    </tr>\n",
       "    <tr>\n",
       "      <th>2</th>\n",
       "      <td>-0.76</td>\n",
       "      <td>-0.75</td>\n",
       "    </tr>\n",
       "    <tr>\n",
       "      <th>3</th>\n",
       "      <td>0.84</td>\n",
       "      <td>0.85</td>\n",
       "    </tr>\n",
       "    <tr>\n",
       "      <th>4</th>\n",
       "      <td>0.98</td>\n",
       "      <td>0.95</td>\n",
       "    </tr>\n",
       "  </tbody>\n",
       "</table>\n",
       "</div>"
      ],
      "text/plain": [
       "   dist_from_cut   bin\n",
       "0           0.45  0.45\n",
       "1           0.68  0.65\n",
       "2          -0.76 -0.75\n",
       "3           0.84  0.85\n",
       "4           0.98  0.95"
      ]
     },
     "execution_count": 15,
     "metadata": {},
     "output_type": "execute_result"
    }
   ],
   "source": [
    "# Create bins of size 1.0 for distance from cutoff.\n",
    "sample0['bin'] = pd.cut(x=sample0['dist_from_cut'], bins=24, labels=np.arange(-1.15,1.25,0.1))\n",
    "sample0[['dist_from_cut','bin']].head()"
   ]
  },
  {
   "cell_type": "code",
   "execution_count": 16,
   "metadata": {
    "scrolled": true
   },
   "outputs": [],
   "source": [
    "figure1 = pd.DataFrame(sample0['bin'].value_counts())\n",
    "figure1.reset_index(level=0, inplace=True)\n",
    "#figure1.reset_index()\n",
    "figure1.rename(columns={\"index\": \"bin\", \"bin\": \"counts\"}, inplace=True)"
   ]
  },
  {
   "cell_type": "code",
   "execution_count": 17,
   "metadata": {},
   "outputs": [],
   "source": [
    "figure1.to_csv(\"data/figure1.csv\", index=False)\n",
    "figure1 = pd.read_csv('data/figure1.csv')"
   ]
  },
  {
   "cell_type": "code",
   "execution_count": 18,
   "metadata": {},
   "outputs": [
    {
     "data": {
      "text/plain": [
       "[<matplotlib.lines.Line2D at 0x1508be5f6a0>]"
      ]
     },
     "execution_count": 18,
     "metadata": {},
     "output_type": "execute_result"
    },
    {
     "data": {
      "image/png": "[encoded data removed]",
      "text/plain": [
       "<Figure size 432x288 with 1 Axes>"
      ]
     },
     "metadata": {
      "needs_background": "light"
     },
     "output_type": "display_data"
    }
   ],
   "source": [
    "#plt.pyplot.plot(figure1, color = \"blue\")\n",
    "plt.pyplot.xlim(-1.5,1.5,0.1)\n",
    "plt.pyplot.ylim(0,2100)\n",
    "plt.pyplot.axvline(x=0)\n",
    "plt.pyplot.plot(figure1.bin,figure1.counts, \"mo\")\n"
   ]
  },
  {
   "cell_type": "markdown",
   "metadata": {},
   "source": [
    "### First year GPAs and Academic Probation"
   ]
  },
  {
   "cell_type": "markdown",
   "metadata": {},
   "source": [
    "# Discussion"
   ]
  },
  {
   "cell_type": "markdown",
   "metadata": {},
   "source": [
    "---"
   ]
  },
  {
   "cell_type": "markdown",
   "metadata": {},
   "source": [
    "# Miscellaneous"
   ]
  },
  {
   "cell_type": "code",
   "execution_count": 19,
   "metadata": {},
   "outputs": [],
   "source": [
    "# Saving the variables in the data to as csv file to create a excel list with info on variables\n",
    "variable_desc = pd.DataFrame({\"variables\": []})\n",
    "for i in range(1,len(columnlist)):\n",
    "    variable_desc.loc[i] = columnlist[i]\n",
    "    i += 1\n",
    "variable_desc.to_csv(\"data/variable_descriptions.csv\", index=False)"
   ]
  }
 ],
 "metadata": {
  "kernelspec": {
   "display_name": "Python 3",
   "language": "python",
   "name": "python3"
  },
  "language_info": {
   "codemirror_mode": {
    "name": "ipython",
    "version": 3
   },
   "file_extension": ".py",
   "mimetype": "text/x-python",
   "name": "python",
   "nbconvert_exporter": "python",
   "pygments_lexer": "ipython3",
   "version": "3.7.2"
  },
  "toc": {
   "base_numbering": 1,
   "nav_menu": {},
   "number_sections": true,
   "sideBar": true,
   "skip_h1_title": false,
   "title_cell": "Table of Contents",
   "title_sidebar": "Contents",
   "toc_cell": false,
   "toc_position": {
    "height": "calc(100% - 180px)",
    "left": "10px",
    "top": "150px",
    "width": "341.333px"
   },
   "toc_section_display": true,
   "toc_window_display": true
  },
  "varInspector": {
   "cols": {
    "lenName": 16,
    "lenType": 16,
    "lenVar": 40
   },
   "kernels_config": {
    "python": {
     "delete_cmd_postfix": "",
     "delete_cmd_prefix": "del ",
     "library": "var_list.py",
     "varRefreshCmd": "print(var_dic_list())"
    },
    "r": {
     "delete_cmd_postfix": ") ",
     "delete_cmd_prefix": "rm(",
     "library": "var_list.r",
     "varRefreshCmd": "cat(var_dic_list()) "
    }
   },
   "position": {
    "height": "211.2px",
    "left": "1040.6px",
    "right": "20px",
    "top": "477px",
    "width": "483.2px"
   },
   "types_to_exclude": [
    "module",
    "function",
    "builtin_function_or_method",
    "instance",
    "_Feature"
   ],
   "window_display": false
  }
 },
 "nbformat": 4,
 "nbformat_minor": 2
}
