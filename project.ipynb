{
 "cells": [
  {
   "cell_type": "markdown",
   "metadata": {},
   "source": [
    "                Project for the course in Microeconometrics, Summer 2019, Bonn University\n",
    "\n",
    "---\n",
    "# Replication of Jason M. Lindo, Nicholas J. Sanders & Philip Oreopoulos (2010)  <a class=\"tocSkip\"> \n",
    "\n",
    "This notebook contains my replication of the results from the following paper:\n",
    "\n",
    "    Lindo, J. M., Sanders, N. J., & Oreopoulos, P. (2010). Ability, gender, and performance standards: Evidence from academic probation. American Economic Journal: Applied Economics, 2(2), 95-117.\n",
    "\n",
    "\n",
    "The paper as well as all the materials needed for the replication can be accessed [here](https://www.aeaweb.org/articles?id=10.1257/app.2.2.95). For the replication I try to remain true to the original structure of the paper so readers can easily follow along and compare. All tables and figures are named and labeled as they appear in Lindo et al. (2010). The tables in my replication appear transposed compared to the original tables to suit my workflow in Python."
   ]
  },
  {
   "cell_type": "markdown",
   "metadata": {
    "toc": true
   },
   "source": [
    "<h1>Table of Contents<span class=\"tocSkip\"></span></h1>\n",
    "<div class=\"toc\"><ul class=\"toc-item\"><li><span><a href=\"#Overview\" data-toc-modified-id=\"Overview-1\"><span class=\"toc-item-num\">1&nbsp;&nbsp;</span>Overview</a></span></li><li><span><a href=\"#Theoretical-Background\" data-toc-modified-id=\"Theoretical-Background-2\"><span class=\"toc-item-num\">2&nbsp;&nbsp;</span>Theoretical Background</a></span></li><li><span><a href=\"#Identification\" data-toc-modified-id=\"Identification-3\"><span class=\"toc-item-num\">3&nbsp;&nbsp;</span>Identification</a></span></li><li><span><a href=\"#Empirical-Strategy\" data-toc-modified-id=\"Empirical-Strategy-4\"><span class=\"toc-item-num\">4&nbsp;&nbsp;</span>Empirical Strategy</a></span></li><li><span><a href=\"#Replication\" data-toc-modified-id=\"Replication-5\"><span class=\"toc-item-num\">5&nbsp;&nbsp;</span>Replication</a></span><ul class=\"toc-item\"><li><span><a href=\"#Data-&amp;-Descriptive-Statistics\" data-toc-modified-id=\"Data-&amp;-Descriptive-Statistics-5.1\"><span class=\"toc-item-num\">5.1&nbsp;&nbsp;</span>Data &amp; Descriptive Statistics</a></span></li><li><span><a href=\"#Results\" data-toc-modified-id=\"Results-5.2\"><span class=\"toc-item-num\">5.2&nbsp;&nbsp;</span>Results</a></span><ul class=\"toc-item\"><li><span><a href=\"#Tests-of-the-Validity-of-the-RD-Approach\" data-toc-modified-id=\"Tests-of-the-Validity-of-the-RD-Approach-5.2.1\"><span class=\"toc-item-num\">5.2.1&nbsp;&nbsp;</span>Tests of the Validity of the RD Approach</a></span></li><li><span><a href=\"#First-year-GPAs-and-Academic-Probation\" data-toc-modified-id=\"First-year-GPAs-and-Academic-Probation-5.2.2\"><span class=\"toc-item-num\">5.2.2&nbsp;&nbsp;</span>First year GPAs and Academic Probation</a></span></li><li><span><a href=\"#The-Immediate-Response-to-Academic-Probation\" data-toc-modified-id=\"The-Immediate-Response-to-Academic-Probation-5.2.3\"><span class=\"toc-item-num\">5.2.3&nbsp;&nbsp;</span>The Immediate Response to Academic Probation</a></span></li><li><span><a href=\"#The-Impact-on-Subsequent-Performance\" data-toc-modified-id=\"The-Impact-on-Subsequent-Performance-5.2.4\"><span class=\"toc-item-num\">5.2.4&nbsp;&nbsp;</span>The Impact on Subsequent Performance</a></span></li><li><span><a href=\"#The-Impacts-on-Graduation\" data-toc-modified-id=\"The-Impacts-on-Graduation-5.2.5\"><span class=\"toc-item-num\">5.2.5&nbsp;&nbsp;</span>The Impacts on Graduation</a></span></li></ul></li></ul></li><li><span><a href=\"#Robustness-Checks-(wip)\" data-toc-modified-id=\"Robustness-Checks-(wip)-6\"><span class=\"toc-item-num\">6&nbsp;&nbsp;</span>Robustness Checks (wip)</a></span><ul class=\"toc-item\"><li><span><a href=\"#Placebo\" data-toc-modified-id=\"Placebo-6.1\"><span class=\"toc-item-num\">6.1&nbsp;&nbsp;</span>Placebo</a></span><ul class=\"toc-item\"><li><span><a href=\"#Placebo-regression-for-a-cutoff-that-is-0.3-GPA-points-higher-than-the-actual-probation-cutoff\" data-toc-modified-id=\"Placebo-regression-for-a-cutoff-that-is-0.3-GPA-points-higher-than-the-actual-probation-cutoff-6.1.1\"><span class=\"toc-item-num\">6.1.1&nbsp;&nbsp;</span>Placebo regression for a cutoff that is <em>0.3 GPA points higher</em> than the actual probation cutoff</a></span></li><li><span><a href=\"#Placebo-regression-for-a-cutoff-that-is-0.6-GPA-points-higher-than-the-actual-probation-cutoff\" data-toc-modified-id=\"Placebo-regression-for-a-cutoff-that-is-0.6-GPA-points-higher-than-the-actual-probation-cutoff-6.1.2\"><span class=\"toc-item-num\">6.1.2&nbsp;&nbsp;</span>Placebo regression for a cutoff that is <em>0.6 GPA points higher</em> than the actual probation cutoff</a></span></li></ul></li><li><span><a href=\"#Bootstrap-Confidence-Intervals\" data-toc-modified-id=\"Bootstrap-Confidence-Intervals-6.2\"><span class=\"toc-item-num\">6.2&nbsp;&nbsp;</span>Bootstrap Confidence Intervals</a></span><ul class=\"toc-item\"><li><span><a href=\"#Subsequent-performance-with-95%-Confidence-Interval\" data-toc-modified-id=\"Subsequent-performance-with-95%-Confidence-Interval-6.2.1\"><span class=\"toc-item-num\">6.2.1&nbsp;&nbsp;</span>Subsequent performance with 95% Confidence Interval</a></span></li></ul></li></ul></li><li><span><a href=\"#Miscellaneous\" data-toc-modified-id=\"Miscellaneous-7\"><span class=\"toc-item-num\">7&nbsp;&nbsp;</span>Miscellaneous</a></span></li><li><span><a href=\"#References\" data-toc-modified-id=\"References-8\"><span class=\"toc-item-num\">8&nbsp;&nbsp;</span>References</a></span></li></ul></div>"
   ]
  },
  {
   "cell_type": "code",
   "execution_count": 1,
   "metadata": {},
   "outputs": [],
   "source": [
    "%matplotlib inline\n",
    "import timeit\n",
    "import numpy as np\n",
    "import pandas as pd\n",
    "import pandas.io.formats.style\n",
    "import seaborn as sns\n",
    "import statsmodels as sm\n",
    "import statsmodels.formula.api as smf\n",
    "import statsmodels.api as sm_api\n",
    "import matplotlib as plt\n",
    "from IPython.display import HTML"
   ]
  },
  {
   "cell_type": "code",
   "execution_count": 2,
   "metadata": {},
   "outputs": [],
   "source": [
    "# Import functions from auxiliary file\n",
    "from auxiliary.auxiliary_predictions import *\n",
    "from auxiliary.auxiliary_plots import *\n",
    "from auxiliary.auxiliary_tables import *\n",
    "from auxiliary.auxiliary_misc import *"
   ]
  },
  {
   "cell_type": "markdown",
   "metadata": {},
   "source": [
    "# Overview "
   ]
  },
  {
   "cell_type": "markdown",
   "metadata": {},
   "source": [
    "#### Short summary\n",
    "Lindo et al. (2010) examine the effects of academic probation on student outcomes using data from Canada. Academic probation is a university policy that aims to improve the performance of the lowest scoring students. If a student's grade point average (GPA) drops below a certain threshold, the student is placed on academic probation. The probation status serves as a warning and does not entail immediate consequences, however, if students fail to improve their grades during the following year, they face the threat of being suspended from university. In a more general sense, academic probation may offer insights into how agents respond to negative incentives and the threat of punishment in a real world context with high stakes. \n",
    "\n",
    "To estimate the causal impact of being placed on probation, Lindo et al. (2010) apply a **regression discontinuity design (RDD)** to data retrieved from three campuses at a large Canadian university. The RDD is motivated by the idea that the students who score just above the threshold for being put on academic probation provide a good counterfactual to the 'treatment group' that scores just below the threshold and is put on academic probation. \n",
    "\n",
    "\n",
    "| **Treatment**     | **Main outcomes**       | **Main Covariates**    |\n",
    "|-------------------|-------------------------|------------------------|\n",
    "| Academic probation| Drop-out rates          | Gender                 |\n",
    "| .                 | Subsequent performance  | HS grades              |                         \n",
    "| .                 | Graduation rates        | Native language        |\n",
    "\n"
   ]
  },
  {
   "cell_type": "markdown",
   "metadata": {},
   "source": [
    "# Theoretical Background"
   ]
  },
  {
   "cell_type": "markdown",
   "metadata": {},
   "source": [
    "The underlying framework used for the analysis is a model developed by Bénabou and Tirole (2000) which models agent's responses to a performance standard. While Bénabou and Tirole (2000) model a game between a principal and an agent, Lindo et al. (2010) focus only on an agent to relate the model to the example of academic probation. \n",
    "\n",
    "In the performance standard model, the agents face a choice between three options:\n",
    " 1. **Option 1**: Incurs cost $c_1$ and grants benefit $V_1$ if successful.\n",
    " 2. **Option 2**: Incurs cost $c_2$ and grants benefit $V_2$ if successful.\n",
    " 3. **Neither** option: Incurs 0 cost and 0 benefit.\n",
    " \n",
    "Option 1 has a lower cost and a lower benefit than option 2 such that:\n",
    "\n",
    "\\begin{equation}\n",
    "    0 < c_1 < c_2 ,  0 < V_1 < V_2.\n",
    "\\end{equation}\n",
    "\n",
    "Ability, denoted by $\\theta$, translates to the probability of successfully completing either option. Assuming agents have perfect information about their ability, they solve the maximizing problem\n",
    "\n",
    "\\begin{equation}\n",
    "max\\{0, \\theta V_1-c_1, \\theta V_2-c_2\\}.\n",
    "\\end{equation}\n",
    "  \n",
    "Let $\\underline{\\theta}$ be the ability level where the agent is indifferent between neither and option two and let $\\bar{\\theta}$ be the ability level at which she is indifferent between option 1 and option 2. Assuming that\n",
    "\n",
    "\\begin{equation}\n",
    "\\underline{\\theta} \\equiv \\frac{c_1}{V_1} < \\bar{\\theta} \\equiv \\frac{c_2-c_1}{V_2-V1} < 1\n",
    "\\end{equation}\n",
    "\n",
    "ensures that both options are optimal for at least some $\\theta$.\n",
    "\n",
    "It can be shown that \n",
    "* the lowest ability types ($\\theta < \\underline{\\theta}$) choose neither option,\n",
    "* the highest ability types ($\\bar{\\theta} < \\theta$) choose the difficult option,\n",
    "* the individuals in between the high and low type $\\underline{\\theta}< \\theta < \\bar{\\theta} $) choose the easier option.\n",
    "\n",
    "If the principal now removes option 1 or makes choosing this option much more costly, then the agent will choose option 2 if and only if\n",
    "\n",
    "\\begin{equation}\n",
    "\\theta \\ge \\frac{c_2}{V_2} \\equiv \\theta^*\n",
    "\\end{equation}\n",
    "\n",
    "\n",
    "and choose neither option otherwise. The agents who would have chosen option 1 now split according to ability. Agents with high ability (specifically those with $\\theta \\in [\\theta^*,\\bar{\\theta}]$) work harder thereby choosing option 2 while low ability types (those with $\\theta \\in [\\underline{\\theta}, \\theta^*]$) do not pursue option 2 (& thus choose neither option).\n",
    "\n",
    "In the context of academic probation, students face a similar decision problem and set of options. Students whose GPA is just above the probation cutoff face the full set of options for the next year:\n",
    "\n",
    "1. **Option 1**: Return to school and exhibit low effort and achieving a low GPA\n",
    "2. **Option 2**: Return to school and exhibit high effort with the intent of achieving a high GPA\n",
    "3. **Neither** option: Drop out of university\n",
    "\n",
    "The students who score below the probation cutoff face a restricted set of options, as the university administration essentially eliminates option 1 by suspending students if they do not improve their grades. \n",
    "\n",
    "Lindo et al. (2010) formulate three testable implications of this theoretical framework: \n",
    "\n",
    "  * _Forbidding option 1 will **increase the overall probability of students dropping out**._\n",
    "  * _Forbidding option 1 will **increase the performance of those who return**._\n",
    "  * _Forbidding option 1 will cause **relatively low-ability students to drop out** and **relatively high-ability students to return and work harder**._"
   ]
  },
  {
   "cell_type": "markdown",
   "metadata": {},
   "source": [
    "# Identification\n",
    " \n",
    "Lindo et al. (2010) in their paper aim to evaluate how academic probation affects students, specifically their probability of dropping out of university and whether it motivates those who remain to improve their grades. Students are placed on probation if their Grade Point Average (GPA) drops below a certain threshold and face the threat of suspension if they fail to improve their GPA in the next term. Students are thus clearly separated into a treated group (who is put on probation) and an untreated group based on GPA. \n",
    "\n",
    "The causal graph below illustrates the relationship between the assignment (or _running_) variable  X, treatment D and outcome Y. While X (the GPA) directly assigns students to treatment, it may also be linked to student outcomes. Additionally, there may be observables W and unobservables U also affecting X,D and Y. There are thus multiple backdoor paths that need to be closed in order to isolate the effect academic probation. Simply controlling for the variables in question in this case does not suffice since there are unobservables that we cannot condition on. A randomized experiment could eliminate selection bias of treatment by randomly assigning probation to students. The research question evaluated in the paper constitutes a classic policy evaluation problem in economics where we try to understand the causal implications of a policy without being able to observe the counterfactual world where the policy is not administered. However, like many problems in economics a randomized experiment in this context is not possible (especially due to ethical reasons) since putting students on probation has real world consequences that can affect students for the rest of their lives.\n",
    "\n",
    "<img src=\"files/causal_graph_1111111.png\" alt=\"Drawing\" style=\"width: 500px;\"/>\n",
    "\n",
    "\n",
    "Since it is not possible to randomize assignment to treatment, another method is needed to isolate the effects of academic probation on student outcomes. Lindo et al. (2010) apply a regression discontinuity design to the problem at hand, a method pioneered by Thistlethwaite and Campbell (1960) in their analysis of the effects of scholarships on student outcomes. In fact, the identification problem in Lindo et al.(2010) is quite similar to that of Thistlethwaite and Campbell (1960) as both papers evaluate the causal effects of an academic policy on student outcomes. However, while the scholarship administered to high performing students in Thistlethwaite and Campbell (1960) constitutes a positive reinforcement for these students, Lindo et al. (2010) examine the effects of a negative reinforcement or penalty on low performing students. This means that in contrast to Thistlethwaite and Campbell (1960) and many other applications of RD our treatment groups lies _below_ the cutoff and not above it. This does not change the causal inference of this model, it might be confusing to readers familiar with RD designs and should thus be kept in mind. \n",
    "\n",
    "The regression discontinuity design (RDD) relies on the assumption of local randomization, i.e. the idea that students who score just above the cutoff do not systematically differ from those who score below the cutoff and thus pose an appropriate control group for the students who are placed on probation. This identification strategy relies on the assumption that students are unable to precisely manipulate their grades to score just above or below the probation threshold. Within the neighborhood around the discontinuity threshold the RDD thus in a sense mimics a randomized experiment. \n",
    "\n",
    "To explain how the use of regression discontinuity allows Lindo et al. (2010) to identify treatment effects, I heavily draw on material provided in Lee and Lemieux (2010) and their discussion on the RDD in the potential outcomes framework. As mentioned above, for each student $i$ we can image a potential outcome where they are placed on probation $Y_i(1)$ and where they are not $Y_i(0)$ but we can never simultaneously observe both outcomes for each student. Since it is impossible to observe treatment effects at the individual level, researchers thus estimate average effects using treatment and control groups. \n",
    "\n",
    "For the RDD this potential outcomes framework translates by imagining there are two underlying relationships between the average student outcome and the assignment variable X (the students GPA), which are represented by $E[Y_i(1)|X]$ and $E[Y_i(0)|X]$. Since all students who score below the cutoff $c$ are placed on probation, we only observe $E[Y_i(1)|X]$ for those below the cutoff and $E[Y_i(0)|X]$ for those above the cutoff. \n",
    "\n",
    "We can estimate the average treatment effects by taking the difference of the conditional expectations at the cutoff if these underlying functions are continuous throughout the cutoff:\n",
    "\n",
    "\\begin{equation}\n",
    "lim_{\\epsilon \\downarrow 0}E[Y_i|X_i=c+\\epsilon] - lim_{\\epsilon \\uparrow 0} E[Y_i|X_i=c+\\epsilon] \n",
    "    = E[Y_i(1)-Y_i(0)|X=c].\n",
    "\\end{equation}\n",
    "\n",
    "As explained above, this _continuity assumption_ is fulfilled by the RDD because we can assume that students have _imprecise control_ over the assignment variable, their GPA. We can clearly identify the average treatment effects because there is a natural sharp cutoff at the threshold. The treatment administered to students is being confronted with the information that they are placed on probation and the subsequent threat of suspension. Being put on probation does not involve any actions by the students, in fact being assigned to the treatment group already constitutes the treatment in itself. Non-compliers thus do not pose a concern for this research design. \n",
    "\n",
    "As the theoretical framework discussed in the prior section illustrates, students on probation face the decision of dropping out or trying to improve their performance in the next term. While the estimation on effects on dropping out using the regression discontinuity design is relatively straight forward, the estimation of effects for subsequent performance adds additional challenges.\n",
    "\n",
    "<img src=\"files/causal_graph_2222222.png\" alt=\"Drawing\" style=\"width: 500px;\"/>\n",
    "\n",
    "The extended causal graph above illustrates how subsequent performance of students is also affect by whether a student drops out or not. This factor adds additional complexity to the estimation problem which is discussed in more detail in the respective part of the replication. \n",
    "\n",
    "Aside from the two main outcomes, Lindo et al. (2010) also examine the effects of academic probation on graduation rates of students. However, since information about student's academic process over the whole course of their studies is limited to mostly the first two years, only a reduced form analysis is possible."
   ]
  },
  {
   "cell_type": "markdown",
   "metadata": {},
   "source": [
    "# Empirical Strategy\n",
    "\n",
    "The author examine the impact of being put on probation after the first year in university. The probation status after the first year is a deterministic function of student's GPA, formally\n",
    "\n",
    "\\begin{equation}\n",
    "PROB^{year1}_{IC} = 1(GPANORM^{year1}_{IC} < 0),\n",
    "\\end{equation}\n",
    "\n",
    "where $PROB^{year1}_{IC}$ represents the probation status of student $i$ at campus $c$ and $GPANORM^{year1}_{IC}$ is the distance between student i's first year GPA and the probationary cutoff at their respective campus. Normalizing the running variable in this way makes sense because the three campuses have different GPA thresholds for putting students on probation  and we herby normalize value to 0.\n",
    "\n",
    "Applying the regression dicontunity design, the treatment effect for students near the threshold is obtained by comparing the outcomes of students just below the threshold to those just above the threshold.\n",
    "\n",
    "The following equation can be used to estimate the effects of academic probation on subsequent student outcomes:\n",
    "\n",
    "\\begin{equation}\n",
    "Y_{ic} = m(GPANORM_{ic}^{year1}) + \\delta1(GPANORM_{ic}^{year1}<0) + u_{ic} \n",
    "\\end{equation}\n",
    "\n",
    "* $Y_{ic}$ denotes the outcome for student $i$ at campus $c$, \n",
    "* $m(GPANORM_{ic}^{year1})$ is a continuous function of students's tandarized first year GPAs,\n",
    "* $1(GPANORM_{ic}^{year1}<0)$ is an indicator function equal to 1 if the student's GPA is below the probation cutoff\n",
    "* $u_{ic} $ is the error term\n",
    "* $\\delta$ is the coeffcient for the estimated impact of being placed on academic probation after the first year\n",
    "\n",
    "For the regression analysis, Lindo et al. (2010) extend the above equation by an interaction term and a constant:\n",
    "\n",
    "\\begin{equation}\n",
    "Y_{ic} = \\alpha + \\delta1(GPANORM_{ic}^{year1}<0) + \\beta(GPANORM_{ic}^{year1}) \n",
    "                + \\gamma(GPANORM_{ic}^{year1})x 1(GPANORM_{ic}^{year1}<0) + u_{ic} \n",
    "\\end{equation}\n",
    "\n",
    "\n",
    "This regression equation does not include covariates because Lindo et al. (2010) implement a split sample analysis for the covariates included in the analysis. "
   ]
  },
  {
   "cell_type": "markdown",
   "metadata": {},
   "source": [
    "# Replication"
   ]
  },
  {
   "cell_type": "markdown",
   "metadata": {},
   "source": [
    "## Data & Descriptive Statistics\n",
    "\n",
    "Lindo et al. (2010) filter the data to meet the following requirements:\n",
    "* Students high school grade measure is not missing\n",
    "* Students entered university before the year 2004 ( to ensure they can be observed over a 2-year period)\n",
    "* Students are between 17 and 21 years of age at time of entry\n",
    "* Distance from cutoff is maximally 0.6 (or 1.2)\n",
    "\n",
    "The first three requirements are already fulfilled in the provided data. It should be noted that the high school measure is a student's average GPA in courses that are universally taken by high school students in the province. Thus all students that remain in the sample (84 % of the original data) attended high school in the province. This has the advantage that the high school measurement for all students is very comparable. An additional implication that should be taken note of for later interpretations is that this also implies that all students assessed in the study attended high school in the province. The group of 'nonnative' english speakers thus for example does not include students that moved to Canada after completing high school. "
   ]
  },
  {
   "cell_type": "code",
   "execution_count": 3,
   "metadata": {},
   "outputs": [],
   "source": [
    "data = pd.read_stata('data/data_for_analysis.dta')\n",
    "data = prepare_data(data)"
   ]
  },
  {
   "cell_type": "markdown",
   "metadata": {},
   "source": [
    "In the provided dataset, the distance from the cutoff for univsersity GPA still spans from values of -1.6 to 2.8 as can be seen below. Lindo et al. (2010) use a bandwidth of _(-0.6,0.6)_ for regression results and a bandwidth of _(-1.2,1.2)_ for graphical analysis. "
   ]
  },
  {
   "cell_type": "code",
   "execution_count": 4,
   "metadata": {},
   "outputs": [
    {
     "data": {
      "image/png": "[encoded data removed]",
      "text/plain": [
       "<Figure size 432x288 with 1 Axes>"
      ]
     },
     "metadata": {
      "needs_background": "light"
     },
     "output_type": "display_data"
    }
   ],
   "source": [
    "plot_hist_GPA(data)"
   ]
  },
  {
   "cell_type": "code",
   "execution_count": 5,
   "metadata": {},
   "outputs": [
    {
     "name": "stdout",
     "output_type": "stream",
     "text": [
      "A sample of students within 1.2 points from the cuttoff encompasses 25389 observations.\n"
     ]
    }
   ],
   "source": [
    "# Reduce sample to students within 1.2 points from cutoff.\n",
    "sample12 = data[abs(data['dist_from_cut']) < 1.2]\n",
    "sample12.reset_index(inplace=True)\n",
    "print(\"A sample of students within 1.2 points from the cuttoff encompasses\", sample12.shape[0], \"observations.\")"
   ]
  },
  {
   "cell_type": "code",
   "execution_count": null,
   "metadata": {},
   "outputs": [],
   "source": [
    "# Reduce sample to students within 0.6 points from cutoff.\n",
    "sample06 = data[abs(data['dist_from_cut']) < 0.6]\n",
    "sample06.reset_index(inplace=True)\n",
    "print(\"The final sample includes\", sample06.shape[0], \"observations.\")"
   ]
  },
  {
   "cell_type": "markdown",
   "metadata": {},
   "source": [
    "#### Table 1- Summary statistics"
   ]
  },
  {
   "cell_type": "code",
   "execution_count": null,
   "metadata": {},
   "outputs": [],
   "source": [
    "create_table1(sample06)"
   ]
  },
  {
   "cell_type": "markdown",
   "metadata": {},
   "source": [
    "##  Results"
   ]
  },
  {
   "cell_type": "markdown",
   "metadata": {},
   "source": [
    "### Tests of the Validity of the RD Approach"
   ]
  },
  {
   "cell_type": "markdown",
   "metadata": {},
   "source": [
    "The core motivation in the application of RD approaches is the idea, that the variation in treatment near the cutoff is random if subjects are unable to control the selection into treatment (Lee & Lemieux, 2010). This condition, if fulfilled, means the RDD is able to closely emulate a randomized experiment and allows researchers to identify the effects of treatment. \n",
    "\n",
    "For evaluating the effects of academic probation on subsequent student outcomes, the RDD is thus a valid approach only if students are not able to precisely manipulate whether they score above or below the cutoff. Lindo et al. (2010) offer multiple arguments to adress concerns about nonrandom sorting: \n",
    "\n",
    "1. The study focuses on **first year students**, assuming this group of students is likely to be less familiar with the probation policy on campus. To verify their conjecture, the authors also conducted a survey in an introductory economics course which revealed that around 50 % of students were unsure of the probation cutoff at their campus. They also claim that this analysis showed no relationship between knowledge of probation cutoffs and student's grades. \n",
    "\n",
    "\n",
    "2. The authors also point out that most first year courses span the entire year and most of the evaluation takes place at the end of the term which would make it difficult for students to purposely aim for performances slightly above the cutoff for academic probation.\n",
    "\n",
    "\n",
    "3. Finally, and most importantly, the implication of local randomization is testable. If nonrandom sorting were to be a problem, there should be a **discontinuity** in the distribution of grades at the cutoff with a disproportionate number of students scoring just above the cutoff. Figure 1 and table 2 show the (replicated) results of tests for such discontinuities."
   ]
  },
  {
   "cell_type": "markdown",
   "metadata": {},
   "source": [
    "#### Figure 1 | Distribution of Student Grades Relative to their Cutoff"
   ]
  },
  {
   "cell_type": "markdown",
   "metadata": {},
   "source": [
    "The data (containing all observations within 1.2 GPA points from the cutoff) is sorted into bins of size 0.1. The bins contain their lower limit but not their upper limit. To replicate the result from Lindo et al., I calculate the frequency of each bin and then run a local linear regression with a bandwidth of 0.6 on each bin. Figure 1 shows the bins and the predicted frequency for each bin. The results show that the **distribution of grades is continuous around the cutoff**, suggesting that we can assume local randomization."
   ]
  },
  {
   "cell_type": "code",
   "execution_count": null,
   "metadata": {},
   "outputs": [],
   "source": [
    "# Calculate frequency of each bin.\n",
    "bin_frequency_fig1 = calculate_bin_frequency(data=sample12, bins=\"dist_from_cut_med10\")\n",
    "# Calculate predicted frequency of each bin with local linear regression.\n",
    "predictions_fig1 = create_bin_frequency_predictions(data=bin_frequency_fig1,\n",
    "                                                    steps=bin_frequency_fig1.bins.unique().round(4),\n",
    "                                                    bandwidth=0.6\n",
    "                                                    )"
   ]
  },
  {
   "cell_type": "code",
   "execution_count": null,
   "metadata": {},
   "outputs": [],
   "source": [
    "plot_figure1(bin_frequency_fig1, bin_frequency_fig1.bins.unique().round(4), predictions_fig1)"
   ]
  },
  {
   "cell_type": "markdown",
   "metadata": {},
   "source": [
    "#### Table 2 - Estimated Discontinuities in observable characteristics "
   ]
  },
  {
   "cell_type": "markdown",
   "metadata": {},
   "source": [
    "Table 2 shows the results of local linear regression (using a bandwidth of 0.6) for a range of observable characteristics that are related to student outcomes. Significant discontinuities would indicate that students with certain characteristics might be able to manipulate their grades to score above the probation cutoff. Table 2 shows that the coefficient for scoring below the cutoff is insignificant at the 10% level for all covariates. These estimates support the validity of the RD approach. "
   ]
  },
  {
   "cell_type": "code",
   "execution_count": null,
   "metadata": {},
   "outputs": [],
   "source": [
    "# Define covariates and regressors.\n",
    "table2_variables = ('hsgrade_pct', 'totcredits_year1', 'age_at_entry', 'male', 'english', 'bpl_north_america',\n",
    "                    'loc_campus1', 'loc_campus2')\n",
    "regressors = ['const', 'gpalscutoff', 'gpaXgpalscutoff', 'gpaXgpagrcutoff']"
   ]
  },
  {
   "cell_type": "code",
   "execution_count": null,
   "metadata": {},
   "outputs": [],
   "source": [
    "# Generate table 2 (code imported from auxiliary file)\n",
    "table2 = estimate_RDD_multiple_outcomes(data=sample06, outcomes=table2_variables, regressors=regressors)\n",
    "# Mark significant p-values (at 5% level) red & display table.\n",
    "table2.style.applymap(pvalue_5percent_red, subset=['P-Value (1)', 'P-Value (0)'])"
   ]
  },
  {
   "cell_type": "markdown",
   "metadata": {},
   "source": [
    "<span style=\"color:orange\">_NOTE:</span> My results for 'Male' and 'Age at entry' are switched compared to the table presented in Lindo et al. (2010). Since the results are identical otherwise, I assume this difference stems from an error in the table formatting of the published paper._"
   ]
  },
  {
   "cell_type": "markdown",
   "metadata": {},
   "source": [
    "### First year GPAs and Academic Probation"
   ]
  },
  {
   "cell_type": "markdown",
   "metadata": {},
   "source": [
    "Figure 2 and the Table 3 show the estimated discontinuity in probation status. Figure 2 and the first part of Table 3 show th estimated discontinuity for the probation status after the _first year_. The second part of Table 3 presents the results for the estimated effects of scoring below the cutoff on the probability of _ever_ being placed on academic probation.\n",
    "\n",
    "Figure 2 and part 1 of table 3 verifying that the discontinuity at the cutoff is **sharp**, i.e. all students whose GPA falls below the cutoff are placed on probation. For students below the cutoff the probability of being placed on probation is 1, for students above the cutoff it is 0.\n",
    "\n",
    "It should be noted that the estimated discontinuity at the cutoff is only approximately equal to 1 for all of the different subgroups, as the results in part 1 of table 3 show. The authors attribute this fact to administrative errors in the data reportage. "
   ]
  },
  {
   "cell_type": "markdown",
   "metadata": {},
   "source": [
    "#### Figure 2 - Porbation Status at the End of First Year"
   ]
  },
  {
   "cell_type": "code",
   "execution_count": null,
   "metadata": {},
   "outputs": [],
   "source": [
    "predictions_fig2 = create_predictions(data=sample12, outcome = 'probation_year1', regressors=regressors, bandwidth=0.6)"
   ]
  },
  {
   "cell_type": "code",
   "execution_count": null,
   "metadata": {},
   "outputs": [],
   "source": [
    "plot_figure2(sample12, predictions_fig2)"
   ]
  },
  {
   "cell_type": "markdown",
   "metadata": {},
   "source": [
    "#### Table 3 - Estimated Discontinuity in Probation Status\n",
    "\n",
    "To estimate the discontinuity in probation status, the authors again use a bandwidth of 0.6 from the cutoff. In addition to the whole sample this condition applies to, they also estimate the discontinuities for certain subgroups in the sample:\n",
    "\n",
    "* **high school grades below** and **above the median** (here, median refers to the median of the entire dataset (median: _50_) and not the median of the subset of students with a GPA within 0.6 grade points of the probation cutoff (the median for this set would be _28_))\n",
    "* **male** and **female** students\n",
    "* **english** native speakers and students with a different native language (**nonenglish**) "
   ]
  },
  {
   "cell_type": "code",
   "execution_count": null,
   "metadata": {},
   "outputs": [],
   "source": [
    "sample_treat06 = sample06[sample06['dist_from_cut'] < 0]\n",
    "sample_untreat06 = sample06[sample06['dist_from_cut'] >= 0]\n",
    "sample06 = pd.concat([sample_untreat06, sample_treat06])"
   ]
  },
  {
   "cell_type": "code",
   "execution_count": null,
   "metadata": {},
   "outputs": [],
   "source": [
    "# Create dictionary containg all the subsets we want to analyse.\n",
    "groups_dict_keys = ['All', 'HS Grades < median', 'HS Grades > median', 'Male', 'Female',\n",
    "                    'Native English', 'Nonnative English']\n",
    "groups_dict_columns = ['const', 'lowHS', 'highHS',\n",
    "                       'male', 'female', 'english', 'noenglish']\n",
    "groups_dict_06 = create_groups_dict(data=sample06,\n",
    "                                    keys=groups_dict_keys,\n",
    "                                    columns=groups_dict_columns\n",
    "                                    )"
   ]
  },
  {
   "cell_type": "markdown",
   "metadata": {},
   "source": [
    "**Table 3 | Part 1 - Estimated Discontinuity in Probation Status for Year 1**\n"
   ]
  },
  {
   "cell_type": "code",
   "execution_count": null,
   "metadata": {},
   "outputs": [],
   "source": [
    "# Import function for RDD analysis from auxiliary file.\n",
    "table3_1 = estimate_RDD_multiple_datasets(dictionary=groups_dict_06, \n",
    "                                          keys=groups_dict_keys, \n",
    "                                          outcome='probation_year1', \n",
    "                                          regressors= regressors\n",
    "                                         )\n",
    "table3_1.style.applymap(pvalue_5percent_red, subset=['P-Value (1)', 'P-Value (0)'])"
   ]
  },
  {
   "cell_type": "markdown",
   "metadata": {},
   "source": [
    "**Table 3 | Part 2 - Estimated Discontinuity in Probabtion Status Ever**"
   ]
  },
  {
   "cell_type": "markdown",
   "metadata": {},
   "source": [
    "Part 2 of Table 3 presents the estimated effect of scoring below the cutoff in the first year for _ever_ being placed on probation. The results show that even for those who score slightly above the probation cutoff in year 1, 33 % are placed on probation at some other point in time during their studies. \n",
    "\n",
    "For the different subgroups of students this value varies from 29% (for students with high school grades above the median) up to 36.7% (for the group of males). These results already indicate that we can expect heterogeneities in the way different students react to being placed on academic probation.\n",
    "\n",
    "The fact that it is not unlikely for low performing students just slightly above the cutoff to fall below it in later terms also underlines these student's fitness as a control group for the purpose of the analysis. Lindo et al. (2010) argue that the controls can be thought of as receiving a much weaker form of treatment than the group that is placed on probation, as scoring just above the cutoff in year 1 does not save students from falling below the cutoff and being placed on probation in subsequent terms. "
   ]
  },
  {
   "cell_type": "code",
   "execution_count": null,
   "metadata": {},
   "outputs": [],
   "source": [
    "# Import function for RDD analysis from auxiliary file.\n",
    "table3_1 = estimate_RDD_multiple_datasets(dictionary=groups_dict_06,\n",
    "                                          keys=groups_dict_keys,\n",
    "                                          outcome='probation_ever',\n",
    "                                          regressors=regressors\n",
    "                                          )\n",
    "table3_1.style.applymap(pvalue_5percent_red, subset=['P-Value (1)', 'P-Value (0)'])"
   ]
  },
  {
   "cell_type": "markdown",
   "metadata": {},
   "source": [
    "### The Immediate Response to Academic Probation "
   ]
  },
  {
   "cell_type": "markdown",
   "metadata": {},
   "source": [
    "Students who have been placed on academic probation enter their next term at university with the threat of suspension in case they fail to improve their grades. Recalling the theoretical framework presented in prior sections, students face the following set of options after each term:\n",
    "\n",
    "1. **Option 1**: Return to school, exhibit low effort and achieving a low GPA,\n",
    "2. **Option 2**: Return to school, exhibit high effort with the intent of achieving a high GPA,\n",
    "3. **Neither** option: Drop out of university.\n",
    "\n",
    "Students on probation face a different set of choices than the students that were not placed on probation as the threat of suspension essentially eliminates option 1. Of course students could enter the next term, exhibit low effort and receive low grades but this would result in suspension. Since both option 1 and option 3 result in the student not continuing school (at least for a certain period of time), students who are not willing to exhibit high effort (and thus will be suspended) are much better off dropping out and saving themselves the cost of exhibiting low effort."
   ]
  },
  {
   "cell_type": "markdown",
   "metadata": {},
   "source": [
    "#### Table 4 - Estimated Effect on the Decision to Leave after the First Evaluation"
   ]
  },
  {
   "cell_type": "code",
   "execution_count": null,
   "metadata": {},
   "outputs": [],
   "source": [
    "# Import function for RDD analysis from auxiliary file.\n",
    "table4 = estimate_RDD_multiple_datasets(dictionary=groups_dict_06,keys=groups_dict_keys,outcome='left_school',\n",
    "                                        regressors=regressors)\n",
    "#table4.loc[['All']].style.applymap(pvalue_5percent_red, subset=['P-Value (1)', 'P-Value (0)'])\n",
    "table4.style.applymap(pvalue_5percent_red, subset=['P-Value (1)', 'P-Value (0)'])"
   ]
  },
  {
   "cell_type": "markdown",
   "metadata": {},
   "source": [
    "The results presented in table 4 and and figure 3 show the effects of being placed on probation on the probability to drop out of school after the first evaluation. \n",
    "\n",
    "The first row of table 4 shows the average effect of academic probation on this outcome. The results indicate that, on average, being placed on probation increases the probability of leaving university by 1.8 percentage points. A student on academic probation is thus 44% more likely to drop out than their control group counterpart.\n",
    "\n",
    "The results presented in the rest of table 4 and and figure 3 show that the average effect of being placed on probation is also characterized by large heterogeneities between the different subgroups of students. For **males** and **native english speakers**, the results, which are significant at the 5% level, show an increase of 3.7 and 2.8 percentage points respectively in the probability of leaving university after being placed on probation after the first evaluation. The results show no significant effects for these group's counterparts, the subgroups of females and nonnative english speakers. \n",
    "\n",
    "Aside from gender and native language, the results also indicate that high school performance seems to play a role in how students react on being placed on probation. For the group of students who scored **above the median in high school** academic probation roughly doubles the probability of leaving school compared to the control group while there is no such effect for students who scored below the median in high school. Lindo et al. (2010) contribute this finding to a discouragement effect for those students who are placed on probation."
   ]
  },
  {
   "cell_type": "markdown",
   "metadata": {},
   "source": [
    "#### Figure 3 - Stratified Results for Voluntarily Leaving School at the End of the First year"
   ]
  },
  {
   "cell_type": "code",
   "execution_count": null,
   "metadata": {},
   "outputs": [],
   "source": [
    "groups_dict_12 = create_groups_dict(data=sample12, keys=groups_dict_keys, columns=groups_dict_columns)\n",
    "predictions_groups_dict = create_fig3_predictions(groups_dict=groups_dict_12, regressors=regressors, bandwidth=0.6)\n",
    "plot_figure3(inputs_dict=groups_dict_12, outputs_dict=predictions_groups_dict, keys=groups_dict_keys)"
   ]
  },
  {
   "cell_type": "markdown",
   "metadata": {},
   "source": [
    "### The Impact on Subsequent Performance"
   ]
  },
  {
   "cell_type": "markdown",
   "metadata": {},
   "source": [
    "The next outcome Lindo et al. (2010) analyze is the performance of students who stayed at university for the next term."
   ]
  },
  {
   "cell_type": "markdown",
   "metadata": {},
   "source": [
    "#### Table 5 - Estimated Discontinuites in subsequent GPA | Part A - Next Term GPA"
   ]
  },
  {
   "cell_type": "code",
   "execution_count": null,
   "metadata": {},
   "outputs": [],
   "source": [
    "table5 = estimate_RDD_multiple_datasets(dictionary=groups_dict_06, \n",
    "                                        keys=groups_dict_keys, \n",
    "                                        outcome='nextGPA', \n",
    "                                        regressors=regressors\n",
    "                                       )\n",
    "table5.style.applymap(pvalue_5percent_red, subset=['P-Value (1)', 'P-Value (0)'])"
   ]
  },
  {
   "cell_type": "markdown",
   "metadata": {},
   "source": [
    "#### Table 5 - Estimated Discontinuites in subsequent GPA | Part B - Probability of improving GPA in next term"
   ]
  },
  {
   "cell_type": "markdown",
   "metadata": {},
   "source": [
    "Panel B of table 5 shows the probability of scoring above the cutoff in the next term. The next term can refer to the next academic year but also summer classes that only some students enroll for."
   ]
  },
  {
   "cell_type": "code",
   "execution_count": null,
   "metadata": {},
   "outputs": [],
   "source": [
    "table5 = estimate_RDD_multiple_datasets(dictionary=groups_dict_06,\n",
    "                                        keys=groups_dict_keys,\n",
    "                                        outcome='nextGPA_above_cutoff',\n",
    "                                        regressors=regressors\n",
    "                                        )\n",
    "table5.style.applymap(pvalue_5percent_red, subset=['P-Value (1)', 'P-Value (0)'])"
   ]
  },
  {
   "cell_type": "markdown",
   "metadata": {},
   "source": [
    "#### Figure 4 - GPA in the next enrolled term"
   ]
  },
  {
   "cell_type": "code",
   "execution_count": null,
   "metadata": {},
   "outputs": [],
   "source": [
    "predictions_fig4 = create_predictions(data=sample12, outcome='nextGPA', regressors=regressors, bandwidth=0.6)"
   ]
  },
  {
   "cell_type": "code",
   "execution_count": null,
   "metadata": {},
   "outputs": [],
   "source": [
    "plot_figure4(sample12, predictions_fig4)"
   ]
  },
  {
   "cell_type": "markdown",
   "metadata": {},
   "source": [
    "### The Impacts on Graduation"
   ]
  },
  {
   "cell_type": "markdown",
   "metadata": {},
   "source": [
    "#### Figure 5 - Graduation Rates"
   ]
  },
  {
   "cell_type": "code",
   "execution_count": null,
   "metadata": {},
   "outputs": [],
   "source": [
    "plot_figure5(sample12, \n",
    "             create_predictions(data=sample12, outcome = 'gradin4', regressors=regressors, bandwidth=0.6), \n",
    "             create_predictions(data=sample12, outcome = 'gradin5', regressors=regressors, bandwidth=0.6), \n",
    "             create_predictions(data=sample12, outcome = 'gradin6', regressors=regressors, bandwidth=0.6))"
   ]
  },
  {
   "cell_type": "markdown",
   "metadata": {},
   "source": [
    "#### Table 6 - Estimated Effects on Graduation"
   ]
  },
  {
   "cell_type": "markdown",
   "metadata": {},
   "source": [
    "#### Graduated after 4 years"
   ]
  },
  {
   "cell_type": "code",
   "execution_count": null,
   "metadata": {},
   "outputs": [],
   "source": [
    "table6 = create_table6(dictionary=groups_dict_06, keys=groups_dict_keys, regressors=regressors)\n",
    "table6.loc[:, 'Graduated after 4 years'].style.applymap(pvalue_5percent_red, subset=['P-Value (1)', 'P-Value (0)'])"
   ]
  },
  {
   "cell_type": "markdown",
   "metadata": {},
   "source": [
    "#### Graduated after 5 years"
   ]
  },
  {
   "cell_type": "code",
   "execution_count": null,
   "metadata": {},
   "outputs": [],
   "source": [
    "table6.loc[:, 'Graduated after 5 years'].style.applymap(pvalue_5percent_red, subset=['P-Value (1)', 'P-Value (0)'])"
   ]
  },
  {
   "cell_type": "markdown",
   "metadata": {},
   "source": [
    "#### Graduated after 6 years"
   ]
  },
  {
   "cell_type": "code",
   "execution_count": null,
   "metadata": {},
   "outputs": [],
   "source": [
    "table6.loc[:, 'Graduated after 6 years'].style.applymap(pvalue_5percent_red, subset=['P-Value (1)', 'P-Value (0)'])"
   ]
  },
  {
   "cell_type": "markdown",
   "metadata": {},
   "source": [
    "# Robustness Checks (wip)"
   ]
  },
  {
   "cell_type": "code",
   "execution_count": null,
   "metadata": {},
   "outputs": [],
   "source": [
    "#Changing the style of plots for this part to visually distinguish from the replication\n",
    "plt.style.use('ggplot')"
   ]
  },
  {
   "cell_type": "markdown",
   "metadata": {},
   "source": [
    "## Placebo "
   ]
  },
  {
   "cell_type": "markdown",
   "metadata": {},
   "source": [
    "To test the robustness of the results from the paper presented in my replication, I implement a placebo regression. This means I define a new fictional cutoff point and run the regressions from the previous parts based on the distances from the fictional cutoff. Artificially increasing the probation threshold in our data means that in the new regression, some students will be counted towards the treatment group even though in reality, they were not put on probation since they scored above the actual cutoff. "
   ]
  },
  {
   "cell_type": "markdown",
   "metadata": {},
   "source": [
    "### Placebo regression for a cutoff that is _0.3 GPA points higher_ than the actual probation cutoff\n",
    "I first increase the threshold point by 0.3 GPA points i.e. if the probation cutoff was at a GPA of 1.7 before, it is now at 2.0"
   ]
  },
  {
   "cell_type": "code",
   "execution_count": null,
   "metadata": {},
   "outputs": [],
   "source": [
    "placebo1_data = gen_placebo_data(data=data, cutoff_deviation=(0.3))"
   ]
  },
  {
   "cell_type": "code",
   "execution_count": null,
   "metadata": {},
   "outputs": [],
   "source": [
    "# Reduce dataset to range 1.2 as we used before\n",
    "placebo1_data12 = placebo1_data[abs(placebo1_data['dist_from_cut']) < 1.2].copy()\n",
    "# Bin data according to new distances from cutoff\n",
    "bins_labels = np.arange(-1.15, 1.25, 0.1)\n",
    "placebo1_data12['dist_from_cut_med10'] = pd.cut(x=placebo1_data12['dist_from_cut'], \n",
    "                                                bins=24, \n",
    "                                                labels=bins_labels, \n",
    "                                                right=False\n",
    "                                               )\n",
    "# Create dataset with a maximum distance of 0.6 from the cutoff\n",
    "placebo1_data06 = placebo1_data12[abs(placebo1_data12['dist_from_cut']) < 0.6].copy()"
   ]
  },
  {
   "cell_type": "code",
   "execution_count": null,
   "metadata": {},
   "outputs": [],
   "source": [
    "groups_dict_06_placebo1 = create_groups_dict(data=placebo1_data06,\n",
    "                                             keys=groups_dict_keys,\n",
    "                                             columns=groups_dict_columns\n",
    "                                             )"
   ]
  },
  {
   "cell_type": "code",
   "execution_count": null,
   "metadata": {},
   "outputs": [],
   "source": [
    "# Import function for RDD analysis from auxiliary file.\n",
    "table4_placebo1 = estimate_RDD_multiple_datasets(dictionary=groups_dict_06_placebo1,\n",
    "                                                 keys=groups_dict_keys,\n",
    "                                                 outcome='left_school',\n",
    "                                                 regressors=regressors\n",
    "                                                 )\n",
    "table4_placebo1.style.applymap(pvalue_5percent_red, subset=['P-Value (1)', 'P-Value (0)'])"
   ]
  },
  {
   "cell_type": "code",
   "execution_count": null,
   "metadata": {},
   "outputs": [],
   "source": [
    "groups_dict_12_placebo1 = create_groups_dict(data=placebo1_data12,\n",
    "                                             keys=groups_dict_keys,\n",
    "                                             columns=groups_dict_columns\n",
    "                                             )"
   ]
  },
  {
   "cell_type": "code",
   "execution_count": null,
   "metadata": {},
   "outputs": [],
   "source": [
    "predictions_groups_dict_placebo1 = create_fig3_predictions(groups_dict=groups_dict_12_placebo1,\n",
    "                                                           regressors=regressors,\n",
    "                                                           bandwidth=0.6\n",
    "                                                           )\n",
    "\n",
    "figure_3_placebo1 = plot_figure3(inputs_dict=groups_dict_12_placebo1,\n",
    "                                 outputs_dict=predictions_groups_dict_placebo1, \n",
    "                                 keys=groups_dict_keys\n",
    "                                )\n",
    "figure_3_placebo1"
   ]
  },
  {
   "cell_type": "markdown",
   "metadata": {},
   "source": [
    "### Placebo regression for a cutoff that is _0.6 GPA points higher_ than the actual probation cutoff\n",
    "I first increase the threshold point by 0.6 GPA points i.e. if the probation cutoff was at a GPA of 1.7 before, it is now at 2.3."
   ]
  },
  {
   "cell_type": "code",
   "execution_count": null,
   "metadata": {},
   "outputs": [],
   "source": [
    "placebo1_data = gen_placebo_data(data=data, cutoff_deviation=(0.6))"
   ]
  },
  {
   "cell_type": "code",
   "execution_count": null,
   "metadata": {},
   "outputs": [],
   "source": [
    "# Reduce dataset to range 1.2 as we used before\n",
    "placebo1_data12 = placebo1_data[abs(placebo1_data['dist_from_cut']) < 1.2].copy()\n",
    "\n",
    "# Bin data according to new distances from cutoff\n",
    "bins_labels = np.arange(-1.15, 1.25, 0.1)\n",
    "placebo1_data12['dist_from_cut_med10'] = pd.cut(x=placebo1_data12['dist_from_cut'], \n",
    "                                                bins=24, \n",
    "                                                labels=bins_labels, \n",
    "                                                right=False\n",
    "                                               )\n",
    "\n",
    "# Create another dataset with a maximum distance of 0.6 from the cutoff\n",
    "placebo1_data06 = placebo1_data12[abs(placebo1_data12['dist_from_cut']) < 0.6].copy()"
   ]
  },
  {
   "cell_type": "code",
   "execution_count": null,
   "metadata": {},
   "outputs": [],
   "source": [
    "groups_dict_06_placebo1 = create_groups_dict(data=placebo1_data06,\n",
    "                                             keys=groups_dict_keys,\n",
    "                                             columns=groups_dict_columns\n",
    "                                             )"
   ]
  },
  {
   "cell_type": "code",
   "execution_count": null,
   "metadata": {},
   "outputs": [],
   "source": [
    "# Import function for RDD analysis from auxiliary file.\n",
    "table4_placebo1 = estimate_RDD_multiple_datasets(dictionary=groups_dict_06_placebo1, \n",
    "                                                 keys=groups_dict_keys, \n",
    "                                                 outcome='left_school', \n",
    "                                                 regressors=regressors\n",
    "                                                )\n",
    "table4_placebo1.style.applymap(pvalue_5percent_red, subset=['P-Value (1)', 'P-Value (0)'])"
   ]
  },
  {
   "cell_type": "code",
   "execution_count": null,
   "metadata": {},
   "outputs": [],
   "source": [
    "groups_dict_12_placebo1 = create_groups_dict(data=placebo1_data12,\n",
    "                                             keys=groups_dict_keys,\n",
    "                                             columns=groups_dict_columns\n",
    "                                             )"
   ]
  },
  {
   "cell_type": "code",
   "execution_count": null,
   "metadata": {},
   "outputs": [],
   "source": [
    "predictions_groups_dict_placebo1 = create_fig3_predictions(groups_dict=groups_dict_12_placebo1,\n",
    "                                                           regressors=regressors,\n",
    "                                                           bandwidth=0.6\n",
    "                                                           )\n",
    "\n",
    "figure_3_placebo1 = plot_figure3(inputs_dict=groups_dict_12_placebo1,\n",
    "                                 outputs_dict=predictions_groups_dict_placebo1, \n",
    "                                 keys=groups_dict_keys\n",
    "                                )\n",
    "figure_3_placebo1"
   ]
  },
  {
   "cell_type": "markdown",
   "metadata": {},
   "source": [
    "## Bootstrap Confidence Intervals"
   ]
  },
  {
   "cell_type": "markdown",
   "metadata": {},
   "source": [
    "### Subsequent performance with 95% Confidence Interval"
   ]
  },
  {
   "cell_type": "code",
   "execution_count": null,
   "metadata": {},
   "outputs": [],
   "source": [
    "bootstrap_pred = bootstrap_predictions(n=100, data=sample12, outcome='nextGPA', regressors=regressors, bandwidth=0.6)"
   ]
  },
  {
   "cell_type": "code",
   "execution_count": null,
   "metadata": {},
   "outputs": [],
   "source": [
    "CI = get_confidence_interval(data=bootstrap_pred, lbound=2.5, ubound=97.5, index_var='dist_from_cut')"
   ]
  },
  {
   "cell_type": "code",
   "execution_count": null,
   "metadata": {},
   "outputs": [],
   "source": [
    "predictions_fig4_CI = pd.concat([predictions_fig4, CI[['upper_bound', 'lower_bound']]], axis=1)"
   ]
  },
  {
   "cell_type": "code",
   "execution_count": null,
   "metadata": {},
   "outputs": [],
   "source": [
    "plt.pyplot.figure(figsize=(8, 6))\n",
    "plt.pyplot.xlim(-1.5, 1.5, 0.1)\n",
    "plt.pyplot.ylim(-0.5, 1.2, 0.1)\n",
    "plt.pyplot.axvline(x=0, color='r')\n",
    "plt.pyplot.xlabel('First year GPA minus probation cutoff')\n",
    "plt.pyplot.ylabel('Subsequent GPA minus Cutoff')\n",
    "plt.pyplot.plot(sample12.nextGPA.groupby(sample12['dist_from_cut_med10']).mean(), 'o')\n",
    "plot_RDD_curve_CI(df=predictions_fig4_CI,\n",
    "                  running_variable=\"dist_from_cut\",\n",
    "                  outcome=\"prediction\",\n",
    "                  cutoff=0,\n",
    "                  lbound='lower_bound',\n",
    "                  ubound='upper_bound',\n",
    "                  CI_color='lightgrey',\n",
    "                  linecolor='darkslategrey'\n",
    "                  )\n",
    "\n",
    "plt.pyplot.title(\"Figure 4 - GPA in the next enrolled term\")"
   ]
  },
  {
   "cell_type": "markdown",
   "metadata": {},
   "source": [
    "# Miscellaneous\n",
    "\n",
    "This section will be removed for in the final notebook and is thus not relevant."
   ]
  },
  {
   "cell_type": "code",
   "execution_count": null,
   "metadata": {},
   "outputs": [],
   "source": [
    "columnlist = data.columns\n",
    "print(columnlist)"
   ]
  },
  {
   "cell_type": "code",
   "execution_count": null,
   "metadata": {},
   "outputs": [],
   "source": [
    "# Overview of all variables in dataset.\n",
    "sample06[['credits1', 'credits2', 'credits_earned1', 'credits_earned2',\n",
    "       'session1', 'winter_ac_standing', 'GPA_year1', 'GPA_year2',\n",
    "       'CGPA_year1', 'CGPA_year2', 'totcredits_year1', 'totcredits_year2',\n",
    "       'goodstanding_year1', 'goodstanding_year2', 'winter_ac_stand_year1',\n",
    "       'winter_ac_stand_year2', ]].head()"
   ]
  },
  {
   "cell_type": "code",
   "execution_count": null,
   "metadata": {},
   "outputs": [],
   "source": [
    "sample06[['fallreg_year1', 'fallreg_year2',\n",
    "       'act_fallreg_year1', 'act_fallreg_year2', 'summerreg_year1',\n",
    "       'summerreg_year2', 'sex', 'mtongue', 'identifier', 'age_at_entry',\n",
    "       'bpl_north_america', 'bpl_asia', 'canadian', 'bpl_other', 'firstyear',\n",
    "       'yearstodegree', 'gradin4', 'gradin5', 'gradin6', 'gradin4orcont']].head()"
   ]
  },
  {
   "cell_type": "code",
   "execution_count": null,
   "metadata": {},
   "outputs": [],
   "source": [
    "sample06[['cumcredits1', 'cumcredits2', 'prog_science', 'prog_socsci_bus',\n",
    "       'prog_socscihum', 'prog_unknown', 'english', 'noenglish', 'french',\n",
    "       'other_lang', 'female', 'male', 'gpacutoff', 'dist_from_cut',\n",
    "       'year2_dist_from_cut', 'CGPA_final', 'nextGPA', 'nextCGPA', 'GPA_year1', 'GPA_year2']].head()\n",
    "       "
   ]
  },
  {
   "cell_type": "code",
   "execution_count": null,
   "metadata": {},
   "outputs": [],
   "source": [
    "sample06[['probation_year1', 'probation_year2', 'probation_summer1',\n",
    "       'probation_summer2', 'probation_ever','suspended_year1','suspended_summer1', \n",
    "       'suspended_year2', 'suspended_summer2','suspended_ever', 'loc_campus1', 'loc_campus2', 'loc_campus3', 'all',\n",
    "       'left_school']].head()"
   ]
  },
  {
   "cell_type": "code",
   "execution_count": null,
   "metadata": {
    "scrolled": true
   },
   "outputs": [],
   "source": [
    "sample06[['gpalscutoff', 'gpaXgpalscutoff', 'gpaXgpagrcutoff',\n",
    "          'gpasqXgpagrcutoff', 'dist_from_cut_med10', 'dist_from_cut_med05',\n",
    "          'dist_from_cut_med025', 'hsgrade_pct', 'veryhighHS', 'highHS', 'lowHS',\n",
    "          'maleXhighHS', 'femaleXhighHS', 'maleXlowabil', 'femaleXlowabil',\n",
    "          'clustervar', 'summer']].head()"
   ]
  },
  {
   "cell_type": "markdown",
   "metadata": {},
   "source": [
    "# References"
   ]
  },
  {
   "cell_type": "markdown",
   "metadata": {},
   "source": [
    "Bénabou, R., & Tirole, J. (2000). Self-confidence and social interactions (No. w7585). National bureau of economic research.\n",
    "\n",
    "Thistlethwaite, D. L., & Campbell, D. T. (1960). Regression-discontinuity analysis: An alternative to the ex post facto experiment. Journal of Educational psychology, 51(6), 309.\n",
    "\n",
    "Lee, D. S., & Lemieux, T. (2010). Regression discontinuity designs in economics. Journal of economic literature, 48(2), 281-355.\n",
    "\n",
    "Lindo, J. M., Sanders, N. J., & Oreopoulos, P. (2010). Ability, gender, and performance standards: Evidence from academic probation. American Economic Journal: Applied Economics, 2(2), 95-117.\n",
    " "
   ]
  },
  {
   "cell_type": "code",
   "execution_count": null,
   "metadata": {},
   "outputs": [],
   "source": []
  }
 ],
 "metadata": {
  "kernelspec": {
   "display_name": "Python 3",
   "language": "python",
   "name": "python3"
  },
  "language_info": {
   "codemirror_mode": {
    "name": "ipython",
    "version": 3
   },
   "file_extension": ".py",
   "mimetype": "text/x-python",
   "name": "python",
   "nbconvert_exporter": "python",
   "pygments_lexer": "ipython3",
   "version": "3.7.2"
  },
  "toc": {
   "base_numbering": 1,
   "nav_menu": {},
   "number_sections": true,
   "sideBar": true,
   "skip_h1_title": false,
   "title_cell": "Table of Contents",
   "title_sidebar": "Contents",
   "toc_cell": true,
   "toc_position": {
    "height": "622.641px",
    "left": "35px",
    "top": "189px",
    "width": "262.173px"
   },
   "toc_section_display": true,
   "toc_window_display": true
  },
  "varInspector": {
   "cols": {
    "lenName": 16,
    "lenType": 16,
    "lenVar": 40
   },
   "kernels_config": {
    "python": {
     "delete_cmd_postfix": "",
     "delete_cmd_prefix": "del ",
     "library": "var_list.py",
     "varRefreshCmd": "print(var_dic_list())"
    },
    "r": {
     "delete_cmd_postfix": ") ",
     "delete_cmd_prefix": "rm(",
     "library": "var_list.r",
     "varRefreshCmd": "cat(var_dic_list()) "
    }
   },
   "oldHeight": 189.73845400000002,
   "position": {
    "height": "478.719px",
    "left": "987.578px",
    "right": "20px",
    "top": "283.984px",
    "width": "717.172px"
   },
   "types_to_exclude": [
    "module",
    "function",
    "builtin_function_or_method",
    "instance",
    "_Feature"
   ],
   "varInspector_section_display": "block",
   "window_display": false
  }
 },
 "nbformat": 4,
 "nbformat_minor": 2
}
