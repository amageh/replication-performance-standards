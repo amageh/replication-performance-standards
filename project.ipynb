{
 "cells": [
  {
   "cell_type": "markdown",
   "metadata": {},
   "source": [
    "                Project for the course in Microeconometrics, Summer 2019, Bonn University\n",
    "\n",
    "---\n",
    "\n",
    "## Replication of Jason M. Lindo, Nicholas J. Sanders & Philip Oreopoulos (2010) <a class=\"tocSkip\"> \n",
    "\n",
    "In this notebook I replicate the main results from \n",
    "\n",
    " _Lindo, J. M., Sanders, N. J., & Oreopoulos, P. (2010). Ability, gender, and performance standards: Evidence from academic probation. American Economic Journal: Applied Economics, 2(2), 95-117._\n",
    "\n",
    "\n",
    "The paper as well as all the materials needed for the replication can be accessed [here](https://www.aeaweb.org/articles?id=10.1257/app.2.2.95). For the replication I try to remain true to the original structure of the paper so readers can easily follow along and compare. All tables and figures are named and labeled as they appear in Lindo et al. (2010). The tables in my replication appear transposed compared to the original tables to suit my workflow in Python. They contain the same information."
   ]
  },
  {
   "cell_type": "code",
   "execution_count": 1,
   "metadata": {},
   "outputs": [],
   "source": [
    "%matplotlib inline\n",
    "import timeit\n",
    "import numpy as np\n",
    "import pandas as pd\n",
    "import pandas.io.formats.style\n",
    "import seaborn as sns\n",
    "import statsmodels as sm\n",
    "import statsmodels.formula.api as smf\n",
    "import statsmodels.api as sm_api\n",
    "import matplotlib as plt\n",
    "from IPython.display import HTML"
   ]
  },
  {
   "cell_type": "code",
   "execution_count": 2,
   "metadata": {},
   "outputs": [],
   "source": [
    "# Import functions from auxiliary file\n",
    "from auxiliary.auxiliary_predictions import *\n",
    "from auxiliary.auxiliary_plots import *\n",
    "from auxiliary.auxiliary_tables import *\n",
    "from auxiliary.auxiliary_misc import *"
   ]
  },
  {
   "cell_type": "markdown",
   "metadata": {},
   "source": [
    "# Overview "
   ]
  },
  {
   "cell_type": "markdown",
   "metadata": {},
   "source": [
    "Lindo et al. (2010) examine the effects of academic probation on student outcomes using data from Canada. Academic probation is a university policy that aims to improve the performance of the lowest scoring students. If a student's grade point average (GPA) drops below a certain threshold, the student is placed on academic probation. The probation status serves as a warning and does not entail immediate consequences, however, if students fail to improve their grades during the following year, they face the threat of being suspended from university. In a more general sense, academic probation may offer insights into how agents respond to negative incentives and the threat of punishment in a real world context with high stakes. \n",
    "\n",
    "To estimate the causal impact of being placed on probation, Lindo et al. (2010) apply a **regression discontinuity design (RDD)** to data retrieved from three campuses at a large Canadian university. The RDD is motivated by the idea that the students who score just above the threshold for being put on academic probation provide a good counterfactual to the 'treatment group' that scores just below the threshold and is put on academic probation. \n",
    "\n",
    "**Observed outcomes:**\n",
    "* Drop-out rates\n",
    "* Subsequent performance\n",
    "* Graduation rates\n",
    "\n",
    "**Covariates:**\n",
    "* Gender\n",
    "* High school performance\n",
    "* Native language \n",
    "* Age at entry\n",
    "* Campus"
   ]
  },
  {
   "cell_type": "markdown",
   "metadata": {},
   "source": [
    "# Theoretical Background"
   ]
  },
  {
   "cell_type": "markdown",
   "metadata": {},
   "source": [
    "The underlying framework used for the analysis is a model developed by Bénabou and Tirole (2000) which models agent's responses to a performance standard. While Bénabou and Tirole (2000) model a game between a principal and an agent, Lindo et al. (2010) focus only on an agent to relate the model to the example of academic probation. \n",
    "\n",
    "In the performance standard model, the agents face a choice between three options:\n",
    " 1. **Option 1**: Incurs cost $c_1$ and grants benefit $V_1$ if successful.\n",
    " 2. **Option 2**: Incurs cost $c_2$ and grants benefit $V_2$ if successful.\n",
    " 3. **Neither** option: Incurs 0 cost and 0 benefit.\n",
    " \n",
    "Option 1 has a lower cost and a lower benefit than option 2 such that:\n",
    "\n",
    "\\begin{equation}\n",
    "    0 < c_1 < c_2 ,  0 < V_1 < V_2.\n",
    "\\end{equation}\n",
    "\n",
    "Ability, denoted by $\\theta$, translates to the probability of successfully completing either option. Assuming agents have perfect information about their ability, they solve the maximizing problem\n",
    "\n",
    "\\begin{equation}\n",
    "max\\{0, \\theta V_1-c_1, \\theta V_2-c_2\\}.\n",
    "\\end{equation}\n",
    "  \n",
    "Let $\\underline{\\theta}$ be the ability level where the agent is indifferent between neither and option two and let $\\bar{\\theta}$ be the ability level at which she is indifferent between option 1 and option 2. Assuming that\n",
    "\n",
    "\\begin{equation}\n",
    "\\underline{\\theta} \\equiv \\frac{c_1}{V_1} < \\bar{\\theta} \\equiv \\frac{c_2-c_1}{V_2-V1} < 1\n",
    "\\end{equation}\n",
    "\n",
    "ensures that both options are optimal for at least some $\\theta$.\n",
    "\n",
    "It can be shown that \n",
    "* the lowest ability types ($\\theta < \\underline{\\theta}$) choose neither option,\n",
    "* the highest ability types ($\\bar{\\theta} < \\theta$) choose the difficult option,\n",
    "* the individuals in between the high and low type $\\underline{\\theta}< \\theta < \\bar{\\theta} $) choose the easier option.\n",
    "\n",
    "If the principal now removes option 1 or makes choosing this option much more costly, then the agent will choose option 2 if and only if\n",
    "\n",
    "\\begin{equation}\n",
    "\\theta \\ge \\frac{c_2}{V_2} \\equiv \\theta^*\n",
    "\\end{equation}\n",
    "\n",
    "\n",
    "and choose neither option otherwise. The agents who would have chosen option 1 now split according to ability. Agents with high ability (specifically those with $\\theta \\in [\\theta^*,\\bar{\\theta}]$) work harder thereby choosing option 2 while low ability types (those with $\\theta \\in [\\underline{\\theta}, \\theta^*]$) do not persue option 2 (& thus choose neither option).\n",
    "\n",
    "In the context of academic probation, students face a similar decision problem and set of options. Students whose GPA is just above the probation cutoff face the full set of options for the next year:\n",
    "\n",
    "1. **Option 1**: Return to school and exhibit low effort and achieving a low GPA\n",
    "2. **Option 2**: Return to school and exhibit high effort with the intent of achieving a high GPA\n",
    "3. **Neither** option: Drop out of university\n",
    "\n",
    "The students who score below the probation cutoff face a restricted set of options, as the univsersity administration essentially eliminates option 1 by suspending students if they do not improve their grades. \n",
    "\n",
    "Lindo et al. (2010) formulate three testable implications of this theoretical framework: \n",
    "\n",
    "  * _Forbidding option 1 will **increase the overall probability of students dropping out**._\n",
    "  * _Forbidding option 1 will **increase the performance of those who return**._\n",
    "  * _Forbidding option 1 will cause **relatively low-ability students to drop out** and **relatively high-ability students to return and work harder**._"
   ]
  },
  {
   "cell_type": "markdown",
   "metadata": {},
   "source": [
    "# Causal Graphs"
   ]
  },
  {
   "cell_type": "markdown",
   "metadata": {},
   "source": [
    "wip"
   ]
  },
  {
   "cell_type": "markdown",
   "metadata": {},
   "source": [
    "# Study replication"
   ]
  },
  {
   "cell_type": "code",
   "execution_count": 3,
   "metadata": {},
   "outputs": [
    {
     "data": {
      "text/plain": [
       "(44362, 86)"
      ]
     },
     "execution_count": 3,
     "metadata": {},
     "output_type": "execute_result"
    }
   ],
   "source": [
    "# Loading the data\n",
    "data = pd.read_stata('data/data_for_analysis.dta')\n",
    "data.shape"
   ]
  },
  {
   "cell_type": "markdown",
   "metadata": {},
   "source": [
    "## Data & Descriptive Statistics\n",
    "Adding some variables I will use later."
   ]
  },
  {
   "cell_type": "code",
   "execution_count": 4,
   "metadata": {},
   "outputs": [],
   "source": [
    "# Add constant to data to use in regressions later.\n",
    "data.loc[:, 'const'] = 1"
   ]
  },
  {
   "cell_type": "code",
   "execution_count": 5,
   "metadata": {},
   "outputs": [],
   "source": [
    "data['nextGPA_above_cutoff'] = np.NaN\n",
    "data.loc[data.nextGPA >= 0, 'nextGPA_above_cutoff'] = 1\n",
    "data.loc[data.nextGPA < 0, 'nextGPA_above_cutoff'] = 0"
   ]
  },
  {
   "cell_type": "markdown",
   "metadata": {},
   "source": [
    "### Data Restriction & Preparation"
   ]
  },
  {
   "cell_type": "markdown",
   "metadata": {},
   "source": [
    "Lindo et al. (2010) filter the data to meet the following requirements:\n",
    "* Students entered university before the year 2004 ( to ensure they can be observed over a 2-year period)\n",
    "* Students are between 17 and 21 years of age at time of entry\n",
    "* Distance from cutoff is maximally 0.6\n",
    "\n",
    "In the following section I prepare the dataset to meet these requirements:"
   ]
  },
  {
   "cell_type": "code",
   "execution_count": 6,
   "metadata": {},
   "outputs": [
    {
     "data": {
      "text/plain": [
       "array([2002, 2001, 2000, 2003, 1996, 1998, 1997, 1999], dtype=int64)"
      ]
     },
     "execution_count": 6,
     "metadata": {},
     "output_type": "execute_result"
    }
   ],
   "source": [
    "data.firstyear.unique()"
   ]
  },
  {
   "cell_type": "code",
   "execution_count": 7,
   "metadata": {},
   "outputs": [
    {
     "data": {
      "text/plain": [
       "array([19., 18., 20., 17., 21.])"
      ]
     },
     "execution_count": 7,
     "metadata": {},
     "output_type": "execute_result"
    }
   ],
   "source": [
    "data.age_at_entry.unique()"
   ]
  },
  {
   "cell_type": "markdown",
   "metadata": {},
   "source": [
    "The dataset provided for replication is already filtered by age and year of university entrance. The distance from cutoff still spans from  values of -1.6 to 2.8 as can be seen below. I thus filter the data further to receive the sample used in the study."
   ]
  },
  {
   "cell_type": "code",
   "execution_count": 8,
   "metadata": {},
   "outputs": [
    {
     "name": "stdout",
     "output_type": "stream",
     "text": [
      "(array([ 463.,  379.,  515.,  775., 1087., 1484., 1951., 2314., 2945.,\n",
      "       3383., 3783., 4045., 4199., 3957., 3643., 3146., 2634., 2172.,\n",
      "       1343.,  144.]), array([-1.6       , -1.38      , -1.1600001 , -0.94000006, -0.72      ,\n",
      "       -0.5       , -0.28000003, -0.06000003,  0.15999997,  0.37999997,\n",
      "        0.59999996,  0.81999993,  1.04      ,  1.26      ,  1.48      ,\n",
      "        1.6999999 ,  1.92      ,  2.1399999 ,  2.36      ,  2.58      ,\n",
      "        2.8       ], dtype=float32), <a list of 20 Patch objects>)\n"
     ]
    },
    {
     "data": {
      "image/png": "[encoded data removed]",
      "text/plain": [
       "<Figure size 432x288 with 1 Axes>"
      ]
     },
     "metadata": {
      "needs_background": "light"
     },
     "output_type": "display_data"
    }
   ],
   "source": [
    "# Distribution of values for distance from cutoff.\n",
    "plt.pyplot.axvline(x=-1.2, color='k')\n",
    "plt.pyplot.axvline(x=1.2, color='k')\n",
    "print(plt.pyplot.hist(data['dist_from_cut'], color=\"coral\", bins=20))"
   ]
  },
  {
   "cell_type": "code",
   "execution_count": 9,
   "metadata": {},
   "outputs": [
    {
     "name": "stdout",
     "output_type": "stream",
     "text": [
      "A sample of students within 1.2 points from the cuttoff encompasses 25389 observations.\n"
     ]
    }
   ],
   "source": [
    "# Reduce sample to students within 1.2 points from cutoff.\n",
    "sample12 = data[abs(data['dist_from_cut']) < 1.2]\n",
    "sample12.reset_index(inplace=True)\n",
    "print(\"A sample of students within 1.2 points from the cuttoff encompasses\", sample12.shape[0], \"observations.\")"
   ]
  },
  {
   "cell_type": "code",
   "execution_count": 10,
   "metadata": {},
   "outputs": [
    {
     "name": "stdout",
     "output_type": "stream",
     "text": [
      "The final sample includes 12530 observations.\n"
     ]
    }
   ],
   "source": [
    "# Reduce sample to students within 0.6 points from cutoff.\n",
    "sample06 = data[abs(data['dist_from_cut']) < 0.6]\n",
    "sample06.reset_index(inplace=True)\n",
    "print(\"The final sample includes\", sample06.shape[0], \"observations.\")"
   ]
  },
  {
   "cell_type": "markdown",
   "metadata": {},
   "source": [
    "### Summary Statistics and Table 1"
   ]
  },
  {
   "cell_type": "code",
   "execution_count": 11,
   "metadata": {
    "scrolled": true
   },
   "outputs": [],
   "source": [
    "table_1_var = sample06[['hsgrade_pct', 'totcredits_year1', 'age_at_entry', 'male', 'english', 'bpl_north_america',\n",
    "                        'loc_campus1', 'loc_campus2', 'loc_campus3', 'dist_from_cut', 'probation_year1', 'probation_ever',\n",
    "                        'left_school', 'year2_dist_from_cut', 'suspended_ever', 'gradin4', 'gradin5', 'gradin6']]"
   ]
  },
  {
   "cell_type": "code",
   "execution_count": 12,
   "metadata": {},
   "outputs": [
    {
     "data": {
      "text/html": [
       "<div>\n",
       "<style scoped>\n",
       "    .dataframe tbody tr th:only-of-type {\n",
       "        vertical-align: middle;\n",
       "    }\n",
       "\n",
       "    .dataframe tbody tr th {\n",
       "        vertical-align: top;\n",
       "    }\n",
       "\n",
       "    .dataframe thead th {\n",
       "        text-align: right;\n",
       "    }\n",
       "</style>\n",
       "<table border=\"1\" class=\"dataframe\">\n",
       "  <thead>\n",
       "    <tr style=\"text-align: right;\">\n",
       "      <th></th>\n",
       "      <th>Mean</th>\n",
       "      <th>Standard Deviation</th>\n",
       "      <th>Description</th>\n",
       "      <th>Type</th>\n",
       "    </tr>\n",
       "  </thead>\n",
       "  <tbody>\n",
       "    <tr>\n",
       "      <th>hsgrade_pct</th>\n",
       "      <td>33.33</td>\n",
       "      <td>23.29</td>\n",
       "      <td>High School Grade Percentile</td>\n",
       "      <td>Characteristics</td>\n",
       "    </tr>\n",
       "    <tr>\n",
       "      <th>totcredits_year1</th>\n",
       "      <td>4.43</td>\n",
       "      <td>0.53</td>\n",
       "      <td>Credits attempted first year</td>\n",
       "      <td>Characteristics</td>\n",
       "    </tr>\n",
       "    <tr>\n",
       "      <th>age_at_entry</th>\n",
       "      <td>18.72</td>\n",
       "      <td>0.74</td>\n",
       "      <td>Age at entry</td>\n",
       "      <td>Characteristics</td>\n",
       "    </tr>\n",
       "    <tr>\n",
       "      <th>male</th>\n",
       "      <td>0.38</td>\n",
       "      <td>0.48</td>\n",
       "      <td>Male</td>\n",
       "      <td>Characteristics</td>\n",
       "    </tr>\n",
       "    <tr>\n",
       "      <th>english</th>\n",
       "      <td>0.72</td>\n",
       "      <td>0.45</td>\n",
       "      <td>English is first language</td>\n",
       "      <td>Characteristics</td>\n",
       "    </tr>\n",
       "    <tr>\n",
       "      <th>bpl_north_america</th>\n",
       "      <td>0.87</td>\n",
       "      <td>0.34</td>\n",
       "      <td>Born in North America</td>\n",
       "      <td>Characteristics</td>\n",
       "    </tr>\n",
       "    <tr>\n",
       "      <th>loc_campus1</th>\n",
       "      <td>0.48</td>\n",
       "      <td>0.50</td>\n",
       "      <td>At Campus 1</td>\n",
       "      <td>Characteristics</td>\n",
       "    </tr>\n",
       "    <tr>\n",
       "      <th>loc_campus2</th>\n",
       "      <td>0.21</td>\n",
       "      <td>0.41</td>\n",
       "      <td>At Campus 2</td>\n",
       "      <td>Characteristics</td>\n",
       "    </tr>\n",
       "    <tr>\n",
       "      <th>loc_campus3</th>\n",
       "      <td>0.31</td>\n",
       "      <td>0.46</td>\n",
       "      <td>At Campus 3</td>\n",
       "      <td>Characteristics</td>\n",
       "    </tr>\n",
       "    <tr>\n",
       "      <th>dist_from_cut</th>\n",
       "      <td>0.11</td>\n",
       "      <td>0.33</td>\n",
       "      <td>Distance from cutoff in first year</td>\n",
       "      <td>Outcomes</td>\n",
       "    </tr>\n",
       "    <tr>\n",
       "      <th>probation_year1</th>\n",
       "      <td>0.35</td>\n",
       "      <td>0.48</td>\n",
       "      <td>On probation after first year</td>\n",
       "      <td>Outcomes</td>\n",
       "    </tr>\n",
       "    <tr>\n",
       "      <th>probation_ever</th>\n",
       "      <td>0.46</td>\n",
       "      <td>0.50</td>\n",
       "      <td>Ever on acad. probation</td>\n",
       "      <td>Outcomes</td>\n",
       "    </tr>\n",
       "    <tr>\n",
       "      <th>left_school</th>\n",
       "      <td>0.05</td>\n",
       "      <td>0.22</td>\n",
       "      <td>Left Uni after 1st evaluation</td>\n",
       "      <td>Outcomes</td>\n",
       "    </tr>\n",
       "    <tr>\n",
       "      <th>year2_dist_from_cut</th>\n",
       "      <td>0.46</td>\n",
       "      <td>0.70</td>\n",
       "      <td>Distance from cutoff at next evaluation</td>\n",
       "      <td>Outcomes</td>\n",
       "    </tr>\n",
       "    <tr>\n",
       "      <th>suspended_ever</th>\n",
       "      <td>0.16</td>\n",
       "      <td>0.36</td>\n",
       "      <td>Ever suspended</td>\n",
       "      <td>Outcomes</td>\n",
       "    </tr>\n",
       "    <tr>\n",
       "      <th>gradin4</th>\n",
       "      <td>0.29</td>\n",
       "      <td>0.45</td>\n",
       "      <td>Graduated by year  4</td>\n",
       "      <td>Outcomes</td>\n",
       "    </tr>\n",
       "    <tr>\n",
       "      <th>gradin5</th>\n",
       "      <td>0.56</td>\n",
       "      <td>0.50</td>\n",
       "      <td>Graduated by year  5</td>\n",
       "      <td>Outcomes</td>\n",
       "    </tr>\n",
       "    <tr>\n",
       "      <th>gradin6</th>\n",
       "      <td>0.66</td>\n",
       "      <td>0.47</td>\n",
       "      <td>Graduated by year  6</td>\n",
       "      <td>Outcomes</td>\n",
       "    </tr>\n",
       "  </tbody>\n",
       "</table>\n",
       "</div>"
      ],
      "text/plain": [
       "                      Mean  Standard Deviation  \\\n",
       "hsgrade_pct          33.33               23.29   \n",
       "totcredits_year1      4.43                0.53   \n",
       "age_at_entry         18.72                0.74   \n",
       "male                  0.38                0.48   \n",
       "english               0.72                0.45   \n",
       "bpl_north_america     0.87                0.34   \n",
       "loc_campus1           0.48                0.50   \n",
       "loc_campus2           0.21                0.41   \n",
       "loc_campus3           0.31                0.46   \n",
       "dist_from_cut         0.11                0.33   \n",
       "probation_year1       0.35                0.48   \n",
       "probation_ever        0.46                0.50   \n",
       "left_school           0.05                0.22   \n",
       "year2_dist_from_cut   0.46                0.70   \n",
       "suspended_ever        0.16                0.36   \n",
       "gradin4               0.29                0.45   \n",
       "gradin5               0.56                0.50   \n",
       "gradin6               0.66                0.47   \n",
       "\n",
       "                                                 Description             Type  \n",
       "hsgrade_pct                     High School Grade Percentile  Characteristics  \n",
       "totcredits_year1                Credits attempted first year  Characteristics  \n",
       "age_at_entry                                    Age at entry  Characteristics  \n",
       "male                                                    Male  Characteristics  \n",
       "english                            English is first language  Characteristics  \n",
       "bpl_north_america                      Born in North America  Characteristics  \n",
       "loc_campus1                                      At Campus 1  Characteristics  \n",
       "loc_campus2                                      At Campus 2  Characteristics  \n",
       "loc_campus3                                      At Campus 3  Characteristics  \n",
       "dist_from_cut             Distance from cutoff in first year         Outcomes  \n",
       "probation_year1                On probation after first year         Outcomes  \n",
       "probation_ever                       Ever on acad. probation         Outcomes  \n",
       "left_school                    Left Uni after 1st evaluation         Outcomes  \n",
       "year2_dist_from_cut  Distance from cutoff at next evaluation         Outcomes  \n",
       "suspended_ever                                Ever suspended         Outcomes  \n",
       "gradin4                                 Graduated by year  4         Outcomes  \n",
       "gradin5                                 Graduated by year  5         Outcomes  \n",
       "gradin6                                 Graduated by year  6         Outcomes  "
      ]
     },
     "execution_count": 12,
     "metadata": {},
     "output_type": "execute_result"
    }
   ],
   "source": [
    "table1 = pd.DataFrame()\n",
    "table1['Mean'] = table_1_var.mean()\n",
    "table1['Standard Deviation'] = table_1_var.std()\n",
    "table1 = table1.astype(float).round(2)\n",
    "table1['Description'] = [\"High School Grade Percentile\", \"Credits attempted first year\", \"Age at entry\",\n",
    "                         \"Male\", \"English is first language\", \"Born in North America\",\n",
    "                         \"At Campus 1\", \"At Campus 2\", \"At Campus 3\",\n",
    "                         \"Distance from cutoff in first year\", \"On probation after first year\", \" Ever on acad. probation\",\n",
    "                         \"Left Uni after 1st evaluation\", \"Distance from cutoff at next evaluation\", \"Ever suspended\",\n",
    "                         \"Graduated by year  4\", \"Graduated by year  5\", \"Graduated by year  6\"]\n",
    "\n",
    "table1.loc[0:9, 'Type'] = \"Characteristics\"\n",
    "table1.loc[9:, 'Type'] = \"Outcomes\"\n",
    "table1"
   ]
  },
  {
   "cell_type": "markdown",
   "metadata": {},
   "source": [
    "## Empirical Strategy"
   ]
  },
  {
   "cell_type": "markdown",
   "metadata": {},
   "source": [
    "The author examine the impact of being put on probation after the first year in university. The probation status after the first year is a deterministic funtion of student's GPA, formally\n",
    "\n",
    "\\begin{equation}\n",
    "PROB^{year1}_{IC} = 1(GPANORM^{year1}_{IC} < 0),\n",
    "\\end{equation}\n",
    "\n",
    "where $PROB^{year1}_{IC}$ represents the probation status of student $i$ at campus $c$ and $GPANORM^{year1}_{IC}$ is the distance between student i's first year GPA and the probationary cutoff at their respective campus. \n",
    "\n",
    "Applying the regression dicontunity design, the treatment effect for students near the threshold is obtained by comparing the outcomes of students just below the threshold to those just above the threshold.\n",
    "\n",
    "The following equation can be used to estimate the effects of academic probation on subsequent student outcomes:\n",
    "\n",
    "\\begin{equation}\n",
    "Y_{ic} = m(GPANORM_{ic}^{year1}) + \\delta1(GPANORM_{ic}^{year1}<0) + u_{ic} \n",
    "\\end{equation}\n",
    "\n",
    "* $Y_{ic}$ denotes the outcome for student $i$ at campus $c$, \n",
    "* $m(GPANORM_{ic}^{year1})$ is a continuous function of students's tandarized first year GPAs,\n",
    "* $1(GPANORM_{ic}^{year1}<0)$ is an indicator function equal to 1 if the student's GPA is below the probation cutoff\n",
    "* $u_{ic} $ is the error term\n",
    "* $\\delta$ is the coeffcient for the estimated impact of being placed on academic probation after the first year\n",
    "\n",
    "For the regression analysis, Lindo et al. (2010) extend the above equation by an interaction term and a constant:\n",
    "\n",
    "\\begin{equation}\n",
    "Y_{ic} = \\alpha + \\delta1(GPANORM_{ic}^{year1}<0) + \\beta(GPANORM_{ic}^{year1}) \n",
    "                + \\gamma(GPANORM_{ic}^{year1})x 1(GPANORM_{ic}^{year1}<0) + u_{ic} \n",
    "\\end{equation}\n"
   ]
  },
  {
   "cell_type": "markdown",
   "metadata": {},
   "source": [
    "## Replication of Results"
   ]
  },
  {
   "cell_type": "code",
   "execution_count": 64,
   "metadata": {},
   "outputs": [],
   "source": [
    "sample_treat = sample12[sample12['dist_from_cut'] < 0].copy()\n",
    "sample_untreat = sample12[sample12['dist_from_cut'] >= 0].copy()\n",
    "sample12 = pd.concat([sample_untreat, sample_treat])"
   ]
  },
  {
   "cell_type": "markdown",
   "metadata": {},
   "source": [
    "### Tests of the Validity of the RD Approach"
   ]
  },
  {
   "cell_type": "markdown",
   "metadata": {},
   "source": [
    "The core motivation in the application of RD approaches is the idea, that the variation in treatment near the cutoff is random if subjects are unable to control the selection into treatment (Lee & Lemieux, 2010). This condition, if fulfilled, means the RDD is able to closely emulate a randomized experiment and allows researchers to identify the effects of treatment. \n",
    "\n",
    "For evaluating the effects of academic probation on subsequent student outcomes, the RDD is thus a valid approach only if students are not able to precisely manipulate whether they score above or below the cutoff. Lindo et al. (2010) offer multiple arguments to adress concerns about nonrandom sorting: \n",
    "\n",
    "1. The study focuses on **first year students**, assuming this group of students is likely to be less familiar with the probation policy on campus. To verify their conjecture, the authors also conducted a survey in an introductory economics course which revealed that around 50 % of students were unsure of the probation cutoff at their campus. They also claim that this analysis showed no relationship between knowledge of probation cutoffs and student's grades. \n",
    "\n",
    "\n",
    "2. The authors also point out that most first year courses span the entire year and most of the evaluation takes place at the end of the term which would make it difficult for students to purposely aim for performances slightly above the cutoff for academic probation.\n",
    "\n",
    "\n",
    "3. Finally, and most importantly, the implication of local randomization is testable. If nonrandom sorting were to be a problem, there should be a **discontinuity** in the distribution of grades at the cutoff with a disproportionate number of students scoring just above the cutoff. Figure 1 and table 2 show the (replicated) results of tests for such discontinuities."
   ]
  },
  {
   "cell_type": "markdown",
   "metadata": {},
   "source": [
    "#### Figure 1 | Distribution of Student Grades Relative to their Cutoff"
   ]
  },
  {
   "cell_type": "markdown",
   "metadata": {},
   "source": [
    "The data (containing all observations within 1.2 GPA points from the cutoff) is sorted into bins of size 0.1. The bins contain their lower limit but not their upper limit. To replicate the result from Lindo et al., I calculate the frequency of each bin and then run a local linear regression with a bandwidth of 0.6 on each bin. Figure 1 shows the bins and the predicted frequency for each bin. The results show that the **distribution of grades is continuous around the cutoff**, suggesting that we can assume local randomization."
   ]
  },
  {
   "cell_type": "code",
   "execution_count": 14,
   "metadata": {},
   "outputs": [],
   "source": [
    "# Calculate frequency of each bin.\n",
    "bin_frequency_fig1 = calculate_bin_frequency(data=sample12, \n",
    "                                             bins=\"dist_from_cut_med10\"\n",
    "                                            )\n",
    "\n",
    "# Calculate predicted frequency of each bin with local linear regression.\n",
    "predictions_fig1 = create_bin_frequency_predictions(data=bin_frequency_fig1,\n",
    "                                                    steps=bin_frequency_fig1.bins.unique().round(4),\n",
    "                                                    bandwidth=0.6\n",
    "                                                    )"
   ]
  },
  {
   "cell_type": "code",
   "execution_count": 15,
   "metadata": {},
   "outputs": [
    {
     "data": {
      "image/png": "[encoded data removed]",
      "text/plain": [
       "<Figure size 432x288 with 1 Axes>"
      ]
     },
     "metadata": {
      "needs_background": "light"
     },
     "output_type": "display_data"
    }
   ],
   "source": [
    "plot_bin_frequency_RDD(bin_frequency=bin_frequency_fig1,\n",
    "                       bins=bin_frequency_fig1.bins.unique().round(4),\n",
    "                       predictions=predictions_fig1\n",
    "                       )"
   ]
  },
  {
   "cell_type": "markdown",
   "metadata": {},
   "source": [
    "#### Table 2 - Estimated Discontinuities in observable characteristics "
   ]
  },
  {
   "cell_type": "code",
   "execution_count": 16,
   "metadata": {},
   "outputs": [
    {
     "data": {
      "text/plain": [
       "(12530, 89)"
      ]
     },
     "execution_count": 16,
     "metadata": {},
     "output_type": "execute_result"
    }
   ],
   "source": [
    "# Reduce sample to bandwidth of 0.6 for the next steps.\n",
    "sample06 = sample12[abs(sample12['dist_from_cut']) < 0.6]\n",
    "sample06.shape"
   ]
  },
  {
   "cell_type": "markdown",
   "metadata": {},
   "source": [
    "Table 2 shows the results of local linear regression (using a bandwidth of 0.6) for a range of observable characteristics that are related to student outcomes. Significant discontinuities would indicate that students with certain characteristics might be able to manipulate their grades to score above the probation cutoff. Table 2 shows that the coefficient for scoring below the cutoff is insignificant at the 10% level for all covariates. These estimates support the validity of the RD approach. "
   ]
  },
  {
   "cell_type": "code",
   "execution_count": 17,
   "metadata": {},
   "outputs": [],
   "source": [
    "# Define covariates and regressors.\n",
    "table2_variables = ('hsgrade_pct', 'totcredits_year1', 'age_at_entry', 'male', 'english', 'bpl_north_america',\n",
    "                    'loc_campus1', 'loc_campus2')\n",
    "regressors = ['const', 'gpalscutoff', 'gpaXgpalscutoff', 'gpaXgpagrcutoff']"
   ]
  },
  {
   "cell_type": "code",
   "execution_count": 18,
   "metadata": {},
   "outputs": [
    {
     "data": {
      "text/html": [
       "<style  type=\"text/css\" >\n",
       "    #T_b65a127a_b116_11e9_9694_54ee758e2065row0_col1 {\n",
       "            color:  black;\n",
       "        }    #T_b65a127a_b116_11e9_9694_54ee758e2065row0_col4 {\n",
       "            color:  red;\n",
       "        }    #T_b65a127a_b116_11e9_9694_54ee758e2065row1_col1 {\n",
       "            color:  black;\n",
       "        }    #T_b65a127a_b116_11e9_9694_54ee758e2065row1_col4 {\n",
       "            color:  red;\n",
       "        }    #T_b65a127a_b116_11e9_9694_54ee758e2065row2_col1 {\n",
       "            color:  black;\n",
       "        }    #T_b65a127a_b116_11e9_9694_54ee758e2065row2_col4 {\n",
       "            color:  red;\n",
       "        }    #T_b65a127a_b116_11e9_9694_54ee758e2065row3_col1 {\n",
       "            color:  black;\n",
       "        }    #T_b65a127a_b116_11e9_9694_54ee758e2065row3_col4 {\n",
       "            color:  red;\n",
       "        }    #T_b65a127a_b116_11e9_9694_54ee758e2065row4_col1 {\n",
       "            color:  black;\n",
       "        }    #T_b65a127a_b116_11e9_9694_54ee758e2065row4_col4 {\n",
       "            color:  red;\n",
       "        }    #T_b65a127a_b116_11e9_9694_54ee758e2065row5_col1 {\n",
       "            color:  black;\n",
       "        }    #T_b65a127a_b116_11e9_9694_54ee758e2065row5_col4 {\n",
       "            color:  red;\n",
       "        }    #T_b65a127a_b116_11e9_9694_54ee758e2065row6_col1 {\n",
       "            color:  black;\n",
       "        }    #T_b65a127a_b116_11e9_9694_54ee758e2065row6_col4 {\n",
       "            color:  red;\n",
       "        }    #T_b65a127a_b116_11e9_9694_54ee758e2065row7_col1 {\n",
       "            color:  black;\n",
       "        }    #T_b65a127a_b116_11e9_9694_54ee758e2065row7_col4 {\n",
       "            color:  red;\n",
       "        }</style><table id=\"T_b65a127a_b116_11e9_9694_54ee758e2065\" ><thead>    <tr>        <th class=\"blank level0\" ></th>        <th class=\"col_heading level0 col0\" >GPA below cutoff (1)</th>        <th class=\"col_heading level0 col1\" >P-Value (1)</th>        <th class=\"col_heading level0 col2\" >Std.err (1)</th>        <th class=\"col_heading level0 col3\" >Intercept (0)</th>        <th class=\"col_heading level0 col4\" >P-Value (0)</th>        <th class=\"col_heading level0 col5\" >Std.err (0)</th>        <th class=\"col_heading level0 col6\" >Observations</th>    </tr>    <tr>        <th class=\"index_name level0\" >outcomes</th>        <th class=\"blank\" ></th>        <th class=\"blank\" ></th>        <th class=\"blank\" ></th>        <th class=\"blank\" ></th>        <th class=\"blank\" ></th>        <th class=\"blank\" ></th>        <th class=\"blank\" ></th>    </tr></thead><tbody>\n",
       "                <tr>\n",
       "                        <th id=\"T_b65a127a_b116_11e9_9694_54ee758e2065level0_row0\" class=\"row_heading level0 row0\" >hsgrade_pct</th>\n",
       "                        <td id=\"T_b65a127a_b116_11e9_9694_54ee758e2065row0_col0\" class=\"data row0 col0\" >0.45</td>\n",
       "                        <td id=\"T_b65a127a_b116_11e9_9694_54ee758e2065row0_col1\" class=\"data row0 col1\" >0.72</td>\n",
       "                        <td id=\"T_b65a127a_b116_11e9_9694_54ee758e2065row0_col2\" class=\"data row0 col2\" >1.259</td>\n",
       "                        <td id=\"T_b65a127a_b116_11e9_9694_54ee758e2065row0_col3\" class=\"data row0 col3\" >30.991</td>\n",
       "                        <td id=\"T_b65a127a_b116_11e9_9694_54ee758e2065row0_col4\" class=\"data row0 col4\" >0</td>\n",
       "                        <td id=\"T_b65a127a_b116_11e9_9694_54ee758e2065row0_col5\" class=\"data row0 col5\" >0.745</td>\n",
       "                        <td id=\"T_b65a127a_b116_11e9_9694_54ee758e2065row0_col6\" class=\"data row0 col6\" >12530</td>\n",
       "            </tr>\n",
       "            <tr>\n",
       "                        <th id=\"T_b65a127a_b116_11e9_9694_54ee758e2065level0_row1\" class=\"row_heading level0 row1\" >totcredits_year1</th>\n",
       "                        <td id=\"T_b65a127a_b116_11e9_9694_54ee758e2065row1_col0\" class=\"data row1 col0\" >0.024</td>\n",
       "                        <td id=\"T_b65a127a_b116_11e9_9694_54ee758e2065row1_col1\" class=\"data row1 col1\" >0.749</td>\n",
       "                        <td id=\"T_b65a127a_b116_11e9_9694_54ee758e2065row1_col2\" class=\"data row1 col2\" >0.076</td>\n",
       "                        <td id=\"T_b65a127a_b116_11e9_9694_54ee758e2065row1_col3\" class=\"data row1 col3\" >4.386</td>\n",
       "                        <td id=\"T_b65a127a_b116_11e9_9694_54ee758e2065row1_col4\" class=\"data row1 col4\" >0</td>\n",
       "                        <td id=\"T_b65a127a_b116_11e9_9694_54ee758e2065row1_col5\" class=\"data row1 col5\" >0.046</td>\n",
       "                        <td id=\"T_b65a127a_b116_11e9_9694_54ee758e2065row1_col6\" class=\"data row1 col6\" >12530</td>\n",
       "            </tr>\n",
       "            <tr>\n",
       "                        <th id=\"T_b65a127a_b116_11e9_9694_54ee758e2065level0_row2\" class=\"row_heading level0 row2\" >age_at_entry</th>\n",
       "                        <td id=\"T_b65a127a_b116_11e9_9694_54ee758e2065row2_col0\" class=\"data row2 col0\" >0.015</td>\n",
       "                        <td id=\"T_b65a127a_b116_11e9_9694_54ee758e2065row2_col1\" class=\"data row2 col1\" >0.641</td>\n",
       "                        <td id=\"T_b65a127a_b116_11e9_9694_54ee758e2065row2_col2\" class=\"data row2 col2\" >0.032</td>\n",
       "                        <td id=\"T_b65a127a_b116_11e9_9694_54ee758e2065row2_col3\" class=\"data row2 col3\" >18.719</td>\n",
       "                        <td id=\"T_b65a127a_b116_11e9_9694_54ee758e2065row2_col4\" class=\"data row2 col4\" >0</td>\n",
       "                        <td id=\"T_b65a127a_b116_11e9_9694_54ee758e2065row2_col5\" class=\"data row2 col5\" >0.021</td>\n",
       "                        <td id=\"T_b65a127a_b116_11e9_9694_54ee758e2065row2_col6\" class=\"data row2 col6\" >12530</td>\n",
       "            </tr>\n",
       "            <tr>\n",
       "                        <th id=\"T_b65a127a_b116_11e9_9694_54ee758e2065level0_row3\" class=\"row_heading level0 row3\" >male</th>\n",
       "                        <td id=\"T_b65a127a_b116_11e9_9694_54ee758e2065row3_col0\" class=\"data row3 col0\" >0</td>\n",
       "                        <td id=\"T_b65a127a_b116_11e9_9694_54ee758e2065row3_col1\" class=\"data row3 col1\" >0.989</td>\n",
       "                        <td id=\"T_b65a127a_b116_11e9_9694_54ee758e2065row3_col2\" class=\"data row3 col2\" >0.024</td>\n",
       "                        <td id=\"T_b65a127a_b116_11e9_9694_54ee758e2065row3_col3\" class=\"data row3 col3\" >0.374</td>\n",
       "                        <td id=\"T_b65a127a_b116_11e9_9694_54ee758e2065row3_col4\" class=\"data row3 col4\" >0</td>\n",
       "                        <td id=\"T_b65a127a_b116_11e9_9694_54ee758e2065row3_col5\" class=\"data row3 col5\" >0.012</td>\n",
       "                        <td id=\"T_b65a127a_b116_11e9_9694_54ee758e2065row3_col6\" class=\"data row3 col6\" >12530</td>\n",
       "            </tr>\n",
       "            <tr>\n",
       "                        <th id=\"T_b65a127a_b116_11e9_9694_54ee758e2065level0_row4\" class=\"row_heading level0 row4\" >english</th>\n",
       "                        <td id=\"T_b65a127a_b116_11e9_9694_54ee758e2065row4_col0\" class=\"data row4 col0\" >-0.037</td>\n",
       "                        <td id=\"T_b65a127a_b116_11e9_9694_54ee758e2065row4_col1\" class=\"data row4 col1\" >0.124</td>\n",
       "                        <td id=\"T_b65a127a_b116_11e9_9694_54ee758e2065row4_col2\" class=\"data row4 col2\" >0.024</td>\n",
       "                        <td id=\"T_b65a127a_b116_11e9_9694_54ee758e2065row4_col3\" class=\"data row4 col3\" >0.729</td>\n",
       "                        <td id=\"T_b65a127a_b116_11e9_9694_54ee758e2065row4_col4\" class=\"data row4 col4\" >0</td>\n",
       "                        <td id=\"T_b65a127a_b116_11e9_9694_54ee758e2065row4_col5\" class=\"data row4 col5\" >0.015</td>\n",
       "                        <td id=\"T_b65a127a_b116_11e9_9694_54ee758e2065row4_col6\" class=\"data row4 col6\" >12530</td>\n",
       "            </tr>\n",
       "            <tr>\n",
       "                        <th id=\"T_b65a127a_b116_11e9_9694_54ee758e2065level0_row5\" class=\"row_heading level0 row5\" >bpl_north_america</th>\n",
       "                        <td id=\"T_b65a127a_b116_11e9_9694_54ee758e2065row5_col0\" class=\"data row5 col0\" >0.017</td>\n",
       "                        <td id=\"T_b65a127a_b116_11e9_9694_54ee758e2065row5_col1\" class=\"data row5 col1\" >0.173</td>\n",
       "                        <td id=\"T_b65a127a_b116_11e9_9694_54ee758e2065row5_col2\" class=\"data row5 col2\" >0.013</td>\n",
       "                        <td id=\"T_b65a127a_b116_11e9_9694_54ee758e2065row5_col3\" class=\"data row5 col3\" >0.864</td>\n",
       "                        <td id=\"T_b65a127a_b116_11e9_9694_54ee758e2065row5_col4\" class=\"data row5 col4\" >0</td>\n",
       "                        <td id=\"T_b65a127a_b116_11e9_9694_54ee758e2065row5_col5\" class=\"data row5 col5\" >0.008</td>\n",
       "                        <td id=\"T_b65a127a_b116_11e9_9694_54ee758e2065row5_col6\" class=\"data row5 col6\" >12530</td>\n",
       "            </tr>\n",
       "            <tr>\n",
       "                        <th id=\"T_b65a127a_b116_11e9_9694_54ee758e2065level0_row6\" class=\"row_heading level0 row6\" >loc_campus1</th>\n",
       "                        <td id=\"T_b65a127a_b116_11e9_9694_54ee758e2065row6_col0\" class=\"data row6 col0\" >0.012</td>\n",
       "                        <td id=\"T_b65a127a_b116_11e9_9694_54ee758e2065row6_col1\" class=\"data row6 col1\" >0.724</td>\n",
       "                        <td id=\"T_b65a127a_b116_11e9_9694_54ee758e2065row6_col2\" class=\"data row6 col2\" >0.034</td>\n",
       "                        <td id=\"T_b65a127a_b116_11e9_9694_54ee758e2065row6_col3\" class=\"data row6 col3\" >0.444</td>\n",
       "                        <td id=\"T_b65a127a_b116_11e9_9694_54ee758e2065row6_col4\" class=\"data row6 col4\" >0</td>\n",
       "                        <td id=\"T_b65a127a_b116_11e9_9694_54ee758e2065row6_col5\" class=\"data row6 col5\" >0.022</td>\n",
       "                        <td id=\"T_b65a127a_b116_11e9_9694_54ee758e2065row6_col6\" class=\"data row6 col6\" >12530</td>\n",
       "            </tr>\n",
       "            <tr>\n",
       "                        <th id=\"T_b65a127a_b116_11e9_9694_54ee758e2065level0_row7\" class=\"row_heading level0 row7\" >loc_campus2</th>\n",
       "                        <td id=\"T_b65a127a_b116_11e9_9694_54ee758e2065row7_col0\" class=\"data row7 col0\" >-0.01</td>\n",
       "                        <td id=\"T_b65a127a_b116_11e9_9694_54ee758e2065row7_col1\" class=\"data row7 col1\" >0.719</td>\n",
       "                        <td id=\"T_b65a127a_b116_11e9_9694_54ee758e2065row7_col2\" class=\"data row7 col2\" >0.027</td>\n",
       "                        <td id=\"T_b65a127a_b116_11e9_9694_54ee758e2065row7_col3\" class=\"data row7 col3\" >0.217</td>\n",
       "                        <td id=\"T_b65a127a_b116_11e9_9694_54ee758e2065row7_col4\" class=\"data row7 col4\" >0</td>\n",
       "                        <td id=\"T_b65a127a_b116_11e9_9694_54ee758e2065row7_col5\" class=\"data row7 col5\" >0.018</td>\n",
       "                        <td id=\"T_b65a127a_b116_11e9_9694_54ee758e2065row7_col6\" class=\"data row7 col6\" >12530</td>\n",
       "            </tr>\n",
       "    </tbody></table>"
      ],
      "text/plain": [
       "<pandas.io.formats.style.Styler at 0x17dd305e128>"
      ]
     },
     "execution_count": 18,
     "metadata": {},
     "output_type": "execute_result"
    }
   ],
   "source": [
    "# Generate table 2 (code imported from auxiliary file)\n",
    "table2 = estimate_RDD_multiple_outcomes(data=sample06, outcomes=table2_variables, regressors=regressors)\n",
    "# Mark significant p-values (at 5% level) red & display table.\n",
    "table2.style.applymap(pvalue_5percent_red, subset=['P-Value (1)', 'P-Value (0)'])"
   ]
  },
  {
   "cell_type": "markdown",
   "metadata": {},
   "source": [
    "<span style=\"color:orange\">_NOTE:</span> My results for 'Male' and 'Age at entry' are switched compared to the table presented in Lindo et al. (2010). Since the results are identical otherwise, I assume this difference stems from an error in the table formatting of the published paper._"
   ]
  },
  {
   "cell_type": "markdown",
   "metadata": {},
   "source": [
    "### First year GPAs and Academic Probation"
   ]
  },
  {
   "cell_type": "markdown",
   "metadata": {},
   "source": [
    "Figure 2 and the Table 3 show the estimated discontinuity in probation status. Figure 2 and the first part of Table 3 show th estimated discontinuity for the probation status after the _first year_. The second part of Table 3 presents the results for the estimated effects of scoring below the cutoff on the probability of _ever_ being placed on academic probation.\n",
    "\n",
    "Figure 2 and part 1 of table 3 verifying that the discontinuity at the cutoff is **sharp**, i.e. all students whose GPA falls below the cutoff are placed on probation. For students below the cutoff the probability of being placed on probation is 1, for students above the cutoff it is 0.\n",
    "\n",
    "It should be noted that the estimated discontinuity at the cutoff is only approximately equal to 1 for all of the different subgroups, as the results in part 1 of table 3 show. The authors attribute this fact to administrative errors in the data reportage. "
   ]
  },
  {
   "cell_type": "markdown",
   "metadata": {},
   "source": [
    "#### Figure 2 - Porbation Status at the End of First Year"
   ]
  },
  {
   "cell_type": "code",
   "execution_count": 19,
   "metadata": {},
   "outputs": [],
   "source": [
    "predictions_fig2 = create_predictions(data=sample12, outcome = 'probation_year1', regressors=regressors, bandwidth=0.6)"
   ]
  },
  {
   "cell_type": "code",
   "execution_count": 20,
   "metadata": {},
   "outputs": [
    {
     "data": {
      "text/plain": [
       "Text(0,0.5,'Probation Status')"
      ]
     },
     "execution_count": 20,
     "metadata": {},
     "output_type": "execute_result"
    },
    {
     "data": {
      "image/png": "[encoded data removed]",
      "text/plain": [
       "<Figure size 432x288 with 1 Axes>"
      ]
     },
     "metadata": {
      "needs_background": "light"
     },
     "output_type": "display_data"
    }
   ],
   "source": [
    "plt.pyplot.xlim(-1.5, 1.5, 0.1)\n",
    "plt.pyplot.plot(sample12['dist_from_cut_med10'], sample12['gpalscutoff'], 'o')\n",
    "plot_RDD_curve(df=predictions_fig2, running_variable=\"dist_from_cut\", outcome=\"prediction\", cutoff=0)\n",
    "plt.pyplot.axvline(x=0, color='r')\n",
    "plt.pyplot.title('Figure 2: Porbation Status at the end of first year')\n",
    "plt.pyplot.xlabel('First year GPA minus probation cutoff')\n",
    "plt.pyplot.ylabel('Probation Status')"
   ]
  },
  {
   "cell_type": "markdown",
   "metadata": {},
   "source": [
    "#### Table 3 - Estimated Discontinuity in Probation Status\n",
    "\n",
    "To estimate the discontinuity in probation status, the authors again use a bandwidth of 0.6 from the cutoff. In addition to the whole sample this condition applies to, they also estimate the discontinuities for certain subgroups in the sample:\n",
    "\n",
    "* **high school grades below** and **above the median** (here, median refers to the median of the entire dataset (median: _50_) and not the median of the subset of students with a GPA within 0.6 grade points of the probation cutoff (the median for this set would be _28_))\n",
    "* **male** and **female** students\n",
    "* **english** native speakers and students with a different native language (**nonenglish**) "
   ]
  },
  {
   "cell_type": "code",
   "execution_count": 21,
   "metadata": {},
   "outputs": [],
   "source": [
    "# Create dictionary containg all the subsets we want to analyse.\n",
    "groups_dict_keys = ['All', 'HS Grades < median', 'HS Grades > median', 'Male', 'Female',\n",
    "                    'Native English', 'Nonnative English']\n",
    "groups_dict_columns = ['const', 'lowHS', 'highHS',\n",
    "                       'male', 'female', 'english', 'noenglish']\n",
    "groups_dict_06 = create_groups_dict(data=sample06,\n",
    "                                    keys=groups_dict_keys,\n",
    "                                    columns=groups_dict_columns\n",
    "                                    )"
   ]
  },
  {
   "cell_type": "markdown",
   "metadata": {},
   "source": [
    "**Table 3 | Part 1 - Estimated Discontinuity in Probation Status for Year 1**\n"
   ]
  },
  {
   "cell_type": "code",
   "execution_count": 22,
   "metadata": {},
   "outputs": [
    {
     "data": {
      "text/html": [
       "<style  type=\"text/css\" >\n",
       "    #T_b732a010_b116_11e9_b4e2_54ee758e2065row0_col1 {\n",
       "            color:  red;\n",
       "        }    #T_b732a010_b116_11e9_b4e2_54ee758e2065row0_col4 {\n",
       "            color:  black;\n",
       "        }    #T_b732a010_b116_11e9_b4e2_54ee758e2065row1_col1 {\n",
       "            color:  red;\n",
       "        }    #T_b732a010_b116_11e9_b4e2_54ee758e2065row1_col4 {\n",
       "            color:  black;\n",
       "        }    #T_b732a010_b116_11e9_b4e2_54ee758e2065row2_col1 {\n",
       "            color:  red;\n",
       "        }    #T_b732a010_b116_11e9_b4e2_54ee758e2065row2_col4 {\n",
       "            color:  black;\n",
       "        }    #T_b732a010_b116_11e9_b4e2_54ee758e2065row3_col1 {\n",
       "            color:  red;\n",
       "        }    #T_b732a010_b116_11e9_b4e2_54ee758e2065row3_col4 {\n",
       "            color:  black;\n",
       "        }    #T_b732a010_b116_11e9_b4e2_54ee758e2065row4_col1 {\n",
       "            color:  red;\n",
       "        }    #T_b732a010_b116_11e9_b4e2_54ee758e2065row4_col4 {\n",
       "            color:  black;\n",
       "        }    #T_b732a010_b116_11e9_b4e2_54ee758e2065row5_col1 {\n",
       "            color:  red;\n",
       "        }    #T_b732a010_b116_11e9_b4e2_54ee758e2065row5_col4 {\n",
       "            color:  black;\n",
       "        }    #T_b732a010_b116_11e9_b4e2_54ee758e2065row6_col1 {\n",
       "            color:  red;\n",
       "        }    #T_b732a010_b116_11e9_b4e2_54ee758e2065row6_col4 {\n",
       "            color:  red;\n",
       "        }</style><table id=\"T_b732a010_b116_11e9_b4e2_54ee758e2065\" ><thead>    <tr>        <th class=\"blank level0\" ></th>        <th class=\"col_heading level0 col0\" >GPA below cutoff (1)</th>        <th class=\"col_heading level0 col1\" >P-Value (1)</th>        <th class=\"col_heading level0 col2\" >Std.err (1)</th>        <th class=\"col_heading level0 col3\" >Intercept (0)</th>        <th class=\"col_heading level0 col4\" >P-Value (0)</th>        <th class=\"col_heading level0 col5\" >Std.err (0)</th>        <th class=\"col_heading level0 col6\" >Observations</th>    </tr>    <tr>        <th class=\"index_name level0\" >groups</th>        <th class=\"blank\" ></th>        <th class=\"blank\" ></th>        <th class=\"blank\" ></th>        <th class=\"blank\" ></th>        <th class=\"blank\" ></th>        <th class=\"blank\" ></th>        <th class=\"blank\" ></th>    </tr></thead><tbody>\n",
       "                <tr>\n",
       "                        <th id=\"T_b732a010_b116_11e9_b4e2_54ee758e2065level0_row0\" class=\"row_heading level0 row0\" >All</th>\n",
       "                        <td id=\"T_b732a010_b116_11e9_b4e2_54ee758e2065row0_col0\" class=\"data row0 col0\" >0.994</td>\n",
       "                        <td id=\"T_b732a010_b116_11e9_b4e2_54ee758e2065row0_col1\" class=\"data row0 col1\" >0</td>\n",
       "                        <td id=\"T_b732a010_b116_11e9_b4e2_54ee758e2065row0_col2\" class=\"data row0 col2\" >0.002</td>\n",
       "                        <td id=\"T_b732a010_b116_11e9_b4e2_54ee758e2065row0_col3\" class=\"data row0 col3\" >0.001</td>\n",
       "                        <td id=\"T_b732a010_b116_11e9_b4e2_54ee758e2065row0_col4\" class=\"data row0 col4\" >0.157</td>\n",
       "                        <td id=\"T_b732a010_b116_11e9_b4e2_54ee758e2065row0_col5\" class=\"data row0 col5\" >0.001</td>\n",
       "                        <td id=\"T_b732a010_b116_11e9_b4e2_54ee758e2065row0_col6\" class=\"data row0 col6\" >12530</td>\n",
       "            </tr>\n",
       "            <tr>\n",
       "                        <th id=\"T_b732a010_b116_11e9_b4e2_54ee758e2065level0_row1\" class=\"row_heading level0 row1\" >HS Grades < median</th>\n",
       "                        <td id=\"T_b732a010_b116_11e9_b4e2_54ee758e2065row1_col0\" class=\"data row1 col0\" >0.995</td>\n",
       "                        <td id=\"T_b732a010_b116_11e9_b4e2_54ee758e2065row1_col1\" class=\"data row1 col1\" >0</td>\n",
       "                        <td id=\"T_b732a010_b116_11e9_b4e2_54ee758e2065row1_col2\" class=\"data row1 col2\" >0.002</td>\n",
       "                        <td id=\"T_b732a010_b116_11e9_b4e2_54ee758e2065row1_col3\" class=\"data row1 col3\" >0.001</td>\n",
       "                        <td id=\"T_b732a010_b116_11e9_b4e2_54ee758e2065row1_col4\" class=\"data row1 col4\" >0.183</td>\n",
       "                        <td id=\"T_b732a010_b116_11e9_b4e2_54ee758e2065row1_col5\" class=\"data row1 col5\" >0.001</td>\n",
       "                        <td id=\"T_b732a010_b116_11e9_b4e2_54ee758e2065row1_col6\" class=\"data row1 col6\" >9473</td>\n",
       "            </tr>\n",
       "            <tr>\n",
       "                        <th id=\"T_b732a010_b116_11e9_b4e2_54ee758e2065level0_row2\" class=\"row_heading level0 row2\" >HS Grades > median</th>\n",
       "                        <td id=\"T_b732a010_b116_11e9_b4e2_54ee758e2065row2_col0\" class=\"data row2 col0\" >0.99</td>\n",
       "                        <td id=\"T_b732a010_b116_11e9_b4e2_54ee758e2065row2_col1\" class=\"data row2 col1\" >0</td>\n",
       "                        <td id=\"T_b732a010_b116_11e9_b4e2_54ee758e2065row2_col2\" class=\"data row2 col2\" >0.006</td>\n",
       "                        <td id=\"T_b732a010_b116_11e9_b4e2_54ee758e2065row2_col3\" class=\"data row2 col3\" >0.001</td>\n",
       "                        <td id=\"T_b732a010_b116_11e9_b4e2_54ee758e2065row2_col4\" class=\"data row2 col4\" >0.317</td>\n",
       "                        <td id=\"T_b732a010_b116_11e9_b4e2_54ee758e2065row2_col5\" class=\"data row2 col5\" >0.001</td>\n",
       "                        <td id=\"T_b732a010_b116_11e9_b4e2_54ee758e2065row2_col6\" class=\"data row2 col6\" >3057</td>\n",
       "            </tr>\n",
       "            <tr>\n",
       "                        <th id=\"T_b732a010_b116_11e9_b4e2_54ee758e2065level0_row3\" class=\"row_heading level0 row3\" >Male</th>\n",
       "                        <td id=\"T_b732a010_b116_11e9_b4e2_54ee758e2065row3_col0\" class=\"data row3 col0\" >0.99</td>\n",
       "                        <td id=\"T_b732a010_b116_11e9_b4e2_54ee758e2065row3_col1\" class=\"data row3 col1\" >0</td>\n",
       "                        <td id=\"T_b732a010_b116_11e9_b4e2_54ee758e2065row3_col2\" class=\"data row3 col2\" >0.005</td>\n",
       "                        <td id=\"T_b732a010_b116_11e9_b4e2_54ee758e2065row3_col3\" class=\"data row3 col3\" >0.001</td>\n",
       "                        <td id=\"T_b732a010_b116_11e9_b4e2_54ee758e2065row3_col4\" class=\"data row3 col4\" >0.319</td>\n",
       "                        <td id=\"T_b732a010_b116_11e9_b4e2_54ee758e2065row3_col5\" class=\"data row3 col5\" >0.001</td>\n",
       "                        <td id=\"T_b732a010_b116_11e9_b4e2_54ee758e2065row3_col6\" class=\"data row3 col6\" >4701</td>\n",
       "            </tr>\n",
       "            <tr>\n",
       "                        <th id=\"T_b732a010_b116_11e9_b4e2_54ee758e2065level0_row4\" class=\"row_heading level0 row4\" >Female</th>\n",
       "                        <td id=\"T_b732a010_b116_11e9_b4e2_54ee758e2065row4_col0\" class=\"data row4 col0\" >0.996</td>\n",
       "                        <td id=\"T_b732a010_b116_11e9_b4e2_54ee758e2065row4_col1\" class=\"data row4 col1\" >0</td>\n",
       "                        <td id=\"T_b732a010_b116_11e9_b4e2_54ee758e2065row4_col2\" class=\"data row4 col2\" >0.002</td>\n",
       "                        <td id=\"T_b732a010_b116_11e9_b4e2_54ee758e2065row4_col3\" class=\"data row4 col3\" >0.001</td>\n",
       "                        <td id=\"T_b732a010_b116_11e9_b4e2_54ee758e2065row4_col4\" class=\"data row4 col4\" >0.179</td>\n",
       "                        <td id=\"T_b732a010_b116_11e9_b4e2_54ee758e2065row4_col5\" class=\"data row4 col5\" >0.001</td>\n",
       "                        <td id=\"T_b732a010_b116_11e9_b4e2_54ee758e2065row4_col6\" class=\"data row4 col6\" >7829</td>\n",
       "            </tr>\n",
       "            <tr>\n",
       "                        <th id=\"T_b732a010_b116_11e9_b4e2_54ee758e2065level0_row5\" class=\"row_heading level0 row5\" >Native English</th>\n",
       "                        <td id=\"T_b732a010_b116_11e9_b4e2_54ee758e2065row5_col0\" class=\"data row5 col0\" >0.993</td>\n",
       "                        <td id=\"T_b732a010_b116_11e9_b4e2_54ee758e2065row5_col1\" class=\"data row5 col1\" >0</td>\n",
       "                        <td id=\"T_b732a010_b116_11e9_b4e2_54ee758e2065row5_col2\" class=\"data row5 col2\" >0.002</td>\n",
       "                        <td id=\"T_b732a010_b116_11e9_b4e2_54ee758e2065row5_col3\" class=\"data row5 col3\" >0.001</td>\n",
       "                        <td id=\"T_b732a010_b116_11e9_b4e2_54ee758e2065row5_col4\" class=\"data row5 col4\" >0.16</td>\n",
       "                        <td id=\"T_b732a010_b116_11e9_b4e2_54ee758e2065row5_col5\" class=\"data row5 col5\" >0.001</td>\n",
       "                        <td id=\"T_b732a010_b116_11e9_b4e2_54ee758e2065row5_col6\" class=\"data row5 col6\" >9006</td>\n",
       "            </tr>\n",
       "            <tr>\n",
       "                        <th id=\"T_b732a010_b116_11e9_b4e2_54ee758e2065level0_row6\" class=\"row_heading level0 row6\" >Nonnative English</th>\n",
       "                        <td id=\"T_b732a010_b116_11e9_b4e2_54ee758e2065row6_col0\" class=\"data row6 col0\" >0.997</td>\n",
       "                        <td id=\"T_b732a010_b116_11e9_b4e2_54ee758e2065row6_col1\" class=\"data row6 col1\" >0</td>\n",
       "                        <td id=\"T_b732a010_b116_11e9_b4e2_54ee758e2065row6_col2\" class=\"data row6 col2\" >0.003</td>\n",
       "                        <td id=\"T_b732a010_b116_11e9_b4e2_54ee758e2065row6_col3\" class=\"data row6 col3\" >0</td>\n",
       "                        <td id=\"T_b732a010_b116_11e9_b4e2_54ee758e2065row6_col4\" class=\"data row6 col4\" >0</td>\n",
       "                        <td id=\"T_b732a010_b116_11e9_b4e2_54ee758e2065row6_col5\" class=\"data row6 col5\" >0</td>\n",
       "                        <td id=\"T_b732a010_b116_11e9_b4e2_54ee758e2065row6_col6\" class=\"data row6 col6\" >3524</td>\n",
       "            </tr>\n",
       "    </tbody></table>"
      ],
      "text/plain": [
       "<pandas.io.formats.style.Styler at 0x17dd3248ac8>"
      ]
     },
     "execution_count": 22,
     "metadata": {},
     "output_type": "execute_result"
    }
   ],
   "source": [
    "# Import function for RDD analysis from auxiliary file.\n",
    "table3_1 = estimate_RDD_multiple_datasets(dictionary=groups_dict_06, \n",
    "                                          keys=groups_dict_keys, \n",
    "                                          outcome='probation_year1', \n",
    "                                          regressors= regressors\n",
    "                                         )\n",
    "table3_1.style.applymap(pvalue_5percent_red, subset=['P-Value (1)', 'P-Value (0)'])"
   ]
  },
  {
   "cell_type": "markdown",
   "metadata": {},
   "source": [
    "**Table 3 | Part 2 - Estimated Discontinuity in Probabtion Status Ever**"
   ]
  },
  {
   "cell_type": "markdown",
   "metadata": {},
   "source": [
    "Part 2 of Table 3 presents the estimated effect of scoring below the cutoff in the first year for _ever_ being placed on probation. The results show that even for those who score slightly above the probation cutoff in year 1, 33 % are placed on probation at some other point in time during their studies. \n",
    "\n",
    "For the different subgroups of students this value varies from 29% (for students with high school grades above the median) up to 36.7% (for the group of males). These results already indicate that we can expect heterogeneities in the way different students react to being placed on academic probation.\n",
    "\n",
    "The fact that it is not unlikely for low performing students just slightly above the cutoff to fall below it in later terms also underlines these student's fitness as a control group for the purpose of the analysis. Lindo et al. (2010) argue that the controls can be thought of as receiving a much weaker form of treatment than the group that is placed on probation, as scoring just above the cutoff in year 1 does not save students from falling below the cutoff and being placed on probation in subsequent terms. "
   ]
  },
  {
   "cell_type": "code",
   "execution_count": 23,
   "metadata": {},
   "outputs": [
    {
     "data": {
      "text/html": [
       "<style  type=\"text/css\" >\n",
       "    #T_b7472b62_b116_11e9_96de_54ee758e2065row0_col1 {\n",
       "            color:  red;\n",
       "        }    #T_b7472b62_b116_11e9_96de_54ee758e2065row0_col4 {\n",
       "            color:  red;\n",
       "        }    #T_b7472b62_b116_11e9_96de_54ee758e2065row1_col1 {\n",
       "            color:  red;\n",
       "        }    #T_b7472b62_b116_11e9_96de_54ee758e2065row1_col4 {\n",
       "            color:  red;\n",
       "        }    #T_b7472b62_b116_11e9_96de_54ee758e2065row2_col1 {\n",
       "            color:  red;\n",
       "        }    #T_b7472b62_b116_11e9_96de_54ee758e2065row2_col4 {\n",
       "            color:  red;\n",
       "        }    #T_b7472b62_b116_11e9_96de_54ee758e2065row3_col1 {\n",
       "            color:  red;\n",
       "        }    #T_b7472b62_b116_11e9_96de_54ee758e2065row3_col4 {\n",
       "            color:  red;\n",
       "        }    #T_b7472b62_b116_11e9_96de_54ee758e2065row4_col1 {\n",
       "            color:  red;\n",
       "        }    #T_b7472b62_b116_11e9_96de_54ee758e2065row4_col4 {\n",
       "            color:  red;\n",
       "        }    #T_b7472b62_b116_11e9_96de_54ee758e2065row5_col1 {\n",
       "            color:  red;\n",
       "        }    #T_b7472b62_b116_11e9_96de_54ee758e2065row5_col4 {\n",
       "            color:  red;\n",
       "        }    #T_b7472b62_b116_11e9_96de_54ee758e2065row6_col1 {\n",
       "            color:  red;\n",
       "        }    #T_b7472b62_b116_11e9_96de_54ee758e2065row6_col4 {\n",
       "            color:  red;\n",
       "        }</style><table id=\"T_b7472b62_b116_11e9_96de_54ee758e2065\" ><thead>    <tr>        <th class=\"blank level0\" ></th>        <th class=\"col_heading level0 col0\" >GPA below cutoff (1)</th>        <th class=\"col_heading level0 col1\" >P-Value (1)</th>        <th class=\"col_heading level0 col2\" >Std.err (1)</th>        <th class=\"col_heading level0 col3\" >Intercept (0)</th>        <th class=\"col_heading level0 col4\" >P-Value (0)</th>        <th class=\"col_heading level0 col5\" >Std.err (0)</th>        <th class=\"col_heading level0 col6\" >Observations</th>    </tr>    <tr>        <th class=\"index_name level0\" >groups</th>        <th class=\"blank\" ></th>        <th class=\"blank\" ></th>        <th class=\"blank\" ></th>        <th class=\"blank\" ></th>        <th class=\"blank\" ></th>        <th class=\"blank\" ></th>        <th class=\"blank\" ></th>    </tr></thead><tbody>\n",
       "                <tr>\n",
       "                        <th id=\"T_b7472b62_b116_11e9_96de_54ee758e2065level0_row0\" class=\"row_heading level0 row0\" >All</th>\n",
       "                        <td id=\"T_b7472b62_b116_11e9_96de_54ee758e2065row0_col0\" class=\"data row0 col0\" >0.665</td>\n",
       "                        <td id=\"T_b7472b62_b116_11e9_96de_54ee758e2065row0_col1\" class=\"data row0 col1\" >0</td>\n",
       "                        <td id=\"T_b7472b62_b116_11e9_96de_54ee758e2065row0_col2\" class=\"data row0 col2\" >0.014</td>\n",
       "                        <td id=\"T_b7472b62_b116_11e9_96de_54ee758e2065row0_col3\" class=\"data row0 col3\" >0.33</td>\n",
       "                        <td id=\"T_b7472b62_b116_11e9_96de_54ee758e2065row0_col4\" class=\"data row0 col4\" >0</td>\n",
       "                        <td id=\"T_b7472b62_b116_11e9_96de_54ee758e2065row0_col5\" class=\"data row0 col5\" >0.014</td>\n",
       "                        <td id=\"T_b7472b62_b116_11e9_96de_54ee758e2065row0_col6\" class=\"data row0 col6\" >12530</td>\n",
       "            </tr>\n",
       "            <tr>\n",
       "                        <th id=\"T_b7472b62_b116_11e9_96de_54ee758e2065level0_row1\" class=\"row_heading level0 row1\" >HS Grades < median</th>\n",
       "                        <td id=\"T_b7472b62_b116_11e9_96de_54ee758e2065row1_col0\" class=\"data row1 col0\" >0.653</td>\n",
       "                        <td id=\"T_b7472b62_b116_11e9_96de_54ee758e2065row1_col1\" class=\"data row1 col1\" >0</td>\n",
       "                        <td id=\"T_b7472b62_b116_11e9_96de_54ee758e2065row1_col2\" class=\"data row1 col2\" >0.014</td>\n",
       "                        <td id=\"T_b7472b62_b116_11e9_96de_54ee758e2065row1_col3\" class=\"data row1 col3\" >0.343</td>\n",
       "                        <td id=\"T_b7472b62_b116_11e9_96de_54ee758e2065row1_col4\" class=\"data row1 col4\" >0</td>\n",
       "                        <td id=\"T_b7472b62_b116_11e9_96de_54ee758e2065row1_col5\" class=\"data row1 col5\" >0.014</td>\n",
       "                        <td id=\"T_b7472b62_b116_11e9_96de_54ee758e2065row1_col6\" class=\"data row1 col6\" >9473</td>\n",
       "            </tr>\n",
       "            <tr>\n",
       "                        <th id=\"T_b7472b62_b116_11e9_96de_54ee758e2065level0_row2\" class=\"row_heading level0 row2\" >HS Grades > median</th>\n",
       "                        <td id=\"T_b7472b62_b116_11e9_96de_54ee758e2065row2_col0\" class=\"data row2 col0\" >0.705</td>\n",
       "                        <td id=\"T_b7472b62_b116_11e9_96de_54ee758e2065row2_col1\" class=\"data row2 col1\" >0</td>\n",
       "                        <td id=\"T_b7472b62_b116_11e9_96de_54ee758e2065row2_col2\" class=\"data row2 col2\" >0.023</td>\n",
       "                        <td id=\"T_b7472b62_b116_11e9_96de_54ee758e2065row2_col3\" class=\"data row2 col3\" >0.286</td>\n",
       "                        <td id=\"T_b7472b62_b116_11e9_96de_54ee758e2065row2_col4\" class=\"data row2 col4\" >0</td>\n",
       "                        <td id=\"T_b7472b62_b116_11e9_96de_54ee758e2065row2_col5\" class=\"data row2 col5\" >0.022</td>\n",
       "                        <td id=\"T_b7472b62_b116_11e9_96de_54ee758e2065row2_col6\" class=\"data row2 col6\" >3057</td>\n",
       "            </tr>\n",
       "            <tr>\n",
       "                        <th id=\"T_b7472b62_b116_11e9_96de_54ee758e2065level0_row3\" class=\"row_heading level0 row3\" >Male</th>\n",
       "                        <td id=\"T_b7472b62_b116_11e9_96de_54ee758e2065row3_col0\" class=\"data row3 col0\" >0.625</td>\n",
       "                        <td id=\"T_b7472b62_b116_11e9_96de_54ee758e2065row3_col1\" class=\"data row3 col1\" >0</td>\n",
       "                        <td id=\"T_b7472b62_b116_11e9_96de_54ee758e2065row3_col2\" class=\"data row3 col2\" >0.016</td>\n",
       "                        <td id=\"T_b7472b62_b116_11e9_96de_54ee758e2065row3_col3\" class=\"data row3 col3\" >0.366</td>\n",
       "                        <td id=\"T_b7472b62_b116_11e9_96de_54ee758e2065row3_col4\" class=\"data row3 col4\" >0</td>\n",
       "                        <td id=\"T_b7472b62_b116_11e9_96de_54ee758e2065row3_col5\" class=\"data row3 col5\" >0.015</td>\n",
       "                        <td id=\"T_b7472b62_b116_11e9_96de_54ee758e2065row3_col6\" class=\"data row3 col6\" >4701</td>\n",
       "            </tr>\n",
       "            <tr>\n",
       "                        <th id=\"T_b7472b62_b116_11e9_96de_54ee758e2065level0_row4\" class=\"row_heading level0 row4\" >Female</th>\n",
       "                        <td id=\"T_b7472b62_b116_11e9_96de_54ee758e2065row4_col0\" class=\"data row4 col0\" >0.69</td>\n",
       "                        <td id=\"T_b7472b62_b116_11e9_96de_54ee758e2065row4_col1\" class=\"data row4 col1\" >0</td>\n",
       "                        <td id=\"T_b7472b62_b116_11e9_96de_54ee758e2065row4_col2\" class=\"data row4 col2\" >0.017</td>\n",
       "                        <td id=\"T_b7472b62_b116_11e9_96de_54ee758e2065row4_col3\" class=\"data row4 col3\" >0.308</td>\n",
       "                        <td id=\"T_b7472b62_b116_11e9_96de_54ee758e2065row4_col4\" class=\"data row4 col4\" >0</td>\n",
       "                        <td id=\"T_b7472b62_b116_11e9_96de_54ee758e2065row4_col5\" class=\"data row4 col5\" >0.017</td>\n",
       "                        <td id=\"T_b7472b62_b116_11e9_96de_54ee758e2065row4_col6\" class=\"data row4 col6\" >7829</td>\n",
       "            </tr>\n",
       "            <tr>\n",
       "                        <th id=\"T_b7472b62_b116_11e9_96de_54ee758e2065level0_row5\" class=\"row_heading level0 row5\" >Native English</th>\n",
       "                        <td id=\"T_b7472b62_b116_11e9_96de_54ee758e2065row5_col0\" class=\"data row5 col0\" >0.677</td>\n",
       "                        <td id=\"T_b7472b62_b116_11e9_96de_54ee758e2065row5_col1\" class=\"data row5 col1\" >0</td>\n",
       "                        <td id=\"T_b7472b62_b116_11e9_96de_54ee758e2065row5_col2\" class=\"data row5 col2\" >0.016</td>\n",
       "                        <td id=\"T_b7472b62_b116_11e9_96de_54ee758e2065row5_col3\" class=\"data row5 col3\" >0.317</td>\n",
       "                        <td id=\"T_b7472b62_b116_11e9_96de_54ee758e2065row5_col4\" class=\"data row5 col4\" >0</td>\n",
       "                        <td id=\"T_b7472b62_b116_11e9_96de_54ee758e2065row5_col5\" class=\"data row5 col5\" >0.016</td>\n",
       "                        <td id=\"T_b7472b62_b116_11e9_96de_54ee758e2065row5_col6\" class=\"data row5 col6\" >9006</td>\n",
       "            </tr>\n",
       "            <tr>\n",
       "                        <th id=\"T_b7472b62_b116_11e9_96de_54ee758e2065level0_row6\" class=\"row_heading level0 row6\" >Nonnative English</th>\n",
       "                        <td id=\"T_b7472b62_b116_11e9_96de_54ee758e2065row6_col0\" class=\"data row6 col0\" >0.635</td>\n",
       "                        <td id=\"T_b7472b62_b116_11e9_96de_54ee758e2065row6_col1\" class=\"data row6 col1\" >0</td>\n",
       "                        <td id=\"T_b7472b62_b116_11e9_96de_54ee758e2065row6_col2\" class=\"data row6 col2\" >0.023</td>\n",
       "                        <td id=\"T_b7472b62_b116_11e9_96de_54ee758e2065row6_col3\" class=\"data row6 col3\" >0.362</td>\n",
       "                        <td id=\"T_b7472b62_b116_11e9_96de_54ee758e2065row6_col4\" class=\"data row6 col4\" >0</td>\n",
       "                        <td id=\"T_b7472b62_b116_11e9_96de_54ee758e2065row6_col5\" class=\"data row6 col5\" >0.022</td>\n",
       "                        <td id=\"T_b7472b62_b116_11e9_96de_54ee758e2065row6_col6\" class=\"data row6 col6\" >3524</td>\n",
       "            </tr>\n",
       "    </tbody></table>"
      ],
      "text/plain": [
       "<pandas.io.formats.style.Styler at 0x17dd326d9b0>"
      ]
     },
     "execution_count": 23,
     "metadata": {},
     "output_type": "execute_result"
    }
   ],
   "source": [
    "# Import function for RDD analysis from auxiliary file.\n",
    "table3_1 = estimate_RDD_multiple_datasets(dictionary=groups_dict_06,\n",
    "                                          keys=groups_dict_keys,\n",
    "                                          outcome='probation_ever',\n",
    "                                          regressors=regressors\n",
    "                                          )\n",
    "table3_1.style.applymap(pvalue_5percent_red, subset=[\n",
    "                        'P-Value (1)', 'P-Value (0)'])"
   ]
  },
  {
   "cell_type": "markdown",
   "metadata": {},
   "source": [
    "### The Immediate Response to Academic Probation "
   ]
  },
  {
   "cell_type": "markdown",
   "metadata": {},
   "source": [
    "Students who have been placed on academic probation enter their next term at university with the threat of suspension in case they fail to improve their grades. Recalling the theoretical framework presented in prior sections, students face the following set of options after each term:\n",
    "\n",
    "1. **Option 1**: Return to school, exhibit low effort and achieving a low GPA,\n",
    "2. **Option 2**: Return to school, exhibit high effort with the intent of achieving a high GPA,\n",
    "3. **Neither** option: Drop out of university.\n",
    "\n",
    "Students on probation face a different set of choices than the students that were not placed on probation as the threat of suspension essentially eliminates option 1. Of course students could enter the next term, exhibit low effort and receive low grades but this would result in suspension. Since both option 1 and option 3 result in the student not continuing school (at least for a certain period of time), students who are not willing to exhibit high effort (and thus will be suspended) are much better off dropping out and saving themselves the cost of exhibiting low effort."
   ]
  },
  {
   "cell_type": "markdown",
   "metadata": {},
   "source": [
    "#### Table 4 - Estimated Effect on the Decision to Leave after the First Evaluation\n",
    "\n",
    "Table 4 shows the estimated effect of dropping below the cutoff on the drop out rates after the first year. The results indicate that being placed on probation increases the probability of leaving university by 1.8 percentage points which is 44 % of the control mean of 0.041."
   ]
  },
  {
   "cell_type": "code",
   "execution_count": 24,
   "metadata": {},
   "outputs": [
    {
     "data": {
      "text/html": [
       "<style  type=\"text/css\" >\n",
       "    #T_b75d1562_b116_11e9_bbf2_54ee758e2065row0_col1 {\n",
       "            color:  red;\n",
       "        }    #T_b75d1562_b116_11e9_bbf2_54ee758e2065row0_col4 {\n",
       "            color:  red;\n",
       "        }    #T_b75d1562_b116_11e9_bbf2_54ee758e2065row1_col1 {\n",
       "            color:  black;\n",
       "        }    #T_b75d1562_b116_11e9_bbf2_54ee758e2065row1_col4 {\n",
       "            color:  red;\n",
       "        }    #T_b75d1562_b116_11e9_bbf2_54ee758e2065row2_col1 {\n",
       "            color:  black;\n",
       "        }    #T_b75d1562_b116_11e9_bbf2_54ee758e2065row2_col4 {\n",
       "            color:  red;\n",
       "        }    #T_b75d1562_b116_11e9_bbf2_54ee758e2065row3_col1 {\n",
       "            color:  red;\n",
       "        }    #T_b75d1562_b116_11e9_bbf2_54ee758e2065row3_col4 {\n",
       "            color:  red;\n",
       "        }    #T_b75d1562_b116_11e9_bbf2_54ee758e2065row4_col1 {\n",
       "            color:  black;\n",
       "        }    #T_b75d1562_b116_11e9_bbf2_54ee758e2065row4_col4 {\n",
       "            color:  red;\n",
       "        }    #T_b75d1562_b116_11e9_bbf2_54ee758e2065row5_col1 {\n",
       "            color:  red;\n",
       "        }    #T_b75d1562_b116_11e9_bbf2_54ee758e2065row5_col4 {\n",
       "            color:  red;\n",
       "        }    #T_b75d1562_b116_11e9_bbf2_54ee758e2065row6_col1 {\n",
       "            color:  black;\n",
       "        }    #T_b75d1562_b116_11e9_bbf2_54ee758e2065row6_col4 {\n",
       "            color:  red;\n",
       "        }</style><table id=\"T_b75d1562_b116_11e9_bbf2_54ee758e2065\" ><thead>    <tr>        <th class=\"blank level0\" ></th>        <th class=\"col_heading level0 col0\" >GPA below cutoff (1)</th>        <th class=\"col_heading level0 col1\" >P-Value (1)</th>        <th class=\"col_heading level0 col2\" >Std.err (1)</th>        <th class=\"col_heading level0 col3\" >Intercept (0)</th>        <th class=\"col_heading level0 col4\" >P-Value (0)</th>        <th class=\"col_heading level0 col5\" >Std.err (0)</th>        <th class=\"col_heading level0 col6\" >Observations</th>    </tr>    <tr>        <th class=\"index_name level0\" >groups</th>        <th class=\"blank\" ></th>        <th class=\"blank\" ></th>        <th class=\"blank\" ></th>        <th class=\"blank\" ></th>        <th class=\"blank\" ></th>        <th class=\"blank\" ></th>        <th class=\"blank\" ></th>    </tr></thead><tbody>\n",
       "                <tr>\n",
       "                        <th id=\"T_b75d1562_b116_11e9_bbf2_54ee758e2065level0_row0\" class=\"row_heading level0 row0\" >All</th>\n",
       "                        <td id=\"T_b75d1562_b116_11e9_bbf2_54ee758e2065row0_col0\" class=\"data row0 col0\" >0.018</td>\n",
       "                        <td id=\"T_b75d1562_b116_11e9_bbf2_54ee758e2065row0_col1\" class=\"data row0 col1\" >0.01</td>\n",
       "                        <td id=\"T_b75d1562_b116_11e9_bbf2_54ee758e2065row0_col2\" class=\"data row0 col2\" >0.007</td>\n",
       "                        <td id=\"T_b75d1562_b116_11e9_bbf2_54ee758e2065row0_col3\" class=\"data row0 col3\" >0.041</td>\n",
       "                        <td id=\"T_b75d1562_b116_11e9_bbf2_54ee758e2065row0_col4\" class=\"data row0 col4\" >0</td>\n",
       "                        <td id=\"T_b75d1562_b116_11e9_bbf2_54ee758e2065row0_col5\" class=\"data row0 col5\" >0.004</td>\n",
       "                        <td id=\"T_b75d1562_b116_11e9_bbf2_54ee758e2065row0_col6\" class=\"data row0 col6\" >12530</td>\n",
       "            </tr>\n",
       "            <tr>\n",
       "                        <th id=\"T_b75d1562_b116_11e9_bbf2_54ee758e2065level0_row1\" class=\"row_heading level0 row1\" >HS Grades < median</th>\n",
       "                        <td id=\"T_b75d1562_b116_11e9_bbf2_54ee758e2065row1_col0\" class=\"data row1 col0\" >0.013</td>\n",
       "                        <td id=\"T_b75d1562_b116_11e9_bbf2_54ee758e2065row1_col1\" class=\"data row1 col1\" >0.107</td>\n",
       "                        <td id=\"T_b75d1562_b116_11e9_bbf2_54ee758e2065row1_col2\" class=\"data row1 col2\" >0.008</td>\n",
       "                        <td id=\"T_b75d1562_b116_11e9_bbf2_54ee758e2065row1_col3\" class=\"data row1 col3\" >0.045</td>\n",
       "                        <td id=\"T_b75d1562_b116_11e9_bbf2_54ee758e2065row1_col4\" class=\"data row1 col4\" >0</td>\n",
       "                        <td id=\"T_b75d1562_b116_11e9_bbf2_54ee758e2065row1_col5\" class=\"data row1 col5\" >0.005</td>\n",
       "                        <td id=\"T_b75d1562_b116_11e9_bbf2_54ee758e2065row1_col6\" class=\"data row1 col6\" >9473</td>\n",
       "            </tr>\n",
       "            <tr>\n",
       "                        <th id=\"T_b75d1562_b116_11e9_bbf2_54ee758e2065level0_row2\" class=\"row_heading level0 row2\" >HS Grades > median</th>\n",
       "                        <td id=\"T_b75d1562_b116_11e9_bbf2_54ee758e2065row2_col0\" class=\"data row2 col0\" >0.032</td>\n",
       "                        <td id=\"T_b75d1562_b116_11e9_bbf2_54ee758e2065row2_col1\" class=\"data row2 col1\" >0.058</td>\n",
       "                        <td id=\"T_b75d1562_b116_11e9_bbf2_54ee758e2065row2_col2\" class=\"data row2 col2\" >0.017</td>\n",
       "                        <td id=\"T_b75d1562_b116_11e9_bbf2_54ee758e2065row2_col3\" class=\"data row2 col3\" >0.026</td>\n",
       "                        <td id=\"T_b75d1562_b116_11e9_bbf2_54ee758e2065row2_col4\" class=\"data row2 col4\" >0</td>\n",
       "                        <td id=\"T_b75d1562_b116_11e9_bbf2_54ee758e2065row2_col5\" class=\"data row2 col5\" >0.007</td>\n",
       "                        <td id=\"T_b75d1562_b116_11e9_bbf2_54ee758e2065row2_col6\" class=\"data row2 col6\" >3057</td>\n",
       "            </tr>\n",
       "            <tr>\n",
       "                        <th id=\"T_b75d1562_b116_11e9_bbf2_54ee758e2065level0_row3\" class=\"row_heading level0 row3\" >Male</th>\n",
       "                        <td id=\"T_b75d1562_b116_11e9_bbf2_54ee758e2065row3_col0\" class=\"data row3 col0\" >0.037</td>\n",
       "                        <td id=\"T_b75d1562_b116_11e9_bbf2_54ee758e2065row3_col1\" class=\"data row3 col1\" >0.014</td>\n",
       "                        <td id=\"T_b75d1562_b116_11e9_bbf2_54ee758e2065row3_col2\" class=\"data row3 col2\" >0.015</td>\n",
       "                        <td id=\"T_b75d1562_b116_11e9_bbf2_54ee758e2065row3_col3\" class=\"data row3 col3\" >0.038</td>\n",
       "                        <td id=\"T_b75d1562_b116_11e9_bbf2_54ee758e2065row3_col4\" class=\"data row3 col4\" >0</td>\n",
       "                        <td id=\"T_b75d1562_b116_11e9_bbf2_54ee758e2065row3_col5\" class=\"data row3 col5\" >0.007</td>\n",
       "                        <td id=\"T_b75d1562_b116_11e9_bbf2_54ee758e2065row3_col6\" class=\"data row3 col6\" >4701</td>\n",
       "            </tr>\n",
       "            <tr>\n",
       "                        <th id=\"T_b75d1562_b116_11e9_bbf2_54ee758e2065level0_row4\" class=\"row_heading level0 row4\" >Female</th>\n",
       "                        <td id=\"T_b75d1562_b116_11e9_bbf2_54ee758e2065row4_col0\" class=\"data row4 col0\" >0.006</td>\n",
       "                        <td id=\"T_b75d1562_b116_11e9_bbf2_54ee758e2065row4_col1\" class=\"data row4 col1\" >0.53</td>\n",
       "                        <td id=\"T_b75d1562_b116_11e9_bbf2_54ee758e2065row4_col2\" class=\"data row4 col2\" >0.009</td>\n",
       "                        <td id=\"T_b75d1562_b116_11e9_bbf2_54ee758e2065row4_col3\" class=\"data row4 col3\" >0.043</td>\n",
       "                        <td id=\"T_b75d1562_b116_11e9_bbf2_54ee758e2065row4_col4\" class=\"data row4 col4\" >0</td>\n",
       "                        <td id=\"T_b75d1562_b116_11e9_bbf2_54ee758e2065row4_col5\" class=\"data row4 col5\" >0.004</td>\n",
       "                        <td id=\"T_b75d1562_b116_11e9_bbf2_54ee758e2065row4_col6\" class=\"data row4 col6\" >7829</td>\n",
       "            </tr>\n",
       "            <tr>\n",
       "                        <th id=\"T_b75d1562_b116_11e9_bbf2_54ee758e2065level0_row5\" class=\"row_heading level0 row5\" >Native English</th>\n",
       "                        <td id=\"T_b75d1562_b116_11e9_bbf2_54ee758e2065row5_col0\" class=\"data row5 col0\" >0.028</td>\n",
       "                        <td id=\"T_b75d1562_b116_11e9_bbf2_54ee758e2065row5_col1\" class=\"data row5 col1\" >0.003</td>\n",
       "                        <td id=\"T_b75d1562_b116_11e9_bbf2_54ee758e2065row5_col2\" class=\"data row5 col2\" >0.01</td>\n",
       "                        <td id=\"T_b75d1562_b116_11e9_bbf2_54ee758e2065row5_col3\" class=\"data row5 col3\" >0.047</td>\n",
       "                        <td id=\"T_b75d1562_b116_11e9_bbf2_54ee758e2065row5_col4\" class=\"data row5 col4\" >0</td>\n",
       "                        <td id=\"T_b75d1562_b116_11e9_bbf2_54ee758e2065row5_col5\" class=\"data row5 col5\" >0.005</td>\n",
       "                        <td id=\"T_b75d1562_b116_11e9_bbf2_54ee758e2065row5_col6\" class=\"data row5 col6\" >9006</td>\n",
       "            </tr>\n",
       "            <tr>\n",
       "                        <th id=\"T_b75d1562_b116_11e9_bbf2_54ee758e2065level0_row6\" class=\"row_heading level0 row6\" >Nonnative English</th>\n",
       "                        <td id=\"T_b75d1562_b116_11e9_bbf2_54ee758e2065row6_col0\" class=\"data row6 col0\" >-0.004</td>\n",
       "                        <td id=\"T_b75d1562_b116_11e9_bbf2_54ee758e2065row6_col1\" class=\"data row6 col1\" >0.713</td>\n",
       "                        <td id=\"T_b75d1562_b116_11e9_bbf2_54ee758e2065row6_col2\" class=\"data row6 col2\" >0.011</td>\n",
       "                        <td id=\"T_b75d1562_b116_11e9_bbf2_54ee758e2065row6_col3\" class=\"data row6 col3\" >0.025</td>\n",
       "                        <td id=\"T_b75d1562_b116_11e9_bbf2_54ee758e2065row6_col4\" class=\"data row6 col4\" >0</td>\n",
       "                        <td id=\"T_b75d1562_b116_11e9_bbf2_54ee758e2065row6_col5\" class=\"data row6 col5\" >0.007</td>\n",
       "                        <td id=\"T_b75d1562_b116_11e9_bbf2_54ee758e2065row6_col6\" class=\"data row6 col6\" >3524</td>\n",
       "            </tr>\n",
       "    </tbody></table>"
      ],
      "text/plain": [
       "<pandas.io.formats.style.Styler at 0x17dd32537f0>"
      ]
     },
     "execution_count": 24,
     "metadata": {},
     "output_type": "execute_result"
    }
   ],
   "source": [
    "# Import function for RDD analysis from auxiliary file.\n",
    "table4 = estimate_RDD_multiple_datasets(dictionary=groups_dict_06,\n",
    "                                        keys=groups_dict_keys,\n",
    "                                        outcome='left_school',\n",
    "                                        regressors=regressors\n",
    "                                        )\n",
    "table4.style.applymap(pvalue_5percent_red, subset=['P-Value (1)', 'P-Value (0)'])"
   ]
  },
  {
   "cell_type": "markdown",
   "metadata": {},
   "source": [
    "#### Figure 3 - Stratified Results for Voluntarily Leaving School at the End of the First year"
   ]
  },
  {
   "cell_type": "code",
   "execution_count": 25,
   "metadata": {},
   "outputs": [],
   "source": [
    "groups_dict_12 = create_groups_dict(data=sample12, keys=groups_dict_keys, columns=groups_dict_columns)"
   ]
  },
  {
   "cell_type": "code",
   "execution_count": 26,
   "metadata": {},
   "outputs": [],
   "source": [
    "predictions_groups_dict = create_fig3_predictions(groups_dict=groups_dict_12, regressors=regressors, bandwidth=0.6)"
   ]
  },
  {
   "cell_type": "code",
   "execution_count": 27,
   "metadata": {},
   "outputs": [
    {
     "data": {
      "text/plain": [
       "Text(0.5,1,'Nonnative English')"
      ]
     },
     "execution_count": 27,
     "metadata": {},
     "output_type": "execute_result"
    },
    {
     "data": {
      "image/png": "[encoded data removed]",
      "text/plain": [
       "<Figure size 700x910 with 6 Axes>"
      ]
     },
     "metadata": {},
     "output_type": "display_data"
    }
   ],
   "source": [
    "figure_3 = plot_figure3(inputs_dict=groups_dict_12, outputs_dict=predictions_groups_dict, keys=groups_dict_keys)\n",
    "figure_3"
   ]
  },
  {
   "cell_type": "markdown",
   "metadata": {},
   "source": [
    "### The Impact on Subsequent Performance"
   ]
  },
  {
   "cell_type": "markdown",
   "metadata": {},
   "source": [
    "#### Table 5 - Estimated Discontinuites in subsequent GPA | Part A - Next Term GPA"
   ]
  },
  {
   "cell_type": "code",
   "execution_count": 28,
   "metadata": {},
   "outputs": [
    {
     "data": {
      "text/html": [
       "<style  type=\"text/css\" >\n",
       "    #T_ba8cecca_b116_11e9_8a9d_54ee758e2065row0_col1 {\n",
       "            color:  red;\n",
       "        }    #T_ba8cecca_b116_11e9_8a9d_54ee758e2065row0_col4 {\n",
       "            color:  red;\n",
       "        }    #T_ba8cecca_b116_11e9_8a9d_54ee758e2065row1_col1 {\n",
       "            color:  red;\n",
       "        }    #T_ba8cecca_b116_11e9_8a9d_54ee758e2065row1_col4 {\n",
       "            color:  red;\n",
       "        }    #T_ba8cecca_b116_11e9_8a9d_54ee758e2065row2_col1 {\n",
       "            color:  red;\n",
       "        }    #T_ba8cecca_b116_11e9_8a9d_54ee758e2065row2_col4 {\n",
       "            color:  red;\n",
       "        }    #T_ba8cecca_b116_11e9_8a9d_54ee758e2065row3_col1 {\n",
       "            color:  red;\n",
       "        }    #T_ba8cecca_b116_11e9_8a9d_54ee758e2065row3_col4 {\n",
       "            color:  red;\n",
       "        }    #T_ba8cecca_b116_11e9_8a9d_54ee758e2065row4_col1 {\n",
       "            color:  red;\n",
       "        }    #T_ba8cecca_b116_11e9_8a9d_54ee758e2065row4_col4 {\n",
       "            color:  red;\n",
       "        }    #T_ba8cecca_b116_11e9_8a9d_54ee758e2065row5_col1 {\n",
       "            color:  red;\n",
       "        }    #T_ba8cecca_b116_11e9_8a9d_54ee758e2065row5_col4 {\n",
       "            color:  red;\n",
       "        }    #T_ba8cecca_b116_11e9_8a9d_54ee758e2065row6_col1 {\n",
       "            color:  red;\n",
       "        }    #T_ba8cecca_b116_11e9_8a9d_54ee758e2065row6_col4 {\n",
       "            color:  red;\n",
       "        }</style><table id=\"T_ba8cecca_b116_11e9_8a9d_54ee758e2065\" ><thead>    <tr>        <th class=\"blank level0\" ></th>        <th class=\"col_heading level0 col0\" >GPA below cutoff (1)</th>        <th class=\"col_heading level0 col1\" >P-Value (1)</th>        <th class=\"col_heading level0 col2\" >Std.err (1)</th>        <th class=\"col_heading level0 col3\" >Intercept (0)</th>        <th class=\"col_heading level0 col4\" >P-Value (0)</th>        <th class=\"col_heading level0 col5\" >Std.err (0)</th>        <th class=\"col_heading level0 col6\" >Observations</th>    </tr>    <tr>        <th class=\"index_name level0\" >groups</th>        <th class=\"blank\" ></th>        <th class=\"blank\" ></th>        <th class=\"blank\" ></th>        <th class=\"blank\" ></th>        <th class=\"blank\" ></th>        <th class=\"blank\" ></th>        <th class=\"blank\" ></th>    </tr></thead><tbody>\n",
       "                <tr>\n",
       "                        <th id=\"T_ba8cecca_b116_11e9_8a9d_54ee758e2065level0_row0\" class=\"row_heading level0 row0\" >All</th>\n",
       "                        <td id=\"T_ba8cecca_b116_11e9_8a9d_54ee758e2065row0_col0\" class=\"data row0 col0\" >0.233</td>\n",
       "                        <td id=\"T_ba8cecca_b116_11e9_8a9d_54ee758e2065row0_col1\" class=\"data row0 col1\" >0</td>\n",
       "                        <td id=\"T_ba8cecca_b116_11e9_8a9d_54ee758e2065row0_col2\" class=\"data row0 col2\" >0.026</td>\n",
       "                        <td id=\"T_ba8cecca_b116_11e9_8a9d_54ee758e2065row0_col3\" class=\"data row0 col3\" >0.312</td>\n",
       "                        <td id=\"T_ba8cecca_b116_11e9_8a9d_54ee758e2065row0_col4\" class=\"data row0 col4\" >0</td>\n",
       "                        <td id=\"T_ba8cecca_b116_11e9_8a9d_54ee758e2065row0_col5\" class=\"data row0 col5\" >0.018</td>\n",
       "                        <td id=\"T_ba8cecca_b116_11e9_8a9d_54ee758e2065row0_col6\" class=\"data row0 col6\" >11258</td>\n",
       "            </tr>\n",
       "            <tr>\n",
       "                        <th id=\"T_ba8cecca_b116_11e9_8a9d_54ee758e2065level0_row1\" class=\"row_heading level0 row1\" >HS Grades < median</th>\n",
       "                        <td id=\"T_ba8cecca_b116_11e9_8a9d_54ee758e2065row1_col0\" class=\"data row1 col0\" >0.247</td>\n",
       "                        <td id=\"T_ba8cecca_b116_11e9_8a9d_54ee758e2065row1_col1\" class=\"data row1 col1\" >0</td>\n",
       "                        <td id=\"T_ba8cecca_b116_11e9_8a9d_54ee758e2065row1_col2\" class=\"data row1 col2\" >0.029</td>\n",
       "                        <td id=\"T_ba8cecca_b116_11e9_8a9d_54ee758e2065row1_col3\" class=\"data row1 col3\" >0.275</td>\n",
       "                        <td id=\"T_ba8cecca_b116_11e9_8a9d_54ee758e2065row1_col4\" class=\"data row1 col4\" >0</td>\n",
       "                        <td id=\"T_ba8cecca_b116_11e9_8a9d_54ee758e2065row1_col5\" class=\"data row1 col5\" >0.02</td>\n",
       "                        <td id=\"T_ba8cecca_b116_11e9_8a9d_54ee758e2065row1_col6\" class=\"data row1 col6\" >8457</td>\n",
       "            </tr>\n",
       "            <tr>\n",
       "                        <th id=\"T_ba8cecca_b116_11e9_8a9d_54ee758e2065level0_row2\" class=\"row_heading level0 row2\" >HS Grades > median</th>\n",
       "                        <td id=\"T_ba8cecca_b116_11e9_8a9d_54ee758e2065row2_col0\" class=\"data row2 col0\" >0.179</td>\n",
       "                        <td id=\"T_ba8cecca_b116_11e9_8a9d_54ee758e2065row2_col1\" class=\"data row2 col1\" >0.028</td>\n",
       "                        <td id=\"T_ba8cecca_b116_11e9_8a9d_54ee758e2065row2_col2\" class=\"data row2 col2\" >0.081</td>\n",
       "                        <td id=\"T_ba8cecca_b116_11e9_8a9d_54ee758e2065row2_col3\" class=\"data row2 col3\" >0.443</td>\n",
       "                        <td id=\"T_ba8cecca_b116_11e9_8a9d_54ee758e2065row2_col4\" class=\"data row2 col4\" >0</td>\n",
       "                        <td id=\"T_ba8cecca_b116_11e9_8a9d_54ee758e2065row2_col5\" class=\"data row2 col5\" >0.044</td>\n",
       "                        <td id=\"T_ba8cecca_b116_11e9_8a9d_54ee758e2065row2_col6\" class=\"data row2 col6\" >2801</td>\n",
       "            </tr>\n",
       "            <tr>\n",
       "                        <th id=\"T_ba8cecca_b116_11e9_8a9d_54ee758e2065level0_row3\" class=\"row_heading level0 row3\" >Male</th>\n",
       "                        <td id=\"T_ba8cecca_b116_11e9_8a9d_54ee758e2065row3_col0\" class=\"data row3 col0\" >0.207</td>\n",
       "                        <td id=\"T_ba8cecca_b116_11e9_8a9d_54ee758e2065row3_col1\" class=\"data row3 col1\" >0</td>\n",
       "                        <td id=\"T_ba8cecca_b116_11e9_8a9d_54ee758e2065row3_col2\" class=\"data row3 col2\" >0.044</td>\n",
       "                        <td id=\"T_ba8cecca_b116_11e9_8a9d_54ee758e2065row3_col3\" class=\"data row3 col3\" >0.281</td>\n",
       "                        <td id=\"T_ba8cecca_b116_11e9_8a9d_54ee758e2065row3_col4\" class=\"data row3 col4\" >0</td>\n",
       "                        <td id=\"T_ba8cecca_b116_11e9_8a9d_54ee758e2065row3_col5\" class=\"data row3 col5\" >0.027</td>\n",
       "                        <td id=\"T_ba8cecca_b116_11e9_8a9d_54ee758e2065row3_col6\" class=\"data row3 col6\" >4166</td>\n",
       "            </tr>\n",
       "            <tr>\n",
       "                        <th id=\"T_ba8cecca_b116_11e9_8a9d_54ee758e2065level0_row4\" class=\"row_heading level0 row4\" >Female</th>\n",
       "                        <td id=\"T_ba8cecca_b116_11e9_8a9d_54ee758e2065row4_col0\" class=\"data row4 col0\" >0.246</td>\n",
       "                        <td id=\"T_ba8cecca_b116_11e9_8a9d_54ee758e2065row4_col1\" class=\"data row4 col1\" >0</td>\n",
       "                        <td id=\"T_ba8cecca_b116_11e9_8a9d_54ee758e2065row4_col2\" class=\"data row4 col2\" >0.036</td>\n",
       "                        <td id=\"T_ba8cecca_b116_11e9_8a9d_54ee758e2065row4_col3\" class=\"data row4 col3\" >0.33</td>\n",
       "                        <td id=\"T_ba8cecca_b116_11e9_8a9d_54ee758e2065row4_col4\" class=\"data row4 col4\" >0</td>\n",
       "                        <td id=\"T_ba8cecca_b116_11e9_8a9d_54ee758e2065row4_col5\" class=\"data row4 col5\" >0.024</td>\n",
       "                        <td id=\"T_ba8cecca_b116_11e9_8a9d_54ee758e2065row4_col6\" class=\"data row4 col6\" >7092</td>\n",
       "            </tr>\n",
       "            <tr>\n",
       "                        <th id=\"T_ba8cecca_b116_11e9_8a9d_54ee758e2065level0_row5\" class=\"row_heading level0 row5\" >Native English</th>\n",
       "                        <td id=\"T_ba8cecca_b116_11e9_8a9d_54ee758e2065row5_col0\" class=\"data row5 col0\" >0.229</td>\n",
       "                        <td id=\"T_ba8cecca_b116_11e9_8a9d_54ee758e2065row5_col1\" class=\"data row5 col1\" >0</td>\n",
       "                        <td id=\"T_ba8cecca_b116_11e9_8a9d_54ee758e2065row5_col2\" class=\"data row5 col2\" >0.036</td>\n",
       "                        <td id=\"T_ba8cecca_b116_11e9_8a9d_54ee758e2065row5_col3\" class=\"data row5 col3\" >0.309</td>\n",
       "                        <td id=\"T_ba8cecca_b116_11e9_8a9d_54ee758e2065row5_col4\" class=\"data row5 col4\" >0</td>\n",
       "                        <td id=\"T_ba8cecca_b116_11e9_8a9d_54ee758e2065row5_col5\" class=\"data row5 col5\" >0.02</td>\n",
       "                        <td id=\"T_ba8cecca_b116_11e9_8a9d_54ee758e2065row5_col6\" class=\"data row5 col6\" >8012</td>\n",
       "            </tr>\n",
       "            <tr>\n",
       "                        <th id=\"T_ba8cecca_b116_11e9_8a9d_54ee758e2065level0_row6\" class=\"row_heading level0 row6\" >Nonnative English</th>\n",
       "                        <td id=\"T_ba8cecca_b116_11e9_8a9d_54ee758e2065row6_col0\" class=\"data row6 col0\" >0.24</td>\n",
       "                        <td id=\"T_ba8cecca_b116_11e9_8a9d_54ee758e2065row6_col1\" class=\"data row6 col1\" >0</td>\n",
       "                        <td id=\"T_ba8cecca_b116_11e9_8a9d_54ee758e2065row6_col2\" class=\"data row6 col2\" >0.055</td>\n",
       "                        <td id=\"T_ba8cecca_b116_11e9_8a9d_54ee758e2065row6_col3\" class=\"data row6 col3\" >0.318</td>\n",
       "                        <td id=\"T_ba8cecca_b116_11e9_8a9d_54ee758e2065row6_col4\" class=\"data row6 col4\" >0</td>\n",
       "                        <td id=\"T_ba8cecca_b116_11e9_8a9d_54ee758e2065row6_col5\" class=\"data row6 col5\" >0.035</td>\n",
       "                        <td id=\"T_ba8cecca_b116_11e9_8a9d_54ee758e2065row6_col6\" class=\"data row6 col6\" >3246</td>\n",
       "            </tr>\n",
       "    </tbody></table>"
      ],
      "text/plain": [
       "<pandas.io.formats.style.Styler at 0x17dd473ac50>"
      ]
     },
     "execution_count": 28,
     "metadata": {},
     "output_type": "execute_result"
    }
   ],
   "source": [
    "table5 = estimate_RDD_multiple_datasets(dictionary=groups_dict_06, \n",
    "                                        keys=groups_dict_keys, \n",
    "                                        outcome='nextGPA', \n",
    "                                        regressors=regressors\n",
    "                                       )\n",
    "table5.style.applymap(pvalue_5percent_red, subset=['P-Value (1)', 'P-Value (0)'])"
   ]
  },
  {
   "cell_type": "markdown",
   "metadata": {},
   "source": [
    "#### Table 5 - Estimated Discontinuites in subsequent GPA | Part B - Probability of improving GPA in next term"
   ]
  },
  {
   "cell_type": "markdown",
   "metadata": {},
   "source": [
    "Panel B of table 5 shows the probability of scoring above the cutoff in the next term. The next term can refer to the next academic year but also summer classes that only some students enroll for."
   ]
  },
  {
   "cell_type": "code",
   "execution_count": 29,
   "metadata": {},
   "outputs": [
    {
     "data": {
      "text/html": [
       "<style  type=\"text/css\" >\n",
       "    #T_baae40a4_b116_11e9_9ee3_54ee758e2065row0_col1 {\n",
       "            color:  red;\n",
       "        }    #T_baae40a4_b116_11e9_9ee3_54ee758e2065row0_col4 {\n",
       "            color:  red;\n",
       "        }    #T_baae40a4_b116_11e9_9ee3_54ee758e2065row1_col1 {\n",
       "            color:  red;\n",
       "        }    #T_baae40a4_b116_11e9_9ee3_54ee758e2065row1_col4 {\n",
       "            color:  red;\n",
       "        }    #T_baae40a4_b116_11e9_9ee3_54ee758e2065row2_col1 {\n",
       "            color:  black;\n",
       "        }    #T_baae40a4_b116_11e9_9ee3_54ee758e2065row2_col4 {\n",
       "            color:  red;\n",
       "        }    #T_baae40a4_b116_11e9_9ee3_54ee758e2065row3_col1 {\n",
       "            color:  red;\n",
       "        }    #T_baae40a4_b116_11e9_9ee3_54ee758e2065row3_col4 {\n",
       "            color:  red;\n",
       "        }    #T_baae40a4_b116_11e9_9ee3_54ee758e2065row4_col1 {\n",
       "            color:  red;\n",
       "        }    #T_baae40a4_b116_11e9_9ee3_54ee758e2065row4_col4 {\n",
       "            color:  red;\n",
       "        }    #T_baae40a4_b116_11e9_9ee3_54ee758e2065row5_col1 {\n",
       "            color:  red;\n",
       "        }    #T_baae40a4_b116_11e9_9ee3_54ee758e2065row5_col4 {\n",
       "            color:  red;\n",
       "        }    #T_baae40a4_b116_11e9_9ee3_54ee758e2065row6_col1 {\n",
       "            color:  red;\n",
       "        }    #T_baae40a4_b116_11e9_9ee3_54ee758e2065row6_col4 {\n",
       "            color:  red;\n",
       "        }</style><table id=\"T_baae40a4_b116_11e9_9ee3_54ee758e2065\" ><thead>    <tr>        <th class=\"blank level0\" ></th>        <th class=\"col_heading level0 col0\" >GPA below cutoff (1)</th>        <th class=\"col_heading level0 col1\" >P-Value (1)</th>        <th class=\"col_heading level0 col2\" >Std.err (1)</th>        <th class=\"col_heading level0 col3\" >Intercept (0)</th>        <th class=\"col_heading level0 col4\" >P-Value (0)</th>        <th class=\"col_heading level0 col5\" >Std.err (0)</th>        <th class=\"col_heading level0 col6\" >Observations</th>    </tr>    <tr>        <th class=\"index_name level0\" >groups</th>        <th class=\"blank\" ></th>        <th class=\"blank\" ></th>        <th class=\"blank\" ></th>        <th class=\"blank\" ></th>        <th class=\"blank\" ></th>        <th class=\"blank\" ></th>        <th class=\"blank\" ></th>    </tr></thead><tbody>\n",
       "                <tr>\n",
       "                        <th id=\"T_baae40a4_b116_11e9_9ee3_54ee758e2065level0_row0\" class=\"row_heading level0 row0\" >All</th>\n",
       "                        <td id=\"T_baae40a4_b116_11e9_9ee3_54ee758e2065row0_col0\" class=\"data row0 col0\" >0.099</td>\n",
       "                        <td id=\"T_baae40a4_b116_11e9_9ee3_54ee758e2065row0_col1\" class=\"data row0 col1\" >0</td>\n",
       "                        <td id=\"T_baae40a4_b116_11e9_9ee3_54ee758e2065row0_col2\" class=\"data row0 col2\" >0.014</td>\n",
       "                        <td id=\"T_baae40a4_b116_11e9_9ee3_54ee758e2065row0_col3\" class=\"data row0 col3\" >0.693</td>\n",
       "                        <td id=\"T_baae40a4_b116_11e9_9ee3_54ee758e2065row0_col4\" class=\"data row0 col4\" >0</td>\n",
       "                        <td id=\"T_baae40a4_b116_11e9_9ee3_54ee758e2065row0_col5\" class=\"data row0 col5\" >0.009</td>\n",
       "                        <td id=\"T_baae40a4_b116_11e9_9ee3_54ee758e2065row0_col6\" class=\"data row0 col6\" >11258</td>\n",
       "            </tr>\n",
       "            <tr>\n",
       "                        <th id=\"T_baae40a4_b116_11e9_9ee3_54ee758e2065level0_row1\" class=\"row_heading level0 row1\" >HS Grades < median</th>\n",
       "                        <td id=\"T_baae40a4_b116_11e9_9ee3_54ee758e2065row1_col0\" class=\"data row1 col0\" >0.109</td>\n",
       "                        <td id=\"T_baae40a4_b116_11e9_9ee3_54ee758e2065row1_col1\" class=\"data row1 col1\" >0</td>\n",
       "                        <td id=\"T_baae40a4_b116_11e9_9ee3_54ee758e2065row1_col2\" class=\"data row1 col2\" >0.017</td>\n",
       "                        <td id=\"T_baae40a4_b116_11e9_9ee3_54ee758e2065row1_col3\" class=\"data row1 col3\" >0.68</td>\n",
       "                        <td id=\"T_baae40a4_b116_11e9_9ee3_54ee758e2065row1_col4\" class=\"data row1 col4\" >0</td>\n",
       "                        <td id=\"T_baae40a4_b116_11e9_9ee3_54ee758e2065row1_col5\" class=\"data row1 col5\" >0.011</td>\n",
       "                        <td id=\"T_baae40a4_b116_11e9_9ee3_54ee758e2065row1_col6\" class=\"data row1 col6\" >8457</td>\n",
       "            </tr>\n",
       "            <tr>\n",
       "                        <th id=\"T_baae40a4_b116_11e9_9ee3_54ee758e2065level0_row2\" class=\"row_heading level0 row2\" >HS Grades > median</th>\n",
       "                        <td id=\"T_baae40a4_b116_11e9_9ee3_54ee758e2065row2_col0\" class=\"data row2 col0\" >0.061</td>\n",
       "                        <td id=\"T_baae40a4_b116_11e9_9ee3_54ee758e2065row2_col1\" class=\"data row2 col1\" >0.073</td>\n",
       "                        <td id=\"T_baae40a4_b116_11e9_9ee3_54ee758e2065row2_col2\" class=\"data row2 col2\" >0.034</td>\n",
       "                        <td id=\"T_baae40a4_b116_11e9_9ee3_54ee758e2065row2_col3\" class=\"data row2 col3\" >0.737</td>\n",
       "                        <td id=\"T_baae40a4_b116_11e9_9ee3_54ee758e2065row2_col4\" class=\"data row2 col4\" >0</td>\n",
       "                        <td id=\"T_baae40a4_b116_11e9_9ee3_54ee758e2065row2_col5\" class=\"data row2 col5\" >0.02</td>\n",
       "                        <td id=\"T_baae40a4_b116_11e9_9ee3_54ee758e2065row2_col6\" class=\"data row2 col6\" >2801</td>\n",
       "            </tr>\n",
       "            <tr>\n",
       "                        <th id=\"T_baae40a4_b116_11e9_9ee3_54ee758e2065level0_row3\" class=\"row_heading level0 row3\" >Male</th>\n",
       "                        <td id=\"T_baae40a4_b116_11e9_9ee3_54ee758e2065row3_col0\" class=\"data row3 col0\" >0.075</td>\n",
       "                        <td id=\"T_baae40a4_b116_11e9_9ee3_54ee758e2065row3_col1\" class=\"data row3 col1\" >0.001</td>\n",
       "                        <td id=\"T_baae40a4_b116_11e9_9ee3_54ee758e2065row3_col2\" class=\"data row3 col2\" >0.022</td>\n",
       "                        <td id=\"T_baae40a4_b116_11e9_9ee3_54ee758e2065row3_col3\" class=\"data row3 col3\" >0.68</td>\n",
       "                        <td id=\"T_baae40a4_b116_11e9_9ee3_54ee758e2065row3_col4\" class=\"data row3 col4\" >0</td>\n",
       "                        <td id=\"T_baae40a4_b116_11e9_9ee3_54ee758e2065row3_col5\" class=\"data row3 col5\" >0.013</td>\n",
       "                        <td id=\"T_baae40a4_b116_11e9_9ee3_54ee758e2065row3_col6\" class=\"data row3 col6\" >4166</td>\n",
       "            </tr>\n",
       "            <tr>\n",
       "                        <th id=\"T_baae40a4_b116_11e9_9ee3_54ee758e2065level0_row4\" class=\"row_heading level0 row4\" >Female</th>\n",
       "                        <td id=\"T_baae40a4_b116_11e9_9ee3_54ee758e2065row4_col0\" class=\"data row4 col0\" >0.111</td>\n",
       "                        <td id=\"T_baae40a4_b116_11e9_9ee3_54ee758e2065row4_col1\" class=\"data row4 col1\" >0</td>\n",
       "                        <td id=\"T_baae40a4_b116_11e9_9ee3_54ee758e2065row4_col2\" class=\"data row4 col2\" >0.022</td>\n",
       "                        <td id=\"T_baae40a4_b116_11e9_9ee3_54ee758e2065row4_col3\" class=\"data row4 col3\" >0.7</td>\n",
       "                        <td id=\"T_baae40a4_b116_11e9_9ee3_54ee758e2065row4_col4\" class=\"data row4 col4\" >0</td>\n",
       "                        <td id=\"T_baae40a4_b116_11e9_9ee3_54ee758e2065row4_col5\" class=\"data row4 col5\" >0.014</td>\n",
       "                        <td id=\"T_baae40a4_b116_11e9_9ee3_54ee758e2065row4_col6\" class=\"data row4 col6\" >7092</td>\n",
       "            </tr>\n",
       "            <tr>\n",
       "                        <th id=\"T_baae40a4_b116_11e9_9ee3_54ee758e2065level0_row5\" class=\"row_heading level0 row5\" >Native English</th>\n",
       "                        <td id=\"T_baae40a4_b116_11e9_9ee3_54ee758e2065row5_col0\" class=\"data row5 col0\" >0.112</td>\n",
       "                        <td id=\"T_baae40a4_b116_11e9_9ee3_54ee758e2065row5_col1\" class=\"data row5 col1\" >0</td>\n",
       "                        <td id=\"T_baae40a4_b116_11e9_9ee3_54ee758e2065row5_col2\" class=\"data row5 col2\" >0.02</td>\n",
       "                        <td id=\"T_baae40a4_b116_11e9_9ee3_54ee758e2065row5_col3\" class=\"data row5 col3\" >0.691</td>\n",
       "                        <td id=\"T_baae40a4_b116_11e9_9ee3_54ee758e2065row5_col4\" class=\"data row5 col4\" >0</td>\n",
       "                        <td id=\"T_baae40a4_b116_11e9_9ee3_54ee758e2065row5_col5\" class=\"data row5 col5\" >0.011</td>\n",
       "                        <td id=\"T_baae40a4_b116_11e9_9ee3_54ee758e2065row5_col6\" class=\"data row5 col6\" >8012</td>\n",
       "            </tr>\n",
       "            <tr>\n",
       "                        <th id=\"T_baae40a4_b116_11e9_9ee3_54ee758e2065level0_row6\" class=\"row_heading level0 row6\" >Nonnative English</th>\n",
       "                        <td id=\"T_baae40a4_b116_11e9_9ee3_54ee758e2065row6_col0\" class=\"data row6 col0\" >0.07</td>\n",
       "                        <td id=\"T_baae40a4_b116_11e9_9ee3_54ee758e2065row6_col1\" class=\"data row6 col1\" >0.004</td>\n",
       "                        <td id=\"T_baae40a4_b116_11e9_9ee3_54ee758e2065row6_col2\" class=\"data row6 col2\" >0.024</td>\n",
       "                        <td id=\"T_baae40a4_b116_11e9_9ee3_54ee758e2065row6_col3\" class=\"data row6 col3\" >0.697</td>\n",
       "                        <td id=\"T_baae40a4_b116_11e9_9ee3_54ee758e2065row6_col4\" class=\"data row6 col4\" >0</td>\n",
       "                        <td id=\"T_baae40a4_b116_11e9_9ee3_54ee758e2065row6_col5\" class=\"data row6 col5\" >0.019</td>\n",
       "                        <td id=\"T_baae40a4_b116_11e9_9ee3_54ee758e2065row6_col6\" class=\"data row6 col6\" >3246</td>\n",
       "            </tr>\n",
       "    </tbody></table>"
      ],
      "text/plain": [
       "<pandas.io.formats.style.Styler at 0x17dd326d320>"
      ]
     },
     "execution_count": 29,
     "metadata": {},
     "output_type": "execute_result"
    }
   ],
   "source": [
    "table5 = estimate_RDD_multiple_datasets(dictionary=groups_dict_06,\n",
    "                                        keys=groups_dict_keys,\n",
    "                                        outcome='nextGPA_above_cutoff',\n",
    "                                        regressors=regressors\n",
    "                                        )\n",
    "table5.style.applymap(pvalue_5percent_red, subset=['P-Value (1)', 'P-Value (0)'])"
   ]
  },
  {
   "cell_type": "markdown",
   "metadata": {},
   "source": [
    "#### Figure 4 - GPA in the next enrolled term"
   ]
  },
  {
   "cell_type": "code",
   "execution_count": 30,
   "metadata": {},
   "outputs": [],
   "source": [
    "predictions_fig4 = create_predictions(data=sample12, outcome='nextGPA', regressors=regressors, bandwidth=0.6)"
   ]
  },
  {
   "cell_type": "code",
   "execution_count": 31,
   "metadata": {},
   "outputs": [
    {
     "data": {
      "text/plain": [
       "Text(0.5,1,'Figure 4 - GPA in the next enrolled term')"
      ]
     },
     "execution_count": 31,
     "metadata": {},
     "output_type": "execute_result"
    },
    {
     "data": {
      "image/png": "[encoded data removed]",
      "text/plain": [
       "<Figure size 576x360 with 1 Axes>"
      ]
     },
     "metadata": {
      "needs_background": "light"
     },
     "output_type": "display_data"
    }
   ],
   "source": [
    "plt.pyplot.figure(figsize=(8, 5))\n",
    "plt.pyplot.xlim(-1.5, 1.5, 0.1)\n",
    "plt.pyplot.ylim(-1, 1.5, 0.1)\n",
    "plt.pyplot.axvline(x=0, color='r')\n",
    "plt.pyplot.xlabel('First year GPA minus probation cutoff')\n",
    "plt.pyplot.ylabel('Subsequent GPA minus Cutoff')\n",
    "plt.pyplot.plot(sample12.nextGPA.groupby(sample12['dist_from_cut_med10']).mean(), 'o')\n",
    "plot_RDD_curve(df=predictions_fig4, running_variable=\"dist_from_cut\",outcome=\"prediction\", cutoff=0)\n",
    "plt.pyplot.title(\"Figure 4 - GPA in the next enrolled term\")"
   ]
  },
  {
   "cell_type": "markdown",
   "metadata": {},
   "source": [
    "### The Impacts on Graduation"
   ]
  },
  {
   "cell_type": "markdown",
   "metadata": {},
   "source": [
    "#### Figure 5 - Graduation Rates"
   ]
  },
  {
   "cell_type": "code",
   "execution_count": 32,
   "metadata": {},
   "outputs": [],
   "source": [
    "predictions_fig5_gradin4 = create_predictions(data=sample12, outcome = 'gradin4', regressors=regressors, bandwidth=0.6)\n",
    "predictions_fig5_gradin5 = create_predictions(data=sample12, outcome = 'gradin5', regressors=regressors, bandwidth=0.6)\n",
    "predictions_fig5_gradin6 = create_predictions(data=sample12, outcome = 'gradin6', regressors=regressors, bandwidth=0.6)"
   ]
  },
  {
   "cell_type": "code",
   "execution_count": 33,
   "metadata": {},
   "outputs": [
    {
     "data": {
      "text/plain": [
       "Text(0.5,1,'Figure 5 - Graduation Rates')"
      ]
     },
     "execution_count": 33,
     "metadata": {},
     "output_type": "execute_result"
    },
    {
     "data": {
      "image/png": "[encoded data removed]",
      "text/plain": [
       "<Figure size 576x360 with 1 Axes>"
      ]
     },
     "metadata": {
      "needs_background": "light"
     },
     "output_type": "display_data"
    }
   ],
   "source": [
    "plt.pyplot.figure(figsize=(8, 5))\n",
    "plt.pyplot.xlim(-1.5, 1.5, 0.1)\n",
    "plt.pyplot.ylim(0, 1, 0.1)\n",
    "plt.pyplot.axvline(x=0, color='r')\n",
    "plt.pyplot.xlabel('First year GPA minus probation cutoff')\n",
    "plt.pyplot.ylabel('Has Graduated')\n",
    "\n",
    "plt.pyplot.plot(sample12.gradin4.groupby(sample12['dist_from_cut_med10']).mean(), 'o', color='k', label='Within 4 years')\n",
    "plot_RDD_curve_colored(df=predictions_fig5_gradin4, \n",
    "                       running_variable=\"dist_from_cut\", \n",
    "                       outcome=\"prediction\", \n",
    "                       cutoff=0, \n",
    "                       color='k'\n",
    "                      )\n",
    "\n",
    "plt.pyplot.plot(sample12.gradin5.groupby(sample12['dist_from_cut_med10']).mean(), \n",
    "                'x', \n",
    "                color='C0', l\n",
    "                abel='Within 5 years'\n",
    "               )\n",
    "plot_RDD_curve_colored(df=predictions_fig5_gradin5,\n",
    "                       running_variable=\"dist_from_cut\", \n",
    "                       outcome=\"prediction\", \n",
    "                       cutoff=0, \n",
    "                       color='C0'\n",
    "                      )\n",
    "\n",
    "plt.pyplot.plot(sample12.gradin6.groupby(sample12['dist_from_cut_med10']).mean(), \n",
    "                '^', \n",
    "                color='g', \n",
    "                label='Within 6 years'\n",
    "               )\n",
    "plot_RDD_curve_colored(df=predictions_fig5_gradin6,\n",
    "                       running_variable=\"dist_from_cut\", \n",
    "                       outcome=\"prediction\", \n",
    "                       cutoff=0, \n",
    "                       color='g'\n",
    "                      )\n",
    "\n",
    "plt.pyplot.legend()\n",
    "plt.pyplot.title(\"Figure 5 - Graduation Rates\")"
   ]
  },
  {
   "cell_type": "markdown",
   "metadata": {},
   "source": [
    "#### Table 6 - Estimated Effects on Graduation"
   ]
  },
  {
   "cell_type": "code",
   "execution_count": 34,
   "metadata": {},
   "outputs": [
    {
     "data": {
      "text/html": [
       "<style  type=\"text/css\" >\n",
       "    #T_bc63c5b0_b116_11e9_b8c1_54ee758e2065row0_col1 {\n",
       "            color:  black;\n",
       "        }    #T_bc63c5b0_b116_11e9_b8c1_54ee758e2065row0_col4 {\n",
       "            color:  red;\n",
       "        }    #T_bc63c5b0_b116_11e9_b8c1_54ee758e2065row1_col1 {\n",
       "            color:  black;\n",
       "        }    #T_bc63c5b0_b116_11e9_b8c1_54ee758e2065row1_col4 {\n",
       "            color:  red;\n",
       "        }    #T_bc63c5b0_b116_11e9_b8c1_54ee758e2065row2_col1 {\n",
       "            color:  black;\n",
       "        }    #T_bc63c5b0_b116_11e9_b8c1_54ee758e2065row2_col4 {\n",
       "            color:  red;\n",
       "        }    #T_bc63c5b0_b116_11e9_b8c1_54ee758e2065row3_col1 {\n",
       "            color:  black;\n",
       "        }    #T_bc63c5b0_b116_11e9_b8c1_54ee758e2065row3_col4 {\n",
       "            color:  red;\n",
       "        }    #T_bc63c5b0_b116_11e9_b8c1_54ee758e2065row4_col1 {\n",
       "            color:  black;\n",
       "        }    #T_bc63c5b0_b116_11e9_b8c1_54ee758e2065row4_col4 {\n",
       "            color:  red;\n",
       "        }    #T_bc63c5b0_b116_11e9_b8c1_54ee758e2065row5_col1 {\n",
       "            color:  red;\n",
       "        }    #T_bc63c5b0_b116_11e9_b8c1_54ee758e2065row5_col4 {\n",
       "            color:  red;\n",
       "        }    #T_bc63c5b0_b116_11e9_b8c1_54ee758e2065row6_col1 {\n",
       "            color:  black;\n",
       "        }    #T_bc63c5b0_b116_11e9_b8c1_54ee758e2065row6_col4 {\n",
       "            color:  red;\n",
       "        }</style><table id=\"T_bc63c5b0_b116_11e9_b8c1_54ee758e2065\" ><thead>    <tr>        <th class=\"blank level0\" ></th>        <th class=\"col_heading level0 col0\" >GPA below cutoff (1)</th>        <th class=\"col_heading level0 col1\" >P-Value (1)</th>        <th class=\"col_heading level0 col2\" >Std.err (1)</th>        <th class=\"col_heading level0 col3\" >Intercept (0)</th>        <th class=\"col_heading level0 col4\" >P-Value (0)</th>        <th class=\"col_heading level0 col5\" >Std.err (0)</th>        <th class=\"col_heading level0 col6\" >Observations</th>    </tr>    <tr>        <th class=\"index_name level0\" >groups</th>        <th class=\"blank\" ></th>        <th class=\"blank\" ></th>        <th class=\"blank\" ></th>        <th class=\"blank\" ></th>        <th class=\"blank\" ></th>        <th class=\"blank\" ></th>        <th class=\"blank\" ></th>    </tr></thead><tbody>\n",
       "                <tr>\n",
       "                        <th id=\"T_bc63c5b0_b116_11e9_b8c1_54ee758e2065level0_row0\" class=\"row_heading level0 row0\" >All</th>\n",
       "                        <td id=\"T_bc63c5b0_b116_11e9_b8c1_54ee758e2065row0_col0\" class=\"data row0 col0\" >-0.02</td>\n",
       "                        <td id=\"T_bc63c5b0_b116_11e9_b8c1_54ee758e2065row0_col1\" class=\"data row0 col1\" >0.249</td>\n",
       "                        <td id=\"T_bc63c5b0_b116_11e9_b8c1_54ee758e2065row0_col2\" class=\"data row0 col2\" >0.017</td>\n",
       "                        <td id=\"T_bc63c5b0_b116_11e9_b8c1_54ee758e2065row0_col3\" class=\"data row0 col3\" >0.272</td>\n",
       "                        <td id=\"T_bc63c5b0_b116_11e9_b8c1_54ee758e2065row0_col4\" class=\"data row0 col4\" >0</td>\n",
       "                        <td id=\"T_bc63c5b0_b116_11e9_b8c1_54ee758e2065row0_col5\" class=\"data row0 col5\" >0.011</td>\n",
       "                        <td id=\"T_bc63c5b0_b116_11e9_b8c1_54ee758e2065row0_col6\" class=\"data row0 col6\" >8821</td>\n",
       "            </tr>\n",
       "            <tr>\n",
       "                        <th id=\"T_bc63c5b0_b116_11e9_b8c1_54ee758e2065level0_row1\" class=\"row_heading level0 row1\" >HS Grades < median</th>\n",
       "                        <td id=\"T_bc63c5b0_b116_11e9_b8c1_54ee758e2065row1_col0\" class=\"data row1 col0\" >-0.019</td>\n",
       "                        <td id=\"T_bc63c5b0_b116_11e9_b8c1_54ee758e2065row1_col1\" class=\"data row1 col1\" >0.331</td>\n",
       "                        <td id=\"T_bc63c5b0_b116_11e9_b8c1_54ee758e2065row1_col2\" class=\"data row1 col2\" >0.019</td>\n",
       "                        <td id=\"T_bc63c5b0_b116_11e9_b8c1_54ee758e2065row1_col3\" class=\"data row1 col3\" >0.265</td>\n",
       "                        <td id=\"T_bc63c5b0_b116_11e9_b8c1_54ee758e2065row1_col4\" class=\"data row1 col4\" >0</td>\n",
       "                        <td id=\"T_bc63c5b0_b116_11e9_b8c1_54ee758e2065row1_col5\" class=\"data row1 col5\" >0.015</td>\n",
       "                        <td id=\"T_bc63c5b0_b116_11e9_b8c1_54ee758e2065row1_col6\" class=\"data row1 col6\" >6826</td>\n",
       "            </tr>\n",
       "            <tr>\n",
       "                        <th id=\"T_bc63c5b0_b116_11e9_b8c1_54ee758e2065level0_row2\" class=\"row_heading level0 row2\" >HS Grades > median</th>\n",
       "                        <td id=\"T_bc63c5b0_b116_11e9_b8c1_54ee758e2065row2_col0\" class=\"data row2 col0\" >-0.02</td>\n",
       "                        <td id=\"T_bc63c5b0_b116_11e9_b8c1_54ee758e2065row2_col1\" class=\"data row2 col1\" >0.672</td>\n",
       "                        <td id=\"T_bc63c5b0_b116_11e9_b8c1_54ee758e2065row2_col2\" class=\"data row2 col2\" >0.048</td>\n",
       "                        <td id=\"T_bc63c5b0_b116_11e9_b8c1_54ee758e2065row2_col3\" class=\"data row2 col3\" >0.296</td>\n",
       "                        <td id=\"T_bc63c5b0_b116_11e9_b8c1_54ee758e2065row2_col4\" class=\"data row2 col4\" >0</td>\n",
       "                        <td id=\"T_bc63c5b0_b116_11e9_b8c1_54ee758e2065row2_col5\" class=\"data row2 col5\" >0.034</td>\n",
       "                        <td id=\"T_bc63c5b0_b116_11e9_b8c1_54ee758e2065row2_col6\" class=\"data row2 col6\" >1995</td>\n",
       "            </tr>\n",
       "            <tr>\n",
       "                        <th id=\"T_bc63c5b0_b116_11e9_b8c1_54ee758e2065level0_row3\" class=\"row_heading level0 row3\" >Male</th>\n",
       "                        <td id=\"T_bc63c5b0_b116_11e9_b8c1_54ee758e2065row3_col0\" class=\"data row3 col0\" >-0.045</td>\n",
       "                        <td id=\"T_bc63c5b0_b116_11e9_b8c1_54ee758e2065row3_col1\" class=\"data row3 col1\" >0.113</td>\n",
       "                        <td id=\"T_bc63c5b0_b116_11e9_b8c1_54ee758e2065row3_col2\" class=\"data row3 col2\" >0.028</td>\n",
       "                        <td id=\"T_bc63c5b0_b116_11e9_b8c1_54ee758e2065row3_col3\" class=\"data row3 col3\" >0.214</td>\n",
       "                        <td id=\"T_bc63c5b0_b116_11e9_b8c1_54ee758e2065row3_col4\" class=\"data row3 col4\" >0</td>\n",
       "                        <td id=\"T_bc63c5b0_b116_11e9_b8c1_54ee758e2065row3_col5\" class=\"data row3 col5\" >0.02</td>\n",
       "                        <td id=\"T_bc63c5b0_b116_11e9_b8c1_54ee758e2065row3_col6\" class=\"data row3 col6\" >3373</td>\n",
       "            </tr>\n",
       "            <tr>\n",
       "                        <th id=\"T_bc63c5b0_b116_11e9_b8c1_54ee758e2065level0_row4\" class=\"row_heading level0 row4\" >Female</th>\n",
       "                        <td id=\"T_bc63c5b0_b116_11e9_b8c1_54ee758e2065row4_col0\" class=\"data row4 col0\" >-0.004</td>\n",
       "                        <td id=\"T_bc63c5b0_b116_11e9_b8c1_54ee758e2065row4_col1\" class=\"data row4 col1\" >0.891</td>\n",
       "                        <td id=\"T_bc63c5b0_b116_11e9_b8c1_54ee758e2065row4_col2\" class=\"data row4 col2\" >0.027</td>\n",
       "                        <td id=\"T_bc63c5b0_b116_11e9_b8c1_54ee758e2065row4_col3\" class=\"data row4 col3\" >0.307</td>\n",
       "                        <td id=\"T_bc63c5b0_b116_11e9_b8c1_54ee758e2065row4_col4\" class=\"data row4 col4\" >0</td>\n",
       "                        <td id=\"T_bc63c5b0_b116_11e9_b8c1_54ee758e2065row4_col5\" class=\"data row4 col5\" >0.012</td>\n",
       "                        <td id=\"T_bc63c5b0_b116_11e9_b8c1_54ee758e2065row4_col6\" class=\"data row4 col6\" >5448</td>\n",
       "            </tr>\n",
       "            <tr>\n",
       "                        <th id=\"T_bc63c5b0_b116_11e9_b8c1_54ee758e2065level0_row5\" class=\"row_heading level0 row5\" >Native English</th>\n",
       "                        <td id=\"T_bc63c5b0_b116_11e9_b8c1_54ee758e2065row5_col0\" class=\"data row5 col0\" >-0.047</td>\n",
       "                        <td id=\"T_bc63c5b0_b116_11e9_b8c1_54ee758e2065row5_col1\" class=\"data row5 col1\" >0.018</td>\n",
       "                        <td id=\"T_bc63c5b0_b116_11e9_b8c1_54ee758e2065row5_col2\" class=\"data row5 col2\" >0.02</td>\n",
       "                        <td id=\"T_bc63c5b0_b116_11e9_b8c1_54ee758e2065row5_col3\" class=\"data row5 col3\" >0.277</td>\n",
       "                        <td id=\"T_bc63c5b0_b116_11e9_b8c1_54ee758e2065row5_col4\" class=\"data row5 col4\" >0</td>\n",
       "                        <td id=\"T_bc63c5b0_b116_11e9_b8c1_54ee758e2065row5_col5\" class=\"data row5 col5\" >0.012</td>\n",
       "                        <td id=\"T_bc63c5b0_b116_11e9_b8c1_54ee758e2065row5_col6\" class=\"data row5 col6\" >6406</td>\n",
       "            </tr>\n",
       "            <tr>\n",
       "                        <th id=\"T_bc63c5b0_b116_11e9_b8c1_54ee758e2065level0_row6\" class=\"row_heading level0 row6\" >Nonnative English</th>\n",
       "                        <td id=\"T_bc63c5b0_b116_11e9_b8c1_54ee758e2065row6_col0\" class=\"data row6 col0\" >0.048</td>\n",
       "                        <td id=\"T_bc63c5b0_b116_11e9_b8c1_54ee758e2065row6_col1\" class=\"data row6 col1\" >0.161</td>\n",
       "                        <td id=\"T_bc63c5b0_b116_11e9_b8c1_54ee758e2065row6_col2\" class=\"data row6 col2\" >0.034</td>\n",
       "                        <td id=\"T_bc63c5b0_b116_11e9_b8c1_54ee758e2065row6_col3\" class=\"data row6 col3\" >0.258</td>\n",
       "                        <td id=\"T_bc63c5b0_b116_11e9_b8c1_54ee758e2065row6_col4\" class=\"data row6 col4\" >0</td>\n",
       "                        <td id=\"T_bc63c5b0_b116_11e9_b8c1_54ee758e2065row6_col5\" class=\"data row6 col5\" >0.023</td>\n",
       "                        <td id=\"T_bc63c5b0_b116_11e9_b8c1_54ee758e2065row6_col6\" class=\"data row6 col6\" >2415</td>\n",
       "            </tr>\n",
       "    </tbody></table>"
      ],
      "text/plain": [
       "<pandas.io.formats.style.Styler at 0x17dd4c2d630>"
      ]
     },
     "execution_count": 34,
     "metadata": {},
     "output_type": "execute_result"
    }
   ],
   "source": [
    "table6_1 = estimate_RDD_multiple_datasets(dictionary=groups_dict_06, \n",
    "                                          keys=groups_dict_keys, \n",
    "                                          outcome='gradin4', \n",
    "                                          regressors= regressors\n",
    "                                         )\n",
    "table6_1.style.applymap(pvalue_5percent_red, subset=['P-Value (1)', 'P-Value (0)'])"
   ]
  },
  {
   "cell_type": "code",
   "execution_count": 35,
   "metadata": {},
   "outputs": [
    {
     "data": {
      "text/html": [
       "<style  type=\"text/css\" >\n",
       "    #T_bc767d92_b116_11e9_9281_54ee758e2065row0_col1 {\n",
       "            color:  black;\n",
       "        }    #T_bc767d92_b116_11e9_9281_54ee758e2065row0_col4 {\n",
       "            color:  red;\n",
       "        }    #T_bc767d92_b116_11e9_9281_54ee758e2065row1_col1 {\n",
       "            color:  black;\n",
       "        }    #T_bc767d92_b116_11e9_9281_54ee758e2065row1_col4 {\n",
       "            color:  red;\n",
       "        }    #T_bc767d92_b116_11e9_9281_54ee758e2065row2_col1 {\n",
       "            color:  red;\n",
       "        }    #T_bc767d92_b116_11e9_9281_54ee758e2065row2_col4 {\n",
       "            color:  red;\n",
       "        }    #T_bc767d92_b116_11e9_9281_54ee758e2065row3_col1 {\n",
       "            color:  black;\n",
       "        }    #T_bc767d92_b116_11e9_9281_54ee758e2065row3_col4 {\n",
       "            color:  red;\n",
       "        }    #T_bc767d92_b116_11e9_9281_54ee758e2065row4_col1 {\n",
       "            color:  black;\n",
       "        }    #T_bc767d92_b116_11e9_9281_54ee758e2065row4_col4 {\n",
       "            color:  red;\n",
       "        }    #T_bc767d92_b116_11e9_9281_54ee758e2065row5_col1 {\n",
       "            color:  red;\n",
       "        }    #T_bc767d92_b116_11e9_9281_54ee758e2065row5_col4 {\n",
       "            color:  red;\n",
       "        }    #T_bc767d92_b116_11e9_9281_54ee758e2065row6_col1 {\n",
       "            color:  black;\n",
       "        }    #T_bc767d92_b116_11e9_9281_54ee758e2065row6_col4 {\n",
       "            color:  red;\n",
       "        }</style><table id=\"T_bc767d92_b116_11e9_9281_54ee758e2065\" ><thead>    <tr>        <th class=\"blank level0\" ></th>        <th class=\"col_heading level0 col0\" >GPA below cutoff (1)</th>        <th class=\"col_heading level0 col1\" >P-Value (1)</th>        <th class=\"col_heading level0 col2\" >Std.err (1)</th>        <th class=\"col_heading level0 col3\" >Intercept (0)</th>        <th class=\"col_heading level0 col4\" >P-Value (0)</th>        <th class=\"col_heading level0 col5\" >Std.err (0)</th>        <th class=\"col_heading level0 col6\" >Observations</th>    </tr>    <tr>        <th class=\"index_name level0\" >groups</th>        <th class=\"blank\" ></th>        <th class=\"blank\" ></th>        <th class=\"blank\" ></th>        <th class=\"blank\" ></th>        <th class=\"blank\" ></th>        <th class=\"blank\" ></th>        <th class=\"blank\" ></th>    </tr></thead><tbody>\n",
       "                <tr>\n",
       "                        <th id=\"T_bc767d92_b116_11e9_9281_54ee758e2065level0_row0\" class=\"row_heading level0 row0\" >All</th>\n",
       "                        <td id=\"T_bc767d92_b116_11e9_9281_54ee758e2065row0_col0\" class=\"data row0 col0\" >-0.044</td>\n",
       "                        <td id=\"T_bc767d92_b116_11e9_9281_54ee758e2065row0_col1\" class=\"data row0 col1\" >0.095</td>\n",
       "                        <td id=\"T_bc767d92_b116_11e9_9281_54ee758e2065row0_col2\" class=\"data row0 col2\" >0.026</td>\n",
       "                        <td id=\"T_bc767d92_b116_11e9_9281_54ee758e2065row0_col3\" class=\"data row0 col3\" >0.566</td>\n",
       "                        <td id=\"T_bc767d92_b116_11e9_9281_54ee758e2065row0_col4\" class=\"data row0 col4\" >0</td>\n",
       "                        <td id=\"T_bc767d92_b116_11e9_9281_54ee758e2065row0_col5\" class=\"data row0 col5\" >0.018</td>\n",
       "                        <td id=\"T_bc767d92_b116_11e9_9281_54ee758e2065row0_col6\" class=\"data row0 col6\" >7293</td>\n",
       "            </tr>\n",
       "            <tr>\n",
       "                        <th id=\"T_bc767d92_b116_11e9_9281_54ee758e2065level0_row1\" class=\"row_heading level0 row1\" >HS Grades < median</th>\n",
       "                        <td id=\"T_bc767d92_b116_11e9_9281_54ee758e2065row1_col0\" class=\"data row1 col0\" >-0.025</td>\n",
       "                        <td id=\"T_bc767d92_b116_11e9_9281_54ee758e2065row1_col1\" class=\"data row1 col1\" >0.415</td>\n",
       "                        <td id=\"T_bc767d92_b116_11e9_9281_54ee758e2065row1_col2\" class=\"data row1 col2\" >0.03</td>\n",
       "                        <td id=\"T_bc767d92_b116_11e9_9281_54ee758e2065row1_col3\" class=\"data row1 col3\" >0.55</td>\n",
       "                        <td id=\"T_bc767d92_b116_11e9_9281_54ee758e2065row1_col4\" class=\"data row1 col4\" >0</td>\n",
       "                        <td id=\"T_bc767d92_b116_11e9_9281_54ee758e2065row1_col5\" class=\"data row1 col5\" >0.023</td>\n",
       "                        <td id=\"T_bc767d92_b116_11e9_9281_54ee758e2065row1_col6\" class=\"data row1 col6\" >5610</td>\n",
       "            </tr>\n",
       "            <tr>\n",
       "                        <th id=\"T_bc767d92_b116_11e9_9281_54ee758e2065level0_row2\" class=\"row_heading level0 row2\" >HS Grades > median</th>\n",
       "                        <td id=\"T_bc767d92_b116_11e9_9281_54ee758e2065row2_col0\" class=\"data row2 col0\" >-0.113</td>\n",
       "                        <td id=\"T_bc767d92_b116_11e9_9281_54ee758e2065row2_col1\" class=\"data row2 col1\" >0.02</td>\n",
       "                        <td id=\"T_bc767d92_b116_11e9_9281_54ee758e2065row2_col2\" class=\"data row2 col2\" >0.049</td>\n",
       "                        <td id=\"T_bc767d92_b116_11e9_9281_54ee758e2065row2_col3\" class=\"data row2 col3\" >0.62</td>\n",
       "                        <td id=\"T_bc767d92_b116_11e9_9281_54ee758e2065row2_col4\" class=\"data row2 col4\" >0</td>\n",
       "                        <td id=\"T_bc767d92_b116_11e9_9281_54ee758e2065row2_col5\" class=\"data row2 col5\" >0.028</td>\n",
       "                        <td id=\"T_bc767d92_b116_11e9_9281_54ee758e2065row2_col6\" class=\"data row2 col6\" >1683</td>\n",
       "            </tr>\n",
       "            <tr>\n",
       "                        <th id=\"T_bc767d92_b116_11e9_9281_54ee758e2065level0_row3\" class=\"row_heading level0 row3\" >Male</th>\n",
       "                        <td id=\"T_bc767d92_b116_11e9_9281_54ee758e2065row3_col0\" class=\"data row3 col0\" >-0.055</td>\n",
       "                        <td id=\"T_bc767d92_b116_11e9_9281_54ee758e2065row3_col1\" class=\"data row3 col1\" >0.175</td>\n",
       "                        <td id=\"T_bc767d92_b116_11e9_9281_54ee758e2065row3_col2\" class=\"data row3 col2\" >0.04</td>\n",
       "                        <td id=\"T_bc767d92_b116_11e9_9281_54ee758e2065row3_col3\" class=\"data row3 col3\" >0.503</td>\n",
       "                        <td id=\"T_bc767d92_b116_11e9_9281_54ee758e2065row3_col4\" class=\"data row3 col4\" >0</td>\n",
       "                        <td id=\"T_bc767d92_b116_11e9_9281_54ee758e2065row3_col5\" class=\"data row3 col5\" >0.03</td>\n",
       "                        <td id=\"T_bc767d92_b116_11e9_9281_54ee758e2065row3_col6\" class=\"data row3 col6\" >2799</td>\n",
       "            </tr>\n",
       "            <tr>\n",
       "                        <th id=\"T_bc767d92_b116_11e9_9281_54ee758e2065level0_row4\" class=\"row_heading level0 row4\" >Female</th>\n",
       "                        <td id=\"T_bc767d92_b116_11e9_9281_54ee758e2065row4_col0\" class=\"data row4 col0\" >-0.039</td>\n",
       "                        <td id=\"T_bc767d92_b116_11e9_9281_54ee758e2065row4_col1\" class=\"data row4 col1\" >0.181</td>\n",
       "                        <td id=\"T_bc767d92_b116_11e9_9281_54ee758e2065row4_col2\" class=\"data row4 col2\" >0.03</td>\n",
       "                        <td id=\"T_bc767d92_b116_11e9_9281_54ee758e2065row4_col3\" class=\"data row4 col3\" >0.606</td>\n",
       "                        <td id=\"T_bc767d92_b116_11e9_9281_54ee758e2065row4_col4\" class=\"data row4 col4\" >0</td>\n",
       "                        <td id=\"T_bc767d92_b116_11e9_9281_54ee758e2065row4_col5\" class=\"data row4 col5\" >0.018</td>\n",
       "                        <td id=\"T_bc767d92_b116_11e9_9281_54ee758e2065row4_col6\" class=\"data row4 col6\" >4494</td>\n",
       "            </tr>\n",
       "            <tr>\n",
       "                        <th id=\"T_bc767d92_b116_11e9_9281_54ee758e2065level0_row5\" class=\"row_heading level0 row5\" >Native English</th>\n",
       "                        <td id=\"T_bc767d92_b116_11e9_9281_54ee758e2065row5_col0\" class=\"data row5 col0\" >-0.065</td>\n",
       "                        <td id=\"T_bc767d92_b116_11e9_9281_54ee758e2065row5_col1\" class=\"data row5 col1\" >0.02</td>\n",
       "                        <td id=\"T_bc767d92_b116_11e9_9281_54ee758e2065row5_col2\" class=\"data row5 col2\" >0.028</td>\n",
       "                        <td id=\"T_bc767d92_b116_11e9_9281_54ee758e2065row5_col3\" class=\"data row5 col3\" >0.552</td>\n",
       "                        <td id=\"T_bc767d92_b116_11e9_9281_54ee758e2065row5_col4\" class=\"data row5 col4\" >0</td>\n",
       "                        <td id=\"T_bc767d92_b116_11e9_9281_54ee758e2065row5_col5\" class=\"data row5 col5\" >0.018</td>\n",
       "                        <td id=\"T_bc767d92_b116_11e9_9281_54ee758e2065row5_col6\" class=\"data row5 col6\" >5320</td>\n",
       "            </tr>\n",
       "            <tr>\n",
       "                        <th id=\"T_bc767d92_b116_11e9_9281_54ee758e2065level0_row6\" class=\"row_heading level0 row6\" >Nonnative English</th>\n",
       "                        <td id=\"T_bc767d92_b116_11e9_9281_54ee758e2065row6_col0\" class=\"data row6 col0\" >0.004</td>\n",
       "                        <td id=\"T_bc767d92_b116_11e9_9281_54ee758e2065row6_col1\" class=\"data row6 col1\" >0.933</td>\n",
       "                        <td id=\"T_bc767d92_b116_11e9_9281_54ee758e2065row6_col2\" class=\"data row6 col2\" >0.042</td>\n",
       "                        <td id=\"T_bc767d92_b116_11e9_9281_54ee758e2065row6_col3\" class=\"data row6 col3\" >0.603</td>\n",
       "                        <td id=\"T_bc767d92_b116_11e9_9281_54ee758e2065row6_col4\" class=\"data row6 col4\" >0</td>\n",
       "                        <td id=\"T_bc767d92_b116_11e9_9281_54ee758e2065row6_col5\" class=\"data row6 col5\" >0.029</td>\n",
       "                        <td id=\"T_bc767d92_b116_11e9_9281_54ee758e2065row6_col6\" class=\"data row6 col6\" >1973</td>\n",
       "            </tr>\n",
       "    </tbody></table>"
      ],
      "text/plain": [
       "<pandas.io.formats.style.Styler at 0x17dd4b9fc50>"
      ]
     },
     "execution_count": 35,
     "metadata": {},
     "output_type": "execute_result"
    }
   ],
   "source": [
    "table6_2 = estimate_RDD_multiple_datasets(dictionary=groups_dict_06,\n",
    "                                          keys=groups_dict_keys,\n",
    "                                          outcome='gradin5',\n",
    "                                          regressors=regressors\n",
    "                                          )\n",
    "table6_2.style.applymap(pvalue_5percent_red, subset=['P-Value (1)', 'P-Value (0)'])"
   ]
  },
  {
   "cell_type": "code",
   "execution_count": 36,
   "metadata": {},
   "outputs": [
    {
     "data": {
      "text/html": [
       "<style  type=\"text/css\" >\n",
       "    #T_bc884bbe_b116_11e9_b6b5_54ee758e2065row0_col1 {\n",
       "            color:  black;\n",
       "        }    #T_bc884bbe_b116_11e9_b6b5_54ee758e2065row0_col4 {\n",
       "            color:  red;\n",
       "        }    #T_bc884bbe_b116_11e9_b6b5_54ee758e2065row1_col1 {\n",
       "            color:  black;\n",
       "        }    #T_bc884bbe_b116_11e9_b6b5_54ee758e2065row1_col4 {\n",
       "            color:  red;\n",
       "        }    #T_bc884bbe_b116_11e9_b6b5_54ee758e2065row2_col1 {\n",
       "            color:  red;\n",
       "        }    #T_bc884bbe_b116_11e9_b6b5_54ee758e2065row2_col4 {\n",
       "            color:  red;\n",
       "        }    #T_bc884bbe_b116_11e9_b6b5_54ee758e2065row3_col1 {\n",
       "            color:  black;\n",
       "        }    #T_bc884bbe_b116_11e9_b6b5_54ee758e2065row3_col4 {\n",
       "            color:  red;\n",
       "        }    #T_bc884bbe_b116_11e9_b6b5_54ee758e2065row4_col1 {\n",
       "            color:  black;\n",
       "        }    #T_bc884bbe_b116_11e9_b6b5_54ee758e2065row4_col4 {\n",
       "            color:  red;\n",
       "        }    #T_bc884bbe_b116_11e9_b6b5_54ee758e2065row5_col1 {\n",
       "            color:  black;\n",
       "        }    #T_bc884bbe_b116_11e9_b6b5_54ee758e2065row5_col4 {\n",
       "            color:  red;\n",
       "        }    #T_bc884bbe_b116_11e9_b6b5_54ee758e2065row6_col1 {\n",
       "            color:  black;\n",
       "        }    #T_bc884bbe_b116_11e9_b6b5_54ee758e2065row6_col4 {\n",
       "            color:  red;\n",
       "        }</style><table id=\"T_bc884bbe_b116_11e9_b6b5_54ee758e2065\" ><thead>    <tr>        <th class=\"blank level0\" ></th>        <th class=\"col_heading level0 col0\" >GPA below cutoff (1)</th>        <th class=\"col_heading level0 col1\" >P-Value (1)</th>        <th class=\"col_heading level0 col2\" >Std.err (1)</th>        <th class=\"col_heading level0 col3\" >Intercept (0)</th>        <th class=\"col_heading level0 col4\" >P-Value (0)</th>        <th class=\"col_heading level0 col5\" >Std.err (0)</th>        <th class=\"col_heading level0 col6\" >Observations</th>    </tr>    <tr>        <th class=\"index_name level0\" >groups</th>        <th class=\"blank\" ></th>        <th class=\"blank\" ></th>        <th class=\"blank\" ></th>        <th class=\"blank\" ></th>        <th class=\"blank\" ></th>        <th class=\"blank\" ></th>        <th class=\"blank\" ></th>    </tr></thead><tbody>\n",
       "                <tr>\n",
       "                        <th id=\"T_bc884bbe_b116_11e9_b6b5_54ee758e2065level0_row0\" class=\"row_heading level0 row0\" >All</th>\n",
       "                        <td id=\"T_bc884bbe_b116_11e9_b6b5_54ee758e2065row0_col0\" class=\"data row0 col0\" >-0.024</td>\n",
       "                        <td id=\"T_bc884bbe_b116_11e9_b6b5_54ee758e2065row0_col1\" class=\"data row0 col1\" >0.316</td>\n",
       "                        <td id=\"T_bc884bbe_b116_11e9_b6b5_54ee758e2065row0_col2\" class=\"data row0 col2\" >0.024</td>\n",
       "                        <td id=\"T_bc884bbe_b116_11e9_b6b5_54ee758e2065row0_col3\" class=\"data row0 col3\" >0.674</td>\n",
       "                        <td id=\"T_bc884bbe_b116_11e9_b6b5_54ee758e2065row0_col4\" class=\"data row0 col4\" >0</td>\n",
       "                        <td id=\"T_bc884bbe_b116_11e9_b6b5_54ee758e2065row0_col5\" class=\"data row0 col5\" >0.018</td>\n",
       "                        <td id=\"T_bc884bbe_b116_11e9_b6b5_54ee758e2065row0_col6\" class=\"data row0 col6\" >6005</td>\n",
       "            </tr>\n",
       "            <tr>\n",
       "                        <th id=\"T_bc884bbe_b116_11e9_b6b5_54ee758e2065level0_row1\" class=\"row_heading level0 row1\" >HS Grades < median</th>\n",
       "                        <td id=\"T_bc884bbe_b116_11e9_b6b5_54ee758e2065row1_col0\" class=\"data row1 col0\" >0.007</td>\n",
       "                        <td id=\"T_bc884bbe_b116_11e9_b6b5_54ee758e2065row1_col1\" class=\"data row1 col1\" >0.813</td>\n",
       "                        <td id=\"T_bc884bbe_b116_11e9_b6b5_54ee758e2065row1_col2\" class=\"data row1 col2\" >0.028</td>\n",
       "                        <td id=\"T_bc884bbe_b116_11e9_b6b5_54ee758e2065row1_col3\" class=\"data row1 col3\" >0.652</td>\n",
       "                        <td id=\"T_bc884bbe_b116_11e9_b6b5_54ee758e2065row1_col4\" class=\"data row1 col4\" >0</td>\n",
       "                        <td id=\"T_bc884bbe_b116_11e9_b6b5_54ee758e2065row1_col5\" class=\"data row1 col5\" >0.022</td>\n",
       "                        <td id=\"T_bc884bbe_b116_11e9_b6b5_54ee758e2065row1_col6\" class=\"data row1 col6\" >4649</td>\n",
       "            </tr>\n",
       "            <tr>\n",
       "                        <th id=\"T_bc884bbe_b116_11e9_b6b5_54ee758e2065level0_row2\" class=\"row_heading level0 row2\" >HS Grades > median</th>\n",
       "                        <td id=\"T_bc884bbe_b116_11e9_b6b5_54ee758e2065row2_col0\" class=\"data row2 col0\" >-0.145</td>\n",
       "                        <td id=\"T_bc884bbe_b116_11e9_b6b5_54ee758e2065row2_col1\" class=\"data row2 col1\" >0.006</td>\n",
       "                        <td id=\"T_bc884bbe_b116_11e9_b6b5_54ee758e2065row2_col2\" class=\"data row2 col2\" >0.053</td>\n",
       "                        <td id=\"T_bc884bbe_b116_11e9_b6b5_54ee758e2065row2_col3\" class=\"data row2 col3\" >0.76</td>\n",
       "                        <td id=\"T_bc884bbe_b116_11e9_b6b5_54ee758e2065row2_col4\" class=\"data row2 col4\" >0</td>\n",
       "                        <td id=\"T_bc884bbe_b116_11e9_b6b5_54ee758e2065row2_col5\" class=\"data row2 col5\" >0.022</td>\n",
       "                        <td id=\"T_bc884bbe_b116_11e9_b6b5_54ee758e2065row2_col6\" class=\"data row2 col6\" >1356</td>\n",
       "            </tr>\n",
       "            <tr>\n",
       "                        <th id=\"T_bc884bbe_b116_11e9_b6b5_54ee758e2065level0_row3\" class=\"row_heading level0 row3\" >Male</th>\n",
       "                        <td id=\"T_bc884bbe_b116_11e9_b6b5_54ee758e2065row3_col0\" class=\"data row3 col0\" >-0.081</td>\n",
       "                        <td id=\"T_bc884bbe_b116_11e9_b6b5_54ee758e2065row3_col1\" class=\"data row3 col1\" >0.052</td>\n",
       "                        <td id=\"T_bc884bbe_b116_11e9_b6b5_54ee758e2065row3_col2\" class=\"data row3 col2\" >0.042</td>\n",
       "                        <td id=\"T_bc884bbe_b116_11e9_b6b5_54ee758e2065row3_col3\" class=\"data row3 col3\" >0.646</td>\n",
       "                        <td id=\"T_bc884bbe_b116_11e9_b6b5_54ee758e2065row3_col4\" class=\"data row3 col4\" >0</td>\n",
       "                        <td id=\"T_bc884bbe_b116_11e9_b6b5_54ee758e2065row3_col5\" class=\"data row3 col5\" >0.03</td>\n",
       "                        <td id=\"T_bc884bbe_b116_11e9_b6b5_54ee758e2065row3_col6\" class=\"data row3 col6\" >2313</td>\n",
       "            </tr>\n",
       "            <tr>\n",
       "                        <th id=\"T_bc884bbe_b116_11e9_b6b5_54ee758e2065level0_row4\" class=\"row_heading level0 row4\" >Female</th>\n",
       "                        <td id=\"T_bc884bbe_b116_11e9_b6b5_54ee758e2065row4_col0\" class=\"data row4 col0\" >0.008</td>\n",
       "                        <td id=\"T_bc884bbe_b116_11e9_b6b5_54ee758e2065row4_col1\" class=\"data row4 col1\" >0.8</td>\n",
       "                        <td id=\"T_bc884bbe_b116_11e9_b6b5_54ee758e2065row4_col2\" class=\"data row4 col2\" >0.031</td>\n",
       "                        <td id=\"T_bc884bbe_b116_11e9_b6b5_54ee758e2065row4_col3\" class=\"data row4 col3\" >0.693</td>\n",
       "                        <td id=\"T_bc884bbe_b116_11e9_b6b5_54ee758e2065row4_col4\" class=\"data row4 col4\" >0</td>\n",
       "                        <td id=\"T_bc884bbe_b116_11e9_b6b5_54ee758e2065row4_col5\" class=\"data row4 col5\" >0.019</td>\n",
       "                        <td id=\"T_bc884bbe_b116_11e9_b6b5_54ee758e2065row4_col6\" class=\"data row4 col6\" >3692</td>\n",
       "            </tr>\n",
       "            <tr>\n",
       "                        <th id=\"T_bc884bbe_b116_11e9_b6b5_54ee758e2065level0_row5\" class=\"row_heading level0 row5\" >Native English</th>\n",
       "                        <td id=\"T_bc884bbe_b116_11e9_b6b5_54ee758e2065row5_col0\" class=\"data row5 col0\" >-0.041</td>\n",
       "                        <td id=\"T_bc884bbe_b116_11e9_b6b5_54ee758e2065row5_col1\" class=\"data row5 col1\" >0.162</td>\n",
       "                        <td id=\"T_bc884bbe_b116_11e9_b6b5_54ee758e2065row5_col2\" class=\"data row5 col2\" >0.03</td>\n",
       "                        <td id=\"T_bc884bbe_b116_11e9_b6b5_54ee758e2065row5_col3\" class=\"data row5 col3\" >0.657</td>\n",
       "                        <td id=\"T_bc884bbe_b116_11e9_b6b5_54ee758e2065row5_col4\" class=\"data row5 col4\" >0</td>\n",
       "                        <td id=\"T_bc884bbe_b116_11e9_b6b5_54ee758e2065row5_col5\" class=\"data row5 col5\" >0.016</td>\n",
       "                        <td id=\"T_bc884bbe_b116_11e9_b6b5_54ee758e2065row5_col6\" class=\"data row5 col6\" >4417</td>\n",
       "            </tr>\n",
       "            <tr>\n",
       "                        <th id=\"T_bc884bbe_b116_11e9_b6b5_54ee758e2065level0_row6\" class=\"row_heading level0 row6\" >Nonnative English</th>\n",
       "                        <td id=\"T_bc884bbe_b116_11e9_b6b5_54ee758e2065row6_col0\" class=\"data row6 col0\" >0.007</td>\n",
       "                        <td id=\"T_bc884bbe_b116_11e9_b6b5_54ee758e2065row6_col1\" class=\"data row6 col1\" >0.882</td>\n",
       "                        <td id=\"T_bc884bbe_b116_11e9_b6b5_54ee758e2065row6_col2\" class=\"data row6 col2\" >0.045</td>\n",
       "                        <td id=\"T_bc884bbe_b116_11e9_b6b5_54ee758e2065row6_col3\" class=\"data row6 col3\" >0.726</td>\n",
       "                        <td id=\"T_bc884bbe_b116_11e9_b6b5_54ee758e2065row6_col4\" class=\"data row6 col4\" >0</td>\n",
       "                        <td id=\"T_bc884bbe_b116_11e9_b6b5_54ee758e2065row6_col5\" class=\"data row6 col5\" >0.032</td>\n",
       "                        <td id=\"T_bc884bbe_b116_11e9_b6b5_54ee758e2065row6_col6\" class=\"data row6 col6\" >1588</td>\n",
       "            </tr>\n",
       "    </tbody></table>"
      ],
      "text/plain": [
       "<pandas.io.formats.style.Styler at 0x17dd4c0bd30>"
      ]
     },
     "execution_count": 36,
     "metadata": {},
     "output_type": "execute_result"
    }
   ],
   "source": [
    "table6_3 = estimate_RDD_multiple_datasets(dictionary=groups_dict_06,\n",
    "                                          keys=groups_dict_keys,\n",
    "                                          outcome='gradin6',\n",
    "                                          regressors=regressors\n",
    "                                          )\n",
    "table6_3.style.applymap(pvalue_5percent_red, subset=['P-Value (1)', 'P-Value (0)'])"
   ]
  },
  {
   "cell_type": "markdown",
   "metadata": {},
   "source": [
    "---"
   ]
  },
  {
   "cell_type": "markdown",
   "metadata": {},
   "source": [
    "# Robustness Checks (upcoming)"
   ]
  },
  {
   "cell_type": "code",
   "execution_count": 37,
   "metadata": {},
   "outputs": [],
   "source": [
    "# Changing the style of plots for this part to visually distinguish from the replication\n",
    "#plt.style.use('ggplot')"
   ]
  },
  {
   "cell_type": "markdown",
   "metadata": {},
   "source": [
    "## Adjusting specifications"
   ]
  },
  {
   "cell_type": "markdown",
   "metadata": {},
   "source": [
    "Validity checks: Different bin sizes"
   ]
  },
  {
   "cell_type": "code",
   "execution_count": 38,
   "metadata": {},
   "outputs": [
    {
     "data": {
      "image/png": "[encoded data removed]",
      "text/plain": [
       "<Figure size 1400x350 with 3 Axes>"
      ]
     },
     "metadata": {},
     "output_type": "display_data"
    }
   ],
   "source": [
    "bin_sizes = [\"dist_from_cut_med10\",\"dist_from_cut_med05\", \"dist_from_cut_med025\"]\n",
    "plt.pyplot.figure(figsize=(20, 5), dpi=70, facecolor='w', edgecolor='k')\n",
    "plt.pyplot.subplots_adjust(wspace=0.4, hspace=0.4)\n",
    "\n",
    "for idx, bin_size in enumerate(bin_sizes):\n",
    "    plt.pyplot.subplot(1, 3, idx + 1)\n",
    "\n",
    "    bin_frequency_fig1 = calculate_bin_frequency(data=sample12, bins=bin_size)\n",
    "\n",
    "    # Calculate predicted frequency of each bin with local linear regression.\n",
    "    predictions_fig1 = create_bin_frequency_predictions(data=bin_frequency_fig1,\n",
    "                                                        steps=bin_frequency_fig1.bins.unique().round(4),\n",
    "                                                        bandwidth=0.6\n",
    "                                                        )\n",
    "\n",
    "    plot_bin_frequency_RDD(bin_frequency=bin_frequency_fig1,\n",
    "                           bins=bin_frequency_fig1.bins.unique().round(4),\n",
    "                           predictions=predictions_fig1\n",
    "                           )"
   ]
  },
  {
   "cell_type": "markdown",
   "metadata": {},
   "source": [
    "## Placebo "
   ]
  },
  {
   "cell_type": "markdown",
   "metadata": {},
   "source": [
    "To test the robustness of the results from the paper presented in my replication, I implement a placebo regression. This means I define a new fictional cutoff point and run the regressions from the previous parts based on the distances from the fictional cutoff. Artificially increasing the probation threshold in our data means that in the new regression, some students will be counted towards the treatment group even though in reality, they were not put on probation since they scored above the actual cutoff. "
   ]
  },
  {
   "cell_type": "markdown",
   "metadata": {},
   "source": [
    "### Placebo regression for a cutoff that is _0.3 GPA points higher_ than the actual probation cutoff\n",
    "I first increase the threshold point by 0.3 GPA points i.e. if the probation cutoff was at a GPA of 1.7 before, it is now at 2.0"
   ]
  },
  {
   "cell_type": "code",
   "execution_count": 39,
   "metadata": {},
   "outputs": [],
   "source": [
    "placebo1_data = gen_placebo_data(data=data, cutoff_deviation=(0.3))"
   ]
  },
  {
   "cell_type": "code",
   "execution_count": 40,
   "metadata": {},
   "outputs": [],
   "source": [
    "# Reduce dataset to range 1.2 as we used before\n",
    "placebo1_data12 = placebo1_data[abs(placebo1_data['dist_from_cut']) < 1.2].copy()\n",
    "# Bin data according to new distances from cutoff\n",
    "bins_labels = np.arange(-1.15, 1.25, 0.1)\n",
    "placebo1_data12['dist_from_cut_med10'] = pd.cut(x=placebo1_data12['dist_from_cut'], \n",
    "                                                bins=24, \n",
    "                                                labels=bins_labels, \n",
    "                                                right=False\n",
    "                                               )\n",
    "# Create dataset with a maximum distance of 0.6 from the cutoff\n",
    "placebo1_data06 = placebo1_data12[abs(placebo1_data12['dist_from_cut']) < 0.6].copy()"
   ]
  },
  {
   "cell_type": "code",
   "execution_count": 41,
   "metadata": {},
   "outputs": [],
   "source": [
    "groups_dict_06_placebo1 = create_groups_dict(data=placebo1_data06,\n",
    "                                             keys=groups_dict_keys,\n",
    "                                             columns=groups_dict_columns\n",
    "                                             )"
   ]
  },
  {
   "cell_type": "code",
   "execution_count": 42,
   "metadata": {},
   "outputs": [
    {
     "data": {
      "text/html": [
       "<style  type=\"text/css\" >\n",
       "    #T_db05cad8_b116_11e9_9281_54ee758e2065row0_col1 {\n",
       "            color:  black;\n",
       "        }    #T_db05cad8_b116_11e9_9281_54ee758e2065row0_col4 {\n",
       "            color:  red;\n",
       "        }    #T_db05cad8_b116_11e9_9281_54ee758e2065row1_col1 {\n",
       "            color:  black;\n",
       "        }    #T_db05cad8_b116_11e9_9281_54ee758e2065row1_col4 {\n",
       "            color:  red;\n",
       "        }    #T_db05cad8_b116_11e9_9281_54ee758e2065row2_col1 {\n",
       "            color:  red;\n",
       "        }    #T_db05cad8_b116_11e9_9281_54ee758e2065row2_col4 {\n",
       "            color:  red;\n",
       "        }    #T_db05cad8_b116_11e9_9281_54ee758e2065row3_col1 {\n",
       "            color:  red;\n",
       "        }    #T_db05cad8_b116_11e9_9281_54ee758e2065row3_col4 {\n",
       "            color:  red;\n",
       "        }    #T_db05cad8_b116_11e9_9281_54ee758e2065row4_col1 {\n",
       "            color:  black;\n",
       "        }    #T_db05cad8_b116_11e9_9281_54ee758e2065row4_col4 {\n",
       "            color:  red;\n",
       "        }    #T_db05cad8_b116_11e9_9281_54ee758e2065row5_col1 {\n",
       "            color:  black;\n",
       "        }    #T_db05cad8_b116_11e9_9281_54ee758e2065row5_col4 {\n",
       "            color:  red;\n",
       "        }    #T_db05cad8_b116_11e9_9281_54ee758e2065row6_col1 {\n",
       "            color:  black;\n",
       "        }    #T_db05cad8_b116_11e9_9281_54ee758e2065row6_col4 {\n",
       "            color:  red;\n",
       "        }</style><table id=\"T_db05cad8_b116_11e9_9281_54ee758e2065\" ><thead>    <tr>        <th class=\"blank level0\" ></th>        <th class=\"col_heading level0 col0\" >GPA below cutoff (1)</th>        <th class=\"col_heading level0 col1\" >P-Value (1)</th>        <th class=\"col_heading level0 col2\" >Std.err (1)</th>        <th class=\"col_heading level0 col3\" >Intercept (0)</th>        <th class=\"col_heading level0 col4\" >P-Value (0)</th>        <th class=\"col_heading level0 col5\" >Std.err (0)</th>        <th class=\"col_heading level0 col6\" >Observations</th>    </tr>    <tr>        <th class=\"index_name level0\" >groups</th>        <th class=\"blank\" ></th>        <th class=\"blank\" ></th>        <th class=\"blank\" ></th>        <th class=\"blank\" ></th>        <th class=\"blank\" ></th>        <th class=\"blank\" ></th>        <th class=\"blank\" ></th>    </tr></thead><tbody>\n",
       "                <tr>\n",
       "                        <th id=\"T_db05cad8_b116_11e9_9281_54ee758e2065level0_row0\" class=\"row_heading level0 row0\" >All</th>\n",
       "                        <td id=\"T_db05cad8_b116_11e9_9281_54ee758e2065row0_col0\" class=\"data row0 col0\" >-0.009</td>\n",
       "                        <td id=\"T_db05cad8_b116_11e9_9281_54ee758e2065row0_col1\" class=\"data row0 col1\" >0.158</td>\n",
       "                        <td id=\"T_db05cad8_b116_11e9_9281_54ee758e2065row0_col2\" class=\"data row0 col2\" >0.006</td>\n",
       "                        <td id=\"T_db05cad8_b116_11e9_9281_54ee758e2065row0_col3\" class=\"data row0 col3\" >0.04</td>\n",
       "                        <td id=\"T_db05cad8_b116_11e9_9281_54ee758e2065row0_col4\" class=\"data row0 col4\" >0</td>\n",
       "                        <td id=\"T_db05cad8_b116_11e9_9281_54ee758e2065row0_col5\" class=\"data row0 col5\" >0.004</td>\n",
       "                        <td id=\"T_db05cad8_b116_11e9_9281_54ee758e2065row0_col6\" class=\"data row0 col6\" >16151</td>\n",
       "            </tr>\n",
       "            <tr>\n",
       "                        <th id=\"T_db05cad8_b116_11e9_9281_54ee758e2065level0_row1\" class=\"row_heading level0 row1\" >HS Grades < median</th>\n",
       "                        <td id=\"T_db05cad8_b116_11e9_9281_54ee758e2065row1_col0\" class=\"data row1 col0\" >-0.002</td>\n",
       "                        <td id=\"T_db05cad8_b116_11e9_9281_54ee758e2065row1_col1\" class=\"data row1 col1\" >0.83</td>\n",
       "                        <td id=\"T_db05cad8_b116_11e9_9281_54ee758e2065row1_col2\" class=\"data row1 col2\" >0.008</td>\n",
       "                        <td id=\"T_db05cad8_b116_11e9_9281_54ee758e2065row1_col3\" class=\"data row1 col3\" >0.038</td>\n",
       "                        <td id=\"T_db05cad8_b116_11e9_9281_54ee758e2065row1_col4\" class=\"data row1 col4\" >0</td>\n",
       "                        <td id=\"T_db05cad8_b116_11e9_9281_54ee758e2065row1_col5\" class=\"data row1 col5\" >0.005</td>\n",
       "                        <td id=\"T_db05cad8_b116_11e9_9281_54ee758e2065row1_col6\" class=\"data row1 col6\" >11154</td>\n",
       "            </tr>\n",
       "            <tr>\n",
       "                        <th id=\"T_db05cad8_b116_11e9_9281_54ee758e2065level0_row2\" class=\"row_heading level0 row2\" >HS Grades > median</th>\n",
       "                        <td id=\"T_db05cad8_b116_11e9_9281_54ee758e2065row2_col0\" class=\"data row2 col0\" >-0.027</td>\n",
       "                        <td id=\"T_db05cad8_b116_11e9_9281_54ee758e2065row2_col1\" class=\"data row2 col1\" >0.019</td>\n",
       "                        <td id=\"T_db05cad8_b116_11e9_9281_54ee758e2065row2_col2\" class=\"data row2 col2\" >0.011</td>\n",
       "                        <td id=\"T_db05cad8_b116_11e9_9281_54ee758e2065row2_col3\" class=\"data row2 col3\" >0.044</td>\n",
       "                        <td id=\"T_db05cad8_b116_11e9_9281_54ee758e2065row2_col4\" class=\"data row2 col4\" >0</td>\n",
       "                        <td id=\"T_db05cad8_b116_11e9_9281_54ee758e2065row2_col5\" class=\"data row2 col5\" >0.007</td>\n",
       "                        <td id=\"T_db05cad8_b116_11e9_9281_54ee758e2065row2_col6\" class=\"data row2 col6\" >4997</td>\n",
       "            </tr>\n",
       "            <tr>\n",
       "                        <th id=\"T_db05cad8_b116_11e9_9281_54ee758e2065level0_row3\" class=\"row_heading level0 row3\" >Male</th>\n",
       "                        <td id=\"T_db05cad8_b116_11e9_9281_54ee758e2065row3_col0\" class=\"data row3 col0\" >-0.022</td>\n",
       "                        <td id=\"T_db05cad8_b116_11e9_9281_54ee758e2065row3_col1\" class=\"data row3 col1\" >0.043</td>\n",
       "                        <td id=\"T_db05cad8_b116_11e9_9281_54ee758e2065row3_col2\" class=\"data row3 col2\" >0.011</td>\n",
       "                        <td id=\"T_db05cad8_b116_11e9_9281_54ee758e2065row3_col3\" class=\"data row3 col3\" >0.041</td>\n",
       "                        <td id=\"T_db05cad8_b116_11e9_9281_54ee758e2065row3_col4\" class=\"data row3 col4\" >0</td>\n",
       "                        <td id=\"T_db05cad8_b116_11e9_9281_54ee758e2065row3_col5\" class=\"data row3 col5\" >0.008</td>\n",
       "                        <td id=\"T_db05cad8_b116_11e9_9281_54ee758e2065row3_col6\" class=\"data row3 col6\" >5988</td>\n",
       "            </tr>\n",
       "            <tr>\n",
       "                        <th id=\"T_db05cad8_b116_11e9_9281_54ee758e2065level0_row4\" class=\"row_heading level0 row4\" >Female</th>\n",
       "                        <td id=\"T_db05cad8_b116_11e9_9281_54ee758e2065row4_col0\" class=\"data row4 col0\" >-0</td>\n",
       "                        <td id=\"T_db05cad8_b116_11e9_9281_54ee758e2065row4_col1\" class=\"data row4 col1\" >0.993</td>\n",
       "                        <td id=\"T_db05cad8_b116_11e9_9281_54ee758e2065row4_col2\" class=\"data row4 col2\" >0.008</td>\n",
       "                        <td id=\"T_db05cad8_b116_11e9_9281_54ee758e2065row4_col3\" class=\"data row4 col3\" >0.039</td>\n",
       "                        <td id=\"T_db05cad8_b116_11e9_9281_54ee758e2065row4_col4\" class=\"data row4 col4\" >0</td>\n",
       "                        <td id=\"T_db05cad8_b116_11e9_9281_54ee758e2065row4_col5\" class=\"data row4 col5\" >0.006</td>\n",
       "                        <td id=\"T_db05cad8_b116_11e9_9281_54ee758e2065row4_col6\" class=\"data row4 col6\" >10163</td>\n",
       "            </tr>\n",
       "            <tr>\n",
       "                        <th id=\"T_db05cad8_b116_11e9_9281_54ee758e2065level0_row5\" class=\"row_heading level0 row5\" >Native English</th>\n",
       "                        <td id=\"T_db05cad8_b116_11e9_9281_54ee758e2065row5_col0\" class=\"data row5 col0\" >-0.01</td>\n",
       "                        <td id=\"T_db05cad8_b116_11e9_9281_54ee758e2065row5_col1\" class=\"data row5 col1\" >0.157</td>\n",
       "                        <td id=\"T_db05cad8_b116_11e9_9281_54ee758e2065row5_col2\" class=\"data row5 col2\" >0.007</td>\n",
       "                        <td id=\"T_db05cad8_b116_11e9_9281_54ee758e2065row5_col3\" class=\"data row5 col3\" >0.044</td>\n",
       "                        <td id=\"T_db05cad8_b116_11e9_9281_54ee758e2065row5_col4\" class=\"data row5 col4\" >0</td>\n",
       "                        <td id=\"T_db05cad8_b116_11e9_9281_54ee758e2065row5_col5\" class=\"data row5 col5\" >0.005</td>\n",
       "                        <td id=\"T_db05cad8_b116_11e9_9281_54ee758e2065row5_col6\" class=\"data row5 col6\" >11726</td>\n",
       "            </tr>\n",
       "            <tr>\n",
       "                        <th id=\"T_db05cad8_b116_11e9_9281_54ee758e2065level0_row6\" class=\"row_heading level0 row6\" >Nonnative English</th>\n",
       "                        <td id=\"T_db05cad8_b116_11e9_9281_54ee758e2065row6_col0\" class=\"data row6 col0\" >-0.005</td>\n",
       "                        <td id=\"T_db05cad8_b116_11e9_9281_54ee758e2065row6_col1\" class=\"data row6 col1\" >0.672</td>\n",
       "                        <td id=\"T_db05cad8_b116_11e9_9281_54ee758e2065row6_col2\" class=\"data row6 col2\" >0.011</td>\n",
       "                        <td id=\"T_db05cad8_b116_11e9_9281_54ee758e2065row6_col3\" class=\"data row6 col3\" >0.029</td>\n",
       "                        <td id=\"T_db05cad8_b116_11e9_9281_54ee758e2065row6_col4\" class=\"data row6 col4\" >0</td>\n",
       "                        <td id=\"T_db05cad8_b116_11e9_9281_54ee758e2065row6_col5\" class=\"data row6 col5\" >0.006</td>\n",
       "                        <td id=\"T_db05cad8_b116_11e9_9281_54ee758e2065row6_col6\" class=\"data row6 col6\" >4425</td>\n",
       "            </tr>\n",
       "    </tbody></table>"
      ],
      "text/plain": [
       "<pandas.io.formats.style.Styler at 0x17dd6517cc0>"
      ]
     },
     "execution_count": 42,
     "metadata": {},
     "output_type": "execute_result"
    }
   ],
   "source": [
    "# Import function for RDD analysis from auxiliary file.\n",
    "table4_placebo1 = estimate_RDD_multiple_datasets(dictionary=groups_dict_06_placebo1,\n",
    "                                                 keys=groups_dict_keys,\n",
    "                                                 outcome='left_school',\n",
    "                                                 regressors=regressors\n",
    "                                                 )\n",
    "table4_placebo1.style.applymap(pvalue_5percent_red, subset=['P-Value (1)', 'P-Value (0)'])"
   ]
  },
  {
   "cell_type": "code",
   "execution_count": 43,
   "metadata": {},
   "outputs": [],
   "source": [
    "groups_dict_12_placebo1 = create_groups_dict(data=placebo1_data12,\n",
    "                                             keys=groups_dict_keys,\n",
    "                                             columns=groups_dict_columns\n",
    "                                             )"
   ]
  },
  {
   "cell_type": "code",
   "execution_count": 44,
   "metadata": {},
   "outputs": [
    {
     "data": {
      "text/plain": [
       "Text(0.5,1,'Nonnative English')"
      ]
     },
     "execution_count": 44,
     "metadata": {},
     "output_type": "execute_result"
    },
    {
     "data": {
      "image/png": "[encoded data removed]",
      "text/plain": [
       "<Figure size 700x910 with 6 Axes>"
      ]
     },
     "metadata": {},
     "output_type": "display_data"
    }
   ],
   "source": [
    "predictions_groups_dict_placebo1 = create_fig3_predictions(groups_dict=groups_dict_12_placebo1,\n",
    "                                                           regressors=regressors,\n",
    "                                                           bandwidth=0.6\n",
    "                                                           )\n",
    "\n",
    "figure_3_placebo1 = plot_figure3(inputs_dict=groups_dict_12_placebo1,\n",
    "                                 outputs_dict=predictions_groups_dict_placebo1, \n",
    "                                 keys=groups_dict_keys\n",
    "                                )\n",
    "figure_3_placebo1"
   ]
  },
  {
   "cell_type": "markdown",
   "metadata": {},
   "source": [
    "### Placebo regression for a cutoff that is _0.6 GPA points higher_ than the actual probation cutoff\n",
    "I first increase the threshold point by 0.6 GPA points i.e. if the probation cutoff was at a GPA of 1.7 before, it is now at 2.3."
   ]
  },
  {
   "cell_type": "code",
   "execution_count": 45,
   "metadata": {},
   "outputs": [],
   "source": [
    "placebo1_data = gen_placebo_data(data=data, cutoff_deviation=(0.6))"
   ]
  },
  {
   "cell_type": "code",
   "execution_count": 46,
   "metadata": {},
   "outputs": [],
   "source": [
    "# Reduce dataset to range 1.2 as we used before\n",
    "placebo1_data12 = placebo1_data[abs(placebo1_data['dist_from_cut']) < 1.2].copy()\n",
    "\n",
    "# Bin data according to new distances from cutoff\n",
    "bins_labels = np.arange(-1.15, 1.25, 0.1)\n",
    "placebo1_data12['dist_from_cut_med10'] = pd.cut(x=placebo1_data12['dist_from_cut'], \n",
    "                                                bins=24, \n",
    "                                                labels=bins_labels, \n",
    "                                                right=False\n",
    "                                               )\n",
    "\n",
    "# Create another dataset with a maximum distance of 0.6 from the cutoff\n",
    "placebo1_data06 = placebo1_data12[abs(placebo1_data12['dist_from_cut']) < 0.6].copy()"
   ]
  },
  {
   "cell_type": "code",
   "execution_count": 47,
   "metadata": {},
   "outputs": [],
   "source": [
    "groups_dict_06_placebo1 = create_groups_dict(data=placebo1_data06,\n",
    "                                             keys=groups_dict_keys,\n",
    "                                             columns=groups_dict_columns\n",
    "                                             )"
   ]
  },
  {
   "cell_type": "code",
   "execution_count": 48,
   "metadata": {},
   "outputs": [
    {
     "data": {
      "text/html": [
       "<style  type=\"text/css\" >\n",
       "    #T_fa0bd08c_b116_11e9_8b1f_54ee758e2065row0_col1 {\n",
       "            color:  black;\n",
       "        }    #T_fa0bd08c_b116_11e9_8b1f_54ee758e2065row0_col4 {\n",
       "            color:  red;\n",
       "        }    #T_fa0bd08c_b116_11e9_8b1f_54ee758e2065row1_col1 {\n",
       "            color:  black;\n",
       "        }    #T_fa0bd08c_b116_11e9_8b1f_54ee758e2065row1_col4 {\n",
       "            color:  red;\n",
       "        }    #T_fa0bd08c_b116_11e9_8b1f_54ee758e2065row2_col1 {\n",
       "            color:  black;\n",
       "        }    #T_fa0bd08c_b116_11e9_8b1f_54ee758e2065row2_col4 {\n",
       "            color:  red;\n",
       "        }    #T_fa0bd08c_b116_11e9_8b1f_54ee758e2065row3_col1 {\n",
       "            color:  black;\n",
       "        }    #T_fa0bd08c_b116_11e9_8b1f_54ee758e2065row3_col4 {\n",
       "            color:  red;\n",
       "        }    #T_fa0bd08c_b116_11e9_8b1f_54ee758e2065row4_col1 {\n",
       "            color:  black;\n",
       "        }    #T_fa0bd08c_b116_11e9_8b1f_54ee758e2065row4_col4 {\n",
       "            color:  red;\n",
       "        }    #T_fa0bd08c_b116_11e9_8b1f_54ee758e2065row5_col1 {\n",
       "            color:  black;\n",
       "        }    #T_fa0bd08c_b116_11e9_8b1f_54ee758e2065row5_col4 {\n",
       "            color:  red;\n",
       "        }    #T_fa0bd08c_b116_11e9_8b1f_54ee758e2065row6_col1 {\n",
       "            color:  black;\n",
       "        }    #T_fa0bd08c_b116_11e9_8b1f_54ee758e2065row6_col4 {\n",
       "            color:  red;\n",
       "        }</style><table id=\"T_fa0bd08c_b116_11e9_8b1f_54ee758e2065\" ><thead>    <tr>        <th class=\"blank level0\" ></th>        <th class=\"col_heading level0 col0\" >GPA below cutoff (1)</th>        <th class=\"col_heading level0 col1\" >P-Value (1)</th>        <th class=\"col_heading level0 col2\" >Std.err (1)</th>        <th class=\"col_heading level0 col3\" >Intercept (0)</th>        <th class=\"col_heading level0 col4\" >P-Value (0)</th>        <th class=\"col_heading level0 col5\" >Std.err (0)</th>        <th class=\"col_heading level0 col6\" >Observations</th>    </tr>    <tr>        <th class=\"index_name level0\" >groups</th>        <th class=\"blank\" ></th>        <th class=\"blank\" ></th>        <th class=\"blank\" ></th>        <th class=\"blank\" ></th>        <th class=\"blank\" ></th>        <th class=\"blank\" ></th>        <th class=\"blank\" ></th>    </tr></thead><tbody>\n",
       "                <tr>\n",
       "                        <th id=\"T_fa0bd08c_b116_11e9_8b1f_54ee758e2065level0_row0\" class=\"row_heading level0 row0\" >All</th>\n",
       "                        <td id=\"T_fa0bd08c_b116_11e9_8b1f_54ee758e2065row0_col0\" class=\"data row0 col0\" >0.008</td>\n",
       "                        <td id=\"T_fa0bd08c_b116_11e9_8b1f_54ee758e2065row0_col1\" class=\"data row0 col1\" >0.133</td>\n",
       "                        <td id=\"T_fa0bd08c_b116_11e9_8b1f_54ee758e2065row0_col2\" class=\"data row0 col2\" >0.006</td>\n",
       "                        <td id=\"T_fa0bd08c_b116_11e9_8b1f_54ee758e2065row0_col3\" class=\"data row0 col3\" >0.029</td>\n",
       "                        <td id=\"T_fa0bd08c_b116_11e9_8b1f_54ee758e2065row0_col4\" class=\"data row0 col4\" >0</td>\n",
       "                        <td id=\"T_fa0bd08c_b116_11e9_8b1f_54ee758e2065row0_col5\" class=\"data row0 col5\" >0.004</td>\n",
       "                        <td id=\"T_fa0bd08c_b116_11e9_8b1f_54ee758e2065row0_col6\" class=\"data row0 col6\" >18794</td>\n",
       "            </tr>\n",
       "            <tr>\n",
       "                        <th id=\"T_fa0bd08c_b116_11e9_8b1f_54ee758e2065level0_row1\" class=\"row_heading level0 row1\" >HS Grades < median</th>\n",
       "                        <td id=\"T_fa0bd08c_b116_11e9_8b1f_54ee758e2065row1_col0\" class=\"data row1 col0\" >0.011</td>\n",
       "                        <td id=\"T_fa0bd08c_b116_11e9_8b1f_54ee758e2065row1_col1\" class=\"data row1 col1\" >0.121</td>\n",
       "                        <td id=\"T_fa0bd08c_b116_11e9_8b1f_54ee758e2065row1_col2\" class=\"data row1 col2\" >0.007</td>\n",
       "                        <td id=\"T_fa0bd08c_b116_11e9_8b1f_54ee758e2065row1_col3\" class=\"data row1 col3\" >0.025</td>\n",
       "                        <td id=\"T_fa0bd08c_b116_11e9_8b1f_54ee758e2065row1_col4\" class=\"data row1 col4\" >0</td>\n",
       "                        <td id=\"T_fa0bd08c_b116_11e9_8b1f_54ee758e2065row1_col5\" class=\"data row1 col5\" >0.005</td>\n",
       "                        <td id=\"T_fa0bd08c_b116_11e9_8b1f_54ee758e2065row1_col6\" class=\"data row1 col6\" >11696</td>\n",
       "            </tr>\n",
       "            <tr>\n",
       "                        <th id=\"T_fa0bd08c_b116_11e9_8b1f_54ee758e2065level0_row2\" class=\"row_heading level0 row2\" >HS Grades > median</th>\n",
       "                        <td id=\"T_fa0bd08c_b116_11e9_8b1f_54ee758e2065row2_col0\" class=\"data row2 col0\" >0.008</td>\n",
       "                        <td id=\"T_fa0bd08c_b116_11e9_8b1f_54ee758e2065row2_col1\" class=\"data row2 col1\" >0.389</td>\n",
       "                        <td id=\"T_fa0bd08c_b116_11e9_8b1f_54ee758e2065row2_col2\" class=\"data row2 col2\" >0.009</td>\n",
       "                        <td id=\"T_fa0bd08c_b116_11e9_8b1f_54ee758e2065row2_col3\" class=\"data row2 col3\" >0.033</td>\n",
       "                        <td id=\"T_fa0bd08c_b116_11e9_8b1f_54ee758e2065row2_col4\" class=\"data row2 col4\" >0</td>\n",
       "                        <td id=\"T_fa0bd08c_b116_11e9_8b1f_54ee758e2065row2_col5\" class=\"data row2 col5\" >0.007</td>\n",
       "                        <td id=\"T_fa0bd08c_b116_11e9_8b1f_54ee758e2065row2_col6\" class=\"data row2 col6\" >7098</td>\n",
       "            </tr>\n",
       "            <tr>\n",
       "                        <th id=\"T_fa0bd08c_b116_11e9_8b1f_54ee758e2065level0_row3\" class=\"row_heading level0 row3\" >Male</th>\n",
       "                        <td id=\"T_fa0bd08c_b116_11e9_8b1f_54ee758e2065row3_col0\" class=\"data row3 col0\" >0.009</td>\n",
       "                        <td id=\"T_fa0bd08c_b116_11e9_8b1f_54ee758e2065row3_col1\" class=\"data row3 col1\" >0.251</td>\n",
       "                        <td id=\"T_fa0bd08c_b116_11e9_8b1f_54ee758e2065row3_col2\" class=\"data row3 col2\" >0.008</td>\n",
       "                        <td id=\"T_fa0bd08c_b116_11e9_8b1f_54ee758e2065row3_col3\" class=\"data row3 col3\" >0.027</td>\n",
       "                        <td id=\"T_fa0bd08c_b116_11e9_8b1f_54ee758e2065row3_col4\" class=\"data row3 col4\" >0</td>\n",
       "                        <td id=\"T_fa0bd08c_b116_11e9_8b1f_54ee758e2065row3_col5\" class=\"data row3 col5\" >0.005</td>\n",
       "                        <td id=\"T_fa0bd08c_b116_11e9_8b1f_54ee758e2065row3_col6\" class=\"data row3 col6\" >6917</td>\n",
       "            </tr>\n",
       "            <tr>\n",
       "                        <th id=\"T_fa0bd08c_b116_11e9_8b1f_54ee758e2065level0_row4\" class=\"row_heading level0 row4\" >Female</th>\n",
       "                        <td id=\"T_fa0bd08c_b116_11e9_8b1f_54ee758e2065row4_col0\" class=\"data row4 col0\" >0.008</td>\n",
       "                        <td id=\"T_fa0bd08c_b116_11e9_8b1f_54ee758e2065row4_col1\" class=\"data row4 col1\" >0.246</td>\n",
       "                        <td id=\"T_fa0bd08c_b116_11e9_8b1f_54ee758e2065row4_col2\" class=\"data row4 col2\" >0.007</td>\n",
       "                        <td id=\"T_fa0bd08c_b116_11e9_8b1f_54ee758e2065row4_col3\" class=\"data row4 col3\" >0.03</td>\n",
       "                        <td id=\"T_fa0bd08c_b116_11e9_8b1f_54ee758e2065row4_col4\" class=\"data row4 col4\" >0</td>\n",
       "                        <td id=\"T_fa0bd08c_b116_11e9_8b1f_54ee758e2065row4_col5\" class=\"data row4 col5\" >0.005</td>\n",
       "                        <td id=\"T_fa0bd08c_b116_11e9_8b1f_54ee758e2065row4_col6\" class=\"data row4 col6\" >11877</td>\n",
       "            </tr>\n",
       "            <tr>\n",
       "                        <th id=\"T_fa0bd08c_b116_11e9_8b1f_54ee758e2065level0_row5\" class=\"row_heading level0 row5\" >Native English</th>\n",
       "                        <td id=\"T_fa0bd08c_b116_11e9_8b1f_54ee758e2065row5_col0\" class=\"data row5 col0\" >0.007</td>\n",
       "                        <td id=\"T_fa0bd08c_b116_11e9_8b1f_54ee758e2065row5_col1\" class=\"data row5 col1\" >0.306</td>\n",
       "                        <td id=\"T_fa0bd08c_b116_11e9_8b1f_54ee758e2065row5_col2\" class=\"data row5 col2\" >0.007</td>\n",
       "                        <td id=\"T_fa0bd08c_b116_11e9_8b1f_54ee758e2065row5_col3\" class=\"data row5 col3\" >0.032</td>\n",
       "                        <td id=\"T_fa0bd08c_b116_11e9_8b1f_54ee758e2065row5_col4\" class=\"data row5 col4\" >0</td>\n",
       "                        <td id=\"T_fa0bd08c_b116_11e9_8b1f_54ee758e2065row5_col5\" class=\"data row5 col5\" >0.005</td>\n",
       "                        <td id=\"T_fa0bd08c_b116_11e9_8b1f_54ee758e2065row5_col6\" class=\"data row5 col6\" >13748</td>\n",
       "            </tr>\n",
       "            <tr>\n",
       "                        <th id=\"T_fa0bd08c_b116_11e9_8b1f_54ee758e2065level0_row6\" class=\"row_heading level0 row6\" >Nonnative English</th>\n",
       "                        <td id=\"T_fa0bd08c_b116_11e9_8b1f_54ee758e2065row6_col0\" class=\"data row6 col0\" >0.013</td>\n",
       "                        <td id=\"T_fa0bd08c_b116_11e9_8b1f_54ee758e2065row6_col1\" class=\"data row6 col1\" >0.114</td>\n",
       "                        <td id=\"T_fa0bd08c_b116_11e9_8b1f_54ee758e2065row6_col2\" class=\"data row6 col2\" >0.008</td>\n",
       "                        <td id=\"T_fa0bd08c_b116_11e9_8b1f_54ee758e2065row6_col3\" class=\"data row6 col3\" >0.021</td>\n",
       "                        <td id=\"T_fa0bd08c_b116_11e9_8b1f_54ee758e2065row6_col4\" class=\"data row6 col4\" >0</td>\n",
       "                        <td id=\"T_fa0bd08c_b116_11e9_8b1f_54ee758e2065row6_col5\" class=\"data row6 col5\" >0.005</td>\n",
       "                        <td id=\"T_fa0bd08c_b116_11e9_8b1f_54ee758e2065row6_col6\" class=\"data row6 col6\" >5046</td>\n",
       "            </tr>\n",
       "    </tbody></table>"
      ],
      "text/plain": [
       "<pandas.io.formats.style.Styler at 0x17de41aea58>"
      ]
     },
     "execution_count": 48,
     "metadata": {},
     "output_type": "execute_result"
    }
   ],
   "source": [
    "# Import function for RDD analysis from auxiliary file.\n",
    "table4_placebo1 = estimate_RDD_multiple_datasets(dictionary=groups_dict_06_placebo1, \n",
    "                                                 keys=groups_dict_keys, \n",
    "                                                 outcome='left_school', \n",
    "                                                 regressors=regressors\n",
    "                                                )\n",
    "table4_placebo1.style.applymap(pvalue_5percent_red, subset=['P-Value (1)', 'P-Value (0)'])"
   ]
  },
  {
   "cell_type": "code",
   "execution_count": 49,
   "metadata": {},
   "outputs": [],
   "source": [
    "groups_dict_12_placebo1 = create_groups_dict(data=placebo1_data12,\n",
    "                                             keys=groups_dict_keys,\n",
    "                                             columns=groups_dict_columns\n",
    "                                             )"
   ]
  },
  {
   "cell_type": "code",
   "execution_count": 50,
   "metadata": {},
   "outputs": [
    {
     "data": {
      "text/plain": [
       "Text(0.5,1,'Nonnative English')"
      ]
     },
     "execution_count": 50,
     "metadata": {},
     "output_type": "execute_result"
    },
    {
     "data": {
      "image/png": "[encoded data removed]",
      "text/plain": [
       "<Figure size 700x910 with 6 Axes>"
      ]
     },
     "metadata": {},
     "output_type": "display_data"
    }
   ],
   "source": [
    "predictions_groups_dict_placebo1 = create_fig3_predictions(groups_dict=groups_dict_12_placebo1,\n",
    "                                                           regressors=regressors,\n",
    "                                                           bandwidth=0.6\n",
    "                                                           )\n",
    "\n",
    "figure_3_placebo1 = plot_figure3(inputs_dict=groups_dict_12_placebo1,\n",
    "                                 outputs_dict=predictions_groups_dict_placebo1, \n",
    "                                 keys=groups_dict_keys\n",
    "                                )\n",
    "figure_3_placebo1"
   ]
  },
  {
   "cell_type": "markdown",
   "metadata": {},
   "source": [
    "## Bootstrapped Confidence Intervals"
   ]
  },
  {
   "cell_type": "markdown",
   "metadata": {},
   "source": [
    "### Subsequent performance with 95% Confidence Interval"
   ]
  },
  {
   "cell_type": "code",
   "execution_count": 51,
   "metadata": {},
   "outputs": [],
   "source": [
    "bootstrap_pred = bootstrap_predictions(n=100, data=sample12, outcome='nextGPA', regressors=regressors, bandwidth=0.6)"
   ]
  },
  {
   "cell_type": "code",
   "execution_count": 52,
   "metadata": {},
   "outputs": [],
   "source": [
    "CI = get_confidence_interval(data=bootstrap_pred, lbound=2.5, ubound=97.5, index_var='dist_from_cut')"
   ]
  },
  {
   "cell_type": "code",
   "execution_count": 53,
   "metadata": {},
   "outputs": [],
   "source": [
    "predictions_fig4_CI = pd.concat([predictions_fig4, CI[['upper_bound', 'lower_bound']]], axis=1)"
   ]
  },
  {
   "cell_type": "code",
   "execution_count": 54,
   "metadata": {},
   "outputs": [
    {
     "data": {
      "text/plain": [
       "Text(0.5,1,'Figure 4 - GPA in the next enrolled term')"
      ]
     },
     "execution_count": 54,
     "metadata": {},
     "output_type": "execute_result"
    },
    {
     "data": {
      "image/png": "[encoded data removed]",
      "text/plain": [
       "<Figure size 576x432 with 1 Axes>"
      ]
     },
     "metadata": {
      "needs_background": "light"
     },
     "output_type": "display_data"
    }
   ],
   "source": [
    "plt.pyplot.figure(figsize=(8, 6))\n",
    "plt.pyplot.xlim(-1.5, 1.5, 0.1)\n",
    "plt.pyplot.ylim(-0.5, 1.2, 0.1)\n",
    "plt.pyplot.axvline(x=0, color='r')\n",
    "plt.pyplot.xlabel('First year GPA minus probation cutoff')\n",
    "plt.pyplot.ylabel('Subsequent GPA minus Cutoff')\n",
    "plt.pyplot.plot(sample12.nextGPA.groupby(sample12['dist_from_cut_med10']).mean(), 'o')\n",
    "plot_RDD_curve_CI(df=predictions_fig4_CI,\n",
    "                  running_variable=\"dist_from_cut\",\n",
    "                  outcome=\"prediction\",\n",
    "                  cutoff=0,\n",
    "                  lbound='lower_bound',\n",
    "                  ubound='upper_bound',\n",
    "                  CI_color='lightgrey',\n",
    "                  linecolor='darkslategrey'\n",
    "                  )\n",
    "\n",
    "plt.pyplot.title(\"Figure 4 - GPA in the next enrolled term\")"
   ]
  },
  {
   "cell_type": "markdown",
   "metadata": {},
   "source": [
    "## Additional"
   ]
  },
  {
   "cell_type": "code",
   "execution_count": 55,
   "metadata": {},
   "outputs": [],
   "source": [
    "# Define sets of variables of interest.\n",
    "outcomes = ['left_school', 'gradin4', 'gradin5', 'gradin6', 'dist_from_cut', 'year2_dist_from_cut', 'nextGPA',\n",
    "            'probation_year1', 'probation_year2', 'probation_summer1', 'probation_summer2', 'probation_ever',\n",
    "            'suspended_year1', 'suspended_summer1', 'suspended_year2', 'suspended_summer2', 'suspended_ever']\n",
    "\n",
    "strats = ['lowHS', 'highHS', 'male', 'female', 'english', 'noenglish']"
   ]
  },
  {
   "cell_type": "code",
   "execution_count": 56,
   "metadata": {},
   "outputs": [
    {
     "data": {
      "text/plain": [
       "<matplotlib.axes._subplots.AxesSubplot at 0x17ddcc52b38>"
      ]
     },
     "execution_count": 56,
     "metadata": {},
     "output_type": "execute_result"
    },
    {
     "data": {
      "image/png": "[encoded data removed]",
      "text/plain": [
       "<Figure size 792x648 with 2 Axes>"
      ]
     },
     "metadata": {
      "needs_background": "light"
     },
     "output_type": "display_data"
    }
   ],
   "source": [
    "# Correlation heatmap of outcomes (some outcomes like graduation rates depend on other outcomes!)\n",
    "corr = data[outcomes].corr()\n",
    "\n",
    "# Generate a mask for the upper triangle\n",
    "mask = np.zeros_like(corr, dtype=np.bool)\n",
    "mask[np.triu_indices_from(mask)] = True\n",
    "\n",
    "# Plot figure\n",
    "f, ax = plt.pyplot.subplots(figsize=(11, 9))\n",
    "sns.heatmap(corr, mask=mask, cmap='coolwarm', vmax=.3, center=0,\n",
    "            square=True, linewidths=.5, cbar_kws={\"shrink\": .5})"
   ]
  },
  {
   "cell_type": "code",
   "execution_count": 57,
   "metadata": {},
   "outputs": [
    {
     "name": "stderr",
     "output_type": "stream",
     "text": [
      "C:\\Users\\arohanui\\Anaconda3\\lib\\site-packages\\scipy\\stats\\stats.py:1713: FutureWarning: Using a non-tuple sequence for multidimensional indexing is deprecated; use `arr[tuple(seq)]` instead of `arr[seq]`. In the future this will be interpreted as an array index, `arr[np.array(seq)]`, which will result either in an error or a different result.\n",
      "  return np.add.reduce(sorted[indexer] * weights, axis=axis) / sumval\n"
     ]
    },
    {
     "data": {
      "text/plain": [
       "<seaborn.axisgrid.JointGrid at 0x17ddcc49d68>"
      ]
     },
     "execution_count": 57,
     "metadata": {},
     "output_type": "execute_result"
    },
    {
     "data": {
      "image/png": "[encoded data removed]",
      "text/plain": [
       "<Figure size 432x432 with 3 Axes>"
      ]
     },
     "metadata": {
      "needs_background": "light"
     },
     "output_type": "display_data"
    }
   ],
   "source": [
    "# GPA in year 1 and year 2\n",
    "sns.jointplot(data[['GPA_year1']], data[['GPA_year2']], kind=\"hex\", color=\"coral\")"
   ]
  },
  {
   "cell_type": "markdown",
   "metadata": {},
   "source": [
    "# Miscellaneous\n",
    "\n",
    "This section will be removed for in the final notebook and is thus not relevant."
   ]
  },
  {
   "cell_type": "code",
   "execution_count": 58,
   "metadata": {},
   "outputs": [
    {
     "name": "stdout",
     "output_type": "stream",
     "text": [
      "Index(['credits1', 'credits2', 'credits_earned1', 'credits_earned2',\n",
      "       'session1', 'winter_ac_standing', 'GPA_year1', 'GPA_year2',\n",
      "       'CGPA_year1', 'CGPA_year2', 'totcredits_year1', 'totcredits_year2',\n",
      "       'goodstanding_year1', 'goodstanding_year2', 'winter_ac_stand_year1',\n",
      "       'winter_ac_stand_year2', 'fallreg_year1', 'fallreg_year2',\n",
      "       'act_fallreg_year1', 'act_fallreg_year2', 'summerreg_year1',\n",
      "       'summerreg_year2', 'sex', 'mtongue', 'identifier', 'age_at_entry',\n",
      "       'bpl_north_america', 'bpl_asia', 'canadian', 'bpl_other', 'firstyear',\n",
      "       'yearstodegree', 'gradin4', 'gradin5', 'gradin6', 'gradin4orcont',\n",
      "       'cumcredits1', 'cumcredits2', 'prog_science', 'prog_socsci_bus',\n",
      "       'prog_socscihum', 'prog_unknown', 'english', 'noenglish', 'french',\n",
      "       'other_lang', 'female', 'male', 'gpacutoff', 'dist_from_cut',\n",
      "       'year2_dist_from_cut', 'CGPA_final', 'nextGPA', 'nextCGPA',\n",
      "       'probation_year1', 'probation_year2', 'probation_summer1',\n",
      "       'probation_summer2', 'probation_ever', 'suspended_year1',\n",
      "       'suspended_summer1', 'suspended_year2', 'suspended_summer2',\n",
      "       'suspended_ever', 'loc_campus1', 'loc_campus2', 'loc_campus3', 'all',\n",
      "       'left_school', 'gpalscutoff', 'gpaXgpalscutoff', 'gpaXgpagrcutoff',\n",
      "       'gpasqXgpagrcutoff', 'dist_from_cut_med10', 'dist_from_cut_med05',\n",
      "       'dist_from_cut_med025', 'hsgrade_pct', 'veryhighHS', 'highHS', 'lowHS',\n",
      "       'maleXhighHS', 'femaleXhighHS', 'maleXlowabil', 'femaleXlowabil',\n",
      "       'clustervar', 'summer', 'const', 'nextGPA_above_cutoff'],\n",
      "      dtype='object')\n"
     ]
    }
   ],
   "source": [
    "columnlist = data.columns\n",
    "print(columnlist)"
   ]
  },
  {
   "cell_type": "code",
   "execution_count": 59,
   "metadata": {},
   "outputs": [
    {
     "data": {
      "text/html": [
       "<div>\n",
       "<style scoped>\n",
       "    .dataframe tbody tr th:only-of-type {\n",
       "        vertical-align: middle;\n",
       "    }\n",
       "\n",
       "    .dataframe tbody tr th {\n",
       "        vertical-align: top;\n",
       "    }\n",
       "\n",
       "    .dataframe thead th {\n",
       "        text-align: right;\n",
       "    }\n",
       "</style>\n",
       "<table border=\"1\" class=\"dataframe\">\n",
       "  <thead>\n",
       "    <tr style=\"text-align: right;\">\n",
       "      <th></th>\n",
       "      <th>credits1</th>\n",
       "      <th>credits2</th>\n",
       "      <th>credits_earned1</th>\n",
       "      <th>credits_earned2</th>\n",
       "      <th>session1</th>\n",
       "      <th>winter_ac_standing</th>\n",
       "      <th>GPA_year1</th>\n",
       "      <th>GPA_year2</th>\n",
       "      <th>CGPA_year1</th>\n",
       "      <th>CGPA_year2</th>\n",
       "      <th>totcredits_year1</th>\n",
       "      <th>totcredits_year2</th>\n",
       "      <th>goodstanding_year1</th>\n",
       "      <th>goodstanding_year2</th>\n",
       "      <th>winter_ac_stand_year1</th>\n",
       "      <th>winter_ac_stand_year2</th>\n",
       "    </tr>\n",
       "  </thead>\n",
       "  <tbody>\n",
       "    <tr>\n",
       "      <th>0</th>\n",
       "      <td>3.0</td>\n",
       "      <td>3.5</td>\n",
       "      <td>3.0</td>\n",
       "      <td>3.0</td>\n",
       "      <td>20009</td>\n",
       "      <td>OKAY</td>\n",
       "      <td>1.95</td>\n",
       "      <td>1.61</td>\n",
       "      <td>1.95</td>\n",
       "      <td>1.80</td>\n",
       "      <td>5.0</td>\n",
       "      <td>4.5</td>\n",
       "      <td>1</td>\n",
       "      <td>1</td>\n",
       "      <td>OKAY</td>\n",
       "      <td>OKAY</td>\n",
       "    </tr>\n",
       "    <tr>\n",
       "      <th>7</th>\n",
       "      <td>2.0</td>\n",
       "      <td>2.0</td>\n",
       "      <td>2.0</td>\n",
       "      <td>2.0</td>\n",
       "      <td>19969</td>\n",
       "      <td>OKAY</td>\n",
       "      <td>1.78</td>\n",
       "      <td>1.18</td>\n",
       "      <td>1.78</td>\n",
       "      <td>1.52</td>\n",
       "      <td>4.0</td>\n",
       "      <td>3.0</td>\n",
       "      <td>1</td>\n",
       "      <td>0</td>\n",
       "      <td>OKAY</td>\n",
       "      <td>PROB</td>\n",
       "    </tr>\n",
       "    <tr>\n",
       "      <th>14</th>\n",
       "      <td>2.5</td>\n",
       "      <td>2.5</td>\n",
       "      <td>2.5</td>\n",
       "      <td>2.5</td>\n",
       "      <td>20029</td>\n",
       "      <td>OKAY</td>\n",
       "      <td>1.94</td>\n",
       "      <td>2.14</td>\n",
       "      <td>1.94</td>\n",
       "      <td>2.09</td>\n",
       "      <td>5.0</td>\n",
       "      <td>5.0</td>\n",
       "      <td>1</td>\n",
       "      <td>1</td>\n",
       "      <td>OKAY</td>\n",
       "      <td>OKAY</td>\n",
       "    </tr>\n",
       "    <tr>\n",
       "      <th>16</th>\n",
       "      <td>2.0</td>\n",
       "      <td>2.5</td>\n",
       "      <td>2.0</td>\n",
       "      <td>2.0</td>\n",
       "      <td>19979</td>\n",
       "      <td>OKAY</td>\n",
       "      <td>2.10</td>\n",
       "      <td>1.53</td>\n",
       "      <td>2.10</td>\n",
       "      <td>1.80</td>\n",
       "      <td>4.0</td>\n",
       "      <td>4.5</td>\n",
       "      <td>1</td>\n",
       "      <td>1</td>\n",
       "      <td>OKAY</td>\n",
       "      <td>OKAY</td>\n",
       "    </tr>\n",
       "    <tr>\n",
       "      <th>18</th>\n",
       "      <td>3.0</td>\n",
       "      <td>0.0</td>\n",
       "      <td>2.5</td>\n",
       "      <td>0.0</td>\n",
       "      <td>20009</td>\n",
       "      <td>OKAY</td>\n",
       "      <td>1.78</td>\n",
       "      <td>NaN</td>\n",
       "      <td>1.78</td>\n",
       "      <td>NaN</td>\n",
       "      <td>4.5</td>\n",
       "      <td>0.0</td>\n",
       "      <td>1</td>\n",
       "      <td>0</td>\n",
       "      <td>OKAY</td>\n",
       "      <td></td>\n",
       "    </tr>\n",
       "  </tbody>\n",
       "</table>\n",
       "</div>"
      ],
      "text/plain": [
       "    credits1  credits2  credits_earned1  credits_earned2  session1  \\\n",
       "0        3.0       3.5              3.0              3.0     20009   \n",
       "7        2.0       2.0              2.0              2.0     19969   \n",
       "14       2.5       2.5              2.5              2.5     20029   \n",
       "16       2.0       2.5              2.0              2.0     19979   \n",
       "18       3.0       0.0              2.5              0.0     20009   \n",
       "\n",
       "   winter_ac_standing  GPA_year1  GPA_year2  CGPA_year1  CGPA_year2  \\\n",
       "0                OKAY       1.95       1.61        1.95        1.80   \n",
       "7                OKAY       1.78       1.18        1.78        1.52   \n",
       "14               OKAY       1.94       2.14        1.94        2.09   \n",
       "16               OKAY       2.10       1.53        2.10        1.80   \n",
       "18               OKAY       1.78        NaN        1.78         NaN   \n",
       "\n",
       "    totcredits_year1  totcredits_year2  goodstanding_year1  \\\n",
       "0                5.0               4.5                   1   \n",
       "7                4.0               3.0                   1   \n",
       "14               5.0               5.0                   1   \n",
       "16               4.0               4.5                   1   \n",
       "18               4.5               0.0                   1   \n",
       "\n",
       "    goodstanding_year2 winter_ac_stand_year1 winter_ac_stand_year2  \n",
       "0                    1                  OKAY                  OKAY  \n",
       "7                    0                  OKAY                  PROB  \n",
       "14                   1                  OKAY                  OKAY  \n",
       "16                   1                  OKAY                  OKAY  \n",
       "18                   0                  OKAY                        "
      ]
     },
     "execution_count": 59,
     "metadata": {},
     "output_type": "execute_result"
    }
   ],
   "source": [
    "# Overview of all variables in dataset.\n",
    "sample06[['credits1', 'credits2', 'credits_earned1', 'credits_earned2',\n",
    "       'session1', 'winter_ac_standing', 'GPA_year1', 'GPA_year2',\n",
    "       'CGPA_year1', 'CGPA_year2', 'totcredits_year1', 'totcredits_year2',\n",
    "       'goodstanding_year1', 'goodstanding_year2', 'winter_ac_stand_year1',\n",
    "       'winter_ac_stand_year2', ]].head()"
   ]
  },
  {
   "cell_type": "code",
   "execution_count": 60,
   "metadata": {},
   "outputs": [
    {
     "data": {
      "text/html": [
       "<div>\n",
       "<style scoped>\n",
       "    .dataframe tbody tr th:only-of-type {\n",
       "        vertical-align: middle;\n",
       "    }\n",
       "\n",
       "    .dataframe tbody tr th {\n",
       "        vertical-align: top;\n",
       "    }\n",
       "\n",
       "    .dataframe thead th {\n",
       "        text-align: right;\n",
       "    }\n",
       "</style>\n",
       "<table border=\"1\" class=\"dataframe\">\n",
       "  <thead>\n",
       "    <tr style=\"text-align: right;\">\n",
       "      <th></th>\n",
       "      <th>fallreg_year1</th>\n",
       "      <th>fallreg_year2</th>\n",
       "      <th>act_fallreg_year1</th>\n",
       "      <th>act_fallreg_year2</th>\n",
       "      <th>summerreg_year1</th>\n",
       "      <th>summerreg_year2</th>\n",
       "      <th>sex</th>\n",
       "      <th>mtongue</th>\n",
       "      <th>identifier</th>\n",
       "      <th>age_at_entry</th>\n",
       "      <th>bpl_north_america</th>\n",
       "      <th>bpl_asia</th>\n",
       "      <th>canadian</th>\n",
       "      <th>bpl_other</th>\n",
       "      <th>firstyear</th>\n",
       "      <th>yearstodegree</th>\n",
       "      <th>gradin4</th>\n",
       "      <th>gradin5</th>\n",
       "      <th>gradin6</th>\n",
       "      <th>gradin4orcont</th>\n",
       "    </tr>\n",
       "  </thead>\n",
       "  <tbody>\n",
       "    <tr>\n",
       "      <th>0</th>\n",
       "      <td>1</td>\n",
       "      <td>1</td>\n",
       "      <td>REG</td>\n",
       "      <td>REG</td>\n",
       "      <td>1</td>\n",
       "      <td>1</td>\n",
       "      <td>M</td>\n",
       "      <td>English</td>\n",
       "      <td>10</td>\n",
       "      <td>18.0</td>\n",
       "      <td>1.0</td>\n",
       "      <td>0.0</td>\n",
       "      <td>1.0</td>\n",
       "      <td>0.0</td>\n",
       "      <td>2000</td>\n",
       "      <td>4.0</td>\n",
       "      <td>1.0</td>\n",
       "      <td>1.0</td>\n",
       "      <td>NaN</td>\n",
       "      <td>1.0</td>\n",
       "    </tr>\n",
       "    <tr>\n",
       "      <th>7</th>\n",
       "      <td>1</td>\n",
       "      <td>1</td>\n",
       "      <td>REG</td>\n",
       "      <td>REG</td>\n",
       "      <td>0</td>\n",
       "      <td>1</td>\n",
       "      <td>F</td>\n",
       "      <td>English</td>\n",
       "      <td>79</td>\n",
       "      <td>19.0</td>\n",
       "      <td>1.0</td>\n",
       "      <td>0.0</td>\n",
       "      <td>1.0</td>\n",
       "      <td>0.0</td>\n",
       "      <td>1996</td>\n",
       "      <td>5.0</td>\n",
       "      <td>0.0</td>\n",
       "      <td>1.0</td>\n",
       "      <td>1.0</td>\n",
       "      <td>1.0</td>\n",
       "    </tr>\n",
       "    <tr>\n",
       "      <th>14</th>\n",
       "      <td>1</td>\n",
       "      <td>1</td>\n",
       "      <td>REG</td>\n",
       "      <td>REG</td>\n",
       "      <td>1</td>\n",
       "      <td>1</td>\n",
       "      <td>F</td>\n",
       "      <td>English</td>\n",
       "      <td>178</td>\n",
       "      <td>19.0</td>\n",
       "      <td>1.0</td>\n",
       "      <td>0.0</td>\n",
       "      <td>1.0</td>\n",
       "      <td>0.0</td>\n",
       "      <td>2002</td>\n",
       "      <td>NaN</td>\n",
       "      <td>NaN</td>\n",
       "      <td>NaN</td>\n",
       "      <td>NaN</td>\n",
       "      <td>NaN</td>\n",
       "    </tr>\n",
       "    <tr>\n",
       "      <th>16</th>\n",
       "      <td>1</td>\n",
       "      <td>1</td>\n",
       "      <td>REG</td>\n",
       "      <td>REG</td>\n",
       "      <td>0</td>\n",
       "      <td>0</td>\n",
       "      <td>M</td>\n",
       "      <td>English</td>\n",
       "      <td>187</td>\n",
       "      <td>19.0</td>\n",
       "      <td>1.0</td>\n",
       "      <td>0.0</td>\n",
       "      <td>1.0</td>\n",
       "      <td>0.0</td>\n",
       "      <td>1997</td>\n",
       "      <td>NaN</td>\n",
       "      <td>0.0</td>\n",
       "      <td>0.0</td>\n",
       "      <td>0.0</td>\n",
       "      <td>1.0</td>\n",
       "    </tr>\n",
       "    <tr>\n",
       "      <th>18</th>\n",
       "      <td>1</td>\n",
       "      <td>0</td>\n",
       "      <td>REG</td>\n",
       "      <td>FINCA</td>\n",
       "      <td>1</td>\n",
       "      <td>0</td>\n",
       "      <td>M</td>\n",
       "      <td>English</td>\n",
       "      <td>202</td>\n",
       "      <td>19.0</td>\n",
       "      <td>1.0</td>\n",
       "      <td>0.0</td>\n",
       "      <td>1.0</td>\n",
       "      <td>0.0</td>\n",
       "      <td>2000</td>\n",
       "      <td>NaN</td>\n",
       "      <td>0.0</td>\n",
       "      <td>0.0</td>\n",
       "      <td>NaN</td>\n",
       "      <td>0.0</td>\n",
       "    </tr>\n",
       "  </tbody>\n",
       "</table>\n",
       "</div>"
      ],
      "text/plain": [
       "    fallreg_year1  fallreg_year2 act_fallreg_year1 act_fallreg_year2  \\\n",
       "0               1              1               REG               REG   \n",
       "7               1              1               REG               REG   \n",
       "14              1              1               REG               REG   \n",
       "16              1              1               REG               REG   \n",
       "18              1              0               REG             FINCA   \n",
       "\n",
       "    summerreg_year1  summerreg_year2 sex  mtongue  identifier  age_at_entry  \\\n",
       "0                 1                1   M  English          10          18.0   \n",
       "7                 0                1   F  English          79          19.0   \n",
       "14                1                1   F  English         178          19.0   \n",
       "16                0                0   M  English         187          19.0   \n",
       "18                1                0   M  English         202          19.0   \n",
       "\n",
       "    bpl_north_america  bpl_asia  canadian  bpl_other  firstyear  \\\n",
       "0                 1.0       0.0       1.0        0.0       2000   \n",
       "7                 1.0       0.0       1.0        0.0       1996   \n",
       "14                1.0       0.0       1.0        0.0       2002   \n",
       "16                1.0       0.0       1.0        0.0       1997   \n",
       "18                1.0       0.0       1.0        0.0       2000   \n",
       "\n",
       "    yearstodegree  gradin4  gradin5  gradin6  gradin4orcont  \n",
       "0             4.0      1.0      1.0      NaN            1.0  \n",
       "7             5.0      0.0      1.0      1.0            1.0  \n",
       "14            NaN      NaN      NaN      NaN            NaN  \n",
       "16            NaN      0.0      0.0      0.0            1.0  \n",
       "18            NaN      0.0      0.0      NaN            0.0  "
      ]
     },
     "execution_count": 60,
     "metadata": {},
     "output_type": "execute_result"
    }
   ],
   "source": [
    "sample06[['fallreg_year1', 'fallreg_year2',\n",
    "       'act_fallreg_year1', 'act_fallreg_year2', 'summerreg_year1',\n",
    "       'summerreg_year2', 'sex', 'mtongue', 'identifier', 'age_at_entry',\n",
    "       'bpl_north_america', 'bpl_asia', 'canadian', 'bpl_other', 'firstyear',\n",
    "       'yearstodegree', 'gradin4', 'gradin5', 'gradin6', 'gradin4orcont']].head()"
   ]
  },
  {
   "cell_type": "code",
   "execution_count": 61,
   "metadata": {},
   "outputs": [
    {
     "data": {
      "text/html": [
       "<div>\n",
       "<style scoped>\n",
       "    .dataframe tbody tr th:only-of-type {\n",
       "        vertical-align: middle;\n",
       "    }\n",
       "\n",
       "    .dataframe tbody tr th {\n",
       "        vertical-align: top;\n",
       "    }\n",
       "\n",
       "    .dataframe thead th {\n",
       "        text-align: right;\n",
       "    }\n",
       "</style>\n",
       "<table border=\"1\" class=\"dataframe\">\n",
       "  <thead>\n",
       "    <tr style=\"text-align: right;\">\n",
       "      <th></th>\n",
       "      <th>cumcredits1</th>\n",
       "      <th>cumcredits2</th>\n",
       "      <th>prog_science</th>\n",
       "      <th>prog_socsci_bus</th>\n",
       "      <th>prog_socscihum</th>\n",
       "      <th>prog_unknown</th>\n",
       "      <th>english</th>\n",
       "      <th>noenglish</th>\n",
       "      <th>french</th>\n",
       "      <th>other_lang</th>\n",
       "      <th>female</th>\n",
       "      <th>male</th>\n",
       "      <th>gpacutoff</th>\n",
       "      <th>dist_from_cut</th>\n",
       "      <th>year2_dist_from_cut</th>\n",
       "      <th>CGPA_final</th>\n",
       "      <th>nextGPA</th>\n",
       "      <th>nextCGPA</th>\n",
       "      <th>GPA_year1</th>\n",
       "      <th>GPA_year2</th>\n",
       "    </tr>\n",
       "  </thead>\n",
       "  <tbody>\n",
       "    <tr>\n",
       "      <th>0</th>\n",
       "      <td>3.0</td>\n",
       "      <td>6.0</td>\n",
       "      <td>1.0</td>\n",
       "      <td>0.0</td>\n",
       "      <td>0.0</td>\n",
       "      <td>0.0</td>\n",
       "      <td>1.0</td>\n",
       "      <td>0.0</td>\n",
       "      <td>0.0</td>\n",
       "      <td>0.0</td>\n",
       "      <td>0.0</td>\n",
       "      <td>1.0</td>\n",
       "      <td>1.5</td>\n",
       "      <td>0.45</td>\n",
       "      <td>0.11</td>\n",
       "      <td>2.37</td>\n",
       "      <td>0.50</td>\n",
       "      <td>0.45</td>\n",
       "      <td>1.95</td>\n",
       "      <td>1.61</td>\n",
       "    </tr>\n",
       "    <tr>\n",
       "      <th>7</th>\n",
       "      <td>2.0</td>\n",
       "      <td>4.0</td>\n",
       "      <td>NaN</td>\n",
       "      <td>NaN</td>\n",
       "      <td>NaN</td>\n",
       "      <td>1.0</td>\n",
       "      <td>1.0</td>\n",
       "      <td>0.0</td>\n",
       "      <td>0.0</td>\n",
       "      <td>0.0</td>\n",
       "      <td>1.0</td>\n",
       "      <td>0.0</td>\n",
       "      <td>1.6</td>\n",
       "      <td>0.18</td>\n",
       "      <td>-0.42</td>\n",
       "      <td>2.65</td>\n",
       "      <td>-0.42</td>\n",
       "      <td>-0.08</td>\n",
       "      <td>1.78</td>\n",
       "      <td>1.18</td>\n",
       "    </tr>\n",
       "    <tr>\n",
       "      <th>14</th>\n",
       "      <td>2.5</td>\n",
       "      <td>5.0</td>\n",
       "      <td>0.0</td>\n",
       "      <td>0.0</td>\n",
       "      <td>1.0</td>\n",
       "      <td>0.0</td>\n",
       "      <td>1.0</td>\n",
       "      <td>0.0</td>\n",
       "      <td>0.0</td>\n",
       "      <td>0.0</td>\n",
       "      <td>1.0</td>\n",
       "      <td>0.0</td>\n",
       "      <td>1.5</td>\n",
       "      <td>0.44</td>\n",
       "      <td>0.64</td>\n",
       "      <td>NaN</td>\n",
       "      <td>1.50</td>\n",
       "      <td>0.54</td>\n",
       "      <td>1.94</td>\n",
       "      <td>2.14</td>\n",
       "    </tr>\n",
       "    <tr>\n",
       "      <th>16</th>\n",
       "      <td>2.0</td>\n",
       "      <td>4.0</td>\n",
       "      <td>NaN</td>\n",
       "      <td>NaN</td>\n",
       "      <td>NaN</td>\n",
       "      <td>1.0</td>\n",
       "      <td>1.0</td>\n",
       "      <td>0.0</td>\n",
       "      <td>0.0</td>\n",
       "      <td>0.0</td>\n",
       "      <td>0.0</td>\n",
       "      <td>1.0</td>\n",
       "      <td>1.6</td>\n",
       "      <td>0.50</td>\n",
       "      <td>-0.07</td>\n",
       "      <td>NaN</td>\n",
       "      <td>-0.07</td>\n",
       "      <td>0.20</td>\n",
       "      <td>2.10</td>\n",
       "      <td>1.53</td>\n",
       "    </tr>\n",
       "    <tr>\n",
       "      <th>18</th>\n",
       "      <td>2.5</td>\n",
       "      <td>2.5</td>\n",
       "      <td>1.0</td>\n",
       "      <td>0.0</td>\n",
       "      <td>0.0</td>\n",
       "      <td>0.0</td>\n",
       "      <td>1.0</td>\n",
       "      <td>0.0</td>\n",
       "      <td>0.0</td>\n",
       "      <td>0.0</td>\n",
       "      <td>0.0</td>\n",
       "      <td>1.0</td>\n",
       "      <td>1.6</td>\n",
       "      <td>0.18</td>\n",
       "      <td>NaN</td>\n",
       "      <td>NaN</td>\n",
       "      <td>0.40</td>\n",
       "      <td>0.22</td>\n",
       "      <td>1.78</td>\n",
       "      <td>NaN</td>\n",
       "    </tr>\n",
       "  </tbody>\n",
       "</table>\n",
       "</div>"
      ],
      "text/plain": [
       "    cumcredits1  cumcredits2  prog_science  prog_socsci_bus  prog_socscihum  \\\n",
       "0           3.0          6.0           1.0              0.0             0.0   \n",
       "7           2.0          4.0           NaN              NaN             NaN   \n",
       "14          2.5          5.0           0.0              0.0             1.0   \n",
       "16          2.0          4.0           NaN              NaN             NaN   \n",
       "18          2.5          2.5           1.0              0.0             0.0   \n",
       "\n",
       "    prog_unknown  english  noenglish  french  other_lang  female  male  \\\n",
       "0            0.0      1.0        0.0     0.0         0.0     0.0   1.0   \n",
       "7            1.0      1.0        0.0     0.0         0.0     1.0   0.0   \n",
       "14           0.0      1.0        0.0     0.0         0.0     1.0   0.0   \n",
       "16           1.0      1.0        0.0     0.0         0.0     0.0   1.0   \n",
       "18           0.0      1.0        0.0     0.0         0.0     0.0   1.0   \n",
       "\n",
       "    gpacutoff  dist_from_cut  year2_dist_from_cut  CGPA_final  nextGPA  \\\n",
       "0         1.5           0.45                 0.11        2.37     0.50   \n",
       "7         1.6           0.18                -0.42        2.65    -0.42   \n",
       "14        1.5           0.44                 0.64         NaN     1.50   \n",
       "16        1.6           0.50                -0.07         NaN    -0.07   \n",
       "18        1.6           0.18                  NaN         NaN     0.40   \n",
       "\n",
       "    nextCGPA  GPA_year1  GPA_year2  \n",
       "0       0.45       1.95       1.61  \n",
       "7      -0.08       1.78       1.18  \n",
       "14      0.54       1.94       2.14  \n",
       "16      0.20       2.10       1.53  \n",
       "18      0.22       1.78        NaN  "
      ]
     },
     "execution_count": 61,
     "metadata": {},
     "output_type": "execute_result"
    }
   ],
   "source": [
    "sample06[['cumcredits1', 'cumcredits2', 'prog_science', 'prog_socsci_bus',\n",
    "       'prog_socscihum', 'prog_unknown', 'english', 'noenglish', 'french',\n",
    "       'other_lang', 'female', 'male', 'gpacutoff', 'dist_from_cut',\n",
    "       'year2_dist_from_cut', 'CGPA_final', 'nextGPA', 'nextCGPA', 'GPA_year1', 'GPA_year2']].head()\n",
    "       "
   ]
  },
  {
   "cell_type": "code",
   "execution_count": 62,
   "metadata": {},
   "outputs": [
    {
     "data": {
      "text/html": [
       "<div>\n",
       "<style scoped>\n",
       "    .dataframe tbody tr th:only-of-type {\n",
       "        vertical-align: middle;\n",
       "    }\n",
       "\n",
       "    .dataframe tbody tr th {\n",
       "        vertical-align: top;\n",
       "    }\n",
       "\n",
       "    .dataframe thead th {\n",
       "        text-align: right;\n",
       "    }\n",
       "</style>\n",
       "<table border=\"1\" class=\"dataframe\">\n",
       "  <thead>\n",
       "    <tr style=\"text-align: right;\">\n",
       "      <th></th>\n",
       "      <th>probation_year1</th>\n",
       "      <th>probation_year2</th>\n",
       "      <th>probation_summer1</th>\n",
       "      <th>probation_summer2</th>\n",
       "      <th>probation_ever</th>\n",
       "      <th>suspended_year1</th>\n",
       "      <th>suspended_summer1</th>\n",
       "      <th>suspended_year2</th>\n",
       "      <th>suspended_summer2</th>\n",
       "      <th>suspended_ever</th>\n",
       "      <th>loc_campus1</th>\n",
       "      <th>loc_campus2</th>\n",
       "      <th>loc_campus3</th>\n",
       "      <th>all</th>\n",
       "      <th>left_school</th>\n",
       "    </tr>\n",
       "  </thead>\n",
       "  <tbody>\n",
       "    <tr>\n",
       "      <th>0</th>\n",
       "      <td>0.0</td>\n",
       "      <td>0.0</td>\n",
       "      <td>0.0</td>\n",
       "      <td>0.0</td>\n",
       "      <td>0.0</td>\n",
       "      <td>0.0</td>\n",
       "      <td>0.0</td>\n",
       "      <td>0.0</td>\n",
       "      <td>0.0</td>\n",
       "      <td>0.0</td>\n",
       "      <td>1.0</td>\n",
       "      <td>0.0</td>\n",
       "      <td>0.0</td>\n",
       "      <td>1.0</td>\n",
       "      <td>0.0</td>\n",
       "    </tr>\n",
       "    <tr>\n",
       "      <th>7</th>\n",
       "      <td>0.0</td>\n",
       "      <td>1.0</td>\n",
       "      <td>0.0</td>\n",
       "      <td>0.0</td>\n",
       "      <td>1.0</td>\n",
       "      <td>0.0</td>\n",
       "      <td>0.0</td>\n",
       "      <td>0.0</td>\n",
       "      <td>0.0</td>\n",
       "      <td>0.0</td>\n",
       "      <td>0.0</td>\n",
       "      <td>0.0</td>\n",
       "      <td>1.0</td>\n",
       "      <td>1.0</td>\n",
       "      <td>0.0</td>\n",
       "    </tr>\n",
       "    <tr>\n",
       "      <th>14</th>\n",
       "      <td>0.0</td>\n",
       "      <td>0.0</td>\n",
       "      <td>0.0</td>\n",
       "      <td>0.0</td>\n",
       "      <td>0.0</td>\n",
       "      <td>0.0</td>\n",
       "      <td>0.0</td>\n",
       "      <td>0.0</td>\n",
       "      <td>0.0</td>\n",
       "      <td>0.0</td>\n",
       "      <td>1.0</td>\n",
       "      <td>0.0</td>\n",
       "      <td>0.0</td>\n",
       "      <td>1.0</td>\n",
       "      <td>0.0</td>\n",
       "    </tr>\n",
       "    <tr>\n",
       "      <th>16</th>\n",
       "      <td>0.0</td>\n",
       "      <td>0.0</td>\n",
       "      <td>0.0</td>\n",
       "      <td>0.0</td>\n",
       "      <td>0.0</td>\n",
       "      <td>0.0</td>\n",
       "      <td>0.0</td>\n",
       "      <td>0.0</td>\n",
       "      <td>0.0</td>\n",
       "      <td>0.0</td>\n",
       "      <td>0.0</td>\n",
       "      <td>0.0</td>\n",
       "      <td>1.0</td>\n",
       "      <td>1.0</td>\n",
       "      <td>0.0</td>\n",
       "    </tr>\n",
       "    <tr>\n",
       "      <th>18</th>\n",
       "      <td>0.0</td>\n",
       "      <td>NaN</td>\n",
       "      <td>0.0</td>\n",
       "      <td>NaN</td>\n",
       "      <td>0.0</td>\n",
       "      <td>0.0</td>\n",
       "      <td>0.0</td>\n",
       "      <td>NaN</td>\n",
       "      <td>NaN</td>\n",
       "      <td>0.0</td>\n",
       "      <td>0.0</td>\n",
       "      <td>0.0</td>\n",
       "      <td>1.0</td>\n",
       "      <td>1.0</td>\n",
       "      <td>0.0</td>\n",
       "    </tr>\n",
       "  </tbody>\n",
       "</table>\n",
       "</div>"
      ],
      "text/plain": [
       "    probation_year1  probation_year2  probation_summer1  probation_summer2  \\\n",
       "0               0.0              0.0                0.0                0.0   \n",
       "7               0.0              1.0                0.0                0.0   \n",
       "14              0.0              0.0                0.0                0.0   \n",
       "16              0.0              0.0                0.0                0.0   \n",
       "18              0.0              NaN                0.0                NaN   \n",
       "\n",
       "    probation_ever  suspended_year1  suspended_summer1  suspended_year2  \\\n",
       "0              0.0              0.0                0.0              0.0   \n",
       "7              1.0              0.0                0.0              0.0   \n",
       "14             0.0              0.0                0.0              0.0   \n",
       "16             0.0              0.0                0.0              0.0   \n",
       "18             0.0              0.0                0.0              NaN   \n",
       "\n",
       "    suspended_summer2  suspended_ever  loc_campus1  loc_campus2  loc_campus3  \\\n",
       "0                 0.0             0.0          1.0          0.0          0.0   \n",
       "7                 0.0             0.0          0.0          0.0          1.0   \n",
       "14                0.0             0.0          1.0          0.0          0.0   \n",
       "16                0.0             0.0          0.0          0.0          1.0   \n",
       "18                NaN             0.0          0.0          0.0          1.0   \n",
       "\n",
       "    all  left_school  \n",
       "0   1.0          0.0  \n",
       "7   1.0          0.0  \n",
       "14  1.0          0.0  \n",
       "16  1.0          0.0  \n",
       "18  1.0          0.0  "
      ]
     },
     "execution_count": 62,
     "metadata": {},
     "output_type": "execute_result"
    }
   ],
   "source": [
    "sample06[['probation_year1', 'probation_year2', 'probation_summer1',\n",
    "       'probation_summer2', 'probation_ever','suspended_year1','suspended_summer1', \n",
    "       'suspended_year2', 'suspended_summer2','suspended_ever', 'loc_campus1', 'loc_campus2', 'loc_campus3', 'all',\n",
    "       'left_school']].head()"
   ]
  },
  {
   "cell_type": "code",
   "execution_count": 63,
   "metadata": {},
   "outputs": [
    {
     "data": {
      "text/html": [
       "<div>\n",
       "<style scoped>\n",
       "    .dataframe tbody tr th:only-of-type {\n",
       "        vertical-align: middle;\n",
       "    }\n",
       "\n",
       "    .dataframe tbody tr th {\n",
       "        vertical-align: top;\n",
       "    }\n",
       "\n",
       "    .dataframe thead th {\n",
       "        text-align: right;\n",
       "    }\n",
       "</style>\n",
       "<table border=\"1\" class=\"dataframe\">\n",
       "  <thead>\n",
       "    <tr style=\"text-align: right;\">\n",
       "      <th></th>\n",
       "      <th>gpalscutoff</th>\n",
       "      <th>gpaXgpalscutoff</th>\n",
       "      <th>gpaXgpagrcutoff</th>\n",
       "      <th>gpasqXgpagrcutoff</th>\n",
       "      <th>dist_from_cut_med10</th>\n",
       "      <th>dist_from_cut_med05</th>\n",
       "      <th>dist_from_cut_med025</th>\n",
       "      <th>hsgrade_pct</th>\n",
       "      <th>veryhighHS</th>\n",
       "      <th>highHS</th>\n",
       "      <th>lowHS</th>\n",
       "      <th>maleXhighHS</th>\n",
       "      <th>femaleXhighHS</th>\n",
       "      <th>maleXlowabil</th>\n",
       "      <th>femaleXlowabil</th>\n",
       "      <th>clustervar</th>\n",
       "      <th>summer</th>\n",
       "    </tr>\n",
       "  </thead>\n",
       "  <tbody>\n",
       "    <tr>\n",
       "      <th>0</th>\n",
       "      <td>0.0</td>\n",
       "      <td>0.0</td>\n",
       "      <td>0.45</td>\n",
       "      <td>0.2025</td>\n",
       "      <td>0.45</td>\n",
       "      <td>0.475</td>\n",
       "      <td>0.4525</td>\n",
       "      <td>65</td>\n",
       "      <td>0.0</td>\n",
       "      <td>1.0</td>\n",
       "      <td>0.0</td>\n",
       "      <td>1.0</td>\n",
       "      <td>0.0</td>\n",
       "      <td>0.0</td>\n",
       "      <td>0.0</td>\n",
       "      <td>0.45</td>\n",
       "      <td>1.0</td>\n",
       "    </tr>\n",
       "    <tr>\n",
       "      <th>7</th>\n",
       "      <td>0.0</td>\n",
       "      <td>0.0</td>\n",
       "      <td>0.18</td>\n",
       "      <td>0.0324</td>\n",
       "      <td>0.15</td>\n",
       "      <td>0.175</td>\n",
       "      <td>0.1925</td>\n",
       "      <td>27</td>\n",
       "      <td>0.0</td>\n",
       "      <td>0.0</td>\n",
       "      <td>1.0</td>\n",
       "      <td>0.0</td>\n",
       "      <td>0.0</td>\n",
       "      <td>0.0</td>\n",
       "      <td>1.0</td>\n",
       "      <td>0.18</td>\n",
       "      <td>0.0</td>\n",
       "    </tr>\n",
       "    <tr>\n",
       "      <th>14</th>\n",
       "      <td>0.0</td>\n",
       "      <td>0.0</td>\n",
       "      <td>0.44</td>\n",
       "      <td>0.1936</td>\n",
       "      <td>0.45</td>\n",
       "      <td>0.425</td>\n",
       "      <td>0.4525</td>\n",
       "      <td>49</td>\n",
       "      <td>0.0</td>\n",
       "      <td>0.0</td>\n",
       "      <td>1.0</td>\n",
       "      <td>0.0</td>\n",
       "      <td>0.0</td>\n",
       "      <td>0.0</td>\n",
       "      <td>1.0</td>\n",
       "      <td>0.44</td>\n",
       "      <td>1.0</td>\n",
       "    </tr>\n",
       "    <tr>\n",
       "      <th>16</th>\n",
       "      <td>0.0</td>\n",
       "      <td>0.0</td>\n",
       "      <td>0.50</td>\n",
       "      <td>0.2500</td>\n",
       "      <td>0.55</td>\n",
       "      <td>0.525</td>\n",
       "      <td>0.5125</td>\n",
       "      <td>21</td>\n",
       "      <td>0.0</td>\n",
       "      <td>0.0</td>\n",
       "      <td>1.0</td>\n",
       "      <td>0.0</td>\n",
       "      <td>0.0</td>\n",
       "      <td>1.0</td>\n",
       "      <td>0.0</td>\n",
       "      <td>0.50</td>\n",
       "      <td>0.0</td>\n",
       "    </tr>\n",
       "    <tr>\n",
       "      <th>18</th>\n",
       "      <td>0.0</td>\n",
       "      <td>0.0</td>\n",
       "      <td>0.18</td>\n",
       "      <td>0.0324</td>\n",
       "      <td>0.15</td>\n",
       "      <td>0.175</td>\n",
       "      <td>0.1925</td>\n",
       "      <td>30</td>\n",
       "      <td>0.0</td>\n",
       "      <td>0.0</td>\n",
       "      <td>1.0</td>\n",
       "      <td>0.0</td>\n",
       "      <td>0.0</td>\n",
       "      <td>1.0</td>\n",
       "      <td>0.0</td>\n",
       "      <td>0.18</td>\n",
       "      <td>1.0</td>\n",
       "    </tr>\n",
       "  </tbody>\n",
       "</table>\n",
       "</div>"
      ],
      "text/plain": [
       "    gpalscutoff  gpaXgpalscutoff  gpaXgpagrcutoff  gpasqXgpagrcutoff  \\\n",
       "0           0.0              0.0             0.45             0.2025   \n",
       "7           0.0              0.0             0.18             0.0324   \n",
       "14          0.0              0.0             0.44             0.1936   \n",
       "16          0.0              0.0             0.50             0.2500   \n",
       "18          0.0              0.0             0.18             0.0324   \n",
       "\n",
       "    dist_from_cut_med10  dist_from_cut_med05  dist_from_cut_med025  \\\n",
       "0                  0.45                0.475                0.4525   \n",
       "7                  0.15                0.175                0.1925   \n",
       "14                 0.45                0.425                0.4525   \n",
       "16                 0.55                0.525                0.5125   \n",
       "18                 0.15                0.175                0.1925   \n",
       "\n",
       "    hsgrade_pct  veryhighHS  highHS  lowHS  maleXhighHS  femaleXhighHS  \\\n",
       "0            65         0.0     1.0    0.0          1.0            0.0   \n",
       "7            27         0.0     0.0    1.0          0.0            0.0   \n",
       "14           49         0.0     0.0    1.0          0.0            0.0   \n",
       "16           21         0.0     0.0    1.0          0.0            0.0   \n",
       "18           30         0.0     0.0    1.0          0.0            0.0   \n",
       "\n",
       "    maleXlowabil  femaleXlowabil  clustervar  summer  \n",
       "0            0.0             0.0        0.45     1.0  \n",
       "7            0.0             1.0        0.18     0.0  \n",
       "14           0.0             1.0        0.44     1.0  \n",
       "16           1.0             0.0        0.50     0.0  \n",
       "18           1.0             0.0        0.18     1.0  "
      ]
     },
     "execution_count": 63,
     "metadata": {},
     "output_type": "execute_result"
    }
   ],
   "source": [
    "sample06[['gpalscutoff', 'gpaXgpalscutoff', 'gpaXgpagrcutoff',\n",
    "          'gpasqXgpagrcutoff', 'dist_from_cut_med10', 'dist_from_cut_med05',\n",
    "          'dist_from_cut_med025', 'hsgrade_pct', 'veryhighHS', 'highHS', 'lowHS',\n",
    "          'maleXhighHS', 'femaleXhighHS', 'maleXlowabil', 'femaleXlowabil',\n",
    "          'clustervar', 'summer']].head()"
   ]
  },
  {
   "cell_type": "markdown",
   "metadata": {},
   "source": [
    "# References"
   ]
  },
  {
   "cell_type": "markdown",
   "metadata": {},
   "source": [
    "Bénabou, R., & Tirole, J. (2000). Self-confidence and social interactions (No. w7585). National bureau of economic research.\n",
    "\n",
    "Lee, D. S., & Lemieux, T. (2010). Regression discontinuity designs in economics. Journal of economic literature, 48(2), 281-355.\n",
    "\n",
    "Lindo, J. M., Sanders, N. J., & Oreopoulos, P. (2010). Ability, gender, and performance standards: Evidence from academic probation. American Economic Journal: Applied Economics, 2(2), 95-117.\n",
    " "
   ]
  },
  {
   "cell_type": "code",
   "execution_count": null,
   "metadata": {},
   "outputs": [],
   "source": []
  },
  {
   "cell_type": "code",
   "execution_count": null,
   "metadata": {},
   "outputs": [],
   "source": []
  }
 ],
 "metadata": {
  "kernelspec": {
   "display_name": "Python 3",
   "language": "python",
   "name": "python3"
  },
  "language_info": {
   "codemirror_mode": {
    "name": "ipython",
    "version": 3
   },
   "file_extension": ".py",
   "mimetype": "text/x-python",
   "name": "python",
   "nbconvert_exporter": "python",
   "pygments_lexer": "ipython3",
   "version": "3.7.2"
  },
  "toc": {
   "base_numbering": 1,
   "nav_menu": {},
   "number_sections": true,
   "sideBar": true,
   "skip_h1_title": false,
   "title_cell": "Table of Contents",
   "title_sidebar": "Contents",
   "toc_cell": false,
   "toc_position": {
    "height": "622.65px",
    "left": "255px",
    "top": "187.8px",
    "width": "209.125px"
   },
   "toc_section_display": true,
   "toc_window_display": true
  },
  "varInspector": {
   "cols": {
    "lenName": 16,
    "lenType": 16,
    "lenVar": 40
   },
   "kernels_config": {
    "python": {
     "delete_cmd_postfix": "",
     "delete_cmd_prefix": "del ",
     "library": "var_list.py",
     "varRefreshCmd": "print(var_dic_list())"
    },
    "r": {
     "delete_cmd_postfix": ") ",
     "delete_cmd_prefix": "rm(",
     "library": "var_list.r",
     "varRefreshCmd": "cat(var_dic_list()) "
    }
   },
   "oldHeight": 189.73845400000002,
   "position": {
    "height": "478.719px",
    "left": "987.578px",
    "right": "20px",
    "top": "283.984px",
    "width": "717.172px"
   },
   "types_to_exclude": [
    "module",
    "function",
    "builtin_function_or_method",
    "instance",
    "_Feature"
   ],
   "varInspector_section_display": "block",
   "window_display": false
  }
 },
 "nbformat": 4,
 "nbformat_minor": 2
}
