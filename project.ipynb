{
 "cells": [
  {
   "cell_type": "markdown",
   "metadata": {},
   "source": [
    "*Project for the course in Microeconometrics, Summer 2019, Bonn University*\n",
    "\n",
    "---\n",
    "\n",
    "## Replication of Jason M. Lindo, Nicholas J. Sanders & Philip Oreopoulos (2010) <a class=\"tocSkip\"> \n",
    "\n",
    "In this notebook I replicate the main results from \n",
    "\n",
    "_Lindo, J. M., Sanders, N. J., & Oreopoulos, P. (2010). Ability, gender, and performance standards: Evidence from academic probation. American Economic Journal: Applied Economics, 2(2), 95-117._\n",
    "\n",
    "\n",
    "The paper as well as all the materials needed for the replication can be accessed [here](https://www.aeaweb.org/articles?id=10.1257/app.2.2.95)."
   ]
  },
  {
   "cell_type": "markdown",
   "metadata": {},
   "source": [
    "---"
   ]
  },
  {
   "cell_type": "code",
   "execution_count": 1,
   "metadata": {},
   "outputs": [],
   "source": [
    "%matplotlib inline\n",
    "\n",
    "import numpy as np\n",
    "import pandas as pd\n",
    "import pandas.io.formats.style\n",
    "import seaborn as sns\n",
    "import statsmodels as sm\n",
    "import statsmodels.formula.api as smf\n",
    "import statsmodels.api as sm_api\n",
    "import matplotlib as plt\n",
    "from IPython.display import HTML\n"
   ]
  },
  {
   "cell_type": "code",
   "execution_count": 2,
   "metadata": {},
   "outputs": [],
   "source": [
    "# import functions from auxiliary file\n",
    "from auxiliary.auxiliary import *"
   ]
  },
  {
   "cell_type": "markdown",
   "metadata": {},
   "source": [
    "# Overview "
   ]
  },
  {
   "cell_type": "markdown",
   "metadata": {},
   "source": [
    "Lindo et al. (2010) examine the effects of academic probation on student outcomes using data from Canada. Academic probation is a university policy that aims to improve the performance of the lowest scoring students. If a student's grade point average (GPA) drops below a certain threshold, the student is placed on academic probabtion. The probation status serves as a warning and does not entail immediate consequences, however, if students fail to improve their grades during the following year, they face the threat of being suspended from university. In a more general sense, academic probation may offer insights into how agents respond to negative incentives and the threat of punishment in a real world context with high stakes. \n",
    "\n",
    "To estimate the causal impact of being placed on probation, Lindo et al. (2010) apply a **regression discontinuity design (RDD)** to data retrieved from three campuses at a large Canadian university. The RDD is motivated by the idea that the students who score just above the threshold for being put on academic probation provide a good counterfactual to the 'treatment group' that scores just below the threshold and is put on academic probation. \n",
    "\n",
    "**Observed outcomes:**\n",
    "* Drop-out rates\n",
    "* Subsequent performance\n",
    "* Graduation rates\n",
    "\n",
    "**Covariates:**\n",
    "* Gender\n",
    "* High school performance\n",
    "* Native language \n",
    "* Age at entry\n",
    "* Credits attempted in 1st year\n",
    "* Birthplace\n",
    "* Campus"
   ]
  },
  {
   "cell_type": "markdown",
   "metadata": {},
   "source": [
    "# Theoretical Background"
   ]
  },
  {
   "cell_type": "markdown",
   "metadata": {},
   "source": [
    "The underlying framework used for the analysis is a model developed by Bénabou and Tirole (2000) which models agent's responses to a performance standard. While Bénabou and Tirole (2000) model a game between a principal and an agent, Lindo et al. (2010) focus only on an agent to relate the model to the example of academic probation. \n",
    "\n",
    "In the performance standard model, the agents face a choice between three options:\n",
    " 1. **Option 1**: Incurs cost $c_1$ and grants benifit $V_1$ if sucessful.\n",
    " 2. **Option 2**: Incurs cost $c_2$ and grants benifit $V_2$ if sucessful.\n",
    " 3. **Neither** option: Incurs 0 cost and 0 benefit.\n",
    " \n",
    "Option 1 has a lower cost and a lower benefit than option 2 such that:\n",
    "\n",
    "\\begin{equation}\n",
    "    0 < c_1 < c_2 ,  0 < V_1 < V_2.\n",
    "\\end{equation}\n",
    "\n",
    "Ability, denoted by $\\theta$, translates to the probability of sucessfully completing either option. Assuming agents have perfect information about their ability, they solve the maximizing problem\n",
    "\n",
    "\\begin{equation}\n",
    "max\\{0, \\theta V_1-c_1, \\theta V_2-c_2\\}.\n",
    "\\end{equation}\n",
    "  \n",
    "Let $\\underline{\\theta}$ be the ability level where the agent is indiffernt between neither and option two and let $\\bar{\\theta}$ be the ability level at which she is indifferent between option 1 and option 2. Assuming that\n",
    "\n",
    "\\begin{equation}\n",
    "\\underline{\\theta} \\equiv \\frac{c_1}{V_1} < \\bar{\\theta} \\equiv \\frac{c_2-c_1}{V_2-V1} < 1\n",
    "\\end{equation}\n",
    "\n",
    "ensures that both options are optimal for at least some $\\theta$.\n",
    "\n",
    "It can be shown that \n",
    "* the lowest ability types ($\\theta < \\underline{\\theta}$) choose neither option,\n",
    "* the highest ability types ($\\bar{\\theta} < \\theta$) choose the difficult option,\n",
    "* the individuals in between the high and low type $\\underline{\\theta}< \\theta < \\bar{\\theta} $) choose the easier option.\n",
    "\n",
    "If the principal now removes option 1 or makes choosing this option much more costly, then the agent will choose option 2 if and only if\n",
    "\n",
    "\\begin{equation}\n",
    "\\theta \\ge \\frac{c_2}{V_2} \\equiv \\theta^*\n",
    "\\end{equation}\n",
    "\n",
    "\n",
    "and choose neither option otherwise. The agents who would have chosen option 1 now split according to ability. Agents with high ability (specifically those with $\\theta \\in [\\theta^*,\\bar{\\theta}]$) work harder thereby choosing option 2 while low ability types (those with $\\theta \\in [\\underline{\\theta}, \\theta^*]$) do not persue option 2 (& thus choose neither option).\n",
    "\n",
    "In the context of academic probation, students face a similar decision problem and set of options. Students whose GPA is just above the probation cutoff face the full set of options for the next year:\n",
    "\n",
    "1. **Option 1**: Return to school and exhibit low effort and achieving a low GPA\n",
    "2. **Option 2**: Return to school and exhibit high effort with the intent of achieving a high GPA\n",
    "3. **Neither** option: Drop out of university\n",
    "\n",
    "The students who score below the probation cutoff face a restricted set of options, as the univsersity administration essentially eliminates option 1 by suspending students if they do not improve their grades. \n",
    "\n",
    "Lindo et al. (2010) formulate three testable implications of this theoretical framework: \n",
    "\n",
    "  * \"Forbidding option 1 will **increase the overall probability of students dropping out**.\n",
    "  * Forbidding option 1 will **increase the performance of those who return**.\n",
    "  * Forbidding option 1 will cause **relatively low-ability students to drop out** and **relatively high-ability students to return and work harder**.\""
   ]
  },
  {
   "cell_type": "markdown",
   "metadata": {},
   "source": [
    "# Causal Graphs"
   ]
  },
  {
   "cell_type": "markdown",
   "metadata": {},
   "source": [
    "wip"
   ]
  },
  {
   "cell_type": "markdown",
   "metadata": {},
   "source": [
    "# Study replication"
   ]
  },
  {
   "cell_type": "code",
   "execution_count": 3,
   "metadata": {},
   "outputs": [
    {
     "data": {
      "text/plain": [
       "(44362, 86)"
      ]
     },
     "execution_count": 3,
     "metadata": {},
     "output_type": "execute_result"
    }
   ],
   "source": [
    "# Loading the data\n",
    "data = pd.read_stata('data/data_for_analysis.dta')\n",
    "data.shape"
   ]
  },
  {
   "cell_type": "markdown",
   "metadata": {},
   "source": [
    "## Data & Descriptive Statistics\n",
    "Overview of all variables in the provided dataset:"
   ]
  },
  {
   "cell_type": "code",
   "execution_count": 4,
   "metadata": {
    "scrolled": true
   },
   "outputs": [
    {
     "name": "stdout",
     "output_type": "stream",
     "text": [
      "Index(['credits1', 'credits2', 'credits_earned1', 'credits_earned2',\n",
      "       'session1', 'winter_ac_standing', 'GPA_year1', 'GPA_year2',\n",
      "       'CGPA_year1', 'CGPA_year2', 'totcredits_year1', 'totcredits_year2',\n",
      "       'goodstanding_year1', 'goodstanding_year2', 'winter_ac_stand_year1',\n",
      "       'winter_ac_stand_year2', 'fallreg_year1', 'fallreg_year2',\n",
      "       'act_fallreg_year1', 'act_fallreg_year2', 'summerreg_year1',\n",
      "       'summerreg_year2', 'sex', 'mtongue', 'identifier', 'age_at_entry',\n",
      "       'bpl_north_america', 'bpl_asia', 'canadian', 'bpl_other', 'firstyear',\n",
      "       'yearstodegree', 'gradin4', 'gradin5', 'gradin6', 'gradin4orcont',\n",
      "       'cumcredits1', 'cumcredits2', 'prog_science', 'prog_socsci_bus',\n",
      "       'prog_socscihum', 'prog_unknown', 'english', 'noenglish', 'french',\n",
      "       'other_lang', 'female', 'male', 'gpacutoff', 'dist_from_cut',\n",
      "       'year2_dist_from_cut', 'CGPA_final', 'nextGPA', 'nextCGPA',\n",
      "       'probation_year1', 'probation_year2', 'probation_summer1',\n",
      "       'probation_summer2', 'probation_ever', 'suspended_year1',\n",
      "       'suspended_summer1', 'suspended_year2', 'suspended_summer2',\n",
      "       'suspended_ever', 'loc_campus1', 'loc_campus2', 'loc_campus3', 'all',\n",
      "       'left_school', 'gpalscutoff', 'gpaXgpalscutoff', 'gpaXgpagrcutoff',\n",
      "       'gpasqXgpagrcutoff', 'dist_from_cut_med10', 'dist_from_cut_med05',\n",
      "       'dist_from_cut_med025', 'hsgrade_pct', 'veryhighHS', 'highHS', 'lowHS',\n",
      "       'maleXhighHS', 'femaleXhighHS', 'maleXlowabil', 'femaleXlowabil',\n",
      "       'clustervar', 'summer'],\n",
      "      dtype='object')\n"
     ]
    }
   ],
   "source": [
    "columnlist = data.columns\n",
    "print(columnlist)"
   ]
  },
  {
   "cell_type": "code",
   "execution_count": 5,
   "metadata": {},
   "outputs": [],
   "source": [
    "# Add constant to data to use in regressions later.\n",
    "data.loc[:,'const'] = 1"
   ]
  },
  {
   "cell_type": "markdown",
   "metadata": {},
   "source": [
    "### Data Restriction & Preparation"
   ]
  },
  {
   "cell_type": "markdown",
   "metadata": {},
   "source": [
    "Lindo et al. (2010) filter the data to meet the following requirements:\n",
    "* Students entered university before the year 2004 ( to ensure they can be observed over a 2-year period)\n",
    "* Students are between 17 and 21 years of age at time of entry\n",
    "* Distance from cutoff is maximally 0.6"
   ]
  },
  {
   "cell_type": "code",
   "execution_count": 6,
   "metadata": {},
   "outputs": [
    {
     "data": {
      "text/plain": [
       "array([2002, 2001, 2000, 2003, 1996, 1998, 1997, 1999], dtype=int64)"
      ]
     },
     "execution_count": 6,
     "metadata": {},
     "output_type": "execute_result"
    }
   ],
   "source": [
    "data.firstyear.unique()"
   ]
  },
  {
   "cell_type": "code",
   "execution_count": 7,
   "metadata": {},
   "outputs": [
    {
     "data": {
      "text/plain": [
       "array([19., 18., 20., 17., 21.])"
      ]
     },
     "execution_count": 7,
     "metadata": {},
     "output_type": "execute_result"
    }
   ],
   "source": [
    "data.age_at_entry.unique()"
   ]
  },
  {
   "cell_type": "markdown",
   "metadata": {},
   "source": [
    "The dataset provided for replication is already filtered by age and year of university entrance. The distance from cutoff still spans from  values of -1.6 to 2.8 as can be seen below. I thus filter the data further to receive the sample used in the study."
   ]
  },
  {
   "cell_type": "code",
   "execution_count": 8,
   "metadata": {
    "scrolled": true
   },
   "outputs": [
    {
     "name": "stdout",
     "output_type": "stream",
     "text": [
      "(array([ 842., 1290., 2571., 4265., 6328., 7828., 8156., 6789., 4806.,\n",
      "       1487.]), array([-1.6       , -1.1600001 , -0.72      , -0.28000003,  0.15999997,\n",
      "        0.59999996,  1.04      ,  1.48      ,  1.92      ,  2.36      ,\n",
      "        2.8       ], dtype=float32), <a list of 10 Patch objects>)\n"
     ]
    },
    {
     "data": {
      "image/png": "[encoded data removed]",
      "text/plain": [
       "<Figure size 432x288 with 1 Axes>"
      ]
     },
     "metadata": {
      "needs_background": "light"
     },
     "output_type": "display_data"
    }
   ],
   "source": [
    "# Distribution of values for distance from cutoff.\n",
    "print(plt.pyplot.hist(data['dist_from_cut'], color = \"coral\"))"
   ]
  },
  {
   "cell_type": "code",
   "execution_count": 9,
   "metadata": {},
   "outputs": [
    {
     "name": "stdout",
     "output_type": "stream",
     "text": [
      "A sample of students within 1.2 points from the cuttoff encompasses 25389 observations.\n"
     ]
    }
   ],
   "source": [
    "# Reduce sample to students within 1.2 points from cutoff.\n",
    "sample12 = data[abs(data['dist_from_cut']) < 1.2] \n",
    "sample12.reset_index(inplace=True)\n",
    "print(\"A sample of students within 1.2 points from the cuttoff encompasses\", sample12.shape[0], \"observations.\")"
   ]
  },
  {
   "cell_type": "code",
   "execution_count": 10,
   "metadata": {},
   "outputs": [
    {
     "name": "stdout",
     "output_type": "stream",
     "text": [
      "The final sample includes 12530 observations.\n"
     ]
    }
   ],
   "source": [
    "# Reduce sample to students within 0.6 points from cutoff.\n",
    "sample06 = data[abs(data['dist_from_cut']) < 0.6]  \n",
    "sample06.reset_index(inplace=True)\n",
    "print(\"The final sample includes\", sample06.shape[0], \"observations.\")"
   ]
  },
  {
   "cell_type": "markdown",
   "metadata": {},
   "source": [
    "### Summary Statistics and Table 1"
   ]
  },
  {
   "cell_type": "code",
   "execution_count": 11,
   "metadata": {
    "scrolled": true
   },
   "outputs": [],
   "source": [
    "main = sample06[['hsgrade_pct','totcredits_year1', 'age_at_entry','male', 'english', 'bpl_north_america', \n",
    "             'loc_campus1','loc_campus2', 'loc_campus3',\n",
    "             'dist_from_cut', 'probation_year1', 'probation_ever', 'left_school', 'year2_dist_from_cut',\n",
    "             'suspended_ever', 'gradin4', 'gradin5', 'gradin6']]"
   ]
  },
  {
   "cell_type": "code",
   "execution_count": 12,
   "metadata": {},
   "outputs": [
    {
     "data": {
      "text/html": [
       "<div>\n",
       "<style scoped>\n",
       "    .dataframe tbody tr th:only-of-type {\n",
       "        vertical-align: middle;\n",
       "    }\n",
       "\n",
       "    .dataframe tbody tr th {\n",
       "        vertical-align: top;\n",
       "    }\n",
       "\n",
       "    .dataframe thead th {\n",
       "        text-align: right;\n",
       "    }\n",
       "</style>\n",
       "<table border=\"1\" class=\"dataframe\">\n",
       "  <thead>\n",
       "    <tr style=\"text-align: right;\">\n",
       "      <th></th>\n",
       "      <th>Mean</th>\n",
       "      <th>Standard Deviation</th>\n",
       "      <th>Description</th>\n",
       "      <th>Type</th>\n",
       "    </tr>\n",
       "  </thead>\n",
       "  <tbody>\n",
       "    <tr>\n",
       "      <th>hsgrade_pct</th>\n",
       "      <td>33.332085</td>\n",
       "      <td>23.288502</td>\n",
       "      <td>High School Grade Percentile</td>\n",
       "      <td>Characteristics</td>\n",
       "    </tr>\n",
       "    <tr>\n",
       "      <th>totcredits_year1</th>\n",
       "      <td>4.426975</td>\n",
       "      <td>0.530186</td>\n",
       "      <td>Credits attempted first year</td>\n",
       "      <td>Characteristics</td>\n",
       "    </tr>\n",
       "    <tr>\n",
       "      <th>age_at_entry</th>\n",
       "      <td>18.718756</td>\n",
       "      <td>0.735240</td>\n",
       "      <td>Age at entry</td>\n",
       "      <td>Characteristics</td>\n",
       "    </tr>\n",
       "    <tr>\n",
       "      <th>male</th>\n",
       "      <td>0.375180</td>\n",
       "      <td>0.484199</td>\n",
       "      <td>Male</td>\n",
       "      <td>Characteristics</td>\n",
       "    </tr>\n",
       "    <tr>\n",
       "      <th>english</th>\n",
       "      <td>0.718755</td>\n",
       "      <td>0.449625</td>\n",
       "      <td>English is first language</td>\n",
       "      <td>Characteristics</td>\n",
       "    </tr>\n",
       "    <tr>\n",
       "      <th>bpl_north_america</th>\n",
       "      <td>0.870231</td>\n",
       "      <td>0.336071</td>\n",
       "      <td>Born in North America</td>\n",
       "      <td>Characteristics</td>\n",
       "    </tr>\n",
       "    <tr>\n",
       "      <th>loc_campus1</th>\n",
       "      <td>0.478132</td>\n",
       "      <td>0.499548</td>\n",
       "      <td>At Campus 1</td>\n",
       "      <td>Characteristics</td>\n",
       "    </tr>\n",
       "    <tr>\n",
       "      <th>loc_campus2</th>\n",
       "      <td>0.209497</td>\n",
       "      <td>0.406989</td>\n",
       "      <td>At Campus 2</td>\n",
       "      <td>Characteristics</td>\n",
       "    </tr>\n",
       "    <tr>\n",
       "      <th>loc_campus3</th>\n",
       "      <td>0.312370</td>\n",
       "      <td>0.463482</td>\n",
       "      <td>At Campus 3</td>\n",
       "      <td>Characteristics</td>\n",
       "    </tr>\n",
       "    <tr>\n",
       "      <th>dist_from_cut</th>\n",
       "      <td>0.111093</td>\n",
       "      <td>0.325851</td>\n",
       "      <td>Distance from cutoff in first year</td>\n",
       "      <td>Outcomes</td>\n",
       "    </tr>\n",
       "    <tr>\n",
       "      <th>probation_year1</th>\n",
       "      <td>0.348603</td>\n",
       "      <td>0.476571</td>\n",
       "      <td>On probation after first year</td>\n",
       "      <td>Outcomes</td>\n",
       "    </tr>\n",
       "    <tr>\n",
       "      <th>probation_ever</th>\n",
       "      <td>0.455227</td>\n",
       "      <td>0.498036</td>\n",
       "      <td>Ever on acad. probation</td>\n",
       "      <td>Outcomes</td>\n",
       "    </tr>\n",
       "    <tr>\n",
       "      <th>left_school</th>\n",
       "      <td>0.049721</td>\n",
       "      <td>0.217385</td>\n",
       "      <td>Left uni after 1st evaluation</td>\n",
       "      <td>Outcomes</td>\n",
       "    </tr>\n",
       "    <tr>\n",
       "      <th>year2_dist_from_cut</th>\n",
       "      <td>0.455728</td>\n",
       "      <td>0.698237</td>\n",
       "      <td>Distance from cutoff at next evaluation</td>\n",
       "      <td>Outcomes</td>\n",
       "    </tr>\n",
       "    <tr>\n",
       "      <th>suspended_ever</th>\n",
       "      <td>0.157941</td>\n",
       "      <td>0.364688</td>\n",
       "      <td>Ever suspended</td>\n",
       "      <td>Outcomes</td>\n",
       "    </tr>\n",
       "    <tr>\n",
       "      <th>gradin4</th>\n",
       "      <td>0.286589</td>\n",
       "      <td>0.452199</td>\n",
       "      <td>Graduated by year  4</td>\n",
       "      <td>Outcomes</td>\n",
       "    </tr>\n",
       "    <tr>\n",
       "      <th>gradin5</th>\n",
       "      <td>0.555327</td>\n",
       "      <td>0.496966</td>\n",
       "      <td>Graduated by year  5</td>\n",
       "      <td>Outcomes</td>\n",
       "    </tr>\n",
       "    <tr>\n",
       "      <th>gradin6</th>\n",
       "      <td>0.657619</td>\n",
       "      <td>0.474543</td>\n",
       "      <td>Graduated by year  6</td>\n",
       "      <td>Outcomes</td>\n",
       "    </tr>\n",
       "  </tbody>\n",
       "</table>\n",
       "</div>"
      ],
      "text/plain": [
       "                          Mean  Standard Deviation  \\\n",
       "hsgrade_pct          33.332085           23.288502   \n",
       "totcredits_year1      4.426975            0.530186   \n",
       "age_at_entry         18.718756            0.735240   \n",
       "male                  0.375180            0.484199   \n",
       "english               0.718755            0.449625   \n",
       "bpl_north_america     0.870231            0.336071   \n",
       "loc_campus1           0.478132            0.499548   \n",
       "loc_campus2           0.209497            0.406989   \n",
       "loc_campus3           0.312370            0.463482   \n",
       "dist_from_cut         0.111093            0.325851   \n",
       "probation_year1       0.348603            0.476571   \n",
       "probation_ever        0.455227            0.498036   \n",
       "left_school           0.049721            0.217385   \n",
       "year2_dist_from_cut   0.455728            0.698237   \n",
       "suspended_ever        0.157941            0.364688   \n",
       "gradin4               0.286589            0.452199   \n",
       "gradin5               0.555327            0.496966   \n",
       "gradin6               0.657619            0.474543   \n",
       "\n",
       "                                                 Description             Type  \n",
       "hsgrade_pct                     High School Grade Percentile  Characteristics  \n",
       "totcredits_year1                Credits attempted first year  Characteristics  \n",
       "age_at_entry                                    Age at entry  Characteristics  \n",
       "male                                                    Male  Characteristics  \n",
       "english                            English is first language  Characteristics  \n",
       "bpl_north_america                      Born in North America  Characteristics  \n",
       "loc_campus1                                      At Campus 1  Characteristics  \n",
       "loc_campus2                                      At Campus 2  Characteristics  \n",
       "loc_campus3                                      At Campus 3  Characteristics  \n",
       "dist_from_cut             Distance from cutoff in first year         Outcomes  \n",
       "probation_year1                On probation after first year         Outcomes  \n",
       "probation_ever                       Ever on acad. probation         Outcomes  \n",
       "left_school                    Left uni after 1st evaluation         Outcomes  \n",
       "year2_dist_from_cut  Distance from cutoff at next evaluation         Outcomes  \n",
       "suspended_ever                                Ever suspended         Outcomes  \n",
       "gradin4                                 Graduated by year  4         Outcomes  \n",
       "gradin5                                 Graduated by year  5         Outcomes  \n",
       "gradin6                                 Graduated by year  6         Outcomes  "
      ]
     },
     "execution_count": 12,
     "metadata": {},
     "output_type": "execute_result"
    }
   ],
   "source": [
    "table1 = pd.DataFrame()\n",
    "table1['Mean'] = main.mean()\n",
    "table1['Standard Deviation'] = main.std()\n",
    "#table1 = table1.astype(float).round(2)\n",
    "table1['Description'] = [\"High School Grade Percentile\", \"Credits attempted first year\", \"Age at entry\",\n",
    "                         \"Male\", \"English is first language\", \"Born in North America\", \n",
    "                         \"At Campus 1\", \"At Campus 2\", \"At Campus 3\",\n",
    "                         \"Distance from cutoff in first year\", \"On probation after first year\", \" Ever on acad. probation\",\n",
    "                         \"Left uni after 1st evaluation\", \"Distance from cutoff at next evaluation\", \"Ever suspended\",\n",
    "                         \"Graduated by year  4\", \"Graduated by year  5\", \"Graduated by year  6\"]\n",
    "table1.loc[0:9,'Type'] = \"Characteristics\"\n",
    "table1.loc[9:,'Type'] = \"Outcomes\"\n",
    "table1"
   ]
  },
  {
   "cell_type": "markdown",
   "metadata": {},
   "source": [
    "## Empirical Strategy"
   ]
  },
  {
   "cell_type": "markdown",
   "metadata": {},
   "source": [
    "The author examine the impact of being put on probation after the first year in university. The probation status after the first year is a deterministic funtion of student's GPA, formally\n",
    "\n",
    "\\begin{equation}\n",
    "PROB^{year1}_{IC} = 1(GPANORM^{year1}_{IC} < 0),\n",
    "\\end{equation}\n",
    "\n",
    "where $PROB^{year1}_{IC}$ represents the probation status of student $i$ at campus $c$ and $GPANORM^{year1}_{IC}$ is the distance between student i's first year GPA and the probationary cutoff at their respective campus. \n",
    "\n",
    "Applying the regression dicontunity design, the treatment effect for students near the threshold is obtained by comparing the outcomes of students just below the threshold to those just above the threshold.\n",
    "\n",
    "The following equation can be used to estimate the effects of academic probation on subsequent student outcomes:\n",
    "\n",
    "\\begin{equation}\n",
    "Y_{ic} = m(GPANORM_{ic}^{year1}) + \\delta1(GPANORM_{ic}^{year1}<0) + u_{ic} \n",
    "\\end{equation}\n",
    "\n",
    "* $Y_{ic}$ denotes the outcome for student $i$ at campus $c$, \n",
    "* $m(GPANORM_{ic}^{year1})$ is a continuous function of students's tandarized first year GPAs,\n",
    "* $1(GPANORM_{ic}^{year1}<0)$ is an indicator function equal to 1 if the student's GPA is below the probation cutoff\n",
    "* $u_{ic} $ is the error term\n",
    "* $\\delta$ is the coeffcient for the estimated impact of being placed on academic probation after the first year\n",
    "\n",
    "For the regression analysis, Lindo et al. (2010) extend the above equation by an interaction term and a constant:\n",
    "\n",
    "\\begin{equation}\n",
    "Y_{ic} = \\alpha + \\delta1(GPANORM_{ic}^{year1}<0) + \\beta(GPANORM_{ic}^{year1}) \n",
    "                + \\gamma(GPANORM_{ic}^{year1})x 1(GPANORM_{ic}^{year1}<0) + u_{ic} \n",
    "\\end{equation}\n"
   ]
  },
  {
   "cell_type": "markdown",
   "metadata": {},
   "source": [
    "## Replication of Results"
   ]
  },
  {
   "cell_type": "markdown",
   "metadata": {},
   "source": [
    "### Tests of the Validity of the RD Approach"
   ]
  },
  {
   "cell_type": "markdown",
   "metadata": {},
   "source": [
    "The core motivation in the application of RD approaches is the idea, that the variation in treatment near the cutoff is random if subjects are unable to control the selection into treatment (Lee & Lemieux, 2010). This condition, if fulfilled, means the RDD is able to closely emulate a randomized experiment and allows researchers to identify the effects of treatment. \n",
    "\n",
    "For evaluating the effects of academic probation on subsequent student outcomes, the RDD is thus a valid approach only if students are not able to precisely manipulate whether they score above or below the cutoff. Lindo et al. (2010) offer multiple arguments to adress concerns about nonrandom sorting: \n",
    "\n",
    "1. The study focuses on **first year students**, assuming this group of students is likely to be less familiar with the probation policy on campus. To verify their conjecture, the author also conducted a survey in an introductory economics course which revealed that around 50 % of students were unsure of the probation cutoff at their campus. They also claim that this analysis showed no relationship between knowledge of probation cutoffs and student's grades. \n",
    "\n",
    "\n",
    "2. The authors also point out that most first year courses span the entire year and most of the evaluation takes place at the end of the term which would make it difficult for students to purposely aim for performances slightly above the cutoff for academic probation.\n",
    "\n",
    "\n",
    "3. Finally, and most importantly, the implication of local randomization is testable. If nonrandom sorting were to be a problem, there should be a **discontinuity** in the distribution of grades at the cutoff with a disproportionate number of students scoring just above the cutoff. Figure 1 and table 2 show the (replicated) results of tests for such discontinuities."
   ]
  },
  {
   "cell_type": "markdown",
   "metadata": {},
   "source": [
    "I first sort the data from sample12 (the sample containing all observations within 1.2 GPA points from the cutoff) into bins of size 0.1. The bins contain their lower limit but not their upper limit (i.e. _[lower limit ,upper limit)_): \n"
   ]
  },
  {
   "cell_type": "code",
   "execution_count": 13,
   "metadata": {},
   "outputs": [],
   "source": [
    "sample_treat = sample12[sample12['dist_from_cut'] < 0]\n",
    "sample_untreat = sample12[sample12['dist_from_cut'] >= 0]"
   ]
  },
  {
   "cell_type": "code",
   "execution_count": 14,
   "metadata": {},
   "outputs": [],
   "source": [
    "# Bins for treated group\n",
    "bins_treat = [-1.21,-1.11,-1.01,-0.91,-0.81,-0.71,-0.61,-0.51,-0.41,-0.31,-0.21,-0.11, -0.01]\n",
    "bins_labels_treat = np.arange(-1.15,0,0.1)\n",
    "\n",
    "sample_treat.loc[:]['bins'] = pd.cut(x=sample_treat['dist_from_cut'],bins=bins_treat, right=False, labels= bins_labels_treat )\n",
    "sample_treat.loc[:]['bins_range'] = pd.cut(x=sample_treat['dist_from_cut'],bins=bins_treat, right=False)"
   ]
  },
  {
   "cell_type": "code",
   "execution_count": 15,
   "metadata": {},
   "outputs": [
    {
     "name": "stderr",
     "output_type": "stream",
     "text": [
      "C:\\Users\\arohanui\\Anaconda3\\lib\\site-packages\\pandas\\core\\indexing.py:362: SettingWithCopyWarning: \n",
      "A value is trying to be set on a copy of a slice from a DataFrame.\n",
      "Try using .loc[row_indexer,col_indexer] = value instead\n",
      "\n",
      "See the caveats in the documentation: http://pandas.pydata.org/pandas-docs/stable/indexing.html#indexing-view-versus-copy\n",
      "  self.obj[key] = _infer_fill_value(value)\n",
      "C:\\Users\\arohanui\\Anaconda3\\lib\\site-packages\\pandas\\core\\indexing.py:543: SettingWithCopyWarning: \n",
      "A value is trying to be set on a copy of a slice from a DataFrame.\n",
      "Try using .loc[row_indexer,col_indexer] = value instead\n",
      "\n",
      "See the caveats in the documentation: http://pandas.pydata.org/pandas-docs/stable/indexing.html#indexing-view-versus-copy\n",
      "  self.obj[item] = s\n",
      "C:\\Users\\arohanui\\Anaconda3\\lib\\site-packages\\pandas\\core\\indexing.py:362: SettingWithCopyWarning: \n",
      "A value is trying to be set on a copy of a slice from a DataFrame.\n",
      "Try using .loc[row_indexer,col_indexer] = value instead\n",
      "\n",
      "See the caveats in the documentation: http://pandas.pydata.org/pandas-docs/stable/indexing.html#indexing-view-versus-copy\n",
      "  self.obj[key] = _infer_fill_value(value)\n",
      "C:\\Users\\arohanui\\Anaconda3\\lib\\site-packages\\pandas\\core\\indexing.py:543: SettingWithCopyWarning: \n",
      "A value is trying to be set on a copy of a slice from a DataFrame.\n",
      "Try using .loc[row_indexer,col_indexer] = value instead\n",
      "\n",
      "See the caveats in the documentation: http://pandas.pydata.org/pandas-docs/stable/indexing.html#indexing-view-versus-copy\n",
      "  self.obj[item] = s\n"
     ]
    }
   ],
   "source": [
    "# Bins for treated group\n",
    "bins_treat = [-1.21,-1.11,-1.01,-0.91,-0.81,-0.71,-0.61,-0.51,-0.41,-0.31,-0.21,-0.11, -0.01]\n",
    "bins_labels_treat = np.arange(-1.15,0,0.1)\n",
    "\n",
    "sample_treat['bins'] = pd.cut(x=sample_treat['dist_from_cut'],bins=bins_treat, right=False, labels= bins_labels_treat )\n",
    "sample_treat['bins_range'] = pd.cut(x=sample_treat['dist_from_cut'],bins=bins_treat, right=False)"
   ]
  },
  {
   "cell_type": "code",
   "execution_count": 16,
   "metadata": {},
   "outputs": [
    {
     "name": "stderr",
     "output_type": "stream",
     "text": [
      "C:\\Users\\arohanui\\Anaconda3\\lib\\site-packages\\ipykernel_launcher.py:5: SettingWithCopyWarning: \n",
      "A value is trying to be set on a copy of a slice from a DataFrame.\n",
      "Try using .loc[row_indexer,col_indexer] = value instead\n",
      "\n",
      "See the caveats in the documentation: http://pandas.pydata.org/pandas-docs/stable/indexing.html#indexing-view-versus-copy\n",
      "  \"\"\"\n",
      "C:\\Users\\arohanui\\Anaconda3\\lib\\site-packages\\ipykernel_launcher.py:6: SettingWithCopyWarning: \n",
      "A value is trying to be set on a copy of a slice from a DataFrame.\n",
      "Try using .loc[row_indexer,col_indexer] = value instead\n",
      "\n",
      "See the caveats in the documentation: http://pandas.pydata.org/pandas-docs/stable/indexing.html#indexing-view-versus-copy\n",
      "  \n"
     ]
    }
   ],
   "source": [
    "# Bins for untreated group\n",
    "bins_untreat = [0.0, 0.0999, 0.1999, 0.2999, 0.3999, 0.4999, 0.5999, 0.6999, 0.7999, 0.8999, 0.9999, 1.0999, 1.1999]\n",
    "bins_labels_untreat = np.arange(0.05,1.25,0.1)\n",
    "\n",
    "sample_untreat['bins'] = pd.cut(x=sample_untreat['dist_from_cut'],bins=bins_untreat, right=False, labels= bins_labels_untreat )\n",
    "sample_untreat['bins_range'] = pd.cut(x=sample_untreat['dist_from_cut'],bins=bins_untreat, right=False)"
   ]
  },
  {
   "cell_type": "code",
   "execution_count": 17,
   "metadata": {
    "scrolled": true
   },
   "outputs": [
    {
     "data": {
      "text/html": [
       "<div>\n",
       "<style scoped>\n",
       "    .dataframe tbody tr th:only-of-type {\n",
       "        vertical-align: middle;\n",
       "    }\n",
       "\n",
       "    .dataframe tbody tr th {\n",
       "        vertical-align: top;\n",
       "    }\n",
       "\n",
       "    .dataframe thead th {\n",
       "        text-align: right;\n",
       "    }\n",
       "</style>\n",
       "<table border=\"1\" class=\"dataframe\">\n",
       "  <thead>\n",
       "    <tr style=\"text-align: right;\">\n",
       "      <th></th>\n",
       "      <th>dist_from_cut</th>\n",
       "      <th>bins</th>\n",
       "      <th>bins_range</th>\n",
       "    </tr>\n",
       "  </thead>\n",
       "  <tbody>\n",
       "    <tr>\n",
       "      <th>0</th>\n",
       "      <td>0.45</td>\n",
       "      <td>0.45</td>\n",
       "      <td>[0.4, 0.5)</td>\n",
       "    </tr>\n",
       "    <tr>\n",
       "      <th>1</th>\n",
       "      <td>0.68</td>\n",
       "      <td>0.65</td>\n",
       "      <td>[0.6, 0.7)</td>\n",
       "    </tr>\n",
       "    <tr>\n",
       "      <th>2</th>\n",
       "      <td>0.84</td>\n",
       "      <td>0.85</td>\n",
       "      <td>[0.8, 0.9)</td>\n",
       "    </tr>\n",
       "    <tr>\n",
       "      <th>3</th>\n",
       "      <td>0.98</td>\n",
       "      <td>0.95</td>\n",
       "      <td>[0.9, 1.0)</td>\n",
       "    </tr>\n",
       "    <tr>\n",
       "      <th>4</th>\n",
       "      <td>0.80</td>\n",
       "      <td>0.85</td>\n",
       "      <td>[0.8, 0.9)</td>\n",
       "    </tr>\n",
       "  </tbody>\n",
       "</table>\n",
       "</div>"
      ],
      "text/plain": [
       "   dist_from_cut  bins  bins_range\n",
       "0           0.45  0.45  [0.4, 0.5)\n",
       "1           0.68  0.65  [0.6, 0.7)\n",
       "2           0.84  0.85  [0.8, 0.9)\n",
       "3           0.98  0.95  [0.9, 1.0)\n",
       "4           0.80  0.85  [0.8, 0.9)"
      ]
     },
     "execution_count": 17,
     "metadata": {},
     "output_type": "execute_result"
    }
   ],
   "source": [
    "# Rejoin treated and untreated sample \n",
    "sample12 = pd.concat([sample_untreat, sample_treat])\n",
    "sample12.reset_index(inplace=True)\n",
    "\n",
    "sample12[['dist_from_cut', 'bins', 'bins_range']].head()"
   ]
  },
  {
   "cell_type": "markdown",
   "metadata": {},
   "source": [
    "Plot frequency of each bin & regression line:"
   ]
  },
  {
   "cell_type": "code",
   "execution_count": 18,
   "metadata": {},
   "outputs": [],
   "source": [
    "figure1 = pd.DataFrame(sample12['bins'].value_counts())\n",
    "figure1.reset_index(level=0, inplace=True)\n",
    "figure1.rename(columns={\"index\": \"bins\", \"bins\": \"counts\"}, inplace=True)"
   ]
  },
  {
   "cell_type": "code",
   "execution_count": 19,
   "metadata": {},
   "outputs": [
    {
     "data": {
      "text/plain": [
       "Text(0,0.5,'Frequency count')"
      ]
     },
     "execution_count": 19,
     "metadata": {},
     "output_type": "execute_result"
    },
    {
     "data": {
      "image/png": "[encoded data removed]",
      "text/plain": [
       "<Figure size 432x288 with 1 Axes>"
      ]
     },
     "metadata": {
      "needs_background": "light"
     },
     "output_type": "display_data"
    }
   ],
   "source": [
    "fig1_untreated = figure1[figure1['bins'] > 0]\n",
    "fig1_treated = figure1[figure1['bins'] < 0]\n",
    "\n",
    "lowess_treated  = sm.nonparametric.smoothers_lowess.lowess(\n",
    "        endog=fig1_treated.counts, \n",
    "        exog=fig1_treated.bins, \n",
    "        return_sorted=False, \n",
    "        frac=0.7, \n",
    "        delta=0,\n",
    "    )\n",
    "\n",
    "lowess_untreated  = sm.nonparametric.smoothers_lowess.lowess(\n",
    "        endog=fig1_untreated.counts, \n",
    "        exog=fig1_untreated.bins, \n",
    "        return_sorted=False, \n",
    "        frac=0.7, \n",
    "        delta=0,\n",
    "    )\n",
    "\n",
    "plt.pyplot.xlim(-1.5,1.5,0.1)\n",
    "plt.pyplot.ylim(0,2100)\n",
    "plt.pyplot.plot(figure1.bins,figure1.counts, 'o')\n",
    "plt.pyplot.axvline(x=0, color='r')\n",
    "plt.pyplot.plot(fig1_untreated.bins,lowess_untreated)\n",
    "plt.pyplot.plot(fig1_treated.bins,lowess_treated)\n",
    "plt.pyplot.title('Figure 1: Distribution of student grades relative to their cutoff')\n",
    "plt.pyplot.xlabel('First year GPA minus probation cutoff')\n",
    "plt.pyplot.ylabel('Frequency count')"
   ]
  },
  {
   "cell_type": "markdown",
   "metadata": {},
   "source": [
    "#### Table 2 - Estimated Discontinuities in observable characteristics "
   ]
  },
  {
   "cell_type": "markdown",
   "metadata": {},
   "source": [
    "Table 2 shows the results of local linear regession (using a bandwidth of 0.6) for a range of observable characteristics that are related to student outcomes. Significant discontinuities would indicate that students with certain characterstics might be able to manipulate their grades to score above the probation cutoff. Table 2 shows that the coefficient for scoring below the cutoff is insignificant at the 10% level for all covariates. These estimates support the validity of the RD approach. "
   ]
  },
  {
   "cell_type": "code",
   "execution_count": 20,
   "metadata": {},
   "outputs": [],
   "source": [
    "# Define covariates and regressors.\n",
    "covariates = ('hsgrade_pct','totcredits_year1', 'age_at_entry','male', 'english', 'bpl_north_america', \n",
    "              'loc_campus1','loc_campus2')\n",
    "regressors = ['const','gpalscutoff','gpaXgpalscutoff','gpaXgpagrcutoff']\n"
   ]
  },
  {
   "cell_type": "code",
   "execution_count": 21,
   "metadata": {},
   "outputs": [],
   "source": [
    "# Create shell for tables 2-4.\n",
    "table_template = pd.DataFrame({ 'GPA below cutoff (1)': [], 'P-Value (1)':[], 'Std.err (1)':[], \n",
    "                       'Intercept (0)':[], 'P-Value (0)':[], 'Std.err (0)':[], \n",
    "                       'Observations':[]})"
   ]
  },
  {
   "cell_type": "code",
   "execution_count": 22,
   "metadata": {},
   "outputs": [
    {
     "data": {
      "text/html": [
       "<style  type=\"text/css\" >\n",
       "    #T_884b58ac_974a_11e9_82a1_54ee758e2065row0_col1 {\n",
       "            color:  black;\n",
       "        }    #T_884b58ac_974a_11e9_82a1_54ee758e2065row0_col4 {\n",
       "            color:  red;\n",
       "        }    #T_884b58ac_974a_11e9_82a1_54ee758e2065row1_col1 {\n",
       "            color:  black;\n",
       "        }    #T_884b58ac_974a_11e9_82a1_54ee758e2065row1_col4 {\n",
       "            color:  red;\n",
       "        }    #T_884b58ac_974a_11e9_82a1_54ee758e2065row2_col1 {\n",
       "            color:  black;\n",
       "        }    #T_884b58ac_974a_11e9_82a1_54ee758e2065row2_col4 {\n",
       "            color:  red;\n",
       "        }    #T_884b58ac_974a_11e9_82a1_54ee758e2065row3_col1 {\n",
       "            color:  black;\n",
       "        }    #T_884b58ac_974a_11e9_82a1_54ee758e2065row3_col4 {\n",
       "            color:  red;\n",
       "        }    #T_884b58ac_974a_11e9_82a1_54ee758e2065row4_col1 {\n",
       "            color:  black;\n",
       "        }    #T_884b58ac_974a_11e9_82a1_54ee758e2065row4_col4 {\n",
       "            color:  red;\n",
       "        }    #T_884b58ac_974a_11e9_82a1_54ee758e2065row5_col1 {\n",
       "            color:  black;\n",
       "        }    #T_884b58ac_974a_11e9_82a1_54ee758e2065row5_col4 {\n",
       "            color:  red;\n",
       "        }    #T_884b58ac_974a_11e9_82a1_54ee758e2065row6_col1 {\n",
       "            color:  black;\n",
       "        }    #T_884b58ac_974a_11e9_82a1_54ee758e2065row6_col4 {\n",
       "            color:  red;\n",
       "        }    #T_884b58ac_974a_11e9_82a1_54ee758e2065row7_col1 {\n",
       "            color:  black;\n",
       "        }    #T_884b58ac_974a_11e9_82a1_54ee758e2065row7_col4 {\n",
       "            color:  red;\n",
       "        }</style><table id=\"T_884b58ac_974a_11e9_82a1_54ee758e2065\" ><thead>    <tr>        <th class=\"blank level0\" ></th>        <th class=\"col_heading level0 col0\" >GPA below cutoff (1)</th>        <th class=\"col_heading level0 col1\" >P-Value (1)</th>        <th class=\"col_heading level0 col2\" >Std.err (1)</th>        <th class=\"col_heading level0 col3\" >Intercept (0)</th>        <th class=\"col_heading level0 col4\" >P-Value (0)</th>        <th class=\"col_heading level0 col5\" >Std.err (0)</th>        <th class=\"col_heading level0 col6\" >Observations</th>    </tr>    <tr>        <th class=\"index_name level0\" >outcomes</th>        <th class=\"blank\" ></th>        <th class=\"blank\" ></th>        <th class=\"blank\" ></th>        <th class=\"blank\" ></th>        <th class=\"blank\" ></th>        <th class=\"blank\" ></th>        <th class=\"blank\" ></th>    </tr></thead><tbody>\n",
       "                <tr>\n",
       "                        <th id=\"T_884b58ac_974a_11e9_82a1_54ee758e2065level0_row0\" class=\"row_heading level0 row0\" >hsgrade_pct</th>\n",
       "                        <td id=\"T_884b58ac_974a_11e9_82a1_54ee758e2065row0_col0\" class=\"data row0 col0\" >0.45</td>\n",
       "                        <td id=\"T_884b58ac_974a_11e9_82a1_54ee758e2065row0_col1\" class=\"data row0 col1\" >0.72</td>\n",
       "                        <td id=\"T_884b58ac_974a_11e9_82a1_54ee758e2065row0_col2\" class=\"data row0 col2\" >1.259</td>\n",
       "                        <td id=\"T_884b58ac_974a_11e9_82a1_54ee758e2065row0_col3\" class=\"data row0 col3\" >30.991</td>\n",
       "                        <td id=\"T_884b58ac_974a_11e9_82a1_54ee758e2065row0_col4\" class=\"data row0 col4\" >0</td>\n",
       "                        <td id=\"T_884b58ac_974a_11e9_82a1_54ee758e2065row0_col5\" class=\"data row0 col5\" >0.745</td>\n",
       "                        <td id=\"T_884b58ac_974a_11e9_82a1_54ee758e2065row0_col6\" class=\"data row0 col6\" >12530</td>\n",
       "            </tr>\n",
       "            <tr>\n",
       "                        <th id=\"T_884b58ac_974a_11e9_82a1_54ee758e2065level0_row1\" class=\"row_heading level0 row1\" >totcredits_year1</th>\n",
       "                        <td id=\"T_884b58ac_974a_11e9_82a1_54ee758e2065row1_col0\" class=\"data row1 col0\" >0.024</td>\n",
       "                        <td id=\"T_884b58ac_974a_11e9_82a1_54ee758e2065row1_col1\" class=\"data row1 col1\" >0.749</td>\n",
       "                        <td id=\"T_884b58ac_974a_11e9_82a1_54ee758e2065row1_col2\" class=\"data row1 col2\" >0.076</td>\n",
       "                        <td id=\"T_884b58ac_974a_11e9_82a1_54ee758e2065row1_col3\" class=\"data row1 col3\" >4.386</td>\n",
       "                        <td id=\"T_884b58ac_974a_11e9_82a1_54ee758e2065row1_col4\" class=\"data row1 col4\" >0</td>\n",
       "                        <td id=\"T_884b58ac_974a_11e9_82a1_54ee758e2065row1_col5\" class=\"data row1 col5\" >0.046</td>\n",
       "                        <td id=\"T_884b58ac_974a_11e9_82a1_54ee758e2065row1_col6\" class=\"data row1 col6\" >12530</td>\n",
       "            </tr>\n",
       "            <tr>\n",
       "                        <th id=\"T_884b58ac_974a_11e9_82a1_54ee758e2065level0_row2\" class=\"row_heading level0 row2\" >age_at_entry</th>\n",
       "                        <td id=\"T_884b58ac_974a_11e9_82a1_54ee758e2065row2_col0\" class=\"data row2 col0\" >0.015</td>\n",
       "                        <td id=\"T_884b58ac_974a_11e9_82a1_54ee758e2065row2_col1\" class=\"data row2 col1\" >0.641</td>\n",
       "                        <td id=\"T_884b58ac_974a_11e9_82a1_54ee758e2065row2_col2\" class=\"data row2 col2\" >0.032</td>\n",
       "                        <td id=\"T_884b58ac_974a_11e9_82a1_54ee758e2065row2_col3\" class=\"data row2 col3\" >18.719</td>\n",
       "                        <td id=\"T_884b58ac_974a_11e9_82a1_54ee758e2065row2_col4\" class=\"data row2 col4\" >0</td>\n",
       "                        <td id=\"T_884b58ac_974a_11e9_82a1_54ee758e2065row2_col5\" class=\"data row2 col5\" >0.021</td>\n",
       "                        <td id=\"T_884b58ac_974a_11e9_82a1_54ee758e2065row2_col6\" class=\"data row2 col6\" >12530</td>\n",
       "            </tr>\n",
       "            <tr>\n",
       "                        <th id=\"T_884b58ac_974a_11e9_82a1_54ee758e2065level0_row3\" class=\"row_heading level0 row3\" >male</th>\n",
       "                        <td id=\"T_884b58ac_974a_11e9_82a1_54ee758e2065row3_col0\" class=\"data row3 col0\" >0</td>\n",
       "                        <td id=\"T_884b58ac_974a_11e9_82a1_54ee758e2065row3_col1\" class=\"data row3 col1\" >0.989</td>\n",
       "                        <td id=\"T_884b58ac_974a_11e9_82a1_54ee758e2065row3_col2\" class=\"data row3 col2\" >0.024</td>\n",
       "                        <td id=\"T_884b58ac_974a_11e9_82a1_54ee758e2065row3_col3\" class=\"data row3 col3\" >0.374</td>\n",
       "                        <td id=\"T_884b58ac_974a_11e9_82a1_54ee758e2065row3_col4\" class=\"data row3 col4\" >0</td>\n",
       "                        <td id=\"T_884b58ac_974a_11e9_82a1_54ee758e2065row3_col5\" class=\"data row3 col5\" >0.012</td>\n",
       "                        <td id=\"T_884b58ac_974a_11e9_82a1_54ee758e2065row3_col6\" class=\"data row3 col6\" >12530</td>\n",
       "            </tr>\n",
       "            <tr>\n",
       "                        <th id=\"T_884b58ac_974a_11e9_82a1_54ee758e2065level0_row4\" class=\"row_heading level0 row4\" >english</th>\n",
       "                        <td id=\"T_884b58ac_974a_11e9_82a1_54ee758e2065row4_col0\" class=\"data row4 col0\" >-0.037</td>\n",
       "                        <td id=\"T_884b58ac_974a_11e9_82a1_54ee758e2065row4_col1\" class=\"data row4 col1\" >0.124</td>\n",
       "                        <td id=\"T_884b58ac_974a_11e9_82a1_54ee758e2065row4_col2\" class=\"data row4 col2\" >0.024</td>\n",
       "                        <td id=\"T_884b58ac_974a_11e9_82a1_54ee758e2065row4_col3\" class=\"data row4 col3\" >0.729</td>\n",
       "                        <td id=\"T_884b58ac_974a_11e9_82a1_54ee758e2065row4_col4\" class=\"data row4 col4\" >0</td>\n",
       "                        <td id=\"T_884b58ac_974a_11e9_82a1_54ee758e2065row4_col5\" class=\"data row4 col5\" >0.015</td>\n",
       "                        <td id=\"T_884b58ac_974a_11e9_82a1_54ee758e2065row4_col6\" class=\"data row4 col6\" >12530</td>\n",
       "            </tr>\n",
       "            <tr>\n",
       "                        <th id=\"T_884b58ac_974a_11e9_82a1_54ee758e2065level0_row5\" class=\"row_heading level0 row5\" >bpl_north_america</th>\n",
       "                        <td id=\"T_884b58ac_974a_11e9_82a1_54ee758e2065row5_col0\" class=\"data row5 col0\" >0.017</td>\n",
       "                        <td id=\"T_884b58ac_974a_11e9_82a1_54ee758e2065row5_col1\" class=\"data row5 col1\" >0.173</td>\n",
       "                        <td id=\"T_884b58ac_974a_11e9_82a1_54ee758e2065row5_col2\" class=\"data row5 col2\" >0.013</td>\n",
       "                        <td id=\"T_884b58ac_974a_11e9_82a1_54ee758e2065row5_col3\" class=\"data row5 col3\" >0.864</td>\n",
       "                        <td id=\"T_884b58ac_974a_11e9_82a1_54ee758e2065row5_col4\" class=\"data row5 col4\" >0</td>\n",
       "                        <td id=\"T_884b58ac_974a_11e9_82a1_54ee758e2065row5_col5\" class=\"data row5 col5\" >0.008</td>\n",
       "                        <td id=\"T_884b58ac_974a_11e9_82a1_54ee758e2065row5_col6\" class=\"data row5 col6\" >12530</td>\n",
       "            </tr>\n",
       "            <tr>\n",
       "                        <th id=\"T_884b58ac_974a_11e9_82a1_54ee758e2065level0_row6\" class=\"row_heading level0 row6\" >loc_campus1</th>\n",
       "                        <td id=\"T_884b58ac_974a_11e9_82a1_54ee758e2065row6_col0\" class=\"data row6 col0\" >0.012</td>\n",
       "                        <td id=\"T_884b58ac_974a_11e9_82a1_54ee758e2065row6_col1\" class=\"data row6 col1\" >0.724</td>\n",
       "                        <td id=\"T_884b58ac_974a_11e9_82a1_54ee758e2065row6_col2\" class=\"data row6 col2\" >0.034</td>\n",
       "                        <td id=\"T_884b58ac_974a_11e9_82a1_54ee758e2065row6_col3\" class=\"data row6 col3\" >0.444</td>\n",
       "                        <td id=\"T_884b58ac_974a_11e9_82a1_54ee758e2065row6_col4\" class=\"data row6 col4\" >0</td>\n",
       "                        <td id=\"T_884b58ac_974a_11e9_82a1_54ee758e2065row6_col5\" class=\"data row6 col5\" >0.022</td>\n",
       "                        <td id=\"T_884b58ac_974a_11e9_82a1_54ee758e2065row6_col6\" class=\"data row6 col6\" >12530</td>\n",
       "            </tr>\n",
       "            <tr>\n",
       "                        <th id=\"T_884b58ac_974a_11e9_82a1_54ee758e2065level0_row7\" class=\"row_heading level0 row7\" >loc_campus2</th>\n",
       "                        <td id=\"T_884b58ac_974a_11e9_82a1_54ee758e2065row7_col0\" class=\"data row7 col0\" >-0.01</td>\n",
       "                        <td id=\"T_884b58ac_974a_11e9_82a1_54ee758e2065row7_col1\" class=\"data row7 col1\" >0.719</td>\n",
       "                        <td id=\"T_884b58ac_974a_11e9_82a1_54ee758e2065row7_col2\" class=\"data row7 col2\" >0.027</td>\n",
       "                        <td id=\"T_884b58ac_974a_11e9_82a1_54ee758e2065row7_col3\" class=\"data row7 col3\" >0.217</td>\n",
       "                        <td id=\"T_884b58ac_974a_11e9_82a1_54ee758e2065row7_col4\" class=\"data row7 col4\" >0</td>\n",
       "                        <td id=\"T_884b58ac_974a_11e9_82a1_54ee758e2065row7_col5\" class=\"data row7 col5\" >0.018</td>\n",
       "                        <td id=\"T_884b58ac_974a_11e9_82a1_54ee758e2065row7_col6\" class=\"data row7 col6\" >12530</td>\n",
       "            </tr>\n",
       "    </tbody></table>"
      ],
      "text/plain": [
       "<pandas.io.formats.style.Styler at 0x141d63aab38>"
      ]
     },
     "execution_count": 22,
     "metadata": {},
     "output_type": "execute_result"
    }
   ],
   "source": [
    "# Generate table 2 (code imported from auxiliary file)\n",
    "table2 = estimate_RDD_withdf(data=sample06, outcomes=covariates, regressors=regressors)\n",
    "# Mark significant p-values (at 5% level) red & display table.\n",
    "table2.style.applymap(pvalue_5percent_red, subset=['P-Value (1)', 'P-Value (0)'])"
   ]
  },
  {
   "cell_type": "markdown",
   "metadata": {},
   "source": [
    "_NOTE: My results for 'Male' and 'Age at entry' are switched compared to the table presented in Lindo et al. (2010). Since the results are identical otherwise, I assume this difference stems from an error in the table formatting of the published paper._"
   ]
  },
  {
   "cell_type": "markdown",
   "metadata": {},
   "source": [
    "### First year GPAs and Academic Probation"
   ]
  },
  {
   "cell_type": "markdown",
   "metadata": {},
   "source": [
    "#### Figure 2 - Porbation Status at the End of First Year"
   ]
  },
  {
   "cell_type": "code",
   "execution_count": 23,
   "metadata": {},
   "outputs": [
    {
     "data": {
      "text/plain": [
       "Text(0,0.5,'Probation Status')"
      ]
     },
     "execution_count": 23,
     "metadata": {},
     "output_type": "execute_result"
    },
    {
     "data": {
      "image/png": "[encoded data removed]",
      "text/plain": [
       "<Figure size 432x288 with 1 Axes>"
      ]
     },
     "metadata": {
      "needs_background": "light"
     },
     "output_type": "display_data"
    }
   ],
   "source": [
    "plt.pyplot.xlim(-1.5,1.5,0.1)\n",
    "plt.pyplot.plot(sample12['bins'], sample12['gpalscutoff'], 'o')\n",
    "plt.pyplot.axvline(x=0, color='r')\n",
    "plt.pyplot.title('Figure 2: Porbation Status at the end of first year')\n",
    "plt.pyplot.xlabel('First year GPA minus probation cutoff')\n",
    "plt.pyplot.ylabel('Probation Status')"
   ]
  },
  {
   "cell_type": "markdown",
   "metadata": {},
   "source": [
    "#### Table 3 - Estimated Discontinuity in Probabtion Status\n",
    "\n",
    "Table 3 shows the estimated discontinuity in probation status after the first year (_part 1_) and for ever being placed on academic probation (_part 2_). \n",
    "\n",
    "To estimate the discontunuity in probation status, the authors again use a bandwidth of 0.6 from the cutoff. In addition to the whole sample this condition applies to, they also estimate the discontinuities for certain subgroups in the sample:\n",
    "\n",
    "* **high school grades below** and **above the median** (here, median refers to the median of the entire dataset (median: _50_) and not the median of the subset of students with a GPA within 0.6 grade points of teh probation cutoff (the median for this set would be _28_))\n",
    "* **male** and **female** students\n",
    "* **english** native speakers and students with a different native language (**nonenglish**) "
   ]
  },
  {
   "cell_type": "code",
   "execution_count": 24,
   "metadata": {},
   "outputs": [],
   "source": [
    "# Create groups and save them to a dictionary.\n",
    "groups_labels = ['All', 'HS Grades < median', 'HS Grades > median', 'Male', 'Female', 'Native English', 'Nonnative English']\n",
    "\n",
    "hsgrade_pct_low = sample06[sample06['lowHS'] == 1] \n",
    "hsgrade_pct_high = sample06[sample06['highHS'] == 1] \n",
    "male = sample06[sample06['male'] == 1] \n",
    "female = sample06[sample06['female'] == 1] \n",
    "english = sample06[sample06['english'] == 1]\n",
    "noenglish = sample06[sample06['noenglish'] == 1]\n",
    "\n",
    "groups_dict = {'All': sample06, 'HS Grades < median': hsgrade_pct_low, 'HS Grades > median': hsgrade_pct_high, \n",
    "               'Male': male, 'Female': female, 'Native English': english, 'Nonnative English': noenglish\n",
    "              }"
   ]
  },
  {
   "cell_type": "code",
   "execution_count": 25,
   "metadata": {},
   "outputs": [],
   "source": [
    "# Create shell for table 3.\n",
    "table3 = table_template.copy()\n",
    "table3['groups'] = groups_labels\n",
    "table3 = table3.set_index('groups')"
   ]
  },
  {
   "cell_type": "markdown",
   "metadata": {},
   "source": [
    "**Table 3 | Part 1 - Estimated Discontinuity in Probabtion Status for Year 1**"
   ]
  },
  {
   "cell_type": "code",
   "execution_count": 26,
   "metadata": {},
   "outputs": [
    {
     "name": "stderr",
     "output_type": "stream",
     "text": [
      "C:\\Users\\arohanui\\Anaconda3\\lib\\site-packages\\statsmodels\\regression\\linear_model.py:1602: RuntimeWarning: invalid value encountered in sqrt\n",
      "  return np.sqrt(np.diag(self.cov_params()))\n",
      "C:\\Users\\arohanui\\Anaconda3\\lib\\site-packages\\scipy\\stats\\_distn_infrastructure.py:879: RuntimeWarning: invalid value encountered in greater\n",
      "  return (self.a < x) & (x < self.b)\n",
      "C:\\Users\\arohanui\\Anaconda3\\lib\\site-packages\\scipy\\stats\\_distn_infrastructure.py:879: RuntimeWarning: invalid value encountered in less\n",
      "  return (self.a < x) & (x < self.b)\n",
      "C:\\Users\\arohanui\\Anaconda3\\lib\\site-packages\\scipy\\stats\\_distn_infrastructure.py:1821: RuntimeWarning: invalid value encountered in less_equal\n",
      "  cond2 = cond0 & (x <= self.a)\n"
     ]
    },
    {
     "data": {
      "text/html": [
       "<style  type=\"text/css\" >\n",
       "    #T_88904034_974a_11e9_8ee7_54ee758e2065row0_col1 {\n",
       "            color:  red;\n",
       "        }    #T_88904034_974a_11e9_8ee7_54ee758e2065row0_col4 {\n",
       "            color:  black;\n",
       "        }    #T_88904034_974a_11e9_8ee7_54ee758e2065row1_col1 {\n",
       "            color:  red;\n",
       "        }    #T_88904034_974a_11e9_8ee7_54ee758e2065row1_col4 {\n",
       "            color:  black;\n",
       "        }    #T_88904034_974a_11e9_8ee7_54ee758e2065row2_col1 {\n",
       "            color:  red;\n",
       "        }    #T_88904034_974a_11e9_8ee7_54ee758e2065row2_col4 {\n",
       "            color:  black;\n",
       "        }    #T_88904034_974a_11e9_8ee7_54ee758e2065row3_col1 {\n",
       "            color:  red;\n",
       "        }    #T_88904034_974a_11e9_8ee7_54ee758e2065row3_col4 {\n",
       "            color:  black;\n",
       "        }    #T_88904034_974a_11e9_8ee7_54ee758e2065row4_col1 {\n",
       "            color:  red;\n",
       "        }    #T_88904034_974a_11e9_8ee7_54ee758e2065row4_col4 {\n",
       "            color:  black;\n",
       "        }    #T_88904034_974a_11e9_8ee7_54ee758e2065row5_col1 {\n",
       "            color:  red;\n",
       "        }    #T_88904034_974a_11e9_8ee7_54ee758e2065row5_col4 {\n",
       "            color:  black;\n",
       "        }    #T_88904034_974a_11e9_8ee7_54ee758e2065row6_col1 {\n",
       "            color:  red;\n",
       "        }    #T_88904034_974a_11e9_8ee7_54ee758e2065row6_col4 {\n",
       "            color:  black;\n",
       "        }</style><table id=\"T_88904034_974a_11e9_8ee7_54ee758e2065\" ><thead>    <tr>        <th class=\"blank level0\" ></th>        <th class=\"col_heading level0 col0\" >GPA below cutoff (1)</th>        <th class=\"col_heading level0 col1\" >P-Value (1)</th>        <th class=\"col_heading level0 col2\" >Std.err (1)</th>        <th class=\"col_heading level0 col3\" >Intercept (0)</th>        <th class=\"col_heading level0 col4\" >P-Value (0)</th>        <th class=\"col_heading level0 col5\" >Std.err (0)</th>        <th class=\"col_heading level0 col6\" >Observations</th>    </tr>    <tr>        <th class=\"index_name level0\" >groups</th>        <th class=\"blank\" ></th>        <th class=\"blank\" ></th>        <th class=\"blank\" ></th>        <th class=\"blank\" ></th>        <th class=\"blank\" ></th>        <th class=\"blank\" ></th>        <th class=\"blank\" ></th>    </tr></thead><tbody>\n",
       "                <tr>\n",
       "                        <th id=\"T_88904034_974a_11e9_8ee7_54ee758e2065level0_row0\" class=\"row_heading level0 row0\" >All</th>\n",
       "                        <td id=\"T_88904034_974a_11e9_8ee7_54ee758e2065row0_col0\" class=\"data row0 col0\" >0.994</td>\n",
       "                        <td id=\"T_88904034_974a_11e9_8ee7_54ee758e2065row0_col1\" class=\"data row0 col1\" >0</td>\n",
       "                        <td id=\"T_88904034_974a_11e9_8ee7_54ee758e2065row0_col2\" class=\"data row0 col2\" >0.002</td>\n",
       "                        <td id=\"T_88904034_974a_11e9_8ee7_54ee758e2065row0_col3\" class=\"data row0 col3\" >0.001</td>\n",
       "                        <td id=\"T_88904034_974a_11e9_8ee7_54ee758e2065row0_col4\" class=\"data row0 col4\" >0.157</td>\n",
       "                        <td id=\"T_88904034_974a_11e9_8ee7_54ee758e2065row0_col5\" class=\"data row0 col5\" >0.001</td>\n",
       "                        <td id=\"T_88904034_974a_11e9_8ee7_54ee758e2065row0_col6\" class=\"data row0 col6\" >12530</td>\n",
       "            </tr>\n",
       "            <tr>\n",
       "                        <th id=\"T_88904034_974a_11e9_8ee7_54ee758e2065level0_row1\" class=\"row_heading level0 row1\" >HS Grades < median</th>\n",
       "                        <td id=\"T_88904034_974a_11e9_8ee7_54ee758e2065row1_col0\" class=\"data row1 col0\" >0.995</td>\n",
       "                        <td id=\"T_88904034_974a_11e9_8ee7_54ee758e2065row1_col1\" class=\"data row1 col1\" >0</td>\n",
       "                        <td id=\"T_88904034_974a_11e9_8ee7_54ee758e2065row1_col2\" class=\"data row1 col2\" >0.002</td>\n",
       "                        <td id=\"T_88904034_974a_11e9_8ee7_54ee758e2065row1_col3\" class=\"data row1 col3\" >0.001</td>\n",
       "                        <td id=\"T_88904034_974a_11e9_8ee7_54ee758e2065row1_col4\" class=\"data row1 col4\" >0.183</td>\n",
       "                        <td id=\"T_88904034_974a_11e9_8ee7_54ee758e2065row1_col5\" class=\"data row1 col5\" >0.001</td>\n",
       "                        <td id=\"T_88904034_974a_11e9_8ee7_54ee758e2065row1_col6\" class=\"data row1 col6\" >9473</td>\n",
       "            </tr>\n",
       "            <tr>\n",
       "                        <th id=\"T_88904034_974a_11e9_8ee7_54ee758e2065level0_row2\" class=\"row_heading level0 row2\" >HS Grades > median</th>\n",
       "                        <td id=\"T_88904034_974a_11e9_8ee7_54ee758e2065row2_col0\" class=\"data row2 col0\" >0.99</td>\n",
       "                        <td id=\"T_88904034_974a_11e9_8ee7_54ee758e2065row2_col1\" class=\"data row2 col1\" >0</td>\n",
       "                        <td id=\"T_88904034_974a_11e9_8ee7_54ee758e2065row2_col2\" class=\"data row2 col2\" >0.006</td>\n",
       "                        <td id=\"T_88904034_974a_11e9_8ee7_54ee758e2065row2_col3\" class=\"data row2 col3\" >0.001</td>\n",
       "                        <td id=\"T_88904034_974a_11e9_8ee7_54ee758e2065row2_col4\" class=\"data row2 col4\" >0.317</td>\n",
       "                        <td id=\"T_88904034_974a_11e9_8ee7_54ee758e2065row2_col5\" class=\"data row2 col5\" >0.001</td>\n",
       "                        <td id=\"T_88904034_974a_11e9_8ee7_54ee758e2065row2_col6\" class=\"data row2 col6\" >3057</td>\n",
       "            </tr>\n",
       "            <tr>\n",
       "                        <th id=\"T_88904034_974a_11e9_8ee7_54ee758e2065level0_row3\" class=\"row_heading level0 row3\" >Male</th>\n",
       "                        <td id=\"T_88904034_974a_11e9_8ee7_54ee758e2065row3_col0\" class=\"data row3 col0\" >0.99</td>\n",
       "                        <td id=\"T_88904034_974a_11e9_8ee7_54ee758e2065row3_col1\" class=\"data row3 col1\" >0</td>\n",
       "                        <td id=\"T_88904034_974a_11e9_8ee7_54ee758e2065row3_col2\" class=\"data row3 col2\" >0.005</td>\n",
       "                        <td id=\"T_88904034_974a_11e9_8ee7_54ee758e2065row3_col3\" class=\"data row3 col3\" >0.001</td>\n",
       "                        <td id=\"T_88904034_974a_11e9_8ee7_54ee758e2065row3_col4\" class=\"data row3 col4\" >0.319</td>\n",
       "                        <td id=\"T_88904034_974a_11e9_8ee7_54ee758e2065row3_col5\" class=\"data row3 col5\" >0.001</td>\n",
       "                        <td id=\"T_88904034_974a_11e9_8ee7_54ee758e2065row3_col6\" class=\"data row3 col6\" >4701</td>\n",
       "            </tr>\n",
       "            <tr>\n",
       "                        <th id=\"T_88904034_974a_11e9_8ee7_54ee758e2065level0_row4\" class=\"row_heading level0 row4\" >Female</th>\n",
       "                        <td id=\"T_88904034_974a_11e9_8ee7_54ee758e2065row4_col0\" class=\"data row4 col0\" >0.996</td>\n",
       "                        <td id=\"T_88904034_974a_11e9_8ee7_54ee758e2065row4_col1\" class=\"data row4 col1\" >0</td>\n",
       "                        <td id=\"T_88904034_974a_11e9_8ee7_54ee758e2065row4_col2\" class=\"data row4 col2\" >0.002</td>\n",
       "                        <td id=\"T_88904034_974a_11e9_8ee7_54ee758e2065row4_col3\" class=\"data row4 col3\" >0.001</td>\n",
       "                        <td id=\"T_88904034_974a_11e9_8ee7_54ee758e2065row4_col4\" class=\"data row4 col4\" >0.179</td>\n",
       "                        <td id=\"T_88904034_974a_11e9_8ee7_54ee758e2065row4_col5\" class=\"data row4 col5\" >0.001</td>\n",
       "                        <td id=\"T_88904034_974a_11e9_8ee7_54ee758e2065row4_col6\" class=\"data row4 col6\" >7829</td>\n",
       "            </tr>\n",
       "            <tr>\n",
       "                        <th id=\"T_88904034_974a_11e9_8ee7_54ee758e2065level0_row5\" class=\"row_heading level0 row5\" >Native English</th>\n",
       "                        <td id=\"T_88904034_974a_11e9_8ee7_54ee758e2065row5_col0\" class=\"data row5 col0\" >0.993</td>\n",
       "                        <td id=\"T_88904034_974a_11e9_8ee7_54ee758e2065row5_col1\" class=\"data row5 col1\" >0</td>\n",
       "                        <td id=\"T_88904034_974a_11e9_8ee7_54ee758e2065row5_col2\" class=\"data row5 col2\" >0.002</td>\n",
       "                        <td id=\"T_88904034_974a_11e9_8ee7_54ee758e2065row5_col3\" class=\"data row5 col3\" >0.001</td>\n",
       "                        <td id=\"T_88904034_974a_11e9_8ee7_54ee758e2065row5_col4\" class=\"data row5 col4\" >0.16</td>\n",
       "                        <td id=\"T_88904034_974a_11e9_8ee7_54ee758e2065row5_col5\" class=\"data row5 col5\" >0.001</td>\n",
       "                        <td id=\"T_88904034_974a_11e9_8ee7_54ee758e2065row5_col6\" class=\"data row5 col6\" >9006</td>\n",
       "            </tr>\n",
       "            <tr>\n",
       "                        <th id=\"T_88904034_974a_11e9_8ee7_54ee758e2065level0_row6\" class=\"row_heading level0 row6\" >Nonnative English</th>\n",
       "                        <td id=\"T_88904034_974a_11e9_8ee7_54ee758e2065row6_col0\" class=\"data row6 col0\" >0.997</td>\n",
       "                        <td id=\"T_88904034_974a_11e9_8ee7_54ee758e2065row6_col1\" class=\"data row6 col1\" >0</td>\n",
       "                        <td id=\"T_88904034_974a_11e9_8ee7_54ee758e2065row6_col2\" class=\"data row6 col2\" >0.003</td>\n",
       "                        <td id=\"T_88904034_974a_11e9_8ee7_54ee758e2065row6_col3\" class=\"data row6 col3\" >0</td>\n",
       "                        <td id=\"T_88904034_974a_11e9_8ee7_54ee758e2065row6_col4\" class=\"data row6 col4\" >nan</td>\n",
       "                        <td id=\"T_88904034_974a_11e9_8ee7_54ee758e2065row6_col5\" class=\"data row6 col5\" >nan</td>\n",
       "                        <td id=\"T_88904034_974a_11e9_8ee7_54ee758e2065row6_col6\" class=\"data row6 col6\" >3524</td>\n",
       "            </tr>\n",
       "    </tbody></table>"
      ],
      "text/plain": [
       "<pandas.io.formats.style.Styler at 0x141d8716be0>"
      ]
     },
     "execution_count": 26,
     "metadata": {},
     "output_type": "execute_result"
    }
   ],
   "source": [
    "# Run regression and fill in values for table 3_1.\n",
    "table3_1 = table3.copy()\n",
    "\n",
    "for group in groups_labels:\n",
    "    model = sm.regression.linear_model.OLS(groups_dict[group]['probation_year1'], groups_dict[group][regressors], hasconst=True) \n",
    "    result = model.fit(cov_type='cluster', cov_kwds={'groups': groups_dict[group]['clustervar']})\n",
    "    outputs = [result.params['gpalscutoff'], result.pvalues['gpalscutoff'], result.bse['gpalscutoff'], \n",
    "               result.params['const'], result.pvalues['const'], result.bse['const'], \n",
    "               len(groups_dict[group]['probation_year1'])]   \n",
    "    table3_1.loc[group] = outputs\n",
    "    \n",
    "table3_1 = table3_1.round(3)\n",
    "table3_1.style.applymap(pvalue_5percent_red, subset=['P-Value (1)', 'P-Value (0)'])"
   ]
  },
  {
   "cell_type": "markdown",
   "metadata": {},
   "source": [
    "**Table 3 | Part 2 - Estimated Discontinuity in Probabtion Status Ever**"
   ]
  },
  {
   "cell_type": "code",
   "execution_count": 27,
   "metadata": {},
   "outputs": [
    {
     "data": {
      "text/html": [
       "<style  type=\"text/css\" >\n",
       "    #T_889fb31c_974a_11e9_85d2_54ee758e2065row0_col1 {\n",
       "            color:  red;\n",
       "        }    #T_889fb31c_974a_11e9_85d2_54ee758e2065row0_col4 {\n",
       "            color:  red;\n",
       "        }    #T_889fb31c_974a_11e9_85d2_54ee758e2065row1_col1 {\n",
       "            color:  red;\n",
       "        }    #T_889fb31c_974a_11e9_85d2_54ee758e2065row1_col4 {\n",
       "            color:  red;\n",
       "        }    #T_889fb31c_974a_11e9_85d2_54ee758e2065row2_col1 {\n",
       "            color:  red;\n",
       "        }    #T_889fb31c_974a_11e9_85d2_54ee758e2065row2_col4 {\n",
       "            color:  red;\n",
       "        }    #T_889fb31c_974a_11e9_85d2_54ee758e2065row3_col1 {\n",
       "            color:  red;\n",
       "        }    #T_889fb31c_974a_11e9_85d2_54ee758e2065row3_col4 {\n",
       "            color:  red;\n",
       "        }    #T_889fb31c_974a_11e9_85d2_54ee758e2065row4_col1 {\n",
       "            color:  red;\n",
       "        }    #T_889fb31c_974a_11e9_85d2_54ee758e2065row4_col4 {\n",
       "            color:  red;\n",
       "        }    #T_889fb31c_974a_11e9_85d2_54ee758e2065row5_col1 {\n",
       "            color:  red;\n",
       "        }    #T_889fb31c_974a_11e9_85d2_54ee758e2065row5_col4 {\n",
       "            color:  red;\n",
       "        }    #T_889fb31c_974a_11e9_85d2_54ee758e2065row6_col1 {\n",
       "            color:  red;\n",
       "        }    #T_889fb31c_974a_11e9_85d2_54ee758e2065row6_col4 {\n",
       "            color:  red;\n",
       "        }</style><table id=\"T_889fb31c_974a_11e9_85d2_54ee758e2065\" ><thead>    <tr>        <th class=\"blank level0\" ></th>        <th class=\"col_heading level0 col0\" >GPA below cutoff (1)</th>        <th class=\"col_heading level0 col1\" >P-Value (1)</th>        <th class=\"col_heading level0 col2\" >Std.err (1)</th>        <th class=\"col_heading level0 col3\" >Intercept (0)</th>        <th class=\"col_heading level0 col4\" >P-Value (0)</th>        <th class=\"col_heading level0 col5\" >Std.err (0)</th>        <th class=\"col_heading level0 col6\" >Observations</th>    </tr>    <tr>        <th class=\"index_name level0\" >groups</th>        <th class=\"blank\" ></th>        <th class=\"blank\" ></th>        <th class=\"blank\" ></th>        <th class=\"blank\" ></th>        <th class=\"blank\" ></th>        <th class=\"blank\" ></th>        <th class=\"blank\" ></th>    </tr></thead><tbody>\n",
       "                <tr>\n",
       "                        <th id=\"T_889fb31c_974a_11e9_85d2_54ee758e2065level0_row0\" class=\"row_heading level0 row0\" >All</th>\n",
       "                        <td id=\"T_889fb31c_974a_11e9_85d2_54ee758e2065row0_col0\" class=\"data row0 col0\" >0.665</td>\n",
       "                        <td id=\"T_889fb31c_974a_11e9_85d2_54ee758e2065row0_col1\" class=\"data row0 col1\" >0</td>\n",
       "                        <td id=\"T_889fb31c_974a_11e9_85d2_54ee758e2065row0_col2\" class=\"data row0 col2\" >0.014</td>\n",
       "                        <td id=\"T_889fb31c_974a_11e9_85d2_54ee758e2065row0_col3\" class=\"data row0 col3\" >0.33</td>\n",
       "                        <td id=\"T_889fb31c_974a_11e9_85d2_54ee758e2065row0_col4\" class=\"data row0 col4\" >0</td>\n",
       "                        <td id=\"T_889fb31c_974a_11e9_85d2_54ee758e2065row0_col5\" class=\"data row0 col5\" >0.014</td>\n",
       "                        <td id=\"T_889fb31c_974a_11e9_85d2_54ee758e2065row0_col6\" class=\"data row0 col6\" >12530</td>\n",
       "            </tr>\n",
       "            <tr>\n",
       "                        <th id=\"T_889fb31c_974a_11e9_85d2_54ee758e2065level0_row1\" class=\"row_heading level0 row1\" >HS Grades < median</th>\n",
       "                        <td id=\"T_889fb31c_974a_11e9_85d2_54ee758e2065row1_col0\" class=\"data row1 col0\" >0.653</td>\n",
       "                        <td id=\"T_889fb31c_974a_11e9_85d2_54ee758e2065row1_col1\" class=\"data row1 col1\" >0</td>\n",
       "                        <td id=\"T_889fb31c_974a_11e9_85d2_54ee758e2065row1_col2\" class=\"data row1 col2\" >0.014</td>\n",
       "                        <td id=\"T_889fb31c_974a_11e9_85d2_54ee758e2065row1_col3\" class=\"data row1 col3\" >0.343</td>\n",
       "                        <td id=\"T_889fb31c_974a_11e9_85d2_54ee758e2065row1_col4\" class=\"data row1 col4\" >0</td>\n",
       "                        <td id=\"T_889fb31c_974a_11e9_85d2_54ee758e2065row1_col5\" class=\"data row1 col5\" >0.014</td>\n",
       "                        <td id=\"T_889fb31c_974a_11e9_85d2_54ee758e2065row1_col6\" class=\"data row1 col6\" >9473</td>\n",
       "            </tr>\n",
       "            <tr>\n",
       "                        <th id=\"T_889fb31c_974a_11e9_85d2_54ee758e2065level0_row2\" class=\"row_heading level0 row2\" >HS Grades > median</th>\n",
       "                        <td id=\"T_889fb31c_974a_11e9_85d2_54ee758e2065row2_col0\" class=\"data row2 col0\" >0.705</td>\n",
       "                        <td id=\"T_889fb31c_974a_11e9_85d2_54ee758e2065row2_col1\" class=\"data row2 col1\" >0</td>\n",
       "                        <td id=\"T_889fb31c_974a_11e9_85d2_54ee758e2065row2_col2\" class=\"data row2 col2\" >0.023</td>\n",
       "                        <td id=\"T_889fb31c_974a_11e9_85d2_54ee758e2065row2_col3\" class=\"data row2 col3\" >0.286</td>\n",
       "                        <td id=\"T_889fb31c_974a_11e9_85d2_54ee758e2065row2_col4\" class=\"data row2 col4\" >0</td>\n",
       "                        <td id=\"T_889fb31c_974a_11e9_85d2_54ee758e2065row2_col5\" class=\"data row2 col5\" >0.022</td>\n",
       "                        <td id=\"T_889fb31c_974a_11e9_85d2_54ee758e2065row2_col6\" class=\"data row2 col6\" >3057</td>\n",
       "            </tr>\n",
       "            <tr>\n",
       "                        <th id=\"T_889fb31c_974a_11e9_85d2_54ee758e2065level0_row3\" class=\"row_heading level0 row3\" >Male</th>\n",
       "                        <td id=\"T_889fb31c_974a_11e9_85d2_54ee758e2065row3_col0\" class=\"data row3 col0\" >0.625</td>\n",
       "                        <td id=\"T_889fb31c_974a_11e9_85d2_54ee758e2065row3_col1\" class=\"data row3 col1\" >0</td>\n",
       "                        <td id=\"T_889fb31c_974a_11e9_85d2_54ee758e2065row3_col2\" class=\"data row3 col2\" >0.016</td>\n",
       "                        <td id=\"T_889fb31c_974a_11e9_85d2_54ee758e2065row3_col3\" class=\"data row3 col3\" >0.366</td>\n",
       "                        <td id=\"T_889fb31c_974a_11e9_85d2_54ee758e2065row3_col4\" class=\"data row3 col4\" >0</td>\n",
       "                        <td id=\"T_889fb31c_974a_11e9_85d2_54ee758e2065row3_col5\" class=\"data row3 col5\" >0.015</td>\n",
       "                        <td id=\"T_889fb31c_974a_11e9_85d2_54ee758e2065row3_col6\" class=\"data row3 col6\" >4701</td>\n",
       "            </tr>\n",
       "            <tr>\n",
       "                        <th id=\"T_889fb31c_974a_11e9_85d2_54ee758e2065level0_row4\" class=\"row_heading level0 row4\" >Female</th>\n",
       "                        <td id=\"T_889fb31c_974a_11e9_85d2_54ee758e2065row4_col0\" class=\"data row4 col0\" >0.69</td>\n",
       "                        <td id=\"T_889fb31c_974a_11e9_85d2_54ee758e2065row4_col1\" class=\"data row4 col1\" >0</td>\n",
       "                        <td id=\"T_889fb31c_974a_11e9_85d2_54ee758e2065row4_col2\" class=\"data row4 col2\" >0.017</td>\n",
       "                        <td id=\"T_889fb31c_974a_11e9_85d2_54ee758e2065row4_col3\" class=\"data row4 col3\" >0.308</td>\n",
       "                        <td id=\"T_889fb31c_974a_11e9_85d2_54ee758e2065row4_col4\" class=\"data row4 col4\" >0</td>\n",
       "                        <td id=\"T_889fb31c_974a_11e9_85d2_54ee758e2065row4_col5\" class=\"data row4 col5\" >0.017</td>\n",
       "                        <td id=\"T_889fb31c_974a_11e9_85d2_54ee758e2065row4_col6\" class=\"data row4 col6\" >7829</td>\n",
       "            </tr>\n",
       "            <tr>\n",
       "                        <th id=\"T_889fb31c_974a_11e9_85d2_54ee758e2065level0_row5\" class=\"row_heading level0 row5\" >Native English</th>\n",
       "                        <td id=\"T_889fb31c_974a_11e9_85d2_54ee758e2065row5_col0\" class=\"data row5 col0\" >0.677</td>\n",
       "                        <td id=\"T_889fb31c_974a_11e9_85d2_54ee758e2065row5_col1\" class=\"data row5 col1\" >0</td>\n",
       "                        <td id=\"T_889fb31c_974a_11e9_85d2_54ee758e2065row5_col2\" class=\"data row5 col2\" >0.016</td>\n",
       "                        <td id=\"T_889fb31c_974a_11e9_85d2_54ee758e2065row5_col3\" class=\"data row5 col3\" >0.317</td>\n",
       "                        <td id=\"T_889fb31c_974a_11e9_85d2_54ee758e2065row5_col4\" class=\"data row5 col4\" >0</td>\n",
       "                        <td id=\"T_889fb31c_974a_11e9_85d2_54ee758e2065row5_col5\" class=\"data row5 col5\" >0.016</td>\n",
       "                        <td id=\"T_889fb31c_974a_11e9_85d2_54ee758e2065row5_col6\" class=\"data row5 col6\" >9006</td>\n",
       "            </tr>\n",
       "            <tr>\n",
       "                        <th id=\"T_889fb31c_974a_11e9_85d2_54ee758e2065level0_row6\" class=\"row_heading level0 row6\" >Nonnative English</th>\n",
       "                        <td id=\"T_889fb31c_974a_11e9_85d2_54ee758e2065row6_col0\" class=\"data row6 col0\" >0.635</td>\n",
       "                        <td id=\"T_889fb31c_974a_11e9_85d2_54ee758e2065row6_col1\" class=\"data row6 col1\" >0</td>\n",
       "                        <td id=\"T_889fb31c_974a_11e9_85d2_54ee758e2065row6_col2\" class=\"data row6 col2\" >0.023</td>\n",
       "                        <td id=\"T_889fb31c_974a_11e9_85d2_54ee758e2065row6_col3\" class=\"data row6 col3\" >0.362</td>\n",
       "                        <td id=\"T_889fb31c_974a_11e9_85d2_54ee758e2065row6_col4\" class=\"data row6 col4\" >0</td>\n",
       "                        <td id=\"T_889fb31c_974a_11e9_85d2_54ee758e2065row6_col5\" class=\"data row6 col5\" >0.022</td>\n",
       "                        <td id=\"T_889fb31c_974a_11e9_85d2_54ee758e2065row6_col6\" class=\"data row6 col6\" >3524</td>\n",
       "            </tr>\n",
       "    </tbody></table>"
      ],
      "text/plain": [
       "<pandas.io.formats.style.Styler at 0x141d649a4e0>"
      ]
     },
     "execution_count": 27,
     "metadata": {},
     "output_type": "execute_result"
    }
   ],
   "source": [
    "table3_2 = table3.copy()\n",
    "\n",
    "for group in groups_labels:\n",
    "    model = sm.regression.linear_model.OLS(groups_dict[group]['probation_ever'], groups_dict[group][regressors], hasconst=True)\n",
    "    result = model.fit(cov_type='cluster', cov_kwds={'groups': groups_dict[group]['clustervar']})\n",
    "    outputs = [result.params['gpalscutoff'], result.pvalues['gpalscutoff'], result.bse['gpalscutoff'], \n",
    "               result.params['const'], result.pvalues['const'], result.bse['const'], \n",
    "               len(groups_dict[group]['probation_ever'])]   \n",
    "    table3_2.loc[group] = outputs\n",
    "    \n",
    "table3_2 = table3_2.round(3)\n",
    "table3_2.style.applymap(pvalue_5percent_red, subset=['P-Value (1)', 'P-Value (0)'])"
   ]
  },
  {
   "cell_type": "markdown",
   "metadata": {},
   "source": [
    "### The Immediate Response to Academic Probation "
   ]
  },
  {
   "cell_type": "markdown",
   "metadata": {},
   "source": [
    "#### Table 4 - Estimated Effect on the Decision to Leave after the First Evaluation"
   ]
  },
  {
   "cell_type": "code",
   "execution_count": 28,
   "metadata": {},
   "outputs": [],
   "source": [
    "table4 = table_template.copy()\n",
    "table4['groups'] = groups_labels\n",
    "table4 = table4.set_index('groups')"
   ]
  },
  {
   "cell_type": "code",
   "execution_count": 29,
   "metadata": {},
   "outputs": [
    {
     "data": {
      "text/html": [
       "<style  type=\"text/css\" >\n",
       "    #T_88b2a5f8_974a_11e9_81a9_54ee758e2065row0_col1 {\n",
       "            color:  red;\n",
       "        }    #T_88b2a5f8_974a_11e9_81a9_54ee758e2065row0_col4 {\n",
       "            color:  red;\n",
       "        }    #T_88b2a5f8_974a_11e9_81a9_54ee758e2065row1_col1 {\n",
       "            color:  black;\n",
       "        }    #T_88b2a5f8_974a_11e9_81a9_54ee758e2065row1_col4 {\n",
       "            color:  red;\n",
       "        }    #T_88b2a5f8_974a_11e9_81a9_54ee758e2065row2_col1 {\n",
       "            color:  black;\n",
       "        }    #T_88b2a5f8_974a_11e9_81a9_54ee758e2065row2_col4 {\n",
       "            color:  red;\n",
       "        }    #T_88b2a5f8_974a_11e9_81a9_54ee758e2065row3_col1 {\n",
       "            color:  red;\n",
       "        }    #T_88b2a5f8_974a_11e9_81a9_54ee758e2065row3_col4 {\n",
       "            color:  red;\n",
       "        }    #T_88b2a5f8_974a_11e9_81a9_54ee758e2065row4_col1 {\n",
       "            color:  black;\n",
       "        }    #T_88b2a5f8_974a_11e9_81a9_54ee758e2065row4_col4 {\n",
       "            color:  red;\n",
       "        }    #T_88b2a5f8_974a_11e9_81a9_54ee758e2065row5_col1 {\n",
       "            color:  red;\n",
       "        }    #T_88b2a5f8_974a_11e9_81a9_54ee758e2065row5_col4 {\n",
       "            color:  red;\n",
       "        }    #T_88b2a5f8_974a_11e9_81a9_54ee758e2065row6_col1 {\n",
       "            color:  black;\n",
       "        }    #T_88b2a5f8_974a_11e9_81a9_54ee758e2065row6_col4 {\n",
       "            color:  red;\n",
       "        }</style><table id=\"T_88b2a5f8_974a_11e9_81a9_54ee758e2065\" ><thead>    <tr>        <th class=\"blank level0\" ></th>        <th class=\"col_heading level0 col0\" >GPA below cutoff (1)</th>        <th class=\"col_heading level0 col1\" >P-Value (1)</th>        <th class=\"col_heading level0 col2\" >Std.err (1)</th>        <th class=\"col_heading level0 col3\" >Intercept (0)</th>        <th class=\"col_heading level0 col4\" >P-Value (0)</th>        <th class=\"col_heading level0 col5\" >Std.err (0)</th>        <th class=\"col_heading level0 col6\" >Observations</th>    </tr>    <tr>        <th class=\"index_name level0\" >groups</th>        <th class=\"blank\" ></th>        <th class=\"blank\" ></th>        <th class=\"blank\" ></th>        <th class=\"blank\" ></th>        <th class=\"blank\" ></th>        <th class=\"blank\" ></th>        <th class=\"blank\" ></th>    </tr></thead><tbody>\n",
       "                <tr>\n",
       "                        <th id=\"T_88b2a5f8_974a_11e9_81a9_54ee758e2065level0_row0\" class=\"row_heading level0 row0\" >All</th>\n",
       "                        <td id=\"T_88b2a5f8_974a_11e9_81a9_54ee758e2065row0_col0\" class=\"data row0 col0\" >0.018</td>\n",
       "                        <td id=\"T_88b2a5f8_974a_11e9_81a9_54ee758e2065row0_col1\" class=\"data row0 col1\" >0.01</td>\n",
       "                        <td id=\"T_88b2a5f8_974a_11e9_81a9_54ee758e2065row0_col2\" class=\"data row0 col2\" >0.007</td>\n",
       "                        <td id=\"T_88b2a5f8_974a_11e9_81a9_54ee758e2065row0_col3\" class=\"data row0 col3\" >0.041</td>\n",
       "                        <td id=\"T_88b2a5f8_974a_11e9_81a9_54ee758e2065row0_col4\" class=\"data row0 col4\" >0</td>\n",
       "                        <td id=\"T_88b2a5f8_974a_11e9_81a9_54ee758e2065row0_col5\" class=\"data row0 col5\" >0.004</td>\n",
       "                        <td id=\"T_88b2a5f8_974a_11e9_81a9_54ee758e2065row0_col6\" class=\"data row0 col6\" >12530</td>\n",
       "            </tr>\n",
       "            <tr>\n",
       "                        <th id=\"T_88b2a5f8_974a_11e9_81a9_54ee758e2065level0_row1\" class=\"row_heading level0 row1\" >HS Grades < median</th>\n",
       "                        <td id=\"T_88b2a5f8_974a_11e9_81a9_54ee758e2065row1_col0\" class=\"data row1 col0\" >0.013</td>\n",
       "                        <td id=\"T_88b2a5f8_974a_11e9_81a9_54ee758e2065row1_col1\" class=\"data row1 col1\" >0.107</td>\n",
       "                        <td id=\"T_88b2a5f8_974a_11e9_81a9_54ee758e2065row1_col2\" class=\"data row1 col2\" >0.008</td>\n",
       "                        <td id=\"T_88b2a5f8_974a_11e9_81a9_54ee758e2065row1_col3\" class=\"data row1 col3\" >0.045</td>\n",
       "                        <td id=\"T_88b2a5f8_974a_11e9_81a9_54ee758e2065row1_col4\" class=\"data row1 col4\" >0</td>\n",
       "                        <td id=\"T_88b2a5f8_974a_11e9_81a9_54ee758e2065row1_col5\" class=\"data row1 col5\" >0.005</td>\n",
       "                        <td id=\"T_88b2a5f8_974a_11e9_81a9_54ee758e2065row1_col6\" class=\"data row1 col6\" >9473</td>\n",
       "            </tr>\n",
       "            <tr>\n",
       "                        <th id=\"T_88b2a5f8_974a_11e9_81a9_54ee758e2065level0_row2\" class=\"row_heading level0 row2\" >HS Grades > median</th>\n",
       "                        <td id=\"T_88b2a5f8_974a_11e9_81a9_54ee758e2065row2_col0\" class=\"data row2 col0\" >0.032</td>\n",
       "                        <td id=\"T_88b2a5f8_974a_11e9_81a9_54ee758e2065row2_col1\" class=\"data row2 col1\" >0.058</td>\n",
       "                        <td id=\"T_88b2a5f8_974a_11e9_81a9_54ee758e2065row2_col2\" class=\"data row2 col2\" >0.017</td>\n",
       "                        <td id=\"T_88b2a5f8_974a_11e9_81a9_54ee758e2065row2_col3\" class=\"data row2 col3\" >0.026</td>\n",
       "                        <td id=\"T_88b2a5f8_974a_11e9_81a9_54ee758e2065row2_col4\" class=\"data row2 col4\" >0</td>\n",
       "                        <td id=\"T_88b2a5f8_974a_11e9_81a9_54ee758e2065row2_col5\" class=\"data row2 col5\" >0.007</td>\n",
       "                        <td id=\"T_88b2a5f8_974a_11e9_81a9_54ee758e2065row2_col6\" class=\"data row2 col6\" >3057</td>\n",
       "            </tr>\n",
       "            <tr>\n",
       "                        <th id=\"T_88b2a5f8_974a_11e9_81a9_54ee758e2065level0_row3\" class=\"row_heading level0 row3\" >Male</th>\n",
       "                        <td id=\"T_88b2a5f8_974a_11e9_81a9_54ee758e2065row3_col0\" class=\"data row3 col0\" >0.037</td>\n",
       "                        <td id=\"T_88b2a5f8_974a_11e9_81a9_54ee758e2065row3_col1\" class=\"data row3 col1\" >0.014</td>\n",
       "                        <td id=\"T_88b2a5f8_974a_11e9_81a9_54ee758e2065row3_col2\" class=\"data row3 col2\" >0.015</td>\n",
       "                        <td id=\"T_88b2a5f8_974a_11e9_81a9_54ee758e2065row3_col3\" class=\"data row3 col3\" >0.038</td>\n",
       "                        <td id=\"T_88b2a5f8_974a_11e9_81a9_54ee758e2065row3_col4\" class=\"data row3 col4\" >0</td>\n",
       "                        <td id=\"T_88b2a5f8_974a_11e9_81a9_54ee758e2065row3_col5\" class=\"data row3 col5\" >0.007</td>\n",
       "                        <td id=\"T_88b2a5f8_974a_11e9_81a9_54ee758e2065row3_col6\" class=\"data row3 col6\" >4701</td>\n",
       "            </tr>\n",
       "            <tr>\n",
       "                        <th id=\"T_88b2a5f8_974a_11e9_81a9_54ee758e2065level0_row4\" class=\"row_heading level0 row4\" >Female</th>\n",
       "                        <td id=\"T_88b2a5f8_974a_11e9_81a9_54ee758e2065row4_col0\" class=\"data row4 col0\" >0.006</td>\n",
       "                        <td id=\"T_88b2a5f8_974a_11e9_81a9_54ee758e2065row4_col1\" class=\"data row4 col1\" >0.53</td>\n",
       "                        <td id=\"T_88b2a5f8_974a_11e9_81a9_54ee758e2065row4_col2\" class=\"data row4 col2\" >0.009</td>\n",
       "                        <td id=\"T_88b2a5f8_974a_11e9_81a9_54ee758e2065row4_col3\" class=\"data row4 col3\" >0.043</td>\n",
       "                        <td id=\"T_88b2a5f8_974a_11e9_81a9_54ee758e2065row4_col4\" class=\"data row4 col4\" >0</td>\n",
       "                        <td id=\"T_88b2a5f8_974a_11e9_81a9_54ee758e2065row4_col5\" class=\"data row4 col5\" >0.004</td>\n",
       "                        <td id=\"T_88b2a5f8_974a_11e9_81a9_54ee758e2065row4_col6\" class=\"data row4 col6\" >7829</td>\n",
       "            </tr>\n",
       "            <tr>\n",
       "                        <th id=\"T_88b2a5f8_974a_11e9_81a9_54ee758e2065level0_row5\" class=\"row_heading level0 row5\" >Native English</th>\n",
       "                        <td id=\"T_88b2a5f8_974a_11e9_81a9_54ee758e2065row5_col0\" class=\"data row5 col0\" >0.028</td>\n",
       "                        <td id=\"T_88b2a5f8_974a_11e9_81a9_54ee758e2065row5_col1\" class=\"data row5 col1\" >0.003</td>\n",
       "                        <td id=\"T_88b2a5f8_974a_11e9_81a9_54ee758e2065row5_col2\" class=\"data row5 col2\" >0.01</td>\n",
       "                        <td id=\"T_88b2a5f8_974a_11e9_81a9_54ee758e2065row5_col3\" class=\"data row5 col3\" >0.047</td>\n",
       "                        <td id=\"T_88b2a5f8_974a_11e9_81a9_54ee758e2065row5_col4\" class=\"data row5 col4\" >0</td>\n",
       "                        <td id=\"T_88b2a5f8_974a_11e9_81a9_54ee758e2065row5_col5\" class=\"data row5 col5\" >0.005</td>\n",
       "                        <td id=\"T_88b2a5f8_974a_11e9_81a9_54ee758e2065row5_col6\" class=\"data row5 col6\" >9006</td>\n",
       "            </tr>\n",
       "            <tr>\n",
       "                        <th id=\"T_88b2a5f8_974a_11e9_81a9_54ee758e2065level0_row6\" class=\"row_heading level0 row6\" >Nonnative English</th>\n",
       "                        <td id=\"T_88b2a5f8_974a_11e9_81a9_54ee758e2065row6_col0\" class=\"data row6 col0\" >-0.004</td>\n",
       "                        <td id=\"T_88b2a5f8_974a_11e9_81a9_54ee758e2065row6_col1\" class=\"data row6 col1\" >0.713</td>\n",
       "                        <td id=\"T_88b2a5f8_974a_11e9_81a9_54ee758e2065row6_col2\" class=\"data row6 col2\" >0.011</td>\n",
       "                        <td id=\"T_88b2a5f8_974a_11e9_81a9_54ee758e2065row6_col3\" class=\"data row6 col3\" >0.025</td>\n",
       "                        <td id=\"T_88b2a5f8_974a_11e9_81a9_54ee758e2065row6_col4\" class=\"data row6 col4\" >0</td>\n",
       "                        <td id=\"T_88b2a5f8_974a_11e9_81a9_54ee758e2065row6_col5\" class=\"data row6 col5\" >0.007</td>\n",
       "                        <td id=\"T_88b2a5f8_974a_11e9_81a9_54ee758e2065row6_col6\" class=\"data row6 col6\" >3524</td>\n",
       "            </tr>\n",
       "    </tbody></table>"
      ],
      "text/plain": [
       "<pandas.io.formats.style.Styler at 0x141d6448be0>"
      ]
     },
     "execution_count": 29,
     "metadata": {},
     "output_type": "execute_result"
    }
   ],
   "source": [
    "for group in groups_labels:\n",
    "    model = sm.regression.linear_model.OLS(groups_dict[group]['left_school'], groups_dict[group][regressors], hasconst=True)\n",
    "    result = model.fit(cov_type='cluster', cov_kwds={'groups': groups_dict[group]['clustervar']})\n",
    "    outputs = [result.params['gpalscutoff'], result.pvalues['gpalscutoff'], result.bse['gpalscutoff'], \n",
    "               result.params['const'], result.pvalues['const'], result.bse['const'], \n",
    "               len(groups_dict[group]['left_school'])]   \n",
    "    table4.loc[group] = outputs\n",
    "    \n",
    "table4 = table4.round(3)\n",
    "table4.style.applymap(pvalue_5percent_red, subset=['P-Value (1)', 'P-Value (0)'])"
   ]
  },
  {
   "cell_type": "markdown",
   "metadata": {},
   "source": [
    "#### Figure 3 - Stratified Results for Voluntarily Leaving School at the End of the First year"
   ]
  },
  {
   "cell_type": "code",
   "execution_count": 30,
   "metadata": {},
   "outputs": [],
   "source": [
    "# Create groups and save them to a dictionary.\n",
    "\n",
    "hsgrade_pct_low_12 = sample12[sample12['lowHS'] == 1] \n",
    "hsgrade_pct_high_12 = sample12[sample12['highHS'] == 1] \n",
    "male_12 = sample12[sample12['male'] == 1] \n",
    "female_12 = sample12[sample12['female'] == 1] \n",
    "english_12 = sample12[sample12['english'] == 1]\n",
    "noenglish_12 = sample12[sample12['noenglish'] == 1]\n",
    "\n",
    "groups_dict_12 = {'All': sample12, 'HS Grades < median': hsgrade_pct_low_12, 'HS Grades > median': hsgrade_pct_high_12, \n",
    "               'Male': male_12, 'Female': female_12, 'Native English': english_12, 'Nonnative English': noenglish_12\n",
    "              }"
   ]
  },
  {
   "cell_type": "code",
   "execution_count": 31,
   "metadata": {},
   "outputs": [],
   "source": [
    "def create_fig3_predictions(groups_dict):\n",
    "    \n",
    "    predictions_groups_dict = {}\n",
    "    # Loop through groups:\n",
    "    for group in groups_dict:    \n",
    "\n",
    "        steps = np.arange(-1.2,1.25,0.05)\n",
    "        predictions_df = pd.DataFrame([])\n",
    "        \n",
    "        # Loop through bins or 'steps'.\n",
    "        for step in steps:  \n",
    "            # Select dataframe from the dictionary.\n",
    "            df = groups_dict[group][(groups_dict[group].dist_from_cut >= (step - 0.6)) & (groups_dict[group].dist_from_cut <= (step+0.6))]\n",
    "            # Run regression for with all values in the range specified above.\n",
    "            model = sm.regression.linear_model.OLS(df['left_school'], df[regressors], hasconst=True)\n",
    "            result = model.fit(cov_type='cluster', cov_kwds={'groups': df['clustervar']})\n",
    "            \n",
    "            # Fill in row for each step in the prediction datframe. \n",
    "            predictions_df.loc[step,'dist_from_cut'] = step\n",
    "            if step < 0: \n",
    "                predictions_df.loc[step,'gpalscutoff'] = 1 \n",
    "            else:\n",
    "                predictions_df.loc[step,'gpalscutoff'] = 0 \n",
    "\n",
    "            predictions_df.loc[step,'gpaXgpalscutoff']= (predictions_df.loc[step,'dist_from_cut'])*predictions_df.loc[step,'gpalscutoff']\n",
    "            predictions_df.loc[step,'gpaXgpagrcutoff']= (predictions_df.loc[step,'dist_from_cut'])*(\n",
    "                                                         1-predictions_df.loc[step,'gpalscutoff']\n",
    "                                                         )\n",
    "            predictions_df.loc[step,'const'] = 1\n",
    "            \n",
    "            # Make prediction for each step based on regression of each step and save value in the prediction dataframe.\n",
    "            predictions_df.loc[step,'prediction'] = result.predict(exog=[[\n",
    "                                                        predictions_df.loc[step,'const'], \n",
    "                                                        predictions_df.loc[step,'gpalscutoff'],\n",
    "                                                        predictions_df.loc[step,'gpaXgpalscutoff'], \n",
    "                                                        predictions_df.loc[step,'gpaXgpagrcutoff']\n",
    "                                                    ]])\n",
    "\n",
    "            predictions_df = predictions_df.round(4)\n",
    "        # Save the predictions for all groups in a dictionary. \n",
    "        predictions_groups_dict[group] = predictions_df\n",
    "    \n",
    "    return predictions_groups_dict"
   ]
  },
  {
   "cell_type": "code",
   "execution_count": 32,
   "metadata": {
    "scrolled": true
   },
   "outputs": [],
   "source": [
    "predictions_groups_dict =  create_fig3_predictions(groups_dict=groups_dict_12)"
   ]
  },
  {
   "cell_type": "code",
   "execution_count": 33,
   "metadata": {},
   "outputs": [
    {
     "data": {
      "text/plain": [
       "Text(0.5,1,'Other')"
      ]
     },
     "execution_count": 33,
     "metadata": {},
     "output_type": "execute_result"
    },
    {
     "data": {
      "image/png": "[encoded data removed]",
      "text/plain": [
       "<Figure size 700x910 with 6 Axes>"
      ]
     },
     "metadata": {},
     "output_type": "display_data"
    }
   ],
   "source": [
    "# Settings for plots\n",
    "plt.pyplot.figure(figsize=(10, 13), dpi= 70, facecolor='w', edgecolor='k')\n",
    "plt.pyplot.subplots_adjust(wspace=0.4, hspace=0.4)\n",
    "\n",
    "# Plot all siy groups\n",
    "plt.pyplot.subplot(3,2,1)\n",
    "fig3_subplots_frame()\n",
    "plt.pyplot.plot(hsgrade_pct_low_12.left_school.groupby(hsgrade_pct_low_12['bins']).mean(), 'o')\n",
    "plot_RDD_curve(df = predictions_groups_dict['HS Grades < median'], running_variable=\"dist_from_cut\", outcome=\"prediction\", cutoff=0)\n",
    "plt.pyplot.title(\"Lower 50% HS\")\n",
    "\n",
    "plt.pyplot.subplot(3,2,2)\n",
    "fig3_subplots_frame()\n",
    "plt.pyplot.plot(hsgrade_pct_high_12.left_school.groupby(hsgrade_pct_high_12['bins']).mean(), 'o')\n",
    "plot_RDD_curve(df = predictions_groups_dict['HS Grades > median'], running_variable=\"dist_from_cut\", outcome=\"prediction\", cutoff=0)\n",
    "plt.pyplot.title(\"Upper 50% HS\")\n",
    "\n",
    "\n",
    "plt.pyplot.subplot(3,2,3)\n",
    "fig3_subplots_frame()\n",
    "plt.pyplot.plot(male_12.left_school.groupby(male_12['bins']).mean(), 'o')\n",
    "plot_RDD_curve(df = predictions_groups_dict['Male'], running_variable=\"dist_from_cut\", outcome=\"prediction\", cutoff=0)\n",
    "plt.pyplot.title(\"Male\")\n",
    "\n",
    "plt.pyplot.subplot(3,2,4)\n",
    "fig3_subplots_frame()\n",
    "plt.pyplot.plot(female_12.left_school.groupby(female_12['bins']).mean(), 'o')\n",
    "plot_RDD_curve(df = predictions_groups_dict['Female'], running_variable=\"dist_from_cut\", outcome=\"prediction\", cutoff=0)\n",
    "plt.pyplot.title(\"Female\")\n",
    "\n",
    "\n",
    "plt.pyplot.subplot(3,2,5)\n",
    "fig3_subplots_frame()\n",
    "plt.pyplot.plot(english_12.left_school.groupby(english_12['bins']).mean(), 'o')\n",
    "plot_RDD_curve(df = predictions_groups_dict['Native English'], running_variable=\"dist_from_cut\", outcome=\"prediction\", cutoff=0)\n",
    "plt.pyplot.title(\"English\")\n",
    "\n",
    "plt.pyplot.subplot(3,2,6)\n",
    "fig3_subplots_frame()\n",
    "plt.pyplot.plot(noenglish_12.left_school.groupby(noenglish_12['bins']).mean(), 'o')\n",
    "plot_RDD_curve(df = predictions_groups_dict['Nonnative English'], running_variable=\"dist_from_cut\", outcome=\"prediction\", cutoff=0)\n",
    "plt.pyplot.title(\"Other\")\n"
   ]
  },
  {
   "cell_type": "markdown",
   "metadata": {},
   "source": [
    "### The Impact on Subsequent Performance"
   ]
  },
  {
   "cell_type": "markdown",
   "metadata": {},
   "source": [
    "#### Figure 4 - GPA in the next enrolled term"
   ]
  },
  {
   "cell_type": "code",
   "execution_count": 34,
   "metadata": {},
   "outputs": [
    {
     "data": {
      "text/plain": [
       "0    0.11\n",
       "1     NaN\n",
       "2    0.41\n",
       "3    1.38\n",
       "4    1.28\n",
       "Name: year2_dist_from_cut, dtype: float32"
      ]
     },
     "execution_count": 34,
     "metadata": {},
     "output_type": "execute_result"
    }
   ],
   "source": [
    "sample12['year2_dist_from_cut'].head()"
   ]
  },
  {
   "cell_type": "code",
   "execution_count": 35,
   "metadata": {},
   "outputs": [],
   "source": [
    "def create_predictions(data, outcome):\n",
    "    \n",
    "    steps = np.arange(-1.2,1.25,0.05)\n",
    "    predictions_df = pd.DataFrame([])\n",
    "    # Ensure there are no missings in the outcome variable\n",
    "    data = data.dropna(subset=[outcome])   \n",
    "    # Loop through bins or 'steps'.\n",
    "    for step in steps:  \n",
    "        #df =  df.dropna(subset=['year2_dist_from_cut'])\n",
    "        df = data[(data.dist_from_cut >= (step - 0.6)) & (data.dist_from_cut <= (step + 0.6))]\n",
    "        # Run regression for with all values in the range specified above.\n",
    "        model = sm.regression.linear_model.OLS(df[outcome], df[regressors], hasconst=True)\n",
    "        result = model.fit(cov_type='cluster', cov_kwds={'groups': df['clustervar']})\n",
    "\n",
    "            # Fill in row for each step in the prediction datframe. \n",
    "        predictions_df.loc[step,'dist_from_cut'] = step\n",
    "        if step < 0: \n",
    "            predictions_df.loc[step,'gpalscutoff'] = 1 \n",
    "        else:\n",
    "            predictions_df.loc[step,'gpalscutoff'] = 0 \n",
    "\n",
    "        predictions_df.loc[step,'gpaXgpalscutoff']= (predictions_df.loc[step,'dist_from_cut'])*predictions_df.loc[step,'gpalscutoff']\n",
    "        predictions_df.loc[step,'gpaXgpagrcutoff']= (predictions_df.loc[step,'dist_from_cut'])*(1-predictions_df.loc[step,'gpalscutoff'])\n",
    "        predictions_df.loc[step,'const'] = 1\n",
    "\n",
    "        # Make prediction for each step based on regression of each step and save value in the prediction dataframe.\n",
    "        predictions_df.loc[step,'prediction'] = result.predict(exog=[[\n",
    "                                                    predictions_df.loc[step,'const'], \n",
    "                                                    predictions_df.loc[step,'gpalscutoff'],\n",
    "                                                    predictions_df.loc[step,'gpaXgpalscutoff'], \n",
    "                                                    predictions_df.loc[step,'gpaXgpagrcutoff']\n",
    "                                                ]])\n",
    "\n",
    "    predictions_df.round(4)\n",
    "            \n",
    "    return predictions_df"
   ]
  },
  {
   "cell_type": "code",
   "execution_count": 36,
   "metadata": {},
   "outputs": [],
   "source": [
    "predictions_fig4 = create_predictions(data=sample12, outcome = 'year2_dist_from_cut')"
   ]
  },
  {
   "cell_type": "code",
   "execution_count": 37,
   "metadata": {
    "scrolled": true
   },
   "outputs": [
    {
     "data": {
      "text/plain": [
       "Text(0.5,1,'Figure 4 - GPA in the next enrolled term')"
      ]
     },
     "execution_count": 37,
     "metadata": {},
     "output_type": "execute_result"
    },
    {
     "data": {
      "image/png": "[encoded data removed]",
      "text/plain": [
       "<Figure size 432x288 with 1 Axes>"
      ]
     },
     "metadata": {
      "needs_background": "light"
     },
     "output_type": "display_data"
    }
   ],
   "source": [
    "plt.pyplot.xlim(-1.5,1.5,0.1)\n",
    "plt.pyplot.ylim(-1,1.5,0.1)\n",
    "plt.pyplot.axvline(x=0, color='r')\n",
    "plt.pyplot.xlabel('First year GPA minus probation cutoff')\n",
    "plt.pyplot.ylabel('Subsequent GPA minus Cutoff')\n",
    "plt.pyplot.plot(sample12.year2_dist_from_cut.groupby(sample12['bins']).mean(), 'o')\n",
    "plot_RDD_curve(df = predictions_fig4, running_variable=\"dist_from_cut\", outcome=\"prediction\", cutoff=0)\n",
    "plt.pyplot.title(\"Figure 4 - GPA in the next enrolled term\")"
   ]
  },
  {
   "cell_type": "markdown",
   "metadata": {},
   "source": [
    "### The Impacts on Graduation"
   ]
  },
  {
   "cell_type": "markdown",
   "metadata": {},
   "source": [
    "#### Figure 5 - Graduation Rates"
   ]
  },
  {
   "cell_type": "code",
   "execution_count": 38,
   "metadata": {},
   "outputs": [],
   "source": [
    "predictions_fig5_gradin4 = create_predictions(data=sample12, outcome = 'gradin4')\n",
    "predictions_fig5_gradin5 = create_predictions(data=sample12, outcome = 'gradin5')\n",
    "predictions_fig5_gradin6 = create_predictions(data=sample12, outcome = 'gradin6')"
   ]
  },
  {
   "cell_type": "code",
   "execution_count": 39,
   "metadata": {
    "scrolled": true
   },
   "outputs": [
    {
     "data": {
      "text/plain": [
       "Text(0.5,1,'Figure 5 - Graduation Rates')"
      ]
     },
     "execution_count": 39,
     "metadata": {},
     "output_type": "execute_result"
    },
    {
     "data": {
      "image/png": "[encoded data removed]",
      "text/plain": [
       "<Figure size 432x288 with 1 Axes>"
      ]
     },
     "metadata": {
      "needs_background": "light"
     },
     "output_type": "display_data"
    }
   ],
   "source": [
    "plt.pyplot.xlim(-1.5,1.5,0.1)\n",
    "plt.pyplot.ylim(0,1,0.1)\n",
    "plt.pyplot.axvline(x=0, color='r')\n",
    "plt.pyplot.xlabel('First year GPA minus probation cutoff')\n",
    "plt.pyplot.ylabel('Has Graduated')\n",
    "\n",
    "plt.pyplot.plot(sample12.gradin4.groupby(sample12['bins']).mean(), 'o', color='k', label= 'Within 4 years')\n",
    "plot_RDD_curve_colored(df = predictions_fig5_gradin4, running_variable=\"dist_from_cut\", outcome=\"prediction\", cutoff=0, color = 'k')\n",
    "\n",
    "plt.pyplot.plot(sample12.gradin5.groupby(sample12['bins']).mean(), 'x', color ='C0', label= 'Within 5 years')\n",
    "plot_RDD_curve_colored(df = predictions_fig5_gradin5, running_variable=\"dist_from_cut\", outcome=\"prediction\", cutoff=0, color = 'C0' )\n",
    "\n",
    "plt.pyplot.plot(sample12.gradin6.groupby(sample12['bins']).mean(), '^', color='g', label= 'Within 6 years')\n",
    "plot_RDD_curve_colored(df = predictions_fig5_gradin6, running_variable=\"dist_from_cut\", outcome=\"prediction\", cutoff=0, color ='g')\n",
    "\n",
    "\n",
    "plt.pyplot.legend()\n",
    "plt.pyplot.title(\"Figure 5 - Graduation Rates\")"
   ]
  },
  {
   "cell_type": "markdown",
   "metadata": {},
   "source": [
    "#### Table 6 - Estimated Effects on Graduation"
   ]
  },
  {
   "cell_type": "code",
   "execution_count": 40,
   "metadata": {},
   "outputs": [
    {
     "ename": "NameError",
     "evalue": "name 'regressors' is not defined",
     "output_type": "error",
     "traceback": [
      "\u001b[1;31m---------------------------------------------------------------------------\u001b[0m",
      "\u001b[1;31mNameError\u001b[0m                                 Traceback (most recent call last)",
      "\u001b[1;32m<ipython-input-40-a87cd5a800d6>\u001b[0m in \u001b[0;36m<module>\u001b[1;34m\u001b[0m\n\u001b[1;32m----> 1\u001b[1;33m \u001b[0mtable6_1\u001b[0m \u001b[1;33m=\u001b[0m \u001b[0mcreate_table_6\u001b[0m\u001b[1;33m(\u001b[0m\u001b[0mgroups_dict\u001b[0m\u001b[1;33m=\u001b[0m\u001b[0mgroups_dict\u001b[0m\u001b[1;33m,\u001b[0m \u001b[0mgroups_labels\u001b[0m \u001b[1;33m=\u001b[0m \u001b[0mgroups_labels\u001b[0m\u001b[1;33m,\u001b[0m \u001b[0moutcome\u001b[0m\u001b[1;33m=\u001b[0m\u001b[1;34m'gradin4'\u001b[0m\u001b[1;33m)\u001b[0m\u001b[1;33m\u001b[0m\u001b[1;33m\u001b[0m\u001b[0m\n\u001b[0m\u001b[0;32m      2\u001b[0m \u001b[0mtable6_1\u001b[0m\u001b[1;33m.\u001b[0m\u001b[0mstyle\u001b[0m\u001b[1;33m.\u001b[0m\u001b[0mapplymap\u001b[0m\u001b[1;33m(\u001b[0m\u001b[0mpvalue_5percent_red\u001b[0m\u001b[1;33m,\u001b[0m \u001b[0msubset\u001b[0m\u001b[1;33m=\u001b[0m\u001b[1;33m[\u001b[0m\u001b[1;34m'P-Value (1)'\u001b[0m\u001b[1;33m,\u001b[0m \u001b[1;34m'P-Value (0)'\u001b[0m\u001b[1;33m]\u001b[0m\u001b[1;33m)\u001b[0m\u001b[1;33m\u001b[0m\u001b[1;33m\u001b[0m\u001b[0m\n",
      "\u001b[1;32m~\\Econ\\microeconometrics_course\\student-project-amageh\\auxiliary\\auxiliary.py\u001b[0m in \u001b[0;36mcreate_table_6\u001b[1;34m(groups_dict, groups_labels, outcome)\u001b[0m\n\u001b[0;32m     66\u001b[0m         \u001b[0mdata\u001b[0m \u001b[1;33m=\u001b[0m \u001b[0mdata\u001b[0m\u001b[1;33m.\u001b[0m\u001b[0mdropna\u001b[0m\u001b[1;33m(\u001b[0m\u001b[0msubset\u001b[0m\u001b[1;33m=\u001b[0m\u001b[1;33m[\u001b[0m\u001b[0moutcome\u001b[0m\u001b[1;33m]\u001b[0m\u001b[1;33m)\u001b[0m\u001b[1;33m\u001b[0m\u001b[1;33m\u001b[0m\u001b[0m\n\u001b[0;32m     67\u001b[0m \u001b[1;33m\u001b[0m\u001b[0m\n\u001b[1;32m---> 68\u001b[1;33m         \u001b[0mmodel\u001b[0m \u001b[1;33m=\u001b[0m \u001b[0msm\u001b[0m\u001b[1;33m.\u001b[0m\u001b[0mregression\u001b[0m\u001b[1;33m.\u001b[0m\u001b[0mlinear_model\u001b[0m\u001b[1;33m.\u001b[0m\u001b[0mOLS\u001b[0m\u001b[1;33m(\u001b[0m\u001b[0mdata\u001b[0m\u001b[1;33m[\u001b[0m\u001b[0moutcome\u001b[0m\u001b[1;33m]\u001b[0m\u001b[1;33m,\u001b[0m \u001b[0mdata\u001b[0m\u001b[1;33m[\u001b[0m\u001b[0mregressors\u001b[0m\u001b[1;33m]\u001b[0m\u001b[1;33m,\u001b[0m \u001b[0mhasconst\u001b[0m\u001b[1;33m=\u001b[0m\u001b[1;32mTrue\u001b[0m\u001b[1;33m)\u001b[0m\u001b[1;33m\u001b[0m\u001b[1;33m\u001b[0m\u001b[0m\n\u001b[0m\u001b[0;32m     69\u001b[0m         \u001b[0mresult\u001b[0m \u001b[1;33m=\u001b[0m \u001b[0mmodel\u001b[0m\u001b[1;33m.\u001b[0m\u001b[0mfit\u001b[0m\u001b[1;33m(\u001b[0m\u001b[0mcov_type\u001b[0m\u001b[1;33m=\u001b[0m\u001b[1;34m'cluster'\u001b[0m\u001b[1;33m,\u001b[0m \u001b[0mcov_kwds\u001b[0m\u001b[1;33m=\u001b[0m\u001b[1;33m{\u001b[0m\u001b[1;34m'groups'\u001b[0m\u001b[1;33m:\u001b[0m \u001b[0mdata\u001b[0m\u001b[1;33m[\u001b[0m\u001b[1;34m'clustervar'\u001b[0m\u001b[1;33m]\u001b[0m\u001b[1;33m}\u001b[0m\u001b[1;33m)\u001b[0m\u001b[1;33m\u001b[0m\u001b[1;33m\u001b[0m\u001b[0m\n\u001b[0;32m     70\u001b[0m         outputs = [result.params['gpalscutoff'], result.pvalues['gpalscutoff'], result.bse['gpalscutoff'], \n",
      "\u001b[1;31mNameError\u001b[0m: name 'regressors' is not defined"
     ]
    }
   ],
   "source": [
    "table6_1 = create_table_6(groups_dict=groups_dict, groups_labels = groups_labels, outcome='gradin4')\n",
    "table6_1.style.applymap(pvalue_5percent_red, subset=['P-Value (1)', 'P-Value (0)'])"
   ]
  },
  {
   "cell_type": "code",
   "execution_count": null,
   "metadata": {},
   "outputs": [],
   "source": [
    "table6_2 = create_table_6(groups_dict=groups_dict, groups_labels = groups_labels, outcome='gradin5')\n",
    "table6_2.style.applymap(pvalue_5percent_red, subset=['P-Value (1)', 'P-Value (0)'])"
   ]
  },
  {
   "cell_type": "code",
   "execution_count": null,
   "metadata": {},
   "outputs": [],
   "source": [
    "table6_3 = create_table_6(groups_dict=groups_dict, groups_labels = groups_labels, outcome='gradin6')\n",
    "table6_3.style.applymap(pvalue_5percent_red, subset=['P-Value (1)', 'P-Value (0)'])"
   ]
  },
  {
   "cell_type": "markdown",
   "metadata": {},
   "source": [
    "# Miscellaneous"
   ]
  },
  {
   "cell_type": "code",
   "execution_count": null,
   "metadata": {
    "scrolled": true
   },
   "outputs": [],
   "source": [
    "\"\"\"# Alternative for table 2\n",
    "table22 = pd.DataFrame({'outputs': ['GPA below cutoff', 'P-Value GPA below cutoff', 'Intercept', 'P-Value Intercept', 'Observations']})\n",
    "table22 = table22.set_index('outputs')\n",
    "\n",
    "for covariate in covariates:\n",
    "    \n",
    "    result = sm.regression.linear_model.OLS(sample06[covariate], regressors, hasconst=True).fit()\n",
    "    outputs = [result.params[1], result.pvalues[1], result.params[0], result.pvalues[0], len(sample06[covariate])]   \n",
    "    table22[covariate] = outputs\n",
    "\n",
    "table22=table22.round(4)\"\"\""
   ]
  },
  {
   "cell_type": "code",
   "execution_count": null,
   "metadata": {},
   "outputs": [],
   "source": [
    "sample06.dist_from_cut.mean()"
   ]
  },
  {
   "cell_type": "code",
   "execution_count": null,
   "metadata": {},
   "outputs": [],
   "source": [
    "create_predictions(data=sample12, outcome = 'year2_dist_from_cut').head()"
   ]
  },
  {
   "cell_type": "code",
   "execution_count": null,
   "metadata": {},
   "outputs": [],
   "source": [
    "df = sample12[(sample12.dist_from_cut >= (1.0 - 0.6)) & (sample12.dist_from_cut <= (1.0 + 0.6))]\n",
    "# Run regression for with all values in the range specified above.\n",
    "model = sm.regression.linear_model.OLS(df['left_school'], df[regressors], hasconst=True)\n",
    "result = model.fit(cov_type='cluster', cov_kwds={'groups': df['clustervar']})\n",
    "pred = result.predict()\n",
    "error = df.left_school - pred\n",
    "ssr = error**2\n",
    "t = stats.t.ppf(1-0.025, df=dof)\n"
   ]
  },
  {
   "cell_type": "code",
   "execution_count": null,
   "metadata": {},
   "outputs": [],
   "source": [
    "conf = t * np.sqrt((s_err/(n-2))*(1.0/n + (np.power((x_pred-mean_x),2) / \n",
    "                                                   ((np.sum(np.power(x_pred,2))) - n*(np.power(mean_x,2))))))"
   ]
  },
  {
   "cell_type": "markdown",
   "metadata": {},
   "source": [
    "---"
   ]
  },
  {
   "cell_type": "code",
   "execution_count": null,
   "metadata": {},
   "outputs": [],
   "source": [
    "import scipy\n",
    "df = sample12[(sample12.dist_from_cut >= (1.0 - 0.6)) & (sample12.dist_from_cut <= (1.0 + 0.6))]\n",
    "model = sm.regression.linear_model.OLS(df['left_school'], df[regressors], hasconst=True)\n",
    "result = model.fit(cov_type='cluster', cov_kwds={'groups': df['clustervar']})\n",
    "pred = result.predict()\n",
    "\n",
    "y_err = df.left_school - pred\n",
    "mean_x = df.dist_from_cut.mean()\n",
    "n=len(df.dist_from_cut)\n",
    "t = scipy.stats.t.ppf(1-0.025, df=dof)\n",
    "s_err = np.sum(np.power(y_err, 2))\n",
    "dof= len()\n",
    "conf = t * np.sqrt((s_err/(n-2))*(1.0/n + (np.power((x_pred-mean_x),2) / \n",
    "                                                   ((np.sum(np.power(x_pred,2))) - n*(np.power(mean_x,2))))))\n",
    "\n",
    "upper = y_pred + abs(conf)\n",
    "lower = y_pred - abs(conf)"
   ]
  },
  {
   "cell_type": "code",
   "execution_count": null,
   "metadata": {},
   "outputs": [],
   "source": [
    "def create_predictions_WIP(data, outcome):\n",
    "    \n",
    "    steps = np.arange(-1.2,1.25,0.05)\n",
    "    predictions_df = pd.DataFrame([])\n",
    "    # Ensure there are no missings in the outcome variable\n",
    "    data = data.dropna(subset=[outcome])   \n",
    "    # Loop through bins or 'steps'.\n",
    "    for step in steps:  \n",
    "        #df =  df.dropna(subset=['year2_dist_from_cut'])\n",
    "        df = data[(data.dist_from_cut >= (step - 0.6)) & (data.dist_from_cut <= (step + 0.6))]\n",
    "        # Run regression for with all values in the range specified above.\n",
    "        model = sm.regression.linear_model.OLS(df[outcome], df[regressors], hasconst=True)\n",
    "        result = model.fit(cov_type='cluster', cov_kwds={'groups': df['clustervar']})\n",
    "\n",
    "            # Fill in row for each step in the prediction datframe. \n",
    "        predictions_df.loc[step,'dist_from_cut'] = step\n",
    "        if step < 0: \n",
    "            predictions_df.loc[step,'gpalscutoff'] = 1 \n",
    "        else:\n",
    "            predictions_df.loc[step,'gpalscutoff'] = 0 \n",
    "\n",
    "        predictions_df.loc[step,'gpaXgpalscutoff']= (predictions_df.loc[step,'dist_from_cut'])*predictions_df.loc[step,'gpalscutoff']\n",
    "        predictions_df.loc[step,'gpaXgpagrcutoff']= (predictions_df.loc[step,'dist_from_cut'])*(1-predictions_df.loc[step,'gpalscutoff'])\n",
    "        predictions_df.loc[step,'const'] = 1\n",
    "        predictions_df.loc[step, outcome] = 1\n",
    "\n",
    "        # Make prediction for each step based on regression of each step and save value in the prediction dataframe.\n",
    "        predictions_df.loc[step,'prediction'] = result.predict(exog=[[\n",
    "                                                    predictions_df.loc[step,'const'], \n",
    "                                                    predictions_df.loc[step,'gpalscutoff'],\n",
    "                                                    predictions_df.loc[step,'gpaXgpalscutoff'], \n",
    "                                                    predictions_df.loc[step,'gpaXgpagrcutoff']\n",
    "                                                ]])\n",
    "\n",
    "    predictions_df.round(4)\n",
    "            \n",
    "    return predictions_df\n"
   ]
  },
  {
   "cell_type": "code",
   "execution_count": null,
   "metadata": {},
   "outputs": [],
   "source": [
    "y_err = df.year2_dist_from_cut - df.predictions\n",
    "mean_x = df.dist_from_cut.mean()\n",
    "n=len(x)\n",
    "t = stats.t.ppf(1-0.025, df=dof)\n",
    "s_err = np.sum(np.power(y_err, 2))\n",
    "dof= len()\n",
    "conf = t * np.sqrt((s_err/(n-2))*(1.0/n + (np.power((x_pred-mean_x),2) / \n",
    "                                                   ((np.sum(np.power(x_pred,2))) - n*(np.power(mean_x,2))))))\n",
    "\n",
    "upper = y_pred + abs(conf)\n",
    "lower = y_pred - abs(conf)"
   ]
  },
  {
   "cell_type": "code",
   "execution_count": null,
   "metadata": {},
   "outputs": [],
   "source": [
    "def create_confidence_interval(predictions_df):\n",
    "    # Confidence interval\n",
    "    y_err = predictions_df[outcome] - predictions_df.predictions\n",
    "    mean_x = predictions_df.dist_from_cut.mean()\n",
    "    n=len(x)\n",
    "    t = stats.t.ppf(1-0.025, df=dof)\n",
    "    s_err = np.sum(np.power(y_err, 2))\n",
    "    dof= len()\n",
    "    conf = t * np.sqrt((s_err/(n-2))*(1.0/n + (np.power((x_pred-mean_x),2) / \n",
    "                                                   ((np.sum(np.power(x_pred,2))) - n*(np.power(mean_x,2))))))\n",
    "\n",
    "    upper = y_pred + abs(conf)\n",
    "    lower = y_pred - abs(conf)\n",
    "    \n",
    "    return predictions_df"
   ]
  },
  {
   "cell_type": "code",
   "execution_count": null,
   "metadata": {},
   "outputs": [],
   "source": [
    "create_confidence_interval(predictions_df=predictions_fig4)"
   ]
  },
  {
   "cell_type": "markdown",
   "metadata": {},
   "source": [
    "# References"
   ]
  },
  {
   "cell_type": "markdown",
   "metadata": {},
   "source": [
    "Bénabou, R., & Tirole, J. (2000). Self-confidence and social interactions (No. w7585). National bureau of economic research.\n",
    "\n",
    "Lee, D. S., & Lemieux, T. (2010). Regression discontinuity designs in economics. Journal of economic literature, 48(2), 281-355.\n",
    "\n",
    "Lindo, J. M., Sanders, N. J., & Oreopoulos, P. (2010). Ability, gender, and performance standards: Evidence from academic probation. American Economic Journal: Applied Economics, 2(2), 95-117.\n",
    " "
   ]
  }
 ],
 "metadata": {
  "kernelspec": {
   "display_name": "Python 3",
   "language": "python",
   "name": "python3"
  },
  "language_info": {
   "codemirror_mode": {
    "name": "ipython",
    "version": 3
   },
   "file_extension": ".py",
   "mimetype": "text/x-python",
   "name": "python",
   "nbconvert_exporter": "python",
   "pygments_lexer": "ipython3",
   "version": "3.7.2"
  },
  "toc": {
   "base_numbering": 1,
   "nav_menu": {},
   "number_sections": true,
   "sideBar": true,
   "skip_h1_title": false,
   "title_cell": "Table of Contents",
   "title_sidebar": "Contents",
   "toc_cell": false,
   "toc_position": {
    "height": "calc(100% - 180px)",
    "left": "10px",
    "top": "150px",
    "width": "293.021px"
   },
   "toc_section_display": true,
   "toc_window_display": true
  },
  "varInspector": {
   "cols": {
    "lenName": 16,
    "lenType": 16,
    "lenVar": 40
   },
   "kernels_config": {
    "python": {
     "delete_cmd_postfix": "",
     "delete_cmd_prefix": "del ",
     "library": "var_list.py",
     "varRefreshCmd": "print(var_dic_list())"
    },
    "r": {
     "delete_cmd_postfix": ") ",
     "delete_cmd_prefix": "rm(",
     "library": "var_list.r",
     "varRefreshCmd": "cat(var_dic_list()) "
    }
   },
   "oldHeight": 189.73845400000002,
   "position": {
    "height": "40px",
    "left": "653.585px",
    "right": "20px",
    "top": "198.997px",
    "width": "483.182px"
   },
   "types_to_exclude": [
    "module",
    "function",
    "builtin_function_or_method",
    "instance",
    "_Feature"
   ],
   "varInspector_section_display": "none",
   "window_display": false
  }
 },
 "nbformat": 4,
 "nbformat_minor": 2
}
