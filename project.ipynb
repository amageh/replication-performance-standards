{
 "cells": [
  {
   "cell_type": "markdown",
   "metadata": {},
   "source": [
    "*Project for the course in Microeconometrics, Summer 2019, Bonn University*\n",
    "\n",
    "---\n",
    "\n",
    "## Replication of Jason M. Lindo, Nicholas J. Sanders & Philip Oreopoulos (2010) <a class=\"tocSkip\"> \n",
    "\n",
    "_Lindo, J. M., Sanders, N. J., & Oreopoulos, P. (2010). Ability, gender, and performance standards: Evidence from academic probation. American Economic Journal: Applied Economics, 2(2), 95-117._\n"
   ]
  },
  {
   "cell_type": "markdown",
   "metadata": {},
   "source": [
    "---"
   ]
  },
  {
   "cell_type": "code",
   "execution_count": 1,
   "metadata": {},
   "outputs": [],
   "source": [
    "%matplotlib inline\n",
    "\n",
    "import numpy as np\n",
    "import pandas as pd\n",
    "import pandas.io.formats.style\n",
    "import seaborn as sns\n",
    "import statsmodels as sm\n",
    "import statsmodels.formula.api as smf\n",
    "import statsmodels.api as sm_api\n",
    "import matplotlib as plt\n",
    "from IPython.display import HTML\n"
   ]
  },
  {
   "cell_type": "markdown",
   "metadata": {},
   "source": [
    "# Overview "
   ]
  },
  {
   "cell_type": "markdown",
   "metadata": {},
   "source": [
    "Lindo et al. (2010) examine the effects of academic probation on student outcomes using data from Canada. Academic probation is a university policy that aims to improve the performance of the lowest scoring students. If a student's grade point average (GPA) drops below a certain threshold, the student is placed on academic probabtion. The probation status serves as a warning and does not entail immediate consequences, however, if students fail to improve their grades during the following year, they face the threat of being suspended from university. In a more general sense, academic probation may offer insights into how agents respond to negative incentives and the threat of punishment in a real world context with high stakes. \n",
    "\n",
    "To estimate the causal impact of being placed on probation, Lindo et al. (2010) apply a **regression discontinuity design (RDD)** to data retrieved from three campuses at a large Canadian university. The RDD is motivated by the idea that the students who score just above the threshold for being put on academic probation provide a good counterfactual to the 'treatment group' that scores just below the threshold and is put on academic probation. \n",
    "\n",
    "**Observed outcomes:**\n",
    "* Drop-out rates\n",
    "* Subsequent performance\n",
    "* Graduation rates\n",
    "\n",
    "**Covariates:**\n",
    "* Gender\n",
    "* High school performance\n",
    "* Native language \n",
    "* Age at entry\n",
    "* Credits attempted in 1st year\n",
    "* Birthplace\n",
    "* Campus"
   ]
  },
  {
   "cell_type": "markdown",
   "metadata": {},
   "source": [
    "# Causal Graphs"
   ]
  },
  {
   "cell_type": "markdown",
   "metadata": {},
   "source": [
    "wip"
   ]
  },
  {
   "cell_type": "markdown",
   "metadata": {},
   "source": [
    "# Study replication"
   ]
  },
  {
   "cell_type": "code",
   "execution_count": 2,
   "metadata": {},
   "outputs": [
    {
     "data": {
      "text/plain": [
       "(44362, 86)"
      ]
     },
     "execution_count": 2,
     "metadata": {},
     "output_type": "execute_result"
    }
   ],
   "source": [
    "# Loading the data\n",
    "data = pd.read_stata('data/data_for_analysis.dta')\n",
    "data.shape"
   ]
  },
  {
   "cell_type": "markdown",
   "metadata": {},
   "source": [
    "## Data & Descriptive Statistics\n",
    "Overview of all variables in the provided dataset:"
   ]
  },
  {
   "cell_type": "code",
   "execution_count": 3,
   "metadata": {},
   "outputs": [
    {
     "name": "stdout",
     "output_type": "stream",
     "text": [
      "Index(['credits1', 'credits2', 'credits_earned1', 'credits_earned2',\n",
      "       'session1', 'winter_ac_standing', 'GPA_year1', 'GPA_year2',\n",
      "       'CGPA_year1', 'CGPA_year2', 'totcredits_year1', 'totcredits_year2',\n",
      "       'goodstanding_year1', 'goodstanding_year2', 'winter_ac_stand_year1',\n",
      "       'winter_ac_stand_year2', 'fallreg_year1', 'fallreg_year2',\n",
      "       'act_fallreg_year1', 'act_fallreg_year2', 'summerreg_year1',\n",
      "       'summerreg_year2', 'sex', 'mtongue', 'identifier', 'age_at_entry',\n",
      "       'bpl_north_america', 'bpl_asia', 'canadian', 'bpl_other', 'firstyear',\n",
      "       'yearstodegree', 'gradin4', 'gradin5', 'gradin6', 'gradin4orcont',\n",
      "       'cumcredits1', 'cumcredits2', 'prog_science', 'prog_socsci_bus',\n",
      "       'prog_socscihum', 'prog_unknown', 'english', 'noenglish', 'french',\n",
      "       'other_lang', 'female', 'male', 'gpacutoff', 'dist_from_cut',\n",
      "       'year2_dist_from_cut', 'CGPA_final', 'nextGPA', 'nextCGPA',\n",
      "       'probation_year1', 'probation_year2', 'probation_summer1',\n",
      "       'probation_summer2', 'probation_ever', 'suspended_year1',\n",
      "       'suspended_summer1', 'suspended_year2', 'suspended_summer2',\n",
      "       'suspended_ever', 'loc_campus1', 'loc_campus2', 'loc_campus3', 'all',\n",
      "       'left_school', 'gpalscutoff', 'gpaXgpalscutoff', 'gpaXgpagrcutoff',\n",
      "       'gpasqXgpagrcutoff', 'dist_from_cut_med10', 'dist_from_cut_med05',\n",
      "       'dist_from_cut_med025', 'hsgrade_pct', 'veryhighHS', 'highHS', 'lowHS',\n",
      "       'maleXhighHS', 'femaleXhighHS', 'maleXlowabil', 'femaleXlowabil',\n",
      "       'clustervar', 'summer'],\n",
      "      dtype='object')\n"
     ]
    }
   ],
   "source": [
    "columnlist = data.columns\n",
    "print(columnlist)"
   ]
  },
  {
   "cell_type": "markdown",
   "metadata": {},
   "source": [
    "### Data Restriction & Preparation"
   ]
  },
  {
   "cell_type": "markdown",
   "metadata": {},
   "source": [
    "Lindo et al. (2010) filter the data to meet the following requirements:\n",
    "* Students entered university before the year 2004 ( to ensure they can be observed over a 2-year period)\n",
    "* Students are between 17 and 21 years of age at time of entry\n",
    "* Distance from cutoff is maximally 0.6"
   ]
  },
  {
   "cell_type": "code",
   "execution_count": 4,
   "metadata": {},
   "outputs": [
    {
     "data": {
      "text/plain": [
       "array([2002, 2001, 2000, 2003, 1996, 1998, 1997, 1999], dtype=int64)"
      ]
     },
     "execution_count": 4,
     "metadata": {},
     "output_type": "execute_result"
    }
   ],
   "source": [
    "data.firstyear.unique()"
   ]
  },
  {
   "cell_type": "code",
   "execution_count": 5,
   "metadata": {},
   "outputs": [
    {
     "data": {
      "text/plain": [
       "array([19., 18., 20., 17., 21.])"
      ]
     },
     "execution_count": 5,
     "metadata": {},
     "output_type": "execute_result"
    }
   ],
   "source": [
    "data.age_at_entry.unique()"
   ]
  },
  {
   "cell_type": "markdown",
   "metadata": {},
   "source": [
    "The dataset provided for replication is already filtered by age and year of university entrance. The distance from cutoff still spans from  values of -1.6 to 2.8 as can be seen below. I thus filter the data further to receive the sample used in the study."
   ]
  },
  {
   "cell_type": "code",
   "execution_count": 6,
   "metadata": {
    "scrolled": true
   },
   "outputs": [
    {
     "name": "stdout",
     "output_type": "stream",
     "text": [
      "(array([ 842., 1290., 2571., 4265., 6328., 7828., 8156., 6789., 4806.,\n",
      "       1487.]), array([-1.6       , -1.1600001 , -0.72      , -0.28000003,  0.15999997,\n",
      "        0.59999996,  1.04      ,  1.48      ,  1.92      ,  2.36      ,\n",
      "        2.8       ], dtype=float32), <a list of 10 Patch objects>)\n"
     ]
    },
    {
     "data": {
      "image/png": "[encoded data removed]",
      "text/plain": [
       "<Figure size 432x288 with 1 Axes>"
      ]
     },
     "metadata": {
      "needs_background": "light"
     },
     "output_type": "display_data"
    }
   ],
   "source": [
    "# Distribution of values for distance from cutoff.\n",
    "print(plt.pyplot.hist(data['dist_from_cut'], color = \"coral\"))"
   ]
  },
  {
   "cell_type": "code",
   "execution_count": 7,
   "metadata": {},
   "outputs": [
    {
     "name": "stdout",
     "output_type": "stream",
     "text": [
      "A sample of students within 1.2 points from the cuttoff encompasses 25389 observations.\n"
     ]
    }
   ],
   "source": [
    "# Reduce sample to students within 1.2 points from cutoff.\n",
    "sample12 = data[abs(data['dist_from_cut']) < 1.2] \n",
    "sample12.reset_index(inplace=True)\n",
    "print(\"A sample of students within 1.2 points from the cuttoff encompasses\", sample12.shape[0], \"observations.\")"
   ]
  },
  {
   "cell_type": "code",
   "execution_count": 8,
   "metadata": {},
   "outputs": [
    {
     "name": "stdout",
     "output_type": "stream",
     "text": [
      "The final sample includes 12530 observations.\n"
     ]
    }
   ],
   "source": [
    "# Reduce sample to students within 0.6 points from cutoff.\n",
    "sample06 = data[abs(data['dist_from_cut']) < 0.6]  \n",
    "sample06.reset_index(inplace=True)\n",
    "print(\"The final sample includes\", sample06.shape[0], \"observations.\")"
   ]
  },
  {
   "cell_type": "markdown",
   "metadata": {},
   "source": [
    "### Table 1 – Summary Statistics"
   ]
  },
  {
   "cell_type": "code",
   "execution_count": 9,
   "metadata": {
    "scrolled": true
   },
   "outputs": [],
   "source": [
    "main = sample06[['hsgrade_pct','totcredits_year1', 'age_at_entry','male', 'english', 'bpl_north_america', \n",
    "             'loc_campus1','loc_campus2', 'loc_campus3',\n",
    "             'dist_from_cut', 'probation_year1', 'probation_ever', 'left_school', 'year2_dist_from_cut',\n",
    "             'suspended_ever', 'gradin4', 'gradin5', 'gradin6']]"
   ]
  },
  {
   "cell_type": "code",
   "execution_count": 10,
   "metadata": {},
   "outputs": [
    {
     "data": {
      "text/html": [
       "<div>\n",
       "<style scoped>\n",
       "    .dataframe tbody tr th:only-of-type {\n",
       "        vertical-align: middle;\n",
       "    }\n",
       "\n",
       "    .dataframe tbody tr th {\n",
       "        vertical-align: top;\n",
       "    }\n",
       "\n",
       "    .dataframe thead th {\n",
       "        text-align: right;\n",
       "    }\n",
       "</style>\n",
       "<table border=\"1\" class=\"dataframe\">\n",
       "  <thead>\n",
       "    <tr style=\"text-align: right;\">\n",
       "      <th></th>\n",
       "      <th>Mean</th>\n",
       "      <th>Standard Deviation</th>\n",
       "      <th>Description</th>\n",
       "      <th>Type</th>\n",
       "    </tr>\n",
       "  </thead>\n",
       "  <tbody>\n",
       "    <tr>\n",
       "      <th>hsgrade_pct</th>\n",
       "      <td>33.332085</td>\n",
       "      <td>23.288502</td>\n",
       "      <td>High School Grade Percentile</td>\n",
       "      <td>Characteristics</td>\n",
       "    </tr>\n",
       "    <tr>\n",
       "      <th>totcredits_year1</th>\n",
       "      <td>4.426975</td>\n",
       "      <td>0.530186</td>\n",
       "      <td>Credits attempted first year</td>\n",
       "      <td>Characteristics</td>\n",
       "    </tr>\n",
       "    <tr>\n",
       "      <th>age_at_entry</th>\n",
       "      <td>18.718756</td>\n",
       "      <td>0.735240</td>\n",
       "      <td>Age at entry</td>\n",
       "      <td>Characteristics</td>\n",
       "    </tr>\n",
       "    <tr>\n",
       "      <th>male</th>\n",
       "      <td>0.375180</td>\n",
       "      <td>0.484199</td>\n",
       "      <td>Male</td>\n",
       "      <td>Characteristics</td>\n",
       "    </tr>\n",
       "    <tr>\n",
       "      <th>english</th>\n",
       "      <td>0.718755</td>\n",
       "      <td>0.449625</td>\n",
       "      <td>English is first language</td>\n",
       "      <td>Characteristics</td>\n",
       "    </tr>\n",
       "    <tr>\n",
       "      <th>bpl_north_america</th>\n",
       "      <td>0.870231</td>\n",
       "      <td>0.336071</td>\n",
       "      <td>Born in North America</td>\n",
       "      <td>Characteristics</td>\n",
       "    </tr>\n",
       "    <tr>\n",
       "      <th>loc_campus1</th>\n",
       "      <td>0.478132</td>\n",
       "      <td>0.499548</td>\n",
       "      <td>At Campus 1</td>\n",
       "      <td>Characteristics</td>\n",
       "    </tr>\n",
       "    <tr>\n",
       "      <th>loc_campus2</th>\n",
       "      <td>0.209497</td>\n",
       "      <td>0.406989</td>\n",
       "      <td>At Campus 2</td>\n",
       "      <td>Characteristics</td>\n",
       "    </tr>\n",
       "    <tr>\n",
       "      <th>loc_campus3</th>\n",
       "      <td>0.312370</td>\n",
       "      <td>0.463482</td>\n",
       "      <td>At Campus 3</td>\n",
       "      <td>Characteristics</td>\n",
       "    </tr>\n",
       "    <tr>\n",
       "      <th>dist_from_cut</th>\n",
       "      <td>0.111093</td>\n",
       "      <td>0.325851</td>\n",
       "      <td>Distance from cutoff in first year</td>\n",
       "      <td>Outcomes</td>\n",
       "    </tr>\n",
       "    <tr>\n",
       "      <th>probation_year1</th>\n",
       "      <td>0.348603</td>\n",
       "      <td>0.476571</td>\n",
       "      <td>On probation after first year</td>\n",
       "      <td>Outcomes</td>\n",
       "    </tr>\n",
       "    <tr>\n",
       "      <th>probation_ever</th>\n",
       "      <td>0.455227</td>\n",
       "      <td>0.498036</td>\n",
       "      <td>Ever on acad. probation</td>\n",
       "      <td>Outcomes</td>\n",
       "    </tr>\n",
       "    <tr>\n",
       "      <th>left_school</th>\n",
       "      <td>0.049721</td>\n",
       "      <td>0.217385</td>\n",
       "      <td>Left uni after 1st evaluation</td>\n",
       "      <td>Outcomes</td>\n",
       "    </tr>\n",
       "    <tr>\n",
       "      <th>year2_dist_from_cut</th>\n",
       "      <td>0.455728</td>\n",
       "      <td>0.698237</td>\n",
       "      <td>Distance from cutoff at next evaluation</td>\n",
       "      <td>Outcomes</td>\n",
       "    </tr>\n",
       "    <tr>\n",
       "      <th>suspended_ever</th>\n",
       "      <td>0.157941</td>\n",
       "      <td>0.364688</td>\n",
       "      <td>Ever suspended</td>\n",
       "      <td>Outcomes</td>\n",
       "    </tr>\n",
       "    <tr>\n",
       "      <th>gradin4</th>\n",
       "      <td>0.286589</td>\n",
       "      <td>0.452199</td>\n",
       "      <td>Graduated by year  4</td>\n",
       "      <td>Outcomes</td>\n",
       "    </tr>\n",
       "    <tr>\n",
       "      <th>gradin5</th>\n",
       "      <td>0.555327</td>\n",
       "      <td>0.496966</td>\n",
       "      <td>Graduated by year  5</td>\n",
       "      <td>Outcomes</td>\n",
       "    </tr>\n",
       "    <tr>\n",
       "      <th>gradin6</th>\n",
       "      <td>0.657619</td>\n",
       "      <td>0.474543</td>\n",
       "      <td>Graduated by year  6</td>\n",
       "      <td>Outcomes</td>\n",
       "    </tr>\n",
       "  </tbody>\n",
       "</table>\n",
       "</div>"
      ],
      "text/plain": [
       "                          Mean  Standard Deviation  \\\n",
       "hsgrade_pct          33.332085           23.288502   \n",
       "totcredits_year1      4.426975            0.530186   \n",
       "age_at_entry         18.718756            0.735240   \n",
       "male                  0.375180            0.484199   \n",
       "english               0.718755            0.449625   \n",
       "bpl_north_america     0.870231            0.336071   \n",
       "loc_campus1           0.478132            0.499548   \n",
       "loc_campus2           0.209497            0.406989   \n",
       "loc_campus3           0.312370            0.463482   \n",
       "dist_from_cut         0.111093            0.325851   \n",
       "probation_year1       0.348603            0.476571   \n",
       "probation_ever        0.455227            0.498036   \n",
       "left_school           0.049721            0.217385   \n",
       "year2_dist_from_cut   0.455728            0.698237   \n",
       "suspended_ever        0.157941            0.364688   \n",
       "gradin4               0.286589            0.452199   \n",
       "gradin5               0.555327            0.496966   \n",
       "gradin6               0.657619            0.474543   \n",
       "\n",
       "                                                 Description             Type  \n",
       "hsgrade_pct                     High School Grade Percentile  Characteristics  \n",
       "totcredits_year1                Credits attempted first year  Characteristics  \n",
       "age_at_entry                                    Age at entry  Characteristics  \n",
       "male                                                    Male  Characteristics  \n",
       "english                            English is first language  Characteristics  \n",
       "bpl_north_america                      Born in North America  Characteristics  \n",
       "loc_campus1                                      At Campus 1  Characteristics  \n",
       "loc_campus2                                      At Campus 2  Characteristics  \n",
       "loc_campus3                                      At Campus 3  Characteristics  \n",
       "dist_from_cut             Distance from cutoff in first year         Outcomes  \n",
       "probation_year1                On probation after first year         Outcomes  \n",
       "probation_ever                       Ever on acad. probation         Outcomes  \n",
       "left_school                    Left uni after 1st evaluation         Outcomes  \n",
       "year2_dist_from_cut  Distance from cutoff at next evaluation         Outcomes  \n",
       "suspended_ever                                Ever suspended         Outcomes  \n",
       "gradin4                                 Graduated by year  4         Outcomes  \n",
       "gradin5                                 Graduated by year  5         Outcomes  \n",
       "gradin6                                 Graduated by year  6         Outcomes  "
      ]
     },
     "execution_count": 10,
     "metadata": {},
     "output_type": "execute_result"
    }
   ],
   "source": [
    "table1 = pd.DataFrame()\n",
    "table1['Mean'] = main.mean()\n",
    "table1['Standard Deviation'] = main.std()\n",
    "#table1 = table1.astype(float).round(2)\n",
    "table1['Description'] = [\"High School Grade Percentile\", \"Credits attempted first year\", \"Age at entry\",\n",
    "                         \"Male\", \"English is first language\", \"Born in North America\", \n",
    "                         \"At Campus 1\", \"At Campus 2\", \"At Campus 3\",\n",
    "                         \"Distance from cutoff in first year\", \"On probation after first year\", \" Ever on acad. probation\",\n",
    "                         \"Left uni after 1st evaluation\", \"Distance from cutoff at next evaluation\", \"Ever suspended\",\n",
    "                         \"Graduated by year  4\", \"Graduated by year  5\", \"Graduated by year  6\"]\n",
    "table1.loc[0:9,'Type'] = \"Characteristics\"\n",
    "table1.loc[9:,'Type'] = \"Outcomes\"\n",
    "table1"
   ]
  },
  {
   "cell_type": "markdown",
   "metadata": {},
   "source": [
    "## Empirical Strategy"
   ]
  },
  {
   "cell_type": "markdown",
   "metadata": {},
   "source": [
    "$Y_{ic} = m(GPANORM_{ic}^{year1}) + \\delta1(GPANORM_{ic}^{year1}<0) + u_{ic} $\n"
   ]
  },
  {
   "cell_type": "markdown",
   "metadata": {},
   "source": [
    "## Regression Analysis"
   ]
  },
  {
   "cell_type": "markdown",
   "metadata": {},
   "source": [
    "### Tests of the Validity of the RD Approach"
   ]
  },
  {
   "cell_type": "markdown",
   "metadata": {},
   "source": [
    "One of the major concerns in the application of regression discontinuity designs is **nonrandom sorting**. In Lindo et al. (2010) such troubles could arise if students just below the cutoff were to actively influence their GPAs to avoid being put on academic probabtion. \n",
    "\n",
    "Lindo et al. (2010) focus on _first year students_ for this reason, as they assume this group of students is likely to be less familiar with the probation policy on campus. To verify their conjecture, the author also conducted as survey in an introductory economics course which revealed that around 50 % of students were unsure of the probation cutoff at their campus. They also claim that this analysis showed no relationship between knowledge of probation cutoffs and student's grades. \n",
    "\n",
    "The authors also point out that most first year courses span the entire year and most of the evaluation takes place at the end of the term which would make it difficult for students to purposely aim for performances slightly above the cutoff for academic probation. "
   ]
  },
  {
   "cell_type": "markdown",
   "metadata": {},
   "source": [
    "If nonrandom sorting were to be a problem nontheless, there should be a **discontinuity** in the distribution of grades at the cutoff with a disproportionate number of students scoring just above the cutoff. To assess the validity of applying an RDD design, we thus first check whether this is the case."
   ]
  },
  {
   "cell_type": "markdown",
   "metadata": {},
   "source": [
    "I first sort the data from sample12 (the sample containing all observations within 1.2 GPA points from the cutoff) into bins of size 0.1. The bins contain their lower limit but not their upper limit (i.e. _[lower limit ,upper limit)_): \n",
    "\n",
    "<span class=\"mark\"> NOTE: To be moved to auxilary</span>"
   ]
  },
  {
   "cell_type": "code",
   "execution_count": 11,
   "metadata": {},
   "outputs": [],
   "source": [
    "sample_treat = sample12[sample12['dist_from_cut'] < 0]\n",
    "sample_untreat = sample12[sample12['dist_from_cut'] >= 0]"
   ]
  },
  {
   "cell_type": "code",
   "execution_count": 12,
   "metadata": {},
   "outputs": [
    {
     "name": "stderr",
     "output_type": "stream",
     "text": [
      "C:\\Users\\arohanui\\Anaconda3\\lib\\site-packages\\ipykernel_launcher.py:5: SettingWithCopyWarning: \n",
      "A value is trying to be set on a copy of a slice from a DataFrame.\n",
      "Try using .loc[row_indexer,col_indexer] = value instead\n",
      "\n",
      "See the caveats in the documentation: http://pandas.pydata.org/pandas-docs/stable/indexing.html#indexing-view-versus-copy\n",
      "  \"\"\"\n",
      "C:\\Users\\arohanui\\Anaconda3\\lib\\site-packages\\ipykernel_launcher.py:6: SettingWithCopyWarning: \n",
      "A value is trying to be set on a copy of a slice from a DataFrame.\n",
      "Try using .loc[row_indexer,col_indexer] = value instead\n",
      "\n",
      "See the caveats in the documentation: http://pandas.pydata.org/pandas-docs/stable/indexing.html#indexing-view-versus-copy\n",
      "  \n"
     ]
    }
   ],
   "source": [
    "# Bins for treated group\n",
    "bins_treat = [-1.21,-1.11,-1.01,-0.91,-0.81,-0.71,-0.61,-0.51,-0.41,-0.31,-0.21,-0.11, -0.01]\n",
    "bins_labels_treat = np.arange(-1.15,0,0.1)\n",
    "\n",
    "sample_treat['bins'] = pd.cut(x=sample_treat['dist_from_cut'],bins=bins_treat, right=False, labels= bins_labels_treat )\n",
    "sample_treat['bins_range'] = pd.cut(x=sample_treat['dist_from_cut'],bins=bins_treat, right=False)"
   ]
  },
  {
   "cell_type": "code",
   "execution_count": 13,
   "metadata": {},
   "outputs": [
    {
     "name": "stderr",
     "output_type": "stream",
     "text": [
      "C:\\Users\\arohanui\\Anaconda3\\lib\\site-packages\\ipykernel_launcher.py:5: SettingWithCopyWarning: \n",
      "A value is trying to be set on a copy of a slice from a DataFrame.\n",
      "Try using .loc[row_indexer,col_indexer] = value instead\n",
      "\n",
      "See the caveats in the documentation: http://pandas.pydata.org/pandas-docs/stable/indexing.html#indexing-view-versus-copy\n",
      "  \"\"\"\n",
      "C:\\Users\\arohanui\\Anaconda3\\lib\\site-packages\\ipykernel_launcher.py:6: SettingWithCopyWarning: \n",
      "A value is trying to be set on a copy of a slice from a DataFrame.\n",
      "Try using .loc[row_indexer,col_indexer] = value instead\n",
      "\n",
      "See the caveats in the documentation: http://pandas.pydata.org/pandas-docs/stable/indexing.html#indexing-view-versus-copy\n",
      "  \n"
     ]
    }
   ],
   "source": [
    "# Bins for untreated group\n",
    "bins_untreat = [0.0, 0.099, 0.199, 0.299, 0.399, 0.499, 0.599, 0.699, 0.799, 0.899, 0.999, 1.099, 1.199]\n",
    "bins_labels_untreat = np.arange(0.05,1.25,0.1)\n",
    "\n",
    "sample_untreat['bins'] = pd.cut(x=sample_untreat['dist_from_cut'],bins=bins_untreat, right=False, labels= bins_labels_untreat )\n",
    "sample_untreat['bins_range'] = pd.cut(x=sample_untreat['dist_from_cut'],bins=bins_untreat, right=False)"
   ]
  },
  {
   "cell_type": "code",
   "execution_count": 14,
   "metadata": {
    "scrolled": true
   },
   "outputs": [
    {
     "data": {
      "text/html": [
       "<div>\n",
       "<style scoped>\n",
       "    .dataframe tbody tr th:only-of-type {\n",
       "        vertical-align: middle;\n",
       "    }\n",
       "\n",
       "    .dataframe tbody tr th {\n",
       "        vertical-align: top;\n",
       "    }\n",
       "\n",
       "    .dataframe thead th {\n",
       "        text-align: right;\n",
       "    }\n",
       "</style>\n",
       "<table border=\"1\" class=\"dataframe\">\n",
       "  <thead>\n",
       "    <tr style=\"text-align: right;\">\n",
       "      <th></th>\n",
       "      <th>dist_from_cut</th>\n",
       "      <th>bins</th>\n",
       "      <th>bins_range</th>\n",
       "    </tr>\n",
       "  </thead>\n",
       "  <tbody>\n",
       "    <tr>\n",
       "      <th>0</th>\n",
       "      <td>0.45</td>\n",
       "      <td>0.45</td>\n",
       "      <td>[0.399, 0.499)</td>\n",
       "    </tr>\n",
       "    <tr>\n",
       "      <th>1</th>\n",
       "      <td>0.68</td>\n",
       "      <td>0.65</td>\n",
       "      <td>[0.599, 0.699)</td>\n",
       "    </tr>\n",
       "    <tr>\n",
       "      <th>2</th>\n",
       "      <td>0.84</td>\n",
       "      <td>0.85</td>\n",
       "      <td>[0.799, 0.899)</td>\n",
       "    </tr>\n",
       "    <tr>\n",
       "      <th>3</th>\n",
       "      <td>0.98</td>\n",
       "      <td>0.95</td>\n",
       "      <td>[0.899, 0.999)</td>\n",
       "    </tr>\n",
       "    <tr>\n",
       "      <th>4</th>\n",
       "      <td>0.80</td>\n",
       "      <td>0.85</td>\n",
       "      <td>[0.799, 0.899)</td>\n",
       "    </tr>\n",
       "  </tbody>\n",
       "</table>\n",
       "</div>"
      ],
      "text/plain": [
       "   dist_from_cut  bins      bins_range\n",
       "0           0.45  0.45  [0.399, 0.499)\n",
       "1           0.68  0.65  [0.599, 0.699)\n",
       "2           0.84  0.85  [0.799, 0.899)\n",
       "3           0.98  0.95  [0.899, 0.999)\n",
       "4           0.80  0.85  [0.799, 0.899)"
      ]
     },
     "execution_count": 14,
     "metadata": {},
     "output_type": "execute_result"
    }
   ],
   "source": [
    "# Rejoin treated and untreated sample \n",
    "sample12 = pd.concat([sample_untreat, sample_treat])\n",
    "sample12.reset_index(inplace=True)\n",
    "\n",
    "sample12[['dist_from_cut', 'bins', 'bins_range']].head()"
   ]
  },
  {
   "cell_type": "markdown",
   "metadata": {},
   "source": [
    "Plot frequency of each bin & regression line:"
   ]
  },
  {
   "cell_type": "code",
   "execution_count": 15,
   "metadata": {},
   "outputs": [],
   "source": [
    "figure1 = pd.DataFrame(sample12['bins'].value_counts())\n",
    "figure1.reset_index(level=0, inplace=True)\n",
    "figure1.rename(columns={\"index\": \"bins\", \"bins\": \"counts\"}, inplace=True)"
   ]
  },
  {
   "cell_type": "code",
   "execution_count": 16,
   "metadata": {},
   "outputs": [
    {
     "data": {
      "text/plain": [
       "Text(0,0.5,'Frequency count')"
      ]
     },
     "execution_count": 16,
     "metadata": {},
     "output_type": "execute_result"
    },
    {
     "data": {
      "image/png": "[encoded data removed]",
      "text/plain": [
       "<Figure size 432x288 with 1 Axes>"
      ]
     },
     "metadata": {
      "needs_background": "light"
     },
     "output_type": "display_data"
    }
   ],
   "source": [
    "fig1_untreated = figure1[figure1['bins'] > 0]\n",
    "fig1_treated = figure1[figure1['bins'] < 0]\n",
    "\n",
    "lowess_treated  = sm.nonparametric.smoothers_lowess.lowess(\n",
    "        endog=fig1_treated.counts, \n",
    "        exog=fig1_treated.bins, \n",
    "        return_sorted=False, \n",
    "        frac=0.7, \n",
    "        delta=0,\n",
    "    )\n",
    "\n",
    "lowess_untreated  = sm.nonparametric.smoothers_lowess.lowess(\n",
    "        endog=fig1_untreated.counts, \n",
    "        exog=fig1_untreated.bins, \n",
    "        return_sorted=False, \n",
    "        frac=0.7, \n",
    "        delta=0,\n",
    "    )\n",
    "\n",
    "plt.pyplot.xlim(-1.5,1.5,0.1)\n",
    "plt.pyplot.ylim(0,2100)\n",
    "plt.pyplot.plot(figure1.bins,figure1.counts, 'o')\n",
    "plt.pyplot.axvline(x=0, color='r')\n",
    "plt.pyplot.plot(fig1_untreated.bins,lowess_untreated, \"k\")\n",
    "plt.pyplot.plot(fig1_treated.bins,lowess_treated, \"k\")\n",
    "plt.pyplot.title('Figure 1: Distribution of student grades relative to their cutoff')\n",
    "plt.pyplot.xlabel('First year GPA minus probation cutoff')\n",
    "plt.pyplot.ylabel('Frequency count')"
   ]
  },
  {
   "cell_type": "markdown",
   "metadata": {},
   "source": [
    "#### Table 2 - Estimated Discontinuities in observable characteristics "
   ]
  },
  {
   "cell_type": "code",
   "execution_count": 21,
   "metadata": {},
   "outputs": [
    {
     "name": "stderr",
     "output_type": "stream",
     "text": [
      "C:\\Users\\arohanui\\Anaconda3\\lib\\site-packages\\ipykernel_launcher.py:7: SettingWithCopyWarning: \n",
      "A value is trying to be set on a copy of a slice from a DataFrame.\n",
      "Try using .loc[row_indexer,col_indexer] = value instead\n",
      "\n",
      "See the caveats in the documentation: http://pandas.pydata.org/pandas-docs/stable/indexing.html#indexing-view-versus-copy\n",
      "  import sys\n"
     ]
    }
   ],
   "source": [
    "# Reduce sample to bandwidth of 0.6 for the next steps.\n",
    "sample06 = sample12[abs(sample12['dist_from_cut']) < 0.6]  \n",
    "#sample06.reset_index(inplace=True)\n",
    "sample06.shape\n",
    "\n",
    "# Add constant to sample06\n",
    "sample06['const'] = 1"
   ]
  },
  {
   "cell_type": "markdown",
   "metadata": {},
   "source": [
    "Define funtion to hightlight values below 0.05 to apply on the p-values in the tables.\n",
    "\n",
    "<span class=\"mark\">NOTE: To be moved to auxilary</span>"
   ]
  },
  {
   "cell_type": "code",
   "execution_count": 22,
   "metadata": {},
   "outputs": [],
   "source": [
    "def pvalue_5percent_red(val):\n",
    "    \"\"\"\n",
    "    Takes a scalar and returns a string with\n",
    "    the css property `'color: red'` for values\n",
    "    below 0.05, black otherwise.\n",
    "    \"\"\"\n",
    "    color = 'red' if val < 0.05 else 'black'\n",
    "    return 'color: %s' % color"
   ]
  },
  {
   "cell_type": "code",
   "execution_count": 23,
   "metadata": {},
   "outputs": [],
   "source": [
    "# Define covariates and regressors.\n",
    "covariates = ('hsgrade_pct','totcredits_year1', 'age_at_entry','male', 'english', 'bpl_north_america', \n",
    "              'loc_campus1','loc_campus2')\n",
    "regressors = ['const','gpalscutoff','gpaXgpalscutoff','gpaXgpagrcutoff']\n"
   ]
  },
  {
   "cell_type": "code",
   "execution_count": 24,
   "metadata": {},
   "outputs": [],
   "source": [
    "# Create shell for tables 2-4.\n",
    "table_template = pd.DataFrame({ 'GPA below cutoff (1)': [], 'P-Value (1)':[], 'Std.err (1)':[], \n",
    "                       'Intercept (0)':[], 'P-Value (0)':[], 'Std.err (0)':[], \n",
    "                       'Observations':[]})"
   ]
  },
  {
   "cell_type": "code",
   "execution_count": 25,
   "metadata": {},
   "outputs": [],
   "source": [
    "# Create shell for table 2. \n",
    "table2 = table_template.copy()\n",
    "table2['covariates'] = covariates\n",
    "table2 = table2.set_index('covariates')"
   ]
  },
  {
   "cell_type": "code",
   "execution_count": 26,
   "metadata": {},
   "outputs": [],
   "source": [
    "# Regression analyisis for table 2.\n",
    "for covariate in covariates:\n",
    "    result = sm.regression.linear_model.OLS(sample06[covariate], sample06[regressors], hasconst=True).fit()\n",
    "    outputs = [result.params['gpalscutoff'], result.pvalues['gpalscutoff'], result.bse['gpalscutoff'], \n",
    "               result.params['const'], result.pvalues['const'], result.bse['const'], \n",
    "               len(sample06[covariate])]   \n",
    "    table2.loc[covariate] = outputs\n",
    "\n",
    "table2 = table2.round(3)"
   ]
  },
  {
   "cell_type": "code",
   "execution_count": 27,
   "metadata": {},
   "outputs": [
    {
     "data": {
      "text/html": [
       "<style  type=\"text/css\" >\n",
       "    #T_c46fe7f8_8c51_11e9_a319_54ee758e2065row0_col1 {\n",
       "            color:  black;\n",
       "        }    #T_c46fe7f8_8c51_11e9_a319_54ee758e2065row0_col4 {\n",
       "            color:  red;\n",
       "        }    #T_c46fe7f8_8c51_11e9_a319_54ee758e2065row1_col1 {\n",
       "            color:  black;\n",
       "        }    #T_c46fe7f8_8c51_11e9_a319_54ee758e2065row1_col4 {\n",
       "            color:  red;\n",
       "        }    #T_c46fe7f8_8c51_11e9_a319_54ee758e2065row2_col1 {\n",
       "            color:  black;\n",
       "        }    #T_c46fe7f8_8c51_11e9_a319_54ee758e2065row2_col4 {\n",
       "            color:  red;\n",
       "        }    #T_c46fe7f8_8c51_11e9_a319_54ee758e2065row3_col1 {\n",
       "            color:  black;\n",
       "        }    #T_c46fe7f8_8c51_11e9_a319_54ee758e2065row3_col4 {\n",
       "            color:  red;\n",
       "        }    #T_c46fe7f8_8c51_11e9_a319_54ee758e2065row4_col1 {\n",
       "            color:  red;\n",
       "        }    #T_c46fe7f8_8c51_11e9_a319_54ee758e2065row4_col4 {\n",
       "            color:  red;\n",
       "        }    #T_c46fe7f8_8c51_11e9_a319_54ee758e2065row5_col1 {\n",
       "            color:  black;\n",
       "        }    #T_c46fe7f8_8c51_11e9_a319_54ee758e2065row5_col4 {\n",
       "            color:  red;\n",
       "        }    #T_c46fe7f8_8c51_11e9_a319_54ee758e2065row6_col1 {\n",
       "            color:  black;\n",
       "        }    #T_c46fe7f8_8c51_11e9_a319_54ee758e2065row6_col4 {\n",
       "            color:  red;\n",
       "        }    #T_c46fe7f8_8c51_11e9_a319_54ee758e2065row7_col1 {\n",
       "            color:  black;\n",
       "        }    #T_c46fe7f8_8c51_11e9_a319_54ee758e2065row7_col4 {\n",
       "            color:  red;\n",
       "        }</style><table id=\"T_c46fe7f8_8c51_11e9_a319_54ee758e2065\" ><thead>    <tr>        <th class=\"blank level0\" ></th>        <th class=\"col_heading level0 col0\" >GPA below cutoff (1)</th>        <th class=\"col_heading level0 col1\" >P-Value (1)</th>        <th class=\"col_heading level0 col2\" >Std.err (1)</th>        <th class=\"col_heading level0 col3\" >Intercept (0)</th>        <th class=\"col_heading level0 col4\" >P-Value (0)</th>        <th class=\"col_heading level0 col5\" >Std.err (0)</th>        <th class=\"col_heading level0 col6\" >Observations</th>    </tr>    <tr>        <th class=\"index_name level0\" >covariates</th>        <th class=\"blank\" ></th>        <th class=\"blank\" ></th>        <th class=\"blank\" ></th>        <th class=\"blank\" ></th>        <th class=\"blank\" ></th>        <th class=\"blank\" ></th>        <th class=\"blank\" ></th>    </tr></thead><tbody>\n",
       "                <tr>\n",
       "                        <th id=\"T_c46fe7f8_8c51_11e9_a319_54ee758e2065level0_row0\" class=\"row_heading level0 row0\" >hsgrade_pct</th>\n",
       "                        <td id=\"T_c46fe7f8_8c51_11e9_a319_54ee758e2065row0_col0\" class=\"data row0 col0\" >0.45</td>\n",
       "                        <td id=\"T_c46fe7f8_8c51_11e9_a319_54ee758e2065row0_col1\" class=\"data row0 col1\" >0.592</td>\n",
       "                        <td id=\"T_c46fe7f8_8c51_11e9_a319_54ee758e2065row0_col2\" class=\"data row0 col2\" >0.841</td>\n",
       "                        <td id=\"T_c46fe7f8_8c51_11e9_a319_54ee758e2065row0_col3\" class=\"data row0 col3\" >30.991</td>\n",
       "                        <td id=\"T_c46fe7f8_8c51_11e9_a319_54ee758e2065row0_col4\" class=\"data row0 col4\" >0</td>\n",
       "                        <td id=\"T_c46fe7f8_8c51_11e9_a319_54ee758e2065row0_col5\" class=\"data row0 col5\" >0.526</td>\n",
       "                        <td id=\"T_c46fe7f8_8c51_11e9_a319_54ee758e2065row0_col6\" class=\"data row0 col6\" >12530</td>\n",
       "            </tr>\n",
       "            <tr>\n",
       "                        <th id=\"T_c46fe7f8_8c51_11e9_a319_54ee758e2065level0_row1\" class=\"row_heading level0 row1\" >totcredits_year1</th>\n",
       "                        <td id=\"T_c46fe7f8_8c51_11e9_a319_54ee758e2065row1_col0\" class=\"data row1 col0\" >0.024</td>\n",
       "                        <td id=\"T_c46fe7f8_8c51_11e9_a319_54ee758e2065row1_col1\" class=\"data row1 col1\" >0.211</td>\n",
       "                        <td id=\"T_c46fe7f8_8c51_11e9_a319_54ee758e2065row1_col2\" class=\"data row1 col2\" >0.019</td>\n",
       "                        <td id=\"T_c46fe7f8_8c51_11e9_a319_54ee758e2065row1_col3\" class=\"data row1 col3\" >4.386</td>\n",
       "                        <td id=\"T_c46fe7f8_8c51_11e9_a319_54ee758e2065row1_col4\" class=\"data row1 col4\" >0</td>\n",
       "                        <td id=\"T_c46fe7f8_8c51_11e9_a319_54ee758e2065row1_col5\" class=\"data row1 col5\" >0.012</td>\n",
       "                        <td id=\"T_c46fe7f8_8c51_11e9_a319_54ee758e2065row1_col6\" class=\"data row1 col6\" >12530</td>\n",
       "            </tr>\n",
       "            <tr>\n",
       "                        <th id=\"T_c46fe7f8_8c51_11e9_a319_54ee758e2065level0_row2\" class=\"row_heading level0 row2\" >age_at_entry</th>\n",
       "                        <td id=\"T_c46fe7f8_8c51_11e9_a319_54ee758e2065row2_col0\" class=\"data row2 col0\" >0.015</td>\n",
       "                        <td id=\"T_c46fe7f8_8c51_11e9_a319_54ee758e2065row2_col1\" class=\"data row2 col1\" >0.576</td>\n",
       "                        <td id=\"T_c46fe7f8_8c51_11e9_a319_54ee758e2065row2_col2\" class=\"data row2 col2\" >0.027</td>\n",
       "                        <td id=\"T_c46fe7f8_8c51_11e9_a319_54ee758e2065row2_col3\" class=\"data row2 col3\" >18.719</td>\n",
       "                        <td id=\"T_c46fe7f8_8c51_11e9_a319_54ee758e2065row2_col4\" class=\"data row2 col4\" >0</td>\n",
       "                        <td id=\"T_c46fe7f8_8c51_11e9_a319_54ee758e2065row2_col5\" class=\"data row2 col5\" >0.017</td>\n",
       "                        <td id=\"T_c46fe7f8_8c51_11e9_a319_54ee758e2065row2_col6\" class=\"data row2 col6\" >12530</td>\n",
       "            </tr>\n",
       "            <tr>\n",
       "                        <th id=\"T_c46fe7f8_8c51_11e9_a319_54ee758e2065level0_row3\" class=\"row_heading level0 row3\" >male</th>\n",
       "                        <td id=\"T_c46fe7f8_8c51_11e9_a319_54ee758e2065row3_col0\" class=\"data row3 col0\" >0</td>\n",
       "                        <td id=\"T_c46fe7f8_8c51_11e9_a319_54ee758e2065row3_col1\" class=\"data row3 col1\" >0.985</td>\n",
       "                        <td id=\"T_c46fe7f8_8c51_11e9_a319_54ee758e2065row3_col2\" class=\"data row3 col2\" >0.018</td>\n",
       "                        <td id=\"T_c46fe7f8_8c51_11e9_a319_54ee758e2065row3_col3\" class=\"data row3 col3\" >0.374</td>\n",
       "                        <td id=\"T_c46fe7f8_8c51_11e9_a319_54ee758e2065row3_col4\" class=\"data row3 col4\" >0</td>\n",
       "                        <td id=\"T_c46fe7f8_8c51_11e9_a319_54ee758e2065row3_col5\" class=\"data row3 col5\" >0.011</td>\n",
       "                        <td id=\"T_c46fe7f8_8c51_11e9_a319_54ee758e2065row3_col6\" class=\"data row3 col6\" >12530</td>\n",
       "            </tr>\n",
       "            <tr>\n",
       "                        <th id=\"T_c46fe7f8_8c51_11e9_a319_54ee758e2065level0_row4\" class=\"row_heading level0 row4\" >english</th>\n",
       "                        <td id=\"T_c46fe7f8_8c51_11e9_a319_54ee758e2065row4_col0\" class=\"data row4 col0\" >-0.037</td>\n",
       "                        <td id=\"T_c46fe7f8_8c51_11e9_a319_54ee758e2065row4_col1\" class=\"data row4 col1\" >0.025</td>\n",
       "                        <td id=\"T_c46fe7f8_8c51_11e9_a319_54ee758e2065row4_col2\" class=\"data row4 col2\" >0.016</td>\n",
       "                        <td id=\"T_c46fe7f8_8c51_11e9_a319_54ee758e2065row4_col3\" class=\"data row4 col3\" >0.729</td>\n",
       "                        <td id=\"T_c46fe7f8_8c51_11e9_a319_54ee758e2065row4_col4\" class=\"data row4 col4\" >0</td>\n",
       "                        <td id=\"T_c46fe7f8_8c51_11e9_a319_54ee758e2065row4_col5\" class=\"data row4 col5\" >0.01</td>\n",
       "                        <td id=\"T_c46fe7f8_8c51_11e9_a319_54ee758e2065row4_col6\" class=\"data row4 col6\" >12530</td>\n",
       "            </tr>\n",
       "            <tr>\n",
       "                        <th id=\"T_c46fe7f8_8c51_11e9_a319_54ee758e2065level0_row5\" class=\"row_heading level0 row5\" >bpl_north_america</th>\n",
       "                        <td id=\"T_c46fe7f8_8c51_11e9_a319_54ee758e2065row5_col0\" class=\"data row5 col0\" >0.017</td>\n",
       "                        <td id=\"T_c46fe7f8_8c51_11e9_a319_54ee758e2065row5_col1\" class=\"data row5 col1\" >0.16</td>\n",
       "                        <td id=\"T_c46fe7f8_8c51_11e9_a319_54ee758e2065row5_col2\" class=\"data row5 col2\" >0.012</td>\n",
       "                        <td id=\"T_c46fe7f8_8c51_11e9_a319_54ee758e2065row5_col3\" class=\"data row5 col3\" >0.864</td>\n",
       "                        <td id=\"T_c46fe7f8_8c51_11e9_a319_54ee758e2065row5_col4\" class=\"data row5 col4\" >0</td>\n",
       "                        <td id=\"T_c46fe7f8_8c51_11e9_a319_54ee758e2065row5_col5\" class=\"data row5 col5\" >0.008</td>\n",
       "                        <td id=\"T_c46fe7f8_8c51_11e9_a319_54ee758e2065row5_col6\" class=\"data row5 col6\" >12530</td>\n",
       "            </tr>\n",
       "            <tr>\n",
       "                        <th id=\"T_c46fe7f8_8c51_11e9_a319_54ee758e2065level0_row6\" class=\"row_heading level0 row6\" >loc_campus1</th>\n",
       "                        <td id=\"T_c46fe7f8_8c51_11e9_a319_54ee758e2065row6_col0\" class=\"data row6 col0\" >0.012</td>\n",
       "                        <td id=\"T_c46fe7f8_8c51_11e9_a319_54ee758e2065row6_col1\" class=\"data row6 col1\" >0.506</td>\n",
       "                        <td id=\"T_c46fe7f8_8c51_11e9_a319_54ee758e2065row6_col2\" class=\"data row6 col2\" >0.018</td>\n",
       "                        <td id=\"T_c46fe7f8_8c51_11e9_a319_54ee758e2065row6_col3\" class=\"data row6 col3\" >0.444</td>\n",
       "                        <td id=\"T_c46fe7f8_8c51_11e9_a319_54ee758e2065row6_col4\" class=\"data row6 col4\" >0</td>\n",
       "                        <td id=\"T_c46fe7f8_8c51_11e9_a319_54ee758e2065row6_col5\" class=\"data row6 col5\" >0.011</td>\n",
       "                        <td id=\"T_c46fe7f8_8c51_11e9_a319_54ee758e2065row6_col6\" class=\"data row6 col6\" >12530</td>\n",
       "            </tr>\n",
       "            <tr>\n",
       "                        <th id=\"T_c46fe7f8_8c51_11e9_a319_54ee758e2065level0_row7\" class=\"row_heading level0 row7\" >loc_campus2</th>\n",
       "                        <td id=\"T_c46fe7f8_8c51_11e9_a319_54ee758e2065row7_col0\" class=\"data row7 col0\" >-0.01</td>\n",
       "                        <td id=\"T_c46fe7f8_8c51_11e9_a319_54ee758e2065row7_col1\" class=\"data row7 col1\" >0.513</td>\n",
       "                        <td id=\"T_c46fe7f8_8c51_11e9_a319_54ee758e2065row7_col2\" class=\"data row7 col2\" >0.015</td>\n",
       "                        <td id=\"T_c46fe7f8_8c51_11e9_a319_54ee758e2065row7_col3\" class=\"data row7 col3\" >0.217</td>\n",
       "                        <td id=\"T_c46fe7f8_8c51_11e9_a319_54ee758e2065row7_col4\" class=\"data row7 col4\" >0</td>\n",
       "                        <td id=\"T_c46fe7f8_8c51_11e9_a319_54ee758e2065row7_col5\" class=\"data row7 col5\" >0.009</td>\n",
       "                        <td id=\"T_c46fe7f8_8c51_11e9_a319_54ee758e2065row7_col6\" class=\"data row7 col6\" >12530</td>\n",
       "            </tr>\n",
       "    </tbody></table>"
      ],
      "text/plain": [
       "<pandas.io.formats.style.Styler at 0x114d954c9b0>"
      ]
     },
     "execution_count": 27,
     "metadata": {},
     "output_type": "execute_result"
    }
   ],
   "source": [
    "# Mark significant p-values (at 5% level) red & display table.\n",
    "table2.style.applymap(pvalue_5percent_red, subset=['P-Value (1)', 'P-Value (0)'])"
   ]
  },
  {
   "cell_type": "markdown",
   "metadata": {},
   "source": [
    "### First year GPAs and Academic Probation"
   ]
  },
  {
   "cell_type": "markdown",
   "metadata": {},
   "source": [
    "#### Figure 2 - Porbation Status at the End of First Year"
   ]
  },
  {
   "cell_type": "code",
   "execution_count": 28,
   "metadata": {},
   "outputs": [
    {
     "data": {
      "text/plain": [
       "Text(0,0.5,'Probation Status')"
      ]
     },
     "execution_count": 28,
     "metadata": {},
     "output_type": "execute_result"
    },
    {
     "data": {
      "image/png": "[encoded data removed]",
      "text/plain": [
       "<Figure size 432x288 with 1 Axes>"
      ]
     },
     "metadata": {
      "needs_background": "light"
     },
     "output_type": "display_data"
    }
   ],
   "source": [
    "plt.pyplot.xlim(-1.5,1.5,0.1)\n",
    "plt.pyplot.plot(sample12['bins'], sample12['gpalscutoff'], 'o')\n",
    "plt.pyplot.axvline(x=0, color='r')\n",
    "plt.pyplot.title('Figure 2: Porbation Status at the end of first year')\n",
    "plt.pyplot.xlabel('First year GPA minus probation cutoff')\n",
    "plt.pyplot.ylabel('Probation Status')"
   ]
  },
  {
   "cell_type": "markdown",
   "metadata": {},
   "source": [
    "#### Table 3 - Estimated Discontinuity in Probabtion Status\n",
    "\n",
    "Table 3 shows the estimated discontinuity in probation status after the first year (_part 1_) and for ever being placed on academic probation (_part 2_). \n",
    "\n",
    "To estimate the discontunuity in probation status, the authors again use a bandwidth of 0.6 from the cutoff. In addition to the whole sample this condition applies to, they also estimate the discontinuities for certain subgroups in the sample:\n",
    "\n",
    "* **high school grades below** and **above the median** (here, median refers to the median of the entire dataset (median: _50_) and not the median of the subset of students with a GPA within 0.6 grade points of teh probation cutoff (the median for this set would be _28_))\n",
    "* **male** and **female** students\n",
    "* **english** native speakers and students with a different native language (**nonenglish**) "
   ]
  },
  {
   "cell_type": "code",
   "execution_count": 29,
   "metadata": {},
   "outputs": [],
   "source": [
    "# Create groups and save them to a dictionary.\n",
    "groups_labels = ['All', 'HS Grades < median', 'HS Grades > median', 'Male', 'Female', 'Native English', 'Nonnative English']\n",
    "\n",
    "hsgrade_pct_low = sample06[sample06['lowHS'] == 1] \n",
    "hsgrade_pct_high = sample06[sample06['highHS'] == 1] \n",
    "male = sample06[sample06['male'] == 1] \n",
    "female = sample06[sample06['female'] == 1] \n",
    "english = sample06[sample06['english'] == 1]\n",
    "noenglish = sample06[sample06['noenglish'] == 1]\n",
    "\n",
    "groups_dict = {'All': sample06, 'HS Grades < median': hsgrade_pct_low, 'HS Grades > median': hsgrade_pct_high, \n",
    "               'Male': male, 'Female': female, 'Native English': english, 'Nonnative English': noenglish\n",
    "              }"
   ]
  },
  {
   "cell_type": "code",
   "execution_count": 30,
   "metadata": {},
   "outputs": [],
   "source": [
    "# Create shell for table 3.\n",
    "table3 = table_template.copy()\n",
    "table3['groups'] = groups_labels\n",
    "table3 = table3.set_index('groups')"
   ]
  },
  {
   "cell_type": "markdown",
   "metadata": {},
   "source": [
    "**Table 3 | Part 1 - Estimated Discontinuity in Probabtion Status for Year 1**"
   ]
  },
  {
   "cell_type": "code",
   "execution_count": 31,
   "metadata": {},
   "outputs": [
    {
     "data": {
      "text/html": [
       "<style  type=\"text/css\" >\n",
       "    #T_dc10e9ba_8c51_11e9_8873_54ee758e2065row0_col1 {\n",
       "            color:  red;\n",
       "        }    #T_dc10e9ba_8c51_11e9_8873_54ee758e2065row0_col4 {\n",
       "            color:  black;\n",
       "        }    #T_dc10e9ba_8c51_11e9_8873_54ee758e2065row1_col1 {\n",
       "            color:  red;\n",
       "        }    #T_dc10e9ba_8c51_11e9_8873_54ee758e2065row1_col4 {\n",
       "            color:  black;\n",
       "        }    #T_dc10e9ba_8c51_11e9_8873_54ee758e2065row2_col1 {\n",
       "            color:  red;\n",
       "        }    #T_dc10e9ba_8c51_11e9_8873_54ee758e2065row2_col4 {\n",
       "            color:  black;\n",
       "        }    #T_dc10e9ba_8c51_11e9_8873_54ee758e2065row3_col1 {\n",
       "            color:  red;\n",
       "        }    #T_dc10e9ba_8c51_11e9_8873_54ee758e2065row3_col4 {\n",
       "            color:  black;\n",
       "        }    #T_dc10e9ba_8c51_11e9_8873_54ee758e2065row4_col1 {\n",
       "            color:  red;\n",
       "        }    #T_dc10e9ba_8c51_11e9_8873_54ee758e2065row4_col4 {\n",
       "            color:  black;\n",
       "        }    #T_dc10e9ba_8c51_11e9_8873_54ee758e2065row5_col1 {\n",
       "            color:  red;\n",
       "        }    #T_dc10e9ba_8c51_11e9_8873_54ee758e2065row5_col4 {\n",
       "            color:  black;\n",
       "        }    #T_dc10e9ba_8c51_11e9_8873_54ee758e2065row6_col1 {\n",
       "            color:  red;\n",
       "        }    #T_dc10e9ba_8c51_11e9_8873_54ee758e2065row6_col4 {\n",
       "            color:  black;\n",
       "        }</style><table id=\"T_dc10e9ba_8c51_11e9_8873_54ee758e2065\" ><thead>    <tr>        <th class=\"blank level0\" ></th>        <th class=\"col_heading level0 col0\" >GPA below cutoff (1)</th>        <th class=\"col_heading level0 col1\" >P-Value (1)</th>        <th class=\"col_heading level0 col2\" >Std.err (1)</th>        <th class=\"col_heading level0 col3\" >Intercept (0)</th>        <th class=\"col_heading level0 col4\" >P-Value (0)</th>        <th class=\"col_heading level0 col5\" >Std.err (0)</th>        <th class=\"col_heading level0 col6\" >Observations</th>    </tr>    <tr>        <th class=\"index_name level0\" >groups</th>        <th class=\"blank\" ></th>        <th class=\"blank\" ></th>        <th class=\"blank\" ></th>        <th class=\"blank\" ></th>        <th class=\"blank\" ></th>        <th class=\"blank\" ></th>        <th class=\"blank\" ></th>    </tr></thead><tbody>\n",
       "                <tr>\n",
       "                        <th id=\"T_dc10e9ba_8c51_11e9_8873_54ee758e2065level0_row0\" class=\"row_heading level0 row0\" >All</th>\n",
       "                        <td id=\"T_dc10e9ba_8c51_11e9_8873_54ee758e2065row0_col0\" class=\"data row0 col0\" >0.994</td>\n",
       "                        <td id=\"T_dc10e9ba_8c51_11e9_8873_54ee758e2065row0_col1\" class=\"data row0 col1\" >0</td>\n",
       "                        <td id=\"T_dc10e9ba_8c51_11e9_8873_54ee758e2065row0_col2\" class=\"data row0 col2\" >0.002</td>\n",
       "                        <td id=\"T_dc10e9ba_8c51_11e9_8873_54ee758e2065row0_col3\" class=\"data row0 col3\" >0.001</td>\n",
       "                        <td id=\"T_dc10e9ba_8c51_11e9_8873_54ee758e2065row0_col4\" class=\"data row0 col4\" >0.402</td>\n",
       "                        <td id=\"T_dc10e9ba_8c51_11e9_8873_54ee758e2065row0_col5\" class=\"data row0 col5\" >0.001</td>\n",
       "                        <td id=\"T_dc10e9ba_8c51_11e9_8873_54ee758e2065row0_col6\" class=\"data row0 col6\" >12530</td>\n",
       "            </tr>\n",
       "            <tr>\n",
       "                        <th id=\"T_dc10e9ba_8c51_11e9_8873_54ee758e2065level0_row1\" class=\"row_heading level0 row1\" >HS Grades < median</th>\n",
       "                        <td id=\"T_dc10e9ba_8c51_11e9_8873_54ee758e2065row1_col0\" class=\"data row1 col0\" >0.995</td>\n",
       "                        <td id=\"T_dc10e9ba_8c51_11e9_8873_54ee758e2065row1_col1\" class=\"data row1 col1\" >0</td>\n",
       "                        <td id=\"T_dc10e9ba_8c51_11e9_8873_54ee758e2065row1_col2\" class=\"data row1 col2\" >0.002</td>\n",
       "                        <td id=\"T_dc10e9ba_8c51_11e9_8873_54ee758e2065row1_col3\" class=\"data row1 col3\" >0.001</td>\n",
       "                        <td id=\"T_dc10e9ba_8c51_11e9_8873_54ee758e2065row1_col4\" class=\"data row1 col4\" >0.471</td>\n",
       "                        <td id=\"T_dc10e9ba_8c51_11e9_8873_54ee758e2065row1_col5\" class=\"data row1 col5\" >0.001</td>\n",
       "                        <td id=\"T_dc10e9ba_8c51_11e9_8873_54ee758e2065row1_col6\" class=\"data row1 col6\" >9473</td>\n",
       "            </tr>\n",
       "            <tr>\n",
       "                        <th id=\"T_dc10e9ba_8c51_11e9_8873_54ee758e2065level0_row2\" class=\"row_heading level0 row2\" >HS Grades > median</th>\n",
       "                        <td id=\"T_dc10e9ba_8c51_11e9_8873_54ee758e2065row2_col0\" class=\"data row2 col0\" >0.99</td>\n",
       "                        <td id=\"T_dc10e9ba_8c51_11e9_8873_54ee758e2065row2_col1\" class=\"data row2 col1\" >0</td>\n",
       "                        <td id=\"T_dc10e9ba_8c51_11e9_8873_54ee758e2065row2_col2\" class=\"data row2 col2\" >0.003</td>\n",
       "                        <td id=\"T_dc10e9ba_8c51_11e9_8873_54ee758e2065row2_col3\" class=\"data row2 col3\" >0.001</td>\n",
       "                        <td id=\"T_dc10e9ba_8c51_11e9_8873_54ee758e2065row2_col4\" class=\"data row2 col4\" >0.661</td>\n",
       "                        <td id=\"T_dc10e9ba_8c51_11e9_8873_54ee758e2065row2_col5\" class=\"data row2 col5\" >0.002</td>\n",
       "                        <td id=\"T_dc10e9ba_8c51_11e9_8873_54ee758e2065row2_col6\" class=\"data row2 col6\" >3057</td>\n",
       "            </tr>\n",
       "            <tr>\n",
       "                        <th id=\"T_dc10e9ba_8c51_11e9_8873_54ee758e2065level0_row3\" class=\"row_heading level0 row3\" >Male</th>\n",
       "                        <td id=\"T_dc10e9ba_8c51_11e9_8873_54ee758e2065row3_col0\" class=\"data row3 col0\" >0.99</td>\n",
       "                        <td id=\"T_dc10e9ba_8c51_11e9_8873_54ee758e2065row3_col1\" class=\"data row3 col1\" >0</td>\n",
       "                        <td id=\"T_dc10e9ba_8c51_11e9_8873_54ee758e2065row3_col2\" class=\"data row3 col2\" >0.003</td>\n",
       "                        <td id=\"T_dc10e9ba_8c51_11e9_8873_54ee758e2065row3_col3\" class=\"data row3 col3\" >0.001</td>\n",
       "                        <td id=\"T_dc10e9ba_8c51_11e9_8873_54ee758e2065row3_col4\" class=\"data row3 col4\" >0.78</td>\n",
       "                        <td id=\"T_dc10e9ba_8c51_11e9_8873_54ee758e2065row3_col5\" class=\"data row3 col5\" >0.002</td>\n",
       "                        <td id=\"T_dc10e9ba_8c51_11e9_8873_54ee758e2065row3_col6\" class=\"data row3 col6\" >4701</td>\n",
       "            </tr>\n",
       "            <tr>\n",
       "                        <th id=\"T_dc10e9ba_8c51_11e9_8873_54ee758e2065level0_row4\" class=\"row_heading level0 row4\" >Female</th>\n",
       "                        <td id=\"T_dc10e9ba_8c51_11e9_8873_54ee758e2065row4_col0\" class=\"data row4 col0\" >0.996</td>\n",
       "                        <td id=\"T_dc10e9ba_8c51_11e9_8873_54ee758e2065row4_col1\" class=\"data row4 col1\" >0</td>\n",
       "                        <td id=\"T_dc10e9ba_8c51_11e9_8873_54ee758e2065row4_col2\" class=\"data row4 col2\" >0.002</td>\n",
       "                        <td id=\"T_dc10e9ba_8c51_11e9_8873_54ee758e2065row4_col3\" class=\"data row4 col3\" >0.001</td>\n",
       "                        <td id=\"T_dc10e9ba_8c51_11e9_8873_54ee758e2065row4_col4\" class=\"data row4 col4\" >0.341</td>\n",
       "                        <td id=\"T_dc10e9ba_8c51_11e9_8873_54ee758e2065row4_col5\" class=\"data row4 col5\" >0.001</td>\n",
       "                        <td id=\"T_dc10e9ba_8c51_11e9_8873_54ee758e2065row4_col6\" class=\"data row4 col6\" >7829</td>\n",
       "            </tr>\n",
       "            <tr>\n",
       "                        <th id=\"T_dc10e9ba_8c51_11e9_8873_54ee758e2065level0_row5\" class=\"row_heading level0 row5\" >Native English</th>\n",
       "                        <td id=\"T_dc10e9ba_8c51_11e9_8873_54ee758e2065row5_col0\" class=\"data row5 col0\" >0.993</td>\n",
       "                        <td id=\"T_dc10e9ba_8c51_11e9_8873_54ee758e2065row5_col1\" class=\"data row5 col1\" >0</td>\n",
       "                        <td id=\"T_dc10e9ba_8c51_11e9_8873_54ee758e2065row5_col2\" class=\"data row5 col2\" >0.002</td>\n",
       "                        <td id=\"T_dc10e9ba_8c51_11e9_8873_54ee758e2065row5_col3\" class=\"data row5 col3\" >0.001</td>\n",
       "                        <td id=\"T_dc10e9ba_8c51_11e9_8873_54ee758e2065row5_col4\" class=\"data row5 col4\" >0.347</td>\n",
       "                        <td id=\"T_dc10e9ba_8c51_11e9_8873_54ee758e2065row5_col5\" class=\"data row5 col5\" >0.001</td>\n",
       "                        <td id=\"T_dc10e9ba_8c51_11e9_8873_54ee758e2065row5_col6\" class=\"data row5 col6\" >9006</td>\n",
       "            </tr>\n",
       "            <tr>\n",
       "                        <th id=\"T_dc10e9ba_8c51_11e9_8873_54ee758e2065level0_row6\" class=\"row_heading level0 row6\" >Nonnative English</th>\n",
       "                        <td id=\"T_dc10e9ba_8c51_11e9_8873_54ee758e2065row6_col0\" class=\"data row6 col0\" >0.997</td>\n",
       "                        <td id=\"T_dc10e9ba_8c51_11e9_8873_54ee758e2065row6_col1\" class=\"data row6 col1\" >0</td>\n",
       "                        <td id=\"T_dc10e9ba_8c51_11e9_8873_54ee758e2065row6_col2\" class=\"data row6 col2\" >0.003</td>\n",
       "                        <td id=\"T_dc10e9ba_8c51_11e9_8873_54ee758e2065row6_col3\" class=\"data row6 col3\" >0</td>\n",
       "                        <td id=\"T_dc10e9ba_8c51_11e9_8873_54ee758e2065row6_col4\" class=\"data row6 col4\" >1</td>\n",
       "                        <td id=\"T_dc10e9ba_8c51_11e9_8873_54ee758e2065row6_col5\" class=\"data row6 col5\" >0.002</td>\n",
       "                        <td id=\"T_dc10e9ba_8c51_11e9_8873_54ee758e2065row6_col6\" class=\"data row6 col6\" >3524</td>\n",
       "            </tr>\n",
       "    </tbody></table>"
      ],
      "text/plain": [
       "<pandas.io.formats.style.Styler at 0x114d954c278>"
      ]
     },
     "execution_count": 31,
     "metadata": {},
     "output_type": "execute_result"
    }
   ],
   "source": [
    "# Run regression and fill in values for table 3_1.\n",
    "table3_1 = table3.copy()\n",
    "\n",
    "for group in groups_labels:\n",
    "    result = sm.regression.linear_model.OLS(groups_dict[group]['probation_year1'], groups_dict[group][regressors], hasconst=True).fit()\n",
    "    outputs = [result.params['gpalscutoff'], result.pvalues['gpalscutoff'], result.bse['gpalscutoff'], \n",
    "               result.params['const'], result.pvalues['const'], result.bse['const'], \n",
    "               len(groups_dict[group]['probation_year1'])]   \n",
    "    table3_1.loc[group] = outputs\n",
    "    \n",
    "table3_1 = table3_1.round(3)\n",
    "table3_1.style.applymap(pvalue_5percent_red, subset=['P-Value (1)', 'P-Value (0)'])"
   ]
  },
  {
   "cell_type": "markdown",
   "metadata": {},
   "source": [
    "**Table 3 | Part 2 - Estimated Discontinuity in Probabtion Status Ever**"
   ]
  },
  {
   "cell_type": "code",
   "execution_count": 32,
   "metadata": {},
   "outputs": [
    {
     "data": {
      "text/html": [
       "<style  type=\"text/css\" >\n",
       "    #T_e43a9586_8c51_11e9_9675_54ee758e2065row0_col1 {\n",
       "            color:  red;\n",
       "        }    #T_e43a9586_8c51_11e9_9675_54ee758e2065row0_col4 {\n",
       "            color:  red;\n",
       "        }    #T_e43a9586_8c51_11e9_9675_54ee758e2065row1_col1 {\n",
       "            color:  red;\n",
       "        }    #T_e43a9586_8c51_11e9_9675_54ee758e2065row1_col4 {\n",
       "            color:  red;\n",
       "        }    #T_e43a9586_8c51_11e9_9675_54ee758e2065row2_col1 {\n",
       "            color:  red;\n",
       "        }    #T_e43a9586_8c51_11e9_9675_54ee758e2065row2_col4 {\n",
       "            color:  red;\n",
       "        }    #T_e43a9586_8c51_11e9_9675_54ee758e2065row3_col1 {\n",
       "            color:  red;\n",
       "        }    #T_e43a9586_8c51_11e9_9675_54ee758e2065row3_col4 {\n",
       "            color:  red;\n",
       "        }    #T_e43a9586_8c51_11e9_9675_54ee758e2065row4_col1 {\n",
       "            color:  red;\n",
       "        }    #T_e43a9586_8c51_11e9_9675_54ee758e2065row4_col4 {\n",
       "            color:  red;\n",
       "        }    #T_e43a9586_8c51_11e9_9675_54ee758e2065row5_col1 {\n",
       "            color:  red;\n",
       "        }    #T_e43a9586_8c51_11e9_9675_54ee758e2065row5_col4 {\n",
       "            color:  red;\n",
       "        }    #T_e43a9586_8c51_11e9_9675_54ee758e2065row6_col1 {\n",
       "            color:  red;\n",
       "        }    #T_e43a9586_8c51_11e9_9675_54ee758e2065row6_col4 {\n",
       "            color:  red;\n",
       "        }</style><table id=\"T_e43a9586_8c51_11e9_9675_54ee758e2065\" ><thead>    <tr>        <th class=\"blank level0\" ></th>        <th class=\"col_heading level0 col0\" >GPA below cutoff (1)</th>        <th class=\"col_heading level0 col1\" >P-Value (1)</th>        <th class=\"col_heading level0 col2\" >Std.err (1)</th>        <th class=\"col_heading level0 col3\" >Intercept (0)</th>        <th class=\"col_heading level0 col4\" >P-Value (0)</th>        <th class=\"col_heading level0 col5\" >Std.err (0)</th>        <th class=\"col_heading level0 col6\" >Observations</th>    </tr>    <tr>        <th class=\"index_name level0\" >groups</th>        <th class=\"blank\" ></th>        <th class=\"blank\" ></th>        <th class=\"blank\" ></th>        <th class=\"blank\" ></th>        <th class=\"blank\" ></th>        <th class=\"blank\" ></th>        <th class=\"blank\" ></th>    </tr></thead><tbody>\n",
       "                <tr>\n",
       "                        <th id=\"T_e43a9586_8c51_11e9_9675_54ee758e2065level0_row0\" class=\"row_heading level0 row0\" >All</th>\n",
       "                        <td id=\"T_e43a9586_8c51_11e9_9675_54ee758e2065row0_col0\" class=\"data row0 col0\" >0.665</td>\n",
       "                        <td id=\"T_e43a9586_8c51_11e9_9675_54ee758e2065row0_col1\" class=\"data row0 col1\" >0</td>\n",
       "                        <td id=\"T_e43a9586_8c51_11e9_9675_54ee758e2065row0_col2\" class=\"data row0 col2\" >0.011</td>\n",
       "                        <td id=\"T_e43a9586_8c51_11e9_9675_54ee758e2065row0_col3\" class=\"data row0 col3\" >0.33</td>\n",
       "                        <td id=\"T_e43a9586_8c51_11e9_9675_54ee758e2065row0_col4\" class=\"data row0 col4\" >0</td>\n",
       "                        <td id=\"T_e43a9586_8c51_11e9_9675_54ee758e2065row0_col5\" class=\"data row0 col5\" >0.007</td>\n",
       "                        <td id=\"T_e43a9586_8c51_11e9_9675_54ee758e2065row0_col6\" class=\"data row0 col6\" >12530</td>\n",
       "            </tr>\n",
       "            <tr>\n",
       "                        <th id=\"T_e43a9586_8c51_11e9_9675_54ee758e2065level0_row1\" class=\"row_heading level0 row1\" >HS Grades < median</th>\n",
       "                        <td id=\"T_e43a9586_8c51_11e9_9675_54ee758e2065row1_col0\" class=\"data row1 col0\" >0.653</td>\n",
       "                        <td id=\"T_e43a9586_8c51_11e9_9675_54ee758e2065row1_col1\" class=\"data row1 col1\" >0</td>\n",
       "                        <td id=\"T_e43a9586_8c51_11e9_9675_54ee758e2065row1_col2\" class=\"data row1 col2\" >0.012</td>\n",
       "                        <td id=\"T_e43a9586_8c51_11e9_9675_54ee758e2065row1_col3\" class=\"data row1 col3\" >0.343</td>\n",
       "                        <td id=\"T_e43a9586_8c51_11e9_9675_54ee758e2065row1_col4\" class=\"data row1 col4\" >0</td>\n",
       "                        <td id=\"T_e43a9586_8c51_11e9_9675_54ee758e2065row1_col5\" class=\"data row1 col5\" >0.008</td>\n",
       "                        <td id=\"T_e43a9586_8c51_11e9_9675_54ee758e2065row1_col6\" class=\"data row1 col6\" >9473</td>\n",
       "            </tr>\n",
       "            <tr>\n",
       "                        <th id=\"T_e43a9586_8c51_11e9_9675_54ee758e2065level0_row2\" class=\"row_heading level0 row2\" >HS Grades > median</th>\n",
       "                        <td id=\"T_e43a9586_8c51_11e9_9675_54ee758e2065row2_col0\" class=\"data row2 col0\" >0.705</td>\n",
       "                        <td id=\"T_e43a9586_8c51_11e9_9675_54ee758e2065row2_col1\" class=\"data row2 col1\" >0</td>\n",
       "                        <td id=\"T_e43a9586_8c51_11e9_9675_54ee758e2065row2_col2\" class=\"data row2 col2\" >0.023</td>\n",
       "                        <td id=\"T_e43a9586_8c51_11e9_9675_54ee758e2065row2_col3\" class=\"data row2 col3\" >0.286</td>\n",
       "                        <td id=\"T_e43a9586_8c51_11e9_9675_54ee758e2065row2_col4\" class=\"data row2 col4\" >0</td>\n",
       "                        <td id=\"T_e43a9586_8c51_11e9_9675_54ee758e2065row2_col5\" class=\"data row2 col5\" >0.014</td>\n",
       "                        <td id=\"T_e43a9586_8c51_11e9_9675_54ee758e2065row2_col6\" class=\"data row2 col6\" >3057</td>\n",
       "            </tr>\n",
       "            <tr>\n",
       "                        <th id=\"T_e43a9586_8c51_11e9_9675_54ee758e2065level0_row3\" class=\"row_heading level0 row3\" >Male</th>\n",
       "                        <td id=\"T_e43a9586_8c51_11e9_9675_54ee758e2065row3_col0\" class=\"data row3 col0\" >0.625</td>\n",
       "                        <td id=\"T_e43a9586_8c51_11e9_9675_54ee758e2065row3_col1\" class=\"data row3 col1\" >0</td>\n",
       "                        <td id=\"T_e43a9586_8c51_11e9_9675_54ee758e2065row3_col2\" class=\"data row3 col2\" >0.019</td>\n",
       "                        <td id=\"T_e43a9586_8c51_11e9_9675_54ee758e2065row3_col3\" class=\"data row3 col3\" >0.366</td>\n",
       "                        <td id=\"T_e43a9586_8c51_11e9_9675_54ee758e2065row3_col4\" class=\"data row3 col4\" >0</td>\n",
       "                        <td id=\"T_e43a9586_8c51_11e9_9675_54ee758e2065row3_col5\" class=\"data row3 col5\" >0.012</td>\n",
       "                        <td id=\"T_e43a9586_8c51_11e9_9675_54ee758e2065row3_col6\" class=\"data row3 col6\" >4701</td>\n",
       "            </tr>\n",
       "            <tr>\n",
       "                        <th id=\"T_e43a9586_8c51_11e9_9675_54ee758e2065level0_row4\" class=\"row_heading level0 row4\" >Female</th>\n",
       "                        <td id=\"T_e43a9586_8c51_11e9_9675_54ee758e2065row4_col0\" class=\"data row4 col0\" >0.69</td>\n",
       "                        <td id=\"T_e43a9586_8c51_11e9_9675_54ee758e2065row4_col1\" class=\"data row4 col1\" >0</td>\n",
       "                        <td id=\"T_e43a9586_8c51_11e9_9675_54ee758e2065row4_col2\" class=\"data row4 col2\" >0.013</td>\n",
       "                        <td id=\"T_e43a9586_8c51_11e9_9675_54ee758e2065row4_col3\" class=\"data row4 col3\" >0.308</td>\n",
       "                        <td id=\"T_e43a9586_8c51_11e9_9675_54ee758e2065row4_col4\" class=\"data row4 col4\" >0</td>\n",
       "                        <td id=\"T_e43a9586_8c51_11e9_9675_54ee758e2065row4_col5\" class=\"data row4 col5\" >0.008</td>\n",
       "                        <td id=\"T_e43a9586_8c51_11e9_9675_54ee758e2065row4_col6\" class=\"data row4 col6\" >7829</td>\n",
       "            </tr>\n",
       "            <tr>\n",
       "                        <th id=\"T_e43a9586_8c51_11e9_9675_54ee758e2065level0_row5\" class=\"row_heading level0 row5\" >Native English</th>\n",
       "                        <td id=\"T_e43a9586_8c51_11e9_9675_54ee758e2065row5_col0\" class=\"data row5 col0\" >0.677</td>\n",
       "                        <td id=\"T_e43a9586_8c51_11e9_9675_54ee758e2065row5_col1\" class=\"data row5 col1\" >0</td>\n",
       "                        <td id=\"T_e43a9586_8c51_11e9_9675_54ee758e2065row5_col2\" class=\"data row5 col2\" >0.013</td>\n",
       "                        <td id=\"T_e43a9586_8c51_11e9_9675_54ee758e2065row5_col3\" class=\"data row5 col3\" >0.317</td>\n",
       "                        <td id=\"T_e43a9586_8c51_11e9_9675_54ee758e2065row5_col4\" class=\"data row5 col4\" >0</td>\n",
       "                        <td id=\"T_e43a9586_8c51_11e9_9675_54ee758e2065row5_col5\" class=\"data row5 col5\" >0.008</td>\n",
       "                        <td id=\"T_e43a9586_8c51_11e9_9675_54ee758e2065row5_col6\" class=\"data row5 col6\" >9006</td>\n",
       "            </tr>\n",
       "            <tr>\n",
       "                        <th id=\"T_e43a9586_8c51_11e9_9675_54ee758e2065level0_row6\" class=\"row_heading level0 row6\" >Nonnative English</th>\n",
       "                        <td id=\"T_e43a9586_8c51_11e9_9675_54ee758e2065row6_col0\" class=\"data row6 col0\" >0.635</td>\n",
       "                        <td id=\"T_e43a9586_8c51_11e9_9675_54ee758e2065row6_col1\" class=\"data row6 col1\" >0</td>\n",
       "                        <td id=\"T_e43a9586_8c51_11e9_9675_54ee758e2065row6_col2\" class=\"data row6 col2\" >0.02</td>\n",
       "                        <td id=\"T_e43a9586_8c51_11e9_9675_54ee758e2065row6_col3\" class=\"data row6 col3\" >0.362</td>\n",
       "                        <td id=\"T_e43a9586_8c51_11e9_9675_54ee758e2065row6_col4\" class=\"data row6 col4\" >0</td>\n",
       "                        <td id=\"T_e43a9586_8c51_11e9_9675_54ee758e2065row6_col5\" class=\"data row6 col5\" >0.013</td>\n",
       "                        <td id=\"T_e43a9586_8c51_11e9_9675_54ee758e2065row6_col6\" class=\"data row6 col6\" >3524</td>\n",
       "            </tr>\n",
       "    </tbody></table>"
      ],
      "text/plain": [
       "<pandas.io.formats.style.Styler at 0x114d93b9940>"
      ]
     },
     "execution_count": 32,
     "metadata": {},
     "output_type": "execute_result"
    }
   ],
   "source": [
    "table3_2 = table3.copy()\n",
    "\n",
    "for group in groups_labels:\n",
    "    result = sm.regression.linear_model.OLS(groups_dict[group]['probation_ever'], groups_dict[group][regressors], hasconst=True).fit()\n",
    "    outputs = [result.params['gpalscutoff'], result.pvalues['gpalscutoff'], result.bse['gpalscutoff'], \n",
    "               result.params['const'], result.pvalues['const'], result.bse['const'], \n",
    "               len(groups_dict[group]['probation_ever'])]   \n",
    "    table3_2.loc[group] = outputs\n",
    "    \n",
    "table3_2 = table3_2.round(3)\n",
    "table3_2.style.applymap(pvalue_5percent_red, subset=['P-Value (1)', 'P-Value (0)'])"
   ]
  },
  {
   "cell_type": "markdown",
   "metadata": {},
   "source": [
    "### The Immediate Response to Academic Probation "
   ]
  },
  {
   "cell_type": "markdown",
   "metadata": {},
   "source": [
    "#### Table 4 - Estimated Effect on the Decision to Leave after the First Evaluation"
   ]
  },
  {
   "cell_type": "code",
   "execution_count": 33,
   "metadata": {},
   "outputs": [],
   "source": [
    "table4 = table_template.copy()\n",
    "table4['groups'] = groups_labels\n",
    "table4 = table4.set_index('groups')"
   ]
  },
  {
   "cell_type": "code",
   "execution_count": 34,
   "metadata": {},
   "outputs": [
    {
     "data": {
      "text/html": [
       "<style  type=\"text/css\" >\n",
       "    #T_f54e9d14_8c51_11e9_840f_54ee758e2065row0_col1 {\n",
       "            color:  red;\n",
       "        }    #T_f54e9d14_8c51_11e9_840f_54ee758e2065row0_col4 {\n",
       "            color:  red;\n",
       "        }    #T_f54e9d14_8c51_11e9_840f_54ee758e2065row1_col1 {\n",
       "            color:  black;\n",
       "        }    #T_f54e9d14_8c51_11e9_840f_54ee758e2065row1_col4 {\n",
       "            color:  red;\n",
       "        }    #T_f54e9d14_8c51_11e9_840f_54ee758e2065row2_col1 {\n",
       "            color:  red;\n",
       "        }    #T_f54e9d14_8c51_11e9_840f_54ee758e2065row2_col4 {\n",
       "            color:  red;\n",
       "        }    #T_f54e9d14_8c51_11e9_840f_54ee758e2065row3_col1 {\n",
       "            color:  red;\n",
       "        }    #T_f54e9d14_8c51_11e9_840f_54ee758e2065row3_col4 {\n",
       "            color:  red;\n",
       "        }    #T_f54e9d14_8c51_11e9_840f_54ee758e2065row4_col1 {\n",
       "            color:  black;\n",
       "        }    #T_f54e9d14_8c51_11e9_840f_54ee758e2065row4_col4 {\n",
       "            color:  red;\n",
       "        }    #T_f54e9d14_8c51_11e9_840f_54ee758e2065row5_col1 {\n",
       "            color:  red;\n",
       "        }    #T_f54e9d14_8c51_11e9_840f_54ee758e2065row5_col4 {\n",
       "            color:  red;\n",
       "        }    #T_f54e9d14_8c51_11e9_840f_54ee758e2065row6_col1 {\n",
       "            color:  black;\n",
       "        }    #T_f54e9d14_8c51_11e9_840f_54ee758e2065row6_col4 {\n",
       "            color:  red;\n",
       "        }</style><table id=\"T_f54e9d14_8c51_11e9_840f_54ee758e2065\" ><thead>    <tr>        <th class=\"blank level0\" ></th>        <th class=\"col_heading level0 col0\" >GPA below cutoff (1)</th>        <th class=\"col_heading level0 col1\" >P-Value (1)</th>        <th class=\"col_heading level0 col2\" >Std.err (1)</th>        <th class=\"col_heading level0 col3\" >Intercept (0)</th>        <th class=\"col_heading level0 col4\" >P-Value (0)</th>        <th class=\"col_heading level0 col5\" >Std.err (0)</th>        <th class=\"col_heading level0 col6\" >Observations</th>    </tr>    <tr>        <th class=\"index_name level0\" >groups</th>        <th class=\"blank\" ></th>        <th class=\"blank\" ></th>        <th class=\"blank\" ></th>        <th class=\"blank\" ></th>        <th class=\"blank\" ></th>        <th class=\"blank\" ></th>        <th class=\"blank\" ></th>    </tr></thead><tbody>\n",
       "                <tr>\n",
       "                        <th id=\"T_f54e9d14_8c51_11e9_840f_54ee758e2065level0_row0\" class=\"row_heading level0 row0\" >All</th>\n",
       "                        <td id=\"T_f54e9d14_8c51_11e9_840f_54ee758e2065row0_col0\" class=\"data row0 col0\" >0.018</td>\n",
       "                        <td id=\"T_f54e9d14_8c51_11e9_840f_54ee758e2065row0_col1\" class=\"data row0 col1\" >0.026</td>\n",
       "                        <td id=\"T_f54e9d14_8c51_11e9_840f_54ee758e2065row0_col2\" class=\"data row0 col2\" >0.008</td>\n",
       "                        <td id=\"T_f54e9d14_8c51_11e9_840f_54ee758e2065row0_col3\" class=\"data row0 col3\" >0.041</td>\n",
       "                        <td id=\"T_f54e9d14_8c51_11e9_840f_54ee758e2065row0_col4\" class=\"data row0 col4\" >0</td>\n",
       "                        <td id=\"T_f54e9d14_8c51_11e9_840f_54ee758e2065row0_col5\" class=\"data row0 col5\" >0.005</td>\n",
       "                        <td id=\"T_f54e9d14_8c51_11e9_840f_54ee758e2065row0_col6\" class=\"data row0 col6\" >12530</td>\n",
       "            </tr>\n",
       "            <tr>\n",
       "                        <th id=\"T_f54e9d14_8c51_11e9_840f_54ee758e2065level0_row1\" class=\"row_heading level0 row1\" >HS Grades < median</th>\n",
       "                        <td id=\"T_f54e9d14_8c51_11e9_840f_54ee758e2065row1_col0\" class=\"data row1 col0\" >0.013</td>\n",
       "                        <td id=\"T_f54e9d14_8c51_11e9_840f_54ee758e2065row1_col1\" class=\"data row1 col1\" >0.148</td>\n",
       "                        <td id=\"T_f54e9d14_8c51_11e9_840f_54ee758e2065row1_col2\" class=\"data row1 col2\" >0.009</td>\n",
       "                        <td id=\"T_f54e9d14_8c51_11e9_840f_54ee758e2065row1_col3\" class=\"data row1 col3\" >0.045</td>\n",
       "                        <td id=\"T_f54e9d14_8c51_11e9_840f_54ee758e2065row1_col4\" class=\"data row1 col4\" >0</td>\n",
       "                        <td id=\"T_f54e9d14_8c51_11e9_840f_54ee758e2065row1_col5\" class=\"data row1 col5\" >0.006</td>\n",
       "                        <td id=\"T_f54e9d14_8c51_11e9_840f_54ee758e2065row1_col6\" class=\"data row1 col6\" >9473</td>\n",
       "            </tr>\n",
       "            <tr>\n",
       "                        <th id=\"T_f54e9d14_8c51_11e9_840f_54ee758e2065level0_row2\" class=\"row_heading level0 row2\" >HS Grades > median</th>\n",
       "                        <td id=\"T_f54e9d14_8c51_11e9_840f_54ee758e2065row2_col0\" class=\"data row2 col0\" >0.032</td>\n",
       "                        <td id=\"T_f54e9d14_8c51_11e9_840f_54ee758e2065row2_col1\" class=\"data row2 col1\" >0.049</td>\n",
       "                        <td id=\"T_f54e9d14_8c51_11e9_840f_54ee758e2065row2_col2\" class=\"data row2 col2\" >0.016</td>\n",
       "                        <td id=\"T_f54e9d14_8c51_11e9_840f_54ee758e2065row2_col3\" class=\"data row2 col3\" >0.026</td>\n",
       "                        <td id=\"T_f54e9d14_8c51_11e9_840f_54ee758e2065row2_col4\" class=\"data row2 col4\" >0.006</td>\n",
       "                        <td id=\"T_f54e9d14_8c51_11e9_840f_54ee758e2065row2_col5\" class=\"data row2 col5\" >0.01</td>\n",
       "                        <td id=\"T_f54e9d14_8c51_11e9_840f_54ee758e2065row2_col6\" class=\"data row2 col6\" >3057</td>\n",
       "            </tr>\n",
       "            <tr>\n",
       "                        <th id=\"T_f54e9d14_8c51_11e9_840f_54ee758e2065level0_row3\" class=\"row_heading level0 row3\" >Male</th>\n",
       "                        <td id=\"T_f54e9d14_8c51_11e9_840f_54ee758e2065row3_col0\" class=\"data row3 col0\" >0.037</td>\n",
       "                        <td id=\"T_f54e9d14_8c51_11e9_840f_54ee758e2065row3_col1\" class=\"data row3 col1\" >0.005</td>\n",
       "                        <td id=\"T_f54e9d14_8c51_11e9_840f_54ee758e2065row3_col2\" class=\"data row3 col2\" >0.013</td>\n",
       "                        <td id=\"T_f54e9d14_8c51_11e9_840f_54ee758e2065row3_col3\" class=\"data row3 col3\" >0.038</td>\n",
       "                        <td id=\"T_f54e9d14_8c51_11e9_840f_54ee758e2065row3_col4\" class=\"data row3 col4\" >0</td>\n",
       "                        <td id=\"T_f54e9d14_8c51_11e9_840f_54ee758e2065row3_col5\" class=\"data row3 col5\" >0.008</td>\n",
       "                        <td id=\"T_f54e9d14_8c51_11e9_840f_54ee758e2065row3_col6\" class=\"data row3 col6\" >4701</td>\n",
       "            </tr>\n",
       "            <tr>\n",
       "                        <th id=\"T_f54e9d14_8c51_11e9_840f_54ee758e2065level0_row4\" class=\"row_heading level0 row4\" >Female</th>\n",
       "                        <td id=\"T_f54e9d14_8c51_11e9_840f_54ee758e2065row4_col0\" class=\"data row4 col0\" >0.006</td>\n",
       "                        <td id=\"T_f54e9d14_8c51_11e9_840f_54ee758e2065row4_col1\" class=\"data row4 col1\" >0.551</td>\n",
       "                        <td id=\"T_f54e9d14_8c51_11e9_840f_54ee758e2065row4_col2\" class=\"data row4 col2\" >0.01</td>\n",
       "                        <td id=\"T_f54e9d14_8c51_11e9_840f_54ee758e2065row4_col3\" class=\"data row4 col3\" >0.043</td>\n",
       "                        <td id=\"T_f54e9d14_8c51_11e9_840f_54ee758e2065row4_col4\" class=\"data row4 col4\" >0</td>\n",
       "                        <td id=\"T_f54e9d14_8c51_11e9_840f_54ee758e2065row4_col5\" class=\"data row4 col5\" >0.006</td>\n",
       "                        <td id=\"T_f54e9d14_8c51_11e9_840f_54ee758e2065row4_col6\" class=\"data row4 col6\" >7829</td>\n",
       "            </tr>\n",
       "            <tr>\n",
       "                        <th id=\"T_f54e9d14_8c51_11e9_840f_54ee758e2065level0_row5\" class=\"row_heading level0 row5\" >Native English</th>\n",
       "                        <td id=\"T_f54e9d14_8c51_11e9_840f_54ee758e2065row5_col0\" class=\"data row5 col0\" >0.028</td>\n",
       "                        <td id=\"T_f54e9d14_8c51_11e9_840f_54ee758e2065row5_col1\" class=\"data row5 col1\" >0.004</td>\n",
       "                        <td id=\"T_f54e9d14_8c51_11e9_840f_54ee758e2065row5_col2\" class=\"data row5 col2\" >0.01</td>\n",
       "                        <td id=\"T_f54e9d14_8c51_11e9_840f_54ee758e2065row5_col3\" class=\"data row5 col3\" >0.047</td>\n",
       "                        <td id=\"T_f54e9d14_8c51_11e9_840f_54ee758e2065row5_col4\" class=\"data row5 col4\" >0</td>\n",
       "                        <td id=\"T_f54e9d14_8c51_11e9_840f_54ee758e2065row5_col5\" class=\"data row5 col5\" >0.006</td>\n",
       "                        <td id=\"T_f54e9d14_8c51_11e9_840f_54ee758e2065row5_col6\" class=\"data row5 col6\" >9006</td>\n",
       "            </tr>\n",
       "            <tr>\n",
       "                        <th id=\"T_f54e9d14_8c51_11e9_840f_54ee758e2065level0_row6\" class=\"row_heading level0 row6\" >Nonnative English</th>\n",
       "                        <td id=\"T_f54e9d14_8c51_11e9_840f_54ee758e2065row6_col0\" class=\"data row6 col0\" >-0.004</td>\n",
       "                        <td id=\"T_f54e9d14_8c51_11e9_840f_54ee758e2065row6_col1\" class=\"data row6 col1\" >0.748</td>\n",
       "                        <td id=\"T_f54e9d14_8c51_11e9_840f_54ee758e2065row6_col2\" class=\"data row6 col2\" >0.012</td>\n",
       "                        <td id=\"T_f54e9d14_8c51_11e9_840f_54ee758e2065row6_col3\" class=\"data row6 col3\" >0.025</td>\n",
       "                        <td id=\"T_f54e9d14_8c51_11e9_840f_54ee758e2065row6_col4\" class=\"data row6 col4\" >0.002</td>\n",
       "                        <td id=\"T_f54e9d14_8c51_11e9_840f_54ee758e2065row6_col5\" class=\"data row6 col5\" >0.008</td>\n",
       "                        <td id=\"T_f54e9d14_8c51_11e9_840f_54ee758e2065row6_col6\" class=\"data row6 col6\" >3524</td>\n",
       "            </tr>\n",
       "    </tbody></table>"
      ],
      "text/plain": [
       "<pandas.io.formats.style.Styler at 0x114d93c0f98>"
      ]
     },
     "execution_count": 34,
     "metadata": {},
     "output_type": "execute_result"
    }
   ],
   "source": [
    "for group in groups_labels:\n",
    "    result = sm.regression.linear_model.OLS(groups_dict[group]['left_school'], groups_dict[group][regressors], hasconst=True).fit()\n",
    "    outputs = [result.params['gpalscutoff'], result.pvalues['gpalscutoff'], result.bse['gpalscutoff'], \n",
    "               result.params['const'], result.pvalues['const'], result.bse['const'], \n",
    "               len(groups_dict[group]['left_school'])]   \n",
    "    table4.loc[group] = outputs\n",
    "    \n",
    "table4 = table4.round(3)\n",
    "table4.style.applymap(pvalue_5percent_red, subset=['P-Value (1)', 'P-Value (0)'])"
   ]
  },
  {
   "cell_type": "markdown",
   "metadata": {},
   "source": [
    "#### Figure 3"
   ]
  },
  {
   "cell_type": "code",
   "execution_count": null,
   "metadata": {},
   "outputs": [],
   "source": []
  },
  {
   "cell_type": "markdown",
   "metadata": {},
   "source": [
    "# Miscellaneous"
   ]
  },
  {
   "cell_type": "code",
   "execution_count": null,
   "metadata": {},
   "outputs": [],
   "source": [
    "\"\"\"# Alternative for table 2\n",
    "table22 = pd.DataFrame({'outputs': ['GPA below cutoff', 'P-Value GPA below cutoff', 'Intercept', 'P-Value Intercept', 'Observations']})\n",
    "table22 = table22.set_index('outputs')\n",
    "\n",
    "for covariate in covariates:\n",
    "    \n",
    "    result = sm.regression.linear_model.OLS(sample06[covariate], regressors, hasconst=True).fit()\n",
    "    outputs = [result.params[1], result.pvalues[1], result.params[0], result.pvalues[0], len(sample06[covariate])]   \n",
    "    table22[covariate] = outputs\n",
    "\n",
    "table22=table22.round(4)\"\"\""
   ]
  }
 ],
 "metadata": {
  "kernelspec": {
   "display_name": "Python 3",
   "language": "python",
   "name": "python3"
  },
  "language_info": {
   "codemirror_mode": {
    "name": "ipython",
    "version": 3
   },
   "file_extension": ".py",
   "mimetype": "text/x-python",
   "name": "python",
   "nbconvert_exporter": "python",
   "pygments_lexer": "ipython3",
   "version": "3.7.2"
  },
  "toc": {
   "base_numbering": 1,
   "nav_menu": {},
   "number_sections": true,
   "sideBar": true,
   "skip_h1_title": false,
   "title_cell": "Table of Contents",
   "title_sidebar": "Contents",
   "toc_cell": false,
   "toc_position": {
    "height": "calc(100% - 180px)",
    "left": "10px",
    "top": "150px",
    "width": "184.852px"
   },
   "toc_section_display": true,
   "toc_window_display": true
  },
  "varInspector": {
   "cols": {
    "lenName": 16,
    "lenType": 16,
    "lenVar": 40
   },
   "kernels_config": {
    "python": {
     "delete_cmd_postfix": "",
     "delete_cmd_prefix": "del ",
     "library": "var_list.py",
     "varRefreshCmd": "print(var_dic_list())"
    },
    "r": {
     "delete_cmd_postfix": ") ",
     "delete_cmd_prefix": "rm(",
     "library": "var_list.r",
     "varRefreshCmd": "cat(var_dic_list()) "
    }
   },
   "oldHeight": 189.73845400000002,
   "position": {
    "height": "40px",
    "left": "682.591px",
    "right": "20px",
    "top": "138px",
    "width": "483.182px"
   },
   "types_to_exclude": [
    "module",
    "function",
    "builtin_function_or_method",
    "instance",
    "_Feature"
   ],
   "varInspector_section_display": "none",
   "window_display": false
  }
 },
 "nbformat": 4,
 "nbformat_minor": 2
}
